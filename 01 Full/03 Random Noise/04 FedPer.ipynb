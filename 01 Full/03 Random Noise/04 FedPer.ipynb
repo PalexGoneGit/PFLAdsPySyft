{
 "cells": [
  {
   "cell_type": "markdown",
   "metadata": {
    "editable": true,
    "slideshow": {
     "slide_type": ""
    },
    "tags": []
   },
   "source": [
    "# Implementation of DLRM (Full/Random Noise/FedPer) "
   ]
  },
  {
   "cell_type": "markdown",
   "metadata": {},
   "source": [
    "## Imports"
   ]
  },
  {
   "cell_type": "code",
   "execution_count": 1,
   "metadata": {},
   "outputs": [
    {
     "name": "stderr",
     "output_type": "stream",
     "text": [
      "kj/filesystem-disk-unix.c++:1703: warning: PWD environment variable doesn't match current directory; pwd = /Users/alex\n"
     ]
    },
    {
     "name": "stdout",
     "output_type": "stream",
     "text": [
      "✅ The installed version of syft==0.8.4 matches the requirement >=0.8.2b0 and the requirement <0.9\n"
     ]
    }
   ],
   "source": [
    "SYFT_VERSION = \">=0.8.2.b0,<0.9\"\n",
    "package_string = f'\"syft{SYFT_VERSION}\"'\n",
    "# %pip install {package_string} -q\n",
    "\n",
    "import tensorflow as tf\n",
    "from tensorflow.keras.metrics import AUC\n",
    "# syft absolute\n",
    "import syft as sy\n",
    "\n",
    "sy.requires(SYFT_VERSION)\n",
    "\n",
    "import pandas as pd\n",
    "from sklearn import preprocessing\n",
    "from tensorflow.keras.utils import to_categorical\n",
    "from tensorflow.keras.metrics import Precision, Recall\n",
    "import tensorflow as tf\n",
    "from tensorflow.keras.layers import Dense, Embedding, Layer, Input, concatenate\n",
    "from tensorflow.keras.models import Model\n",
    "import matplotlib.pyplot as plt\n",
    "plt.style.use('ggplot')\n",
    "from sklearn.metrics import precision_score\n",
    "from sklearn.metrics import recall_score\n",
    "from sklearn.metrics import f1_score\n",
    "import numpy as np"
   ]
  },
  {
   "cell_type": "markdown",
   "metadata": {
    "editable": true,
    "slideshow": {
     "slide_type": ""
    },
    "tags": []
   },
   "source": [
    "## Load and preprocess the data"
   ]
  },
  {
   "cell_type": "code",
   "execution_count": 2,
   "metadata": {},
   "outputs": [
    {
     "data": {
      "text/html": [
       "<div>\n",
       "<style scoped>\n",
       "    .dataframe tbody tr th:only-of-type {\n",
       "        vertical-align: middle;\n",
       "    }\n",
       "\n",
       "    .dataframe tbody tr th {\n",
       "        vertical-align: top;\n",
       "    }\n",
       "\n",
       "    .dataframe thead th {\n",
       "        text-align: right;\n",
       "    }\n",
       "</style>\n",
       "<table border=\"1\" class=\"dataframe\">\n",
       "  <thead>\n",
       "    <tr style=\"text-align: right;\">\n",
       "      <th></th>\n",
       "      <th>label</th>\n",
       "      <th>I1</th>\n",
       "      <th>I2</th>\n",
       "      <th>I3</th>\n",
       "      <th>I4</th>\n",
       "      <th>I5</th>\n",
       "      <th>I6</th>\n",
       "      <th>I7</th>\n",
       "      <th>I8</th>\n",
       "      <th>I9</th>\n",
       "      <th>...</th>\n",
       "      <th>C17</th>\n",
       "      <th>C18</th>\n",
       "      <th>C19</th>\n",
       "      <th>C20</th>\n",
       "      <th>C21</th>\n",
       "      <th>C22</th>\n",
       "      <th>C23</th>\n",
       "      <th>C24</th>\n",
       "      <th>C25</th>\n",
       "      <th>C26</th>\n",
       "    </tr>\n",
       "  </thead>\n",
       "  <tbody>\n",
       "    <tr>\n",
       "      <th>0</th>\n",
       "      <td>0</td>\n",
       "      <td>1.0</td>\n",
       "      <td>1</td>\n",
       "      <td>5.0</td>\n",
       "      <td>0.0</td>\n",
       "      <td>1382.0</td>\n",
       "      <td>4.0</td>\n",
       "      <td>15.0</td>\n",
       "      <td>2.0</td>\n",
       "      <td>181.0</td>\n",
       "      <td>...</td>\n",
       "      <td>e5ba7672</td>\n",
       "      <td>f54016b9</td>\n",
       "      <td>21ddcdc9</td>\n",
       "      <td>b1252a9d</td>\n",
       "      <td>07b5194c</td>\n",
       "      <td>0</td>\n",
       "      <td>3a171ecb</td>\n",
       "      <td>c5c50484</td>\n",
       "      <td>e8b83407</td>\n",
       "      <td>9727dd16</td>\n",
       "    </tr>\n",
       "    <tr>\n",
       "      <th>1</th>\n",
       "      <td>0</td>\n",
       "      <td>2.0</td>\n",
       "      <td>0</td>\n",
       "      <td>44.0</td>\n",
       "      <td>1.0</td>\n",
       "      <td>102.0</td>\n",
       "      <td>8.0</td>\n",
       "      <td>2.0</td>\n",
       "      <td>2.0</td>\n",
       "      <td>4.0</td>\n",
       "      <td>...</td>\n",
       "      <td>07c540c4</td>\n",
       "      <td>b04e4670</td>\n",
       "      <td>21ddcdc9</td>\n",
       "      <td>5840adea</td>\n",
       "      <td>60f6221e</td>\n",
       "      <td>0</td>\n",
       "      <td>3a171ecb</td>\n",
       "      <td>43f13e8b</td>\n",
       "      <td>e8b83407</td>\n",
       "      <td>731c3655</td>\n",
       "    </tr>\n",
       "    <tr>\n",
       "      <th>2</th>\n",
       "      <td>0</td>\n",
       "      <td>2.0</td>\n",
       "      <td>0</td>\n",
       "      <td>1.0</td>\n",
       "      <td>14.0</td>\n",
       "      <td>767.0</td>\n",
       "      <td>89.0</td>\n",
       "      <td>4.0</td>\n",
       "      <td>2.0</td>\n",
       "      <td>245.0</td>\n",
       "      <td>...</td>\n",
       "      <td>8efede7f</td>\n",
       "      <td>3412118d</td>\n",
       "      <td>0</td>\n",
       "      <td>0</td>\n",
       "      <td>e587c466</td>\n",
       "      <td>ad3062eb</td>\n",
       "      <td>3a171ecb</td>\n",
       "      <td>3b183c5c</td>\n",
       "      <td>0</td>\n",
       "      <td>0</td>\n",
       "    </tr>\n",
       "    <tr>\n",
       "      <th>3</th>\n",
       "      <td>0</td>\n",
       "      <td>0.0</td>\n",
       "      <td>893</td>\n",
       "      <td>0.0</td>\n",
       "      <td>0.0</td>\n",
       "      <td>4392.0</td>\n",
       "      <td>0.0</td>\n",
       "      <td>0.0</td>\n",
       "      <td>0.0</td>\n",
       "      <td>0.0</td>\n",
       "      <td>...</td>\n",
       "      <td>1e88c74f</td>\n",
       "      <td>74ef3502</td>\n",
       "      <td>0</td>\n",
       "      <td>0</td>\n",
       "      <td>6b3a5ca6</td>\n",
       "      <td>0</td>\n",
       "      <td>3a171ecb</td>\n",
       "      <td>9117a34a</td>\n",
       "      <td>0</td>\n",
       "      <td>0</td>\n",
       "    </tr>\n",
       "    <tr>\n",
       "      <th>4</th>\n",
       "      <td>0</td>\n",
       "      <td>3.0</td>\n",
       "      <td>-1</td>\n",
       "      <td>0.0</td>\n",
       "      <td>0.0</td>\n",
       "      <td>2.0</td>\n",
       "      <td>0.0</td>\n",
       "      <td>3.0</td>\n",
       "      <td>0.0</td>\n",
       "      <td>0.0</td>\n",
       "      <td>...</td>\n",
       "      <td>1e88c74f</td>\n",
       "      <td>26b3c7a7</td>\n",
       "      <td>0</td>\n",
       "      <td>0</td>\n",
       "      <td>21c9516a</td>\n",
       "      <td>0</td>\n",
       "      <td>32c7478e</td>\n",
       "      <td>b34f3128</td>\n",
       "      <td>0</td>\n",
       "      <td>0</td>\n",
       "    </tr>\n",
       "    <tr>\n",
       "      <th>...</th>\n",
       "      <td>...</td>\n",
       "      <td>...</td>\n",
       "      <td>...</td>\n",
       "      <td>...</td>\n",
       "      <td>...</td>\n",
       "      <td>...</td>\n",
       "      <td>...</td>\n",
       "      <td>...</td>\n",
       "      <td>...</td>\n",
       "      <td>...</td>\n",
       "      <td>...</td>\n",
       "      <td>...</td>\n",
       "      <td>...</td>\n",
       "      <td>...</td>\n",
       "      <td>...</td>\n",
       "      <td>...</td>\n",
       "      <td>...</td>\n",
       "      <td>...</td>\n",
       "      <td>...</td>\n",
       "      <td>...</td>\n",
       "      <td>...</td>\n",
       "    </tr>\n",
       "    <tr>\n",
       "      <th>1364724</th>\n",
       "      <td>0</td>\n",
       "      <td>0.0</td>\n",
       "      <td>2</td>\n",
       "      <td>0.0</td>\n",
       "      <td>2.0</td>\n",
       "      <td>41171.0</td>\n",
       "      <td>90.0</td>\n",
       "      <td>0.0</td>\n",
       "      <td>2.0</td>\n",
       "      <td>47.0</td>\n",
       "      <td>...</td>\n",
       "      <td>07c540c4</td>\n",
       "      <td>ab194a92</td>\n",
       "      <td>0</td>\n",
       "      <td>0</td>\n",
       "      <td>21c9516a</td>\n",
       "      <td>0</td>\n",
       "      <td>32c7478e</td>\n",
       "      <td>b34f3128</td>\n",
       "      <td>0</td>\n",
       "      <td>0</td>\n",
       "    </tr>\n",
       "    <tr>\n",
       "      <th>1364725</th>\n",
       "      <td>0</td>\n",
       "      <td>0.0</td>\n",
       "      <td>3</td>\n",
       "      <td>7.0</td>\n",
       "      <td>10.0</td>\n",
       "      <td>3912.0</td>\n",
       "      <td>400.0</td>\n",
       "      <td>2.0</td>\n",
       "      <td>17.0</td>\n",
       "      <td>104.0</td>\n",
       "      <td>...</td>\n",
       "      <td>e5ba7672</td>\n",
       "      <td>698d1c68</td>\n",
       "      <td>0</td>\n",
       "      <td>0</td>\n",
       "      <td>08119c8b</td>\n",
       "      <td>0</td>\n",
       "      <td>32c7478e</td>\n",
       "      <td>f96a556f</td>\n",
       "      <td>0</td>\n",
       "      <td>0</td>\n",
       "    </tr>\n",
       "    <tr>\n",
       "      <th>1364726</th>\n",
       "      <td>0</td>\n",
       "      <td>0.0</td>\n",
       "      <td>1</td>\n",
       "      <td>48.0</td>\n",
       "      <td>0.0</td>\n",
       "      <td>17375.0</td>\n",
       "      <td>0.0</td>\n",
       "      <td>0.0</td>\n",
       "      <td>0.0</td>\n",
       "      <td>0.0</td>\n",
       "      <td>...</td>\n",
       "      <td>e5ba7672</td>\n",
       "      <td>7b06fafe</td>\n",
       "      <td>2f4b9dd2</td>\n",
       "      <td>a458ea53</td>\n",
       "      <td>033d948f</td>\n",
       "      <td>0</td>\n",
       "      <td>32c7478e</td>\n",
       "      <td>226b0ab6</td>\n",
       "      <td>2bf691b1</td>\n",
       "      <td>9aed84e6</td>\n",
       "    </tr>\n",
       "    <tr>\n",
       "      <th>1364727</th>\n",
       "      <td>0</td>\n",
       "      <td>0.0</td>\n",
       "      <td>0</td>\n",
       "      <td>49.0</td>\n",
       "      <td>2.0</td>\n",
       "      <td>16610.0</td>\n",
       "      <td>0.0</td>\n",
       "      <td>0.0</td>\n",
       "      <td>6.0</td>\n",
       "      <td>0.0</td>\n",
       "      <td>...</td>\n",
       "      <td>1e88c74f</td>\n",
       "      <td>c21c3e4c</td>\n",
       "      <td>efa3470f</td>\n",
       "      <td>a458ea53</td>\n",
       "      <td>d3563291</td>\n",
       "      <td>0</td>\n",
       "      <td>bcdee96c</td>\n",
       "      <td>f88869fd</td>\n",
       "      <td>9b3e8820</td>\n",
       "      <td>86fe1bbe</td>\n",
       "    </tr>\n",
       "    <tr>\n",
       "      <th>1364728</th>\n",
       "      <td>1</td>\n",
       "      <td>1.0</td>\n",
       "      <td>106</td>\n",
       "      <td>1.0</td>\n",
       "      <td>3.0</td>\n",
       "      <td>152.0</td>\n",
       "      <td>33.0</td>\n",
       "      <td>0.0</td>\n",
       "      <td>0.0</td>\n",
       "      <td>0.0</td>\n",
       "      <td>...</td>\n",
       "      <td>0</td>\n",
       "      <td>0</td>\n",
       "      <td>0</td>\n",
       "      <td>0</td>\n",
       "      <td>0</td>\n",
       "      <td>0</td>\n",
       "      <td>0</td>\n",
       "      <td>0</td>\n",
       "      <td>0</td>\n",
       "      <td>0</td>\n",
       "    </tr>\n",
       "  </tbody>\n",
       "</table>\n",
       "<p>1364729 rows × 40 columns</p>\n",
       "</div>"
      ],
      "text/plain": [
       "         label   I1   I2    I3    I4       I5     I6    I7    I8     I9  ...  \\\n",
       "0            0  1.0    1   5.0   0.0   1382.0    4.0  15.0   2.0  181.0  ...   \n",
       "1            0  2.0    0  44.0   1.0    102.0    8.0   2.0   2.0    4.0  ...   \n",
       "2            0  2.0    0   1.0  14.0    767.0   89.0   4.0   2.0  245.0  ...   \n",
       "3            0  0.0  893   0.0   0.0   4392.0    0.0   0.0   0.0    0.0  ...   \n",
       "4            0  3.0   -1   0.0   0.0      2.0    0.0   3.0   0.0    0.0  ...   \n",
       "...        ...  ...  ...   ...   ...      ...    ...   ...   ...    ...  ...   \n",
       "1364724      0  0.0    2   0.0   2.0  41171.0   90.0   0.0   2.0   47.0  ...   \n",
       "1364725      0  0.0    3   7.0  10.0   3912.0  400.0   2.0  17.0  104.0  ...   \n",
       "1364726      0  0.0    1  48.0   0.0  17375.0    0.0   0.0   0.0    0.0  ...   \n",
       "1364727      0  0.0    0  49.0   2.0  16610.0    0.0   0.0   6.0    0.0  ...   \n",
       "1364728      1  1.0  106   1.0   3.0    152.0   33.0   0.0   0.0    0.0  ...   \n",
       "\n",
       "              C17       C18       C19       C20       C21       C22       C23  \\\n",
       "0        e5ba7672  f54016b9  21ddcdc9  b1252a9d  07b5194c         0  3a171ecb   \n",
       "1        07c540c4  b04e4670  21ddcdc9  5840adea  60f6221e         0  3a171ecb   \n",
       "2        8efede7f  3412118d         0         0  e587c466  ad3062eb  3a171ecb   \n",
       "3        1e88c74f  74ef3502         0         0  6b3a5ca6         0  3a171ecb   \n",
       "4        1e88c74f  26b3c7a7         0         0  21c9516a         0  32c7478e   \n",
       "...           ...       ...       ...       ...       ...       ...       ...   \n",
       "1364724  07c540c4  ab194a92         0         0  21c9516a         0  32c7478e   \n",
       "1364725  e5ba7672  698d1c68         0         0  08119c8b         0  32c7478e   \n",
       "1364726  e5ba7672  7b06fafe  2f4b9dd2  a458ea53  033d948f         0  32c7478e   \n",
       "1364727  1e88c74f  c21c3e4c  efa3470f  a458ea53  d3563291         0  bcdee96c   \n",
       "1364728         0         0         0         0         0         0         0   \n",
       "\n",
       "              C24       C25       C26  \n",
       "0        c5c50484  e8b83407  9727dd16  \n",
       "1        43f13e8b  e8b83407  731c3655  \n",
       "2        3b183c5c         0         0  \n",
       "3        9117a34a         0         0  \n",
       "4        b34f3128         0         0  \n",
       "...           ...       ...       ...  \n",
       "1364724  b34f3128         0         0  \n",
       "1364725  f96a556f         0         0  \n",
       "1364726  226b0ab6  2bf691b1  9aed84e6  \n",
       "1364727  f88869fd  9b3e8820  86fe1bbe  \n",
       "1364728         0         0         0  \n",
       "\n",
       "[1364729 rows x 40 columns]"
      ]
     },
     "execution_count": 2,
     "metadata": {},
     "output_type": "execute_result"
    }
   ],
   "source": [
    "# Load the dataset and fill the nan with 0\n",
    "columns = ['label', *(f'I{i}' for i in range(1, 14)), *(f'C{i}' for i in range(1, 27))]\n",
    "df = pd.read_csv('/Users/alex/Thesis/New Dataset/train.txt', sep='\\t', names=columns).fillna(0)\n",
    "df"
   ]
  },
  {
   "cell_type": "code",
   "execution_count": 3,
   "metadata": {},
   "outputs": [
    {
     "data": {
      "text/html": [
       "<div>\n",
       "<style scoped>\n",
       "    .dataframe tbody tr th:only-of-type {\n",
       "        vertical-align: middle;\n",
       "    }\n",
       "\n",
       "    .dataframe tbody tr th {\n",
       "        vertical-align: top;\n",
       "    }\n",
       "\n",
       "    .dataframe thead th {\n",
       "        text-align: right;\n",
       "    }\n",
       "</style>\n",
       "<table border=\"1\" class=\"dataframe\">\n",
       "  <thead>\n",
       "    <tr style=\"text-align: right;\">\n",
       "      <th></th>\n",
       "      <th>label</th>\n",
       "      <th>I1</th>\n",
       "      <th>I2</th>\n",
       "      <th>I3</th>\n",
       "      <th>I4</th>\n",
       "      <th>I5</th>\n",
       "      <th>I6</th>\n",
       "      <th>I7</th>\n",
       "      <th>I8</th>\n",
       "      <th>I9</th>\n",
       "      <th>...</th>\n",
       "      <th>C17</th>\n",
       "      <th>C18</th>\n",
       "      <th>C19</th>\n",
       "      <th>C20</th>\n",
       "      <th>C21</th>\n",
       "      <th>C22</th>\n",
       "      <th>C23</th>\n",
       "      <th>C24</th>\n",
       "      <th>C25</th>\n",
       "      <th>C26</th>\n",
       "    </tr>\n",
       "  </thead>\n",
       "  <tbody>\n",
       "    <tr>\n",
       "      <th>0</th>\n",
       "      <td>0</td>\n",
       "      <td>-0.126764</td>\n",
       "      <td>-0.267956</td>\n",
       "      <td>-0.039644</td>\n",
       "      <td>-0.661748</td>\n",
       "      <td>-0.250526</td>\n",
       "      <td>-0.228230</td>\n",
       "      <td>0.020912</td>\n",
       "      <td>-0.391033</td>\n",
       "      <td>0.389777</td>\n",
       "      <td>...</td>\n",
       "      <td>e5ba7672</td>\n",
       "      <td>f54016b9</td>\n",
       "      <td>21ddcdc9</td>\n",
       "      <td>b1252a9d</td>\n",
       "      <td>07b5194c</td>\n",
       "      <td>0</td>\n",
       "      <td>3a171ecb</td>\n",
       "      <td>c5c50484</td>\n",
       "      <td>e8b83407</td>\n",
       "      <td>9727dd16</td>\n",
       "    </tr>\n",
       "    <tr>\n",
       "      <th>1</th>\n",
       "      <td>0</td>\n",
       "      <td>0.018618</td>\n",
       "      <td>-0.270689</td>\n",
       "      <td>0.104480</td>\n",
       "      <td>-0.536490</td>\n",
       "      <td>-0.269520</td>\n",
       "      <td>-0.217521</td>\n",
       "      <td>-0.208636</td>\n",
       "      <td>-0.391033</td>\n",
       "      <td>-0.454746</td>\n",
       "      <td>...</td>\n",
       "      <td>07c540c4</td>\n",
       "      <td>b04e4670</td>\n",
       "      <td>21ddcdc9</td>\n",
       "      <td>5840adea</td>\n",
       "      <td>60f6221e</td>\n",
       "      <td>0</td>\n",
       "      <td>3a171ecb</td>\n",
       "      <td>43f13e8b</td>\n",
       "      <td>e8b83407</td>\n",
       "      <td>731c3655</td>\n",
       "    </tr>\n",
       "    <tr>\n",
       "      <th>2</th>\n",
       "      <td>0</td>\n",
       "      <td>0.018618</td>\n",
       "      <td>-0.270689</td>\n",
       "      <td>-0.054426</td>\n",
       "      <td>1.091864</td>\n",
       "      <td>-0.259652</td>\n",
       "      <td>-0.000653</td>\n",
       "      <td>-0.173320</td>\n",
       "      <td>-0.391033</td>\n",
       "      <td>0.695141</td>\n",
       "      <td>...</td>\n",
       "      <td>8efede7f</td>\n",
       "      <td>3412118d</td>\n",
       "      <td>0</td>\n",
       "      <td>0</td>\n",
       "      <td>e587c466</td>\n",
       "      <td>ad3062eb</td>\n",
       "      <td>3a171ecb</td>\n",
       "      <td>3b183c5c</td>\n",
       "      <td>0</td>\n",
       "      <td>0</td>\n",
       "    </tr>\n",
       "    <tr>\n",
       "      <th>3</th>\n",
       "      <td>0</td>\n",
       "      <td>-0.272146</td>\n",
       "      <td>2.170260</td>\n",
       "      <td>-0.058121</td>\n",
       "      <td>-0.661748</td>\n",
       "      <td>-0.205861</td>\n",
       "      <td>-0.238940</td>\n",
       "      <td>-0.243951</td>\n",
       "      <td>-0.460362</td>\n",
       "      <td>-0.473831</td>\n",
       "      <td>...</td>\n",
       "      <td>1e88c74f</td>\n",
       "      <td>74ef3502</td>\n",
       "      <td>0</td>\n",
       "      <td>0</td>\n",
       "      <td>6b3a5ca6</td>\n",
       "      <td>0</td>\n",
       "      <td>3a171ecb</td>\n",
       "      <td>9117a34a</td>\n",
       "      <td>0</td>\n",
       "      <td>0</td>\n",
       "    </tr>\n",
       "    <tr>\n",
       "      <th>4</th>\n",
       "      <td>0</td>\n",
       "      <td>0.164000</td>\n",
       "      <td>-0.273423</td>\n",
       "      <td>-0.058121</td>\n",
       "      <td>-0.661748</td>\n",
       "      <td>-0.271004</td>\n",
       "      <td>-0.238940</td>\n",
       "      <td>-0.190978</td>\n",
       "      <td>-0.460362</td>\n",
       "      <td>-0.473831</td>\n",
       "      <td>...</td>\n",
       "      <td>1e88c74f</td>\n",
       "      <td>26b3c7a7</td>\n",
       "      <td>0</td>\n",
       "      <td>0</td>\n",
       "      <td>21c9516a</td>\n",
       "      <td>0</td>\n",
       "      <td>32c7478e</td>\n",
       "      <td>b34f3128</td>\n",
       "      <td>0</td>\n",
       "      <td>0</td>\n",
       "    </tr>\n",
       "    <tr>\n",
       "      <th>...</th>\n",
       "      <td>...</td>\n",
       "      <td>...</td>\n",
       "      <td>...</td>\n",
       "      <td>...</td>\n",
       "      <td>...</td>\n",
       "      <td>...</td>\n",
       "      <td>...</td>\n",
       "      <td>...</td>\n",
       "      <td>...</td>\n",
       "      <td>...</td>\n",
       "      <td>...</td>\n",
       "      <td>...</td>\n",
       "      <td>...</td>\n",
       "      <td>...</td>\n",
       "      <td>...</td>\n",
       "      <td>...</td>\n",
       "      <td>...</td>\n",
       "      <td>...</td>\n",
       "      <td>...</td>\n",
       "      <td>...</td>\n",
       "      <td>...</td>\n",
       "    </tr>\n",
       "    <tr>\n",
       "      <th>1364724</th>\n",
       "      <td>0</td>\n",
       "      <td>-0.272146</td>\n",
       "      <td>-0.265222</td>\n",
       "      <td>-0.058121</td>\n",
       "      <td>-0.411232</td>\n",
       "      <td>0.339901</td>\n",
       "      <td>0.002024</td>\n",
       "      <td>-0.243951</td>\n",
       "      <td>-0.391033</td>\n",
       "      <td>-0.249579</td>\n",
       "      <td>...</td>\n",
       "      <td>07c540c4</td>\n",
       "      <td>ab194a92</td>\n",
       "      <td>0</td>\n",
       "      <td>0</td>\n",
       "      <td>21c9516a</td>\n",
       "      <td>0</td>\n",
       "      <td>32c7478e</td>\n",
       "      <td>b34f3128</td>\n",
       "      <td>0</td>\n",
       "      <td>0</td>\n",
       "    </tr>\n",
       "    <tr>\n",
       "      <th>1364725</th>\n",
       "      <td>0</td>\n",
       "      <td>-0.272146</td>\n",
       "      <td>-0.262489</td>\n",
       "      <td>-0.032253</td>\n",
       "      <td>0.590832</td>\n",
       "      <td>-0.212983</td>\n",
       "      <td>0.832010</td>\n",
       "      <td>-0.208636</td>\n",
       "      <td>0.128934</td>\n",
       "      <td>0.022386</td>\n",
       "      <td>...</td>\n",
       "      <td>e5ba7672</td>\n",
       "      <td>698d1c68</td>\n",
       "      <td>0</td>\n",
       "      <td>0</td>\n",
       "      <td>08119c8b</td>\n",
       "      <td>0</td>\n",
       "      <td>32c7478e</td>\n",
       "      <td>f96a556f</td>\n",
       "      <td>0</td>\n",
       "      <td>0</td>\n",
       "    </tr>\n",
       "    <tr>\n",
       "      <th>1364726</th>\n",
       "      <td>0</td>\n",
       "      <td>-0.272146</td>\n",
       "      <td>-0.267956</td>\n",
       "      <td>0.119262</td>\n",
       "      <td>-0.661748</td>\n",
       "      <td>-0.013207</td>\n",
       "      <td>-0.238940</td>\n",
       "      <td>-0.243951</td>\n",
       "      <td>-0.460362</td>\n",
       "      <td>-0.473831</td>\n",
       "      <td>...</td>\n",
       "      <td>e5ba7672</td>\n",
       "      <td>7b06fafe</td>\n",
       "      <td>2f4b9dd2</td>\n",
       "      <td>a458ea53</td>\n",
       "      <td>033d948f</td>\n",
       "      <td>0</td>\n",
       "      <td>32c7478e</td>\n",
       "      <td>226b0ab6</td>\n",
       "      <td>2bf691b1</td>\n",
       "      <td>9aed84e6</td>\n",
       "    </tr>\n",
       "    <tr>\n",
       "      <th>1364727</th>\n",
       "      <td>0</td>\n",
       "      <td>-0.272146</td>\n",
       "      <td>-0.270689</td>\n",
       "      <td>0.122957</td>\n",
       "      <td>-0.411232</td>\n",
       "      <td>-0.024558</td>\n",
       "      <td>-0.238940</td>\n",
       "      <td>-0.243951</td>\n",
       "      <td>-0.252375</td>\n",
       "      <td>-0.473831</td>\n",
       "      <td>...</td>\n",
       "      <td>1e88c74f</td>\n",
       "      <td>c21c3e4c</td>\n",
       "      <td>efa3470f</td>\n",
       "      <td>a458ea53</td>\n",
       "      <td>d3563291</td>\n",
       "      <td>0</td>\n",
       "      <td>bcdee96c</td>\n",
       "      <td>f88869fd</td>\n",
       "      <td>9b3e8820</td>\n",
       "      <td>86fe1bbe</td>\n",
       "    </tr>\n",
       "    <tr>\n",
       "      <th>1364728</th>\n",
       "      <td>1</td>\n",
       "      <td>-0.126764</td>\n",
       "      <td>0.019054</td>\n",
       "      <td>-0.054426</td>\n",
       "      <td>-0.285974</td>\n",
       "      <td>-0.268778</td>\n",
       "      <td>-0.150586</td>\n",
       "      <td>-0.243951</td>\n",
       "      <td>-0.460362</td>\n",
       "      <td>-0.473831</td>\n",
       "      <td>...</td>\n",
       "      <td>0</td>\n",
       "      <td>0</td>\n",
       "      <td>0</td>\n",
       "      <td>0</td>\n",
       "      <td>0</td>\n",
       "      <td>0</td>\n",
       "      <td>0</td>\n",
       "      <td>0</td>\n",
       "      <td>0</td>\n",
       "      <td>0</td>\n",
       "    </tr>\n",
       "  </tbody>\n",
       "</table>\n",
       "<p>1364729 rows × 40 columns</p>\n",
       "</div>"
      ],
      "text/plain": [
       "         label        I1        I2        I3        I4        I5        I6  \\\n",
       "0            0 -0.126764 -0.267956 -0.039644 -0.661748 -0.250526 -0.228230   \n",
       "1            0  0.018618 -0.270689  0.104480 -0.536490 -0.269520 -0.217521   \n",
       "2            0  0.018618 -0.270689 -0.054426  1.091864 -0.259652 -0.000653   \n",
       "3            0 -0.272146  2.170260 -0.058121 -0.661748 -0.205861 -0.238940   \n",
       "4            0  0.164000 -0.273423 -0.058121 -0.661748 -0.271004 -0.238940   \n",
       "...        ...       ...       ...       ...       ...       ...       ...   \n",
       "1364724      0 -0.272146 -0.265222 -0.058121 -0.411232  0.339901  0.002024   \n",
       "1364725      0 -0.272146 -0.262489 -0.032253  0.590832 -0.212983  0.832010   \n",
       "1364726      0 -0.272146 -0.267956  0.119262 -0.661748 -0.013207 -0.238940   \n",
       "1364727      0 -0.272146 -0.270689  0.122957 -0.411232 -0.024558 -0.238940   \n",
       "1364728      1 -0.126764  0.019054 -0.054426 -0.285974 -0.268778 -0.150586   \n",
       "\n",
       "               I7        I8        I9  ...       C17       C18       C19  \\\n",
       "0        0.020912 -0.391033  0.389777  ...  e5ba7672  f54016b9  21ddcdc9   \n",
       "1       -0.208636 -0.391033 -0.454746  ...  07c540c4  b04e4670  21ddcdc9   \n",
       "2       -0.173320 -0.391033  0.695141  ...  8efede7f  3412118d         0   \n",
       "3       -0.243951 -0.460362 -0.473831  ...  1e88c74f  74ef3502         0   \n",
       "4       -0.190978 -0.460362 -0.473831  ...  1e88c74f  26b3c7a7         0   \n",
       "...           ...       ...       ...  ...       ...       ...       ...   \n",
       "1364724 -0.243951 -0.391033 -0.249579  ...  07c540c4  ab194a92         0   \n",
       "1364725 -0.208636  0.128934  0.022386  ...  e5ba7672  698d1c68         0   \n",
       "1364726 -0.243951 -0.460362 -0.473831  ...  e5ba7672  7b06fafe  2f4b9dd2   \n",
       "1364727 -0.243951 -0.252375 -0.473831  ...  1e88c74f  c21c3e4c  efa3470f   \n",
       "1364728 -0.243951 -0.460362 -0.473831  ...         0         0         0   \n",
       "\n",
       "              C20       C21       C22       C23       C24       C25       C26  \n",
       "0        b1252a9d  07b5194c         0  3a171ecb  c5c50484  e8b83407  9727dd16  \n",
       "1        5840adea  60f6221e         0  3a171ecb  43f13e8b  e8b83407  731c3655  \n",
       "2               0  e587c466  ad3062eb  3a171ecb  3b183c5c         0         0  \n",
       "3               0  6b3a5ca6         0  3a171ecb  9117a34a         0         0  \n",
       "4               0  21c9516a         0  32c7478e  b34f3128         0         0  \n",
       "...           ...       ...       ...       ...       ...       ...       ...  \n",
       "1364724         0  21c9516a         0  32c7478e  b34f3128         0         0  \n",
       "1364725         0  08119c8b         0  32c7478e  f96a556f         0         0  \n",
       "1364726  a458ea53  033d948f         0  32c7478e  226b0ab6  2bf691b1  9aed84e6  \n",
       "1364727  a458ea53  d3563291         0  bcdee96c  f88869fd  9b3e8820  86fe1bbe  \n",
       "1364728         0         0         0         0         0         0         0  \n",
       "\n",
       "[1364729 rows x 40 columns]"
      ]
     },
     "execution_count": 3,
     "metadata": {},
     "output_type": "execute_result"
    }
   ],
   "source": [
    "# Preprocess Dense Features\n",
    "dense_cols = [c for c in columns if 'I' in c]\n",
    "df[dense_cols] = preprocessing.StandardScaler().fit_transform(df[dense_cols])\n",
    "df"
   ]
  },
  {
   "cell_type": "code",
   "execution_count": 4,
   "metadata": {},
   "outputs": [
    {
     "data": {
      "text/html": [
       "<div>\n",
       "<style scoped>\n",
       "    .dataframe tbody tr th:only-of-type {\n",
       "        vertical-align: middle;\n",
       "    }\n",
       "\n",
       "    .dataframe tbody tr th {\n",
       "        vertical-align: top;\n",
       "    }\n",
       "\n",
       "    .dataframe thead th {\n",
       "        text-align: right;\n",
       "    }\n",
       "</style>\n",
       "<table border=\"1\" class=\"dataframe\">\n",
       "  <thead>\n",
       "    <tr style=\"text-align: right;\">\n",
       "      <th></th>\n",
       "      <th>label</th>\n",
       "      <th>I1</th>\n",
       "      <th>I2</th>\n",
       "      <th>I3</th>\n",
       "      <th>I4</th>\n",
       "      <th>I5</th>\n",
       "      <th>I6</th>\n",
       "      <th>I7</th>\n",
       "      <th>I8</th>\n",
       "      <th>I9</th>\n",
       "      <th>...</th>\n",
       "      <th>C17</th>\n",
       "      <th>C18</th>\n",
       "      <th>C19</th>\n",
       "      <th>C20</th>\n",
       "      <th>C21</th>\n",
       "      <th>C22</th>\n",
       "      <th>C23</th>\n",
       "      <th>C24</th>\n",
       "      <th>C25</th>\n",
       "      <th>C26</th>\n",
       "    </tr>\n",
       "  </thead>\n",
       "  <tbody>\n",
       "    <tr>\n",
       "      <th>0</th>\n",
       "      <td>0</td>\n",
       "      <td>-0.126764</td>\n",
       "      <td>-0.267956</td>\n",
       "      <td>-0.039644</td>\n",
       "      <td>-0.661748</td>\n",
       "      <td>-0.250526</td>\n",
       "      <td>-0.228230</td>\n",
       "      <td>0.020912</td>\n",
       "      <td>-0.391033</td>\n",
       "      <td>0.389777</td>\n",
       "      <td>...</td>\n",
       "      <td>0</td>\n",
       "      <td>0</td>\n",
       "      <td>0</td>\n",
       "      <td>0</td>\n",
       "      <td>0</td>\n",
       "      <td>0</td>\n",
       "      <td>0</td>\n",
       "      <td>0</td>\n",
       "      <td>0</td>\n",
       "      <td>0</td>\n",
       "    </tr>\n",
       "    <tr>\n",
       "      <th>1</th>\n",
       "      <td>0</td>\n",
       "      <td>0.018618</td>\n",
       "      <td>-0.270689</td>\n",
       "      <td>0.104480</td>\n",
       "      <td>-0.536490</td>\n",
       "      <td>-0.269520</td>\n",
       "      <td>-0.217521</td>\n",
       "      <td>-0.208636</td>\n",
       "      <td>-0.391033</td>\n",
       "      <td>-0.454746</td>\n",
       "      <td>...</td>\n",
       "      <td>1</td>\n",
       "      <td>1</td>\n",
       "      <td>0</td>\n",
       "      <td>1</td>\n",
       "      <td>1</td>\n",
       "      <td>0</td>\n",
       "      <td>0</td>\n",
       "      <td>1</td>\n",
       "      <td>0</td>\n",
       "      <td>1</td>\n",
       "    </tr>\n",
       "    <tr>\n",
       "      <th>2</th>\n",
       "      <td>0</td>\n",
       "      <td>0.018618</td>\n",
       "      <td>-0.270689</td>\n",
       "      <td>-0.054426</td>\n",
       "      <td>1.091864</td>\n",
       "      <td>-0.259652</td>\n",
       "      <td>-0.000653</td>\n",
       "      <td>-0.173320</td>\n",
       "      <td>-0.391033</td>\n",
       "      <td>0.695141</td>\n",
       "      <td>...</td>\n",
       "      <td>2</td>\n",
       "      <td>2</td>\n",
       "      <td>1</td>\n",
       "      <td>2</td>\n",
       "      <td>2</td>\n",
       "      <td>1</td>\n",
       "      <td>0</td>\n",
       "      <td>2</td>\n",
       "      <td>1</td>\n",
       "      <td>2</td>\n",
       "    </tr>\n",
       "    <tr>\n",
       "      <th>3</th>\n",
       "      <td>0</td>\n",
       "      <td>-0.272146</td>\n",
       "      <td>2.170260</td>\n",
       "      <td>-0.058121</td>\n",
       "      <td>-0.661748</td>\n",
       "      <td>-0.205861</td>\n",
       "      <td>-0.238940</td>\n",
       "      <td>-0.243951</td>\n",
       "      <td>-0.460362</td>\n",
       "      <td>-0.473831</td>\n",
       "      <td>...</td>\n",
       "      <td>3</td>\n",
       "      <td>3</td>\n",
       "      <td>1</td>\n",
       "      <td>2</td>\n",
       "      <td>3</td>\n",
       "      <td>0</td>\n",
       "      <td>0</td>\n",
       "      <td>3</td>\n",
       "      <td>1</td>\n",
       "      <td>2</td>\n",
       "    </tr>\n",
       "    <tr>\n",
       "      <th>4</th>\n",
       "      <td>0</td>\n",
       "      <td>0.164000</td>\n",
       "      <td>-0.273423</td>\n",
       "      <td>-0.058121</td>\n",
       "      <td>-0.661748</td>\n",
       "      <td>-0.271004</td>\n",
       "      <td>-0.238940</td>\n",
       "      <td>-0.190978</td>\n",
       "      <td>-0.460362</td>\n",
       "      <td>-0.473831</td>\n",
       "      <td>...</td>\n",
       "      <td>3</td>\n",
       "      <td>4</td>\n",
       "      <td>1</td>\n",
       "      <td>2</td>\n",
       "      <td>4</td>\n",
       "      <td>0</td>\n",
       "      <td>1</td>\n",
       "      <td>4</td>\n",
       "      <td>1</td>\n",
       "      <td>2</td>\n",
       "    </tr>\n",
       "    <tr>\n",
       "      <th>...</th>\n",
       "      <td>...</td>\n",
       "      <td>...</td>\n",
       "      <td>...</td>\n",
       "      <td>...</td>\n",
       "      <td>...</td>\n",
       "      <td>...</td>\n",
       "      <td>...</td>\n",
       "      <td>...</td>\n",
       "      <td>...</td>\n",
       "      <td>...</td>\n",
       "      <td>...</td>\n",
       "      <td>...</td>\n",
       "      <td>...</td>\n",
       "      <td>...</td>\n",
       "      <td>...</td>\n",
       "      <td>...</td>\n",
       "      <td>...</td>\n",
       "      <td>...</td>\n",
       "      <td>...</td>\n",
       "      <td>...</td>\n",
       "      <td>...</td>\n",
       "    </tr>\n",
       "    <tr>\n",
       "      <th>1364724</th>\n",
       "      <td>0</td>\n",
       "      <td>-0.272146</td>\n",
       "      <td>-0.265222</td>\n",
       "      <td>-0.058121</td>\n",
       "      <td>-0.411232</td>\n",
       "      <td>0.339901</td>\n",
       "      <td>0.002024</td>\n",
       "      <td>-0.243951</td>\n",
       "      <td>-0.391033</td>\n",
       "      <td>-0.249579</td>\n",
       "      <td>...</td>\n",
       "      <td>1</td>\n",
       "      <td>246</td>\n",
       "      <td>1</td>\n",
       "      <td>2</td>\n",
       "      <td>4</td>\n",
       "      <td>0</td>\n",
       "      <td>1</td>\n",
       "      <td>4</td>\n",
       "      <td>1</td>\n",
       "      <td>2</td>\n",
       "    </tr>\n",
       "    <tr>\n",
       "      <th>1364725</th>\n",
       "      <td>0</td>\n",
       "      <td>-0.272146</td>\n",
       "      <td>-0.262489</td>\n",
       "      <td>-0.032253</td>\n",
       "      <td>0.590832</td>\n",
       "      <td>-0.212983</td>\n",
       "      <td>0.832010</td>\n",
       "      <td>-0.208636</td>\n",
       "      <td>0.128934</td>\n",
       "      <td>0.022386</td>\n",
       "      <td>...</td>\n",
       "      <td>0</td>\n",
       "      <td>21</td>\n",
       "      <td>1</td>\n",
       "      <td>2</td>\n",
       "      <td>144</td>\n",
       "      <td>0</td>\n",
       "      <td>1</td>\n",
       "      <td>20</td>\n",
       "      <td>1</td>\n",
       "      <td>2</td>\n",
       "    </tr>\n",
       "    <tr>\n",
       "      <th>1364726</th>\n",
       "      <td>0</td>\n",
       "      <td>-0.272146</td>\n",
       "      <td>-0.267956</td>\n",
       "      <td>0.119262</td>\n",
       "      <td>-0.661748</td>\n",
       "      <td>-0.013207</td>\n",
       "      <td>-0.238940</td>\n",
       "      <td>-0.243951</td>\n",
       "      <td>-0.460362</td>\n",
       "      <td>-0.473831</td>\n",
       "      <td>...</td>\n",
       "      <td>0</td>\n",
       "      <td>88</td>\n",
       "      <td>96</td>\n",
       "      <td>3</td>\n",
       "      <td>315255</td>\n",
       "      <td>0</td>\n",
       "      <td>1</td>\n",
       "      <td>2096</td>\n",
       "      <td>11</td>\n",
       "      <td>5419</td>\n",
       "    </tr>\n",
       "    <tr>\n",
       "      <th>1364727</th>\n",
       "      <td>0</td>\n",
       "      <td>-0.272146</td>\n",
       "      <td>-0.270689</td>\n",
       "      <td>0.122957</td>\n",
       "      <td>-0.411232</td>\n",
       "      <td>-0.024558</td>\n",
       "      <td>-0.238940</td>\n",
       "      <td>-0.243951</td>\n",
       "      <td>-0.252375</td>\n",
       "      <td>-0.473831</td>\n",
       "      <td>...</td>\n",
       "      <td>3</td>\n",
       "      <td>49</td>\n",
       "      <td>73</td>\n",
       "      <td>3</td>\n",
       "      <td>315256</td>\n",
       "      <td>0</td>\n",
       "      <td>8</td>\n",
       "      <td>29121</td>\n",
       "      <td>3</td>\n",
       "      <td>22213</td>\n",
       "    </tr>\n",
       "    <tr>\n",
       "      <th>1364728</th>\n",
       "      <td>1</td>\n",
       "      <td>-0.126764</td>\n",
       "      <td>0.019054</td>\n",
       "      <td>-0.054426</td>\n",
       "      <td>-0.285974</td>\n",
       "      <td>-0.268778</td>\n",
       "      <td>-0.150586</td>\n",
       "      <td>-0.243951</td>\n",
       "      <td>-0.460362</td>\n",
       "      <td>-0.473831</td>\n",
       "      <td>...</td>\n",
       "      <td>10</td>\n",
       "      <td>4059</td>\n",
       "      <td>1</td>\n",
       "      <td>2</td>\n",
       "      <td>11</td>\n",
       "      <td>0</td>\n",
       "      <td>15</td>\n",
       "      <td>9</td>\n",
       "      <td>1</td>\n",
       "      <td>2</td>\n",
       "    </tr>\n",
       "  </tbody>\n",
       "</table>\n",
       "<p>1364729 rows × 40 columns</p>\n",
       "</div>"
      ],
      "text/plain": [
       "         label        I1        I2        I3        I4        I5        I6  \\\n",
       "0            0 -0.126764 -0.267956 -0.039644 -0.661748 -0.250526 -0.228230   \n",
       "1            0  0.018618 -0.270689  0.104480 -0.536490 -0.269520 -0.217521   \n",
       "2            0  0.018618 -0.270689 -0.054426  1.091864 -0.259652 -0.000653   \n",
       "3            0 -0.272146  2.170260 -0.058121 -0.661748 -0.205861 -0.238940   \n",
       "4            0  0.164000 -0.273423 -0.058121 -0.661748 -0.271004 -0.238940   \n",
       "...        ...       ...       ...       ...       ...       ...       ...   \n",
       "1364724      0 -0.272146 -0.265222 -0.058121 -0.411232  0.339901  0.002024   \n",
       "1364725      0 -0.272146 -0.262489 -0.032253  0.590832 -0.212983  0.832010   \n",
       "1364726      0 -0.272146 -0.267956  0.119262 -0.661748 -0.013207 -0.238940   \n",
       "1364727      0 -0.272146 -0.270689  0.122957 -0.411232 -0.024558 -0.238940   \n",
       "1364728      1 -0.126764  0.019054 -0.054426 -0.285974 -0.268778 -0.150586   \n",
       "\n",
       "               I7        I8        I9  ...  C17   C18  C19  C20     C21  C22  \\\n",
       "0        0.020912 -0.391033  0.389777  ...    0     0    0    0       0    0   \n",
       "1       -0.208636 -0.391033 -0.454746  ...    1     1    0    1       1    0   \n",
       "2       -0.173320 -0.391033  0.695141  ...    2     2    1    2       2    1   \n",
       "3       -0.243951 -0.460362 -0.473831  ...    3     3    1    2       3    0   \n",
       "4       -0.190978 -0.460362 -0.473831  ...    3     4    1    2       4    0   \n",
       "...           ...       ...       ...  ...  ...   ...  ...  ...     ...  ...   \n",
       "1364724 -0.243951 -0.391033 -0.249579  ...    1   246    1    2       4    0   \n",
       "1364725 -0.208636  0.128934  0.022386  ...    0    21    1    2     144    0   \n",
       "1364726 -0.243951 -0.460362 -0.473831  ...    0    88   96    3  315255    0   \n",
       "1364727 -0.243951 -0.252375 -0.473831  ...    3    49   73    3  315256    0   \n",
       "1364728 -0.243951 -0.460362 -0.473831  ...   10  4059    1    2      11    0   \n",
       "\n",
       "         C23    C24  C25    C26  \n",
       "0          0      0    0      0  \n",
       "1          0      1    0      1  \n",
       "2          0      2    1      2  \n",
       "3          0      3    1      2  \n",
       "4          1      4    1      2  \n",
       "...      ...    ...  ...    ...  \n",
       "1364724    1      4    1      2  \n",
       "1364725    1     20    1      2  \n",
       "1364726    1   2096   11   5419  \n",
       "1364727    8  29121    3  22213  \n",
       "1364728   15      9    1      2  \n",
       "\n",
       "[1364729 rows x 40 columns]"
      ]
     },
     "execution_count": 4,
     "metadata": {},
     "output_type": "execute_result"
    }
   ],
   "source": [
    "# Preprocess Categorical Features\n",
    "cat_cols = [c for c in columns if 'C' in c]\n",
    "mappings = {\n",
    "    col: dict(zip(values, range(len(values))))\n",
    "    for col, values in map(lambda col: (col, df[col].unique()), cat_cols)\n",
    "}\n",
    "for col, mapping in mappings.items():\n",
    "    df[col] = df[col].map(mapping.get)\n",
    "df"
   ]
  },
  {
   "cell_type": "code",
   "execution_count": 5,
   "metadata": {},
   "outputs": [
    {
     "name": "stdout",
     "output_type": "stream",
     "text": [
      "Baseline: 74.63203317288634%\n"
     ]
    }
   ],
   "source": [
    "label_counts = df.groupby('label')['I1'].count()\n",
    "print(f'Baseline: {max(label_counts.values) / sum(label_counts.values) * 100}%')"
   ]
  },
  {
   "cell_type": "code",
   "execution_count": 6,
   "metadata": {},
   "outputs": [
    {
     "name": "stdout",
     "output_type": "stream",
     "text": [
      "Total records: 1364729\n",
      "df1 records: 682364 - with added noise\n",
      "df2 records: 682365 - without added noise\n"
     ]
    }
   ],
   "source": [
    "# Select halfway point for the split\n",
    "split_point = len(df) // 2\n",
    "\n",
    "# Define the noise level\n",
    "noise_level = 0.5  # Adjust this based on your dataset's scale\n",
    "\n",
    "# Add random noise only to the first half for integer features I1 to I13\n",
    "# Generating noise with the same shape as the target DataFrame slice\n",
    "noise = np.random.normal(0, noise_level, df.loc[:split_point, 'I1':'I13'].shape)\n",
    "df.loc[:split_point, 'I1':'I13'] += noise\n",
    "\n",
    "# Now split the DataFrame into two parts: one with added noise and one without any modifications\n",
    "df1 = df.iloc[:split_point].reset_index(drop=True)\n",
    "df2 = df.iloc[split_point:].reset_index(drop=True)\n",
    "\n",
    "# Verifying the manipulation\n",
    "print(f\"Total records: {len(df)}\")\n",
    "print(f\"df1 records: {len(df1)} - with added noise\")\n",
    "print(f\"df2 records: {len(df2)} - without added noise\")"
   ]
  },
  {
   "cell_type": "code",
   "execution_count": 7,
   "metadata": {
    "editable": true,
    "slideshow": {
     "slide_type": ""
    },
    "tags": []
   },
   "outputs": [],
   "source": [
    "dense_cols = [c for c in df.columns if 'I' in c]\n",
    "cat_cols = [c for c in df.columns if 'C' in c]\n",
    "fixed_embedding_size = 455000\n",
    "emb_counts = [len(df[c].unique()) for c in cat_cols]"
   ]
  },
  {
   "cell_type": "markdown",
   "metadata": {
    "editable": true,
    "slideshow": {
     "slide_type": ""
    },
    "tags": []
   },
   "source": [
    "## Data Owner 1"
   ]
  },
  {
   "cell_type": "code",
   "execution_count": 8,
   "metadata": {},
   "outputs": [],
   "source": [
    "tf.keras.backend.clear_session() #clears keras session to have the same mapping for DO1 and DO2 dictionaries\n",
    "\n",
    "TRAIN_SPLIT = 0.8\n",
    "VALIDATION_SPLIT = 0.2\n",
    "\n",
    "# Dataset size\n",
    "dataset_size = len(df1)\n",
    "train_size = int(dataset_size * TRAIN_SPLIT)\n",
    "test_size = dataset_size - train_size\n",
    "validation_size = int(test_size * VALIDATION_SPLIT)\n",
    "\n",
    "# Creating the dataset\n",
    "ds = tf.data.Dataset.zip((\n",
    "    tf.data.Dataset.from_tensor_slices((\n",
    "        tf.cast(df1[dense_cols].values, tf.float32),\n",
    "        tf.cast(df1[cat_cols].values, tf.int32),\n",
    "    )),\n",
    "    tf.data.Dataset.from_tensor_slices(tf.cast(to_categorical(df1['label'].values, num_classes=2), tf.float32))\n",
    ")).shuffle(buffer_size=2048)\n",
    "\n",
    "# Splitting the dataset\n",
    "ds_train = ds.take(train_size)\n",
    "ds_test = ds.skip(train_size)\n",
    "ds_valid = ds_test.take(validation_size)\n",
    "ds_test = ds_test.skip(validation_size)"
   ]
  },
  {
   "cell_type": "code",
   "execution_count": 9,
   "metadata": {
    "editable": true,
    "slideshow": {
     "slide_type": ""
    },
    "tags": []
   },
   "outputs": [],
   "source": [
    "def MLP(arch, activation='relu', out_activation='sigmoid'):  # Ensure this matches your task\n",
    "  mlp = tf.keras.Sequential()\n",
    "  for units in arch[:-1]:\n",
    "    mlp.add(tf.keras.layers.Dense(units, activation=activation))\n",
    "  mlp.add(tf.keras.layers.Dense(arch[-1], activation=out_activation))\n",
    "  return mlp\n",
    "\n",
    "class BaseLayerModel(tf.keras.Model):\n",
    "  def __init__(self, embedding_sizes, embedding_dim, arch_bot):\n",
    "    super(BaseLayerModel, self).__init__()\n",
    "    self.emb = [Embedding(size, embedding_dim, trainable=True) for size in embedding_sizes]\n",
    "    self.bot_nn = MLP(arch_bot, out_activation='sigmoid')\n",
    "\n",
    "  def call(self, inputs):\n",
    "    input_dense, input_cat = inputs\n",
    "    emb_x = [E(tf.expand_dims(x, axis=-1)) for E, x in zip(self.emb, tf.unstack(input_cat, axis=1))]\n",
    "    dense_x = self.bot_nn(input_dense)\n",
    "    return dense_x  # Correct for binary classification\n",
    "\n",
    "# Instantiate and compile the base layer model\n",
    "base_layer_model = BaseLayerModel(\n",
    "  embedding_sizes=emb_counts,\n",
    "  embedding_dim=2,\n",
    "  arch_bot=[8, 2]\n",
    ")\n",
    "\n",
    "base_layer_model.compile(\n",
    "  optimizer=tf.keras.optimizers.legacy.Adam(learning_rate=0.0001),\n",
    "  loss=tf.keras.losses.BinaryCrossentropy(from_logits=False),\n",
    "  metrics=['accuracy', AUC(name='auc')]\n",
    ")"
   ]
  },
  {
   "cell_type": "code",
   "execution_count": 10,
   "metadata": {
    "scrolled": true
   },
   "outputs": [
    {
     "name": "stdout",
     "output_type": "stream",
     "text": [
      "WARNING:tensorflow:Gradients do not exist for variables ['base_layer_model/embedding/embeddings:0', 'base_layer_model/embedding_1/embeddings:0', 'base_layer_model/embedding_2/embeddings:0', 'base_layer_model/embedding_3/embeddings:0', 'base_layer_model/embedding_4/embeddings:0', 'base_layer_model/embedding_5/embeddings:0', 'base_layer_model/embedding_6/embeddings:0', 'base_layer_model/embedding_7/embeddings:0', 'base_layer_model/embedding_8/embeddings:0', 'base_layer_model/embedding_9/embeddings:0', 'base_layer_model/embedding_10/embeddings:0', 'base_layer_model/embedding_11/embeddings:0', 'base_layer_model/embedding_12/embeddings:0', 'base_layer_model/embedding_13/embeddings:0', 'base_layer_model/embedding_14/embeddings:0', 'base_layer_model/embedding_15/embeddings:0', 'base_layer_model/embedding_16/embeddings:0', 'base_layer_model/embedding_17/embeddings:0', 'base_layer_model/embedding_18/embeddings:0', 'base_layer_model/embedding_19/embeddings:0', 'base_layer_model/embedding_20/embeddings:0', 'base_layer_model/embedding_21/embeddings:0', 'base_layer_model/embedding_22/embeddings:0', 'base_layer_model/embedding_23/embeddings:0', 'base_layer_model/embedding_24/embeddings:0', 'base_layer_model/embedding_25/embeddings:0'] when minimizing the loss. If you're using `model.compile()`, did you forget to provide a `loss` argument?\n"
     ]
    },
    {
     "name": "stderr",
     "output_type": "stream",
     "text": [
      "WARNING:tensorflow:Gradients do not exist for variables ['base_layer_model/embedding/embeddings:0', 'base_layer_model/embedding_1/embeddings:0', 'base_layer_model/embedding_2/embeddings:0', 'base_layer_model/embedding_3/embeddings:0', 'base_layer_model/embedding_4/embeddings:0', 'base_layer_model/embedding_5/embeddings:0', 'base_layer_model/embedding_6/embeddings:0', 'base_layer_model/embedding_7/embeddings:0', 'base_layer_model/embedding_8/embeddings:0', 'base_layer_model/embedding_9/embeddings:0', 'base_layer_model/embedding_10/embeddings:0', 'base_layer_model/embedding_11/embeddings:0', 'base_layer_model/embedding_12/embeddings:0', 'base_layer_model/embedding_13/embeddings:0', 'base_layer_model/embedding_14/embeddings:0', 'base_layer_model/embedding_15/embeddings:0', 'base_layer_model/embedding_16/embeddings:0', 'base_layer_model/embedding_17/embeddings:0', 'base_layer_model/embedding_18/embeddings:0', 'base_layer_model/embedding_19/embeddings:0', 'base_layer_model/embedding_20/embeddings:0', 'base_layer_model/embedding_21/embeddings:0', 'base_layer_model/embedding_22/embeddings:0', 'base_layer_model/embedding_23/embeddings:0', 'base_layer_model/embedding_24/embeddings:0', 'base_layer_model/embedding_25/embeddings:0'] when minimizing the loss. If you're using `model.compile()`, did you forget to provide a `loss` argument?\n"
     ]
    },
    {
     "name": "stdout",
     "output_type": "stream",
     "text": [
      "WARNING:tensorflow:Gradients do not exist for variables ['base_layer_model/embedding/embeddings:0', 'base_layer_model/embedding_1/embeddings:0', 'base_layer_model/embedding_2/embeddings:0', 'base_layer_model/embedding_3/embeddings:0', 'base_layer_model/embedding_4/embeddings:0', 'base_layer_model/embedding_5/embeddings:0', 'base_layer_model/embedding_6/embeddings:0', 'base_layer_model/embedding_7/embeddings:0', 'base_layer_model/embedding_8/embeddings:0', 'base_layer_model/embedding_9/embeddings:0', 'base_layer_model/embedding_10/embeddings:0', 'base_layer_model/embedding_11/embeddings:0', 'base_layer_model/embedding_12/embeddings:0', 'base_layer_model/embedding_13/embeddings:0', 'base_layer_model/embedding_14/embeddings:0', 'base_layer_model/embedding_15/embeddings:0', 'base_layer_model/embedding_16/embeddings:0', 'base_layer_model/embedding_17/embeddings:0', 'base_layer_model/embedding_18/embeddings:0', 'base_layer_model/embedding_19/embeddings:0', 'base_layer_model/embedding_20/embeddings:0', 'base_layer_model/embedding_21/embeddings:0', 'base_layer_model/embedding_22/embeddings:0', 'base_layer_model/embedding_23/embeddings:0', 'base_layer_model/embedding_24/embeddings:0', 'base_layer_model/embedding_25/embeddings:0'] when minimizing the loss. If you're using `model.compile()`, did you forget to provide a `loss` argument?\n"
     ]
    },
    {
     "name": "stderr",
     "output_type": "stream",
     "text": [
      "WARNING:tensorflow:Gradients do not exist for variables ['base_layer_model/embedding/embeddings:0', 'base_layer_model/embedding_1/embeddings:0', 'base_layer_model/embedding_2/embeddings:0', 'base_layer_model/embedding_3/embeddings:0', 'base_layer_model/embedding_4/embeddings:0', 'base_layer_model/embedding_5/embeddings:0', 'base_layer_model/embedding_6/embeddings:0', 'base_layer_model/embedding_7/embeddings:0', 'base_layer_model/embedding_8/embeddings:0', 'base_layer_model/embedding_9/embeddings:0', 'base_layer_model/embedding_10/embeddings:0', 'base_layer_model/embedding_11/embeddings:0', 'base_layer_model/embedding_12/embeddings:0', 'base_layer_model/embedding_13/embeddings:0', 'base_layer_model/embedding_14/embeddings:0', 'base_layer_model/embedding_15/embeddings:0', 'base_layer_model/embedding_16/embeddings:0', 'base_layer_model/embedding_17/embeddings:0', 'base_layer_model/embedding_18/embeddings:0', 'base_layer_model/embedding_19/embeddings:0', 'base_layer_model/embedding_20/embeddings:0', 'base_layer_model/embedding_21/embeddings:0', 'base_layer_model/embedding_22/embeddings:0', 'base_layer_model/embedding_23/embeddings:0', 'base_layer_model/embedding_24/embeddings:0', 'base_layer_model/embedding_25/embeddings:0'] when minimizing the loss. If you're using `model.compile()`, did you forget to provide a `loss` argument?\n"
     ]
    },
    {
     "name": "stdout",
     "output_type": "stream",
     "text": [
      "4265/4265 [==============================] - 15s 3ms/step - loss: 0.6217 - accuracy: 0.7019 - auc: 0.7255 - val_loss: 0.5627 - val_accuracy: 0.7430 - val_auc: 0.7811\n"
     ]
    }
   ],
   "source": [
    "BATCH_SIZE = 128\n",
    "\n",
    "history = base_layer_model.fit(\n",
    "  ds_train.batch(BATCH_SIZE),\n",
    "  validation_data=ds_valid.batch(BATCH_SIZE),\n",
    "  callbacks=[tf.keras.callbacks.EarlyStopping(patience=6, restore_best_weights=True)],\n",
    "  epochs=1,\n",
    "  verbose=1,\n",
    ")"
   ]
  },
  {
   "cell_type": "code",
   "execution_count": 11,
   "metadata": {},
   "outputs": [
    {
     "name": "stdout",
     "output_type": "stream",
     "text": [
      "Model: \"base_layer_model\"\n",
      "_________________________________________________________________\n",
      " Layer (type)                Output Shape              Param #   \n",
      "=================================================================\n",
      " embedding (Embedding)       multiple                  2632      \n",
      "                                                                 \n",
      " embedding_1 (Embedding)     multiple                  1066      \n",
      "                                                                 \n",
      " embedding_2 (Embedding)     multiple                  849010    \n",
      "                                                                 \n",
      " embedding_3 (Embedding)     multiple                  303040    \n",
      "                                                                 \n",
      " embedding_4 (Embedding)     multiple                  558       \n",
      "                                                                 \n",
      " embedding_5 (Embedding)     multiple                  32        \n",
      "                                                                 \n",
      " embedding_6 (Embedding)     multiple                  22222     \n",
      "                                                                 \n",
      " embedding_7 (Embedding)     multiple                  1172      \n",
      "                                                                 \n",
      " embedding_8 (Embedding)     multiple                  8         \n",
      "                                                                 \n",
      " embedding_9 (Embedding)     multiple                  69112     \n",
      "                                                                 \n",
      " embedding_10 (Embedding)    multiple                  9644      \n",
      "                                                                 \n",
      " embedding_11 (Embedding)    multiple                  706314    \n",
      "                                                                 \n",
      " embedding_12 (Embedding)    multiple                  6158      \n",
      "                                                                 \n",
      " embedding_13 (Embedding)    multiple                  54        \n",
      "                                                                 \n",
      " embedding_14 (Embedding)    multiple                  18946     \n",
      "                                                                 \n",
      " embedding_15 (Embedding)    multiple                  534720    \n",
      "                                                                 \n",
      " embedding_16 (Embedding)    multiple                  22        \n",
      "                                                                 \n",
      " embedding_17 (Embedding)    multiple                  8120      \n",
      "                                                                 \n",
      " embedding_18 (Embedding)    multiple                  3808      \n",
      "                                                                 \n",
      " embedding_19 (Embedding)    multiple                  8         \n",
      "                                                                 \n",
      " embedding_20 (Embedding)    multiple                  630514    \n",
      "                                                                 \n",
      " embedding_21 (Embedding)    multiple                  34        \n",
      "                                                                 \n",
      " embedding_22 (Embedding)    multiple                  32        \n",
      "                                                                 \n",
      " embedding_23 (Embedding)    multiple                  97496     \n",
      "                                                                 \n",
      " embedding_24 (Embedding)    multiple                  154       \n",
      "                                                                 \n",
      " embedding_25 (Embedding)    multiple                  71950     \n",
      "                                                                 \n",
      " sequential (Sequential)     (None, 2)                 130       \n",
      "                                                                 \n",
      "=================================================================\n",
      "Total params: 3336956 (12.73 MB)\n",
      "Trainable params: 3336956 (12.73 MB)\n",
      "Non-trainable params: 0 (0.00 Byte)\n",
      "_________________________________________________________________\n"
     ]
    }
   ],
   "source": [
    "base_layer_model.summary()"
   ]
  },
  {
   "cell_type": "code",
   "execution_count": 12,
   "metadata": {},
   "outputs": [
    {
     "name": "stdout",
     "output_type": "stream",
     "text": [
      "853/853 [==============================] - 5s 2ms/step - loss: 0.5598 - accuracy: 0.7443 - auc: 0.7830\n",
      "Loss: 0.55982905626297, Accuracy: 0.7443006634712219, AUC: 0.7829941511154175\n"
     ]
    }
   ],
   "source": [
    "results = base_layer_model.evaluate(ds_test.batch(BATCH_SIZE))\n",
    "print(f'Loss: {results[0]}, Accuracy: {results[1]}, AUC: {results[2]}')"
   ]
  },
  {
   "cell_type": "code",
   "execution_count": 13,
   "metadata": {
    "scrolled": true
   },
   "outputs": [
    {
     "data": {
      "text/html": [
       "<div>\n",
       "<style scoped>\n",
       "    .dataframe tbody tr th:only-of-type {\n",
       "        vertical-align: middle;\n",
       "    }\n",
       "\n",
       "    .dataframe tbody tr th {\n",
       "        vertical-align: top;\n",
       "    }\n",
       "\n",
       "    .dataframe thead th {\n",
       "        text-align: right;\n",
       "    }\n",
       "</style>\n",
       "<table border=\"1\" class=\"dataframe\">\n",
       "  <thead>\n",
       "    <tr style=\"text-align: right;\">\n",
       "      <th></th>\n",
       "      <th>loss</th>\n",
       "      <th>accuracy</th>\n",
       "      <th>auc</th>\n",
       "      <th>val_loss</th>\n",
       "      <th>val_accuracy</th>\n",
       "      <th>val_auc</th>\n",
       "    </tr>\n",
       "  </thead>\n",
       "  <tbody>\n",
       "    <tr>\n",
       "      <th>0</th>\n",
       "      <td>0.621688</td>\n",
       "      <td>0.701933</td>\n",
       "      <td>0.725532</td>\n",
       "      <td>0.562669</td>\n",
       "      <td>0.742984</td>\n",
       "      <td>0.781062</td>\n",
       "    </tr>\n",
       "  </tbody>\n",
       "</table>\n",
       "</div>"
      ],
      "text/plain": [
       "       loss  accuracy       auc  val_loss  val_accuracy   val_auc\n",
       "0  0.621688  0.701933  0.725532  0.562669      0.742984  0.781062"
      ]
     },
     "metadata": {},
     "output_type": "display_data"
    },
    {
     "data": {
      "image/png": "[encoded data removed]",
      "text/plain": [
       "<Figure size 1000x800 with 1 Axes>"
      ]
     },
     "metadata": {},
     "output_type": "display_data"
    },
    {
     "name": "stdout",
     "output_type": "stream",
     "text": [
      "Validation AUC: 0.7836\n"
     ]
    }
   ],
   "source": [
    "loss = pd.DataFrame.from_dict(history.history)\n",
    "display(loss.head())\n",
    "\n",
    "plt.figure(figsize=(10,8))\n",
    "plt.plot(loss['loss'], label='Train Loss')\n",
    "plt.plot(loss['val_loss'], label='Validation Loss')\n",
    "\n",
    "# Plot AUC \n",
    "plt.plot(loss['auc'], label='Train AUC')\n",
    "plt.plot(loss['val_auc'], label='Validation AUC')\n",
    "\n",
    "plt.legend()\n",
    "plt.show()\n",
    "\n",
    "# Evaluate the model on the validation dataset\n",
    "val_metrics = base_layer_model.evaluate(ds_valid.batch(BATCH_SIZE), verbose=0)\n",
    "\n",
    "val_auc_index = base_layer_model.metrics_names.index('auc')\n",
    "auc_score_baseline1 = val_metrics[val_auc_index]\n",
    "\n",
    "print(f\"Validation AUC: {auc_score_baseline1:.4f}\")"
   ]
  },
  {
   "cell_type": "code",
   "execution_count": 14,
   "metadata": {},
   "outputs": [],
   "source": [
    "import numpy as np\n",
    "\n",
    "def add_noise_to_weights(weights, noise_std=0.01):\n",
    "    \"\"\"Adds Gaussian noise to a dictionary of weights.\"\"\"\n",
    "    noisy_weights = {}\n",
    "    for key, weight in weights.items():\n",
    "        # Generating Gaussian noise with the same shape as the weight\n",
    "        noise = np.random.normal(loc=0.0, scale=noise_std, size=weight.shape)\n",
    "        # Adding the noise to the weight\n",
    "        noisy_weight = weight + noise\n",
    "        noisy_weights[key] = noisy_weight\n",
    "    return noisy_weights\n",
    "\n",
    "# Extract the model's weights into a dictionary\n",
    "model_weights_dict_1 = {v.name: v.numpy() for v in base_layer_model.trainable_variables}\n",
    "\n",
    "# Add noise to the model's weights\n",
    "noisy_model_weights_dict_1 = add_noise_to_weights(model_weights_dict_1, noise_std=0.01)\n",
    "\n",
    "# Now, noisy_model_weights_dict contains the weights with added Gaussian noise"
   ]
  },
  {
   "cell_type": "code",
   "execution_count": 15,
   "metadata": {
    "scrolled": true,
    "tags": []
   },
   "outputs": [
    {
     "name": "stdout",
     "output_type": "stream",
     "text": [
      "Staging Protocol Changes...\n",
      "Starting test-domain-1 server on 0.0.0.0:48715\n",
      "Waiting for server to start."
     ]
    },
    {
     "name": "stderr",
     "output_type": "stream",
     "text": [
      "kj/filesystem-disk-unix.c++:1703: warning: PWD environment variable doesn't match current directory; pwd = /Users/alex\n"
     ]
    },
    {
     "name": "stdout",
     "output_type": "stream",
     "text": [
      "......"
     ]
    },
    {
     "name": "stderr",
     "output_type": "stream",
     "text": [
      "INFO:     Started server process [13740]\n",
      "INFO:     Waiting for application startup.\n",
      "INFO:     Application startup complete.\n",
      "INFO:     Uvicorn running on http://0.0.0.0:48715 (Press CTRL+C to quit)\n"
     ]
    },
    {
     "name": "stdout",
     "output_type": "stream",
     "text": [
      ".\n",
      "WARNING: private key is based on node name: test-domain-1 in dev_mode. Don't run this in production.\n",
      "SQLite Store Path:\n",
      "!open file:///var/folders/78/1q4j7nsx4sg2djyc6d_1xq680000gn/T/7bca415d13ed4ec881f0d0aede098dbb.sqlite\n",
      "\n",
      "Creating default worker image with tag='local-dev'\n",
      "Building default worker image with tag=local-dev\n",
      "Setting up worker poolname=default-pool workers=0 image_uid=543e59ce0c894a37a6917e5120eeaba9 in_memory=True\n",
      "Created default worker pool.\n",
      "Data Migrated to latest version !!!\n",
      "INFO:     127.0.0.1:61318 - \"GET /api/v2/metadata HTTP/1.1\" 200 OK\n",
      " Done.\n"
     ]
    }
   ],
   "source": [
    "node = sy.orchestra.launch(name=\"test-domain-1\", port=\"auto\", dev_mode=True, reset=True)"
   ]
  },
  {
   "cell_type": "markdown",
   "metadata": {},
   "source": [
    "Login to the Domain"
   ]
  },
  {
   "cell_type": "code",
   "execution_count": 16,
   "metadata": {
    "scrolled": true,
    "tags": []
   },
   "outputs": [
    {
     "name": "stdout",
     "output_type": "stream",
     "text": [
      "INFO:     127.0.0.1:61320 - \"GET /api/v2/metadata HTTP/1.1\" 200 OK\n",
      "INFO:     127.0.0.1:61320 - \"GET /api/v2/metadata HTTP/1.1\" 200 OK\n",
      "Logged into <test-domain-1: High-side Domain> as GUEST\n",
      "INFO:     127.0.0.1:61320 - \"POST /api/v2/login HTTP/1.1\" 200 OK\n",
      "INFO:     127.0.0.1:61320 - \"GET /api/v2/api?verify_key=aec6ea4dfc049ceacaeeebc493167a88a200ddc367b1fa32da652444b635d21f&communication_protocol=3 HTTP/1.1\" 200 OK\n",
      "INFO:     127.0.0.1:61322 - \"POST /api/v2/api_call HTTP/1.1\" 200 OK\n",
      "Logged into <test-domain-1: High side Domain> as <info@openmined.org>\n"
     ]
    },
    {
     "data": {
      "text/html": [
       "<div class=\"alert-warning\" style=\"padding:5px;\"><strong>SyftWarning</strong>: You are using a default password. Please change the password using `[your_client].me.set_password([new_password])`.</div><br />"
      ],
      "text/plain": [
       "SyftWarning: You are using a default password. Please change the password using `[your_client].me.set_password([new_password])`."
      ]
     },
     "metadata": {},
     "output_type": "display_data"
    }
   ],
   "source": [
    "domain_client = node.login(email=\"info@openmined.org\", password=\"changethis\")"
   ]
  },
  {
   "cell_type": "markdown",
   "metadata": {},
   "source": [
    "Initialize Model Weights"
   ]
  },
  {
   "cell_type": "code",
   "execution_count": 17,
   "metadata": {},
   "outputs": [
    {
     "name": "stdout",
     "output_type": "stream",
     "text": [
      "<class 'dict'> 0aef4e5a95b04ec7a90c19dd4709a60b\n"
     ]
    }
   ],
   "source": [
    "# Convert the trained model parameters to a Syft ActionObject\n",
    "model_weights_obj = sy.ActionObject.from_obj(noisy_model_weights_dict_1)\n",
    "\n",
    "# Check the object type and attributes\n",
    "print(type(model_weights_obj.syft_action_data), model_weights_obj.id)\n"
   ]
  },
  {
   "cell_type": "code",
   "execution_count": 18,
   "metadata": {},
   "outputs": [
    {
     "name": "stdout",
     "output_type": "stream",
     "text": [
      "INFO:     127.0.0.1:61325 - \"POST /api/v2/api_call HTTP/1.1\" 200 OK\n",
      "0aef4e5a95b04ec7a90c19dd4709a60b\n"
     ]
    }
   ],
   "source": [
    "# Set the model weights ActionObject in the domain\n",
    "weight_domain_obj = domain_client.api.services.action.set(model_weights_obj)\n",
    "\n",
    "# Check the domain object attributes\n",
    "print(weight_domain_obj.id)\n"
   ]
  },
  {
   "cell_type": "markdown",
   "metadata": {},
   "source": [
    "Convert Model Weights to Syft ActionObject:"
   ]
  },
  {
   "cell_type": "markdown",
   "metadata": {},
   "source": [
    "Define a Weights Access function"
   ]
  },
  {
   "cell_type": "code",
   "execution_count": 19,
   "metadata": {
    "scrolled": true,
    "tags": []
   },
   "outputs": [
    {
     "name": "stdout",
     "output_type": "stream",
     "text": [
      "INFO:     127.0.0.1:61328 - \"POST /api/v2/api_call HTTP/1.1\" 200 OK\n",
      "INFO:     127.0.0.1:61320 - \"GET /api/v2/metadata HTTP/1.1\" 200 OK\n"
     ]
    },
    {
     "data": {
      "text/html": [
       "<div class=\"alert-success\" style=\"padding:5px;\"><strong>SyftSuccess</strong>: Syft function 'fetch_weights' successfully created. To add a code request, please create a project using `project = syft.Project(...)`, then use command `project.create_code_request`.</div><br />"
      ],
      "text/plain": [
       "SyftSuccess: Syft function 'fetch_weights' successfully created. To add a code request, please create a project using `project = syft.Project(...)`, then use command `project.create_code_request`."
      ]
     },
     "metadata": {},
     "output_type": "display_data"
    }
   ],
   "source": [
    "@sy.syft_function(\n",
    "    input_policy=sy.ExactMatch(weights=weight_domain_obj.id),\n",
    "    output_policy=sy.SingleExecutionExactOutput(),\n",
    ")\n",
    "def fetch_weights(weights):\n",
    "    # Simply return the weights; no computation needed\n",
    "    return weights\n"
   ]
  },
  {
   "cell_type": "markdown",
   "metadata": {},
   "source": [
    "Access Weights"
   ]
  },
  {
   "cell_type": "code",
   "execution_count": 20,
   "metadata": {
    "scrolled": true,
    "tags": []
   },
   "outputs": [
    {
     "name": "stdout",
     "output_type": "stream",
     "text": [
      "SyftInfo: Creating a node with n_consumers=2 (the default value)\n",
      "Staging Protocol Changes...\n",
      "SQLite Store Path:\n",
      "!open file:///var/folders/78/1q4j7nsx4sg2djyc6d_1xq680000gn/T/75a278c8083247ee9ca5717bcf5c967e.sqlite\n",
      "\n",
      "Creating default worker image with tag='local-dev'\n",
      "Building default worker image with tag=local-dev\n",
      "Setting up worker poolname=default-pool workers=2 image_uid=2c1043a92ca64c7eb05e3eba2a2b4990 in_memory=True\n",
      "Created default worker pool.\n",
      "Data Migrated to latest version !!!\n",
      "Logged into <ephemeral_node_fetch_weights_8694: High side Domain> as <info@openmined.org>\n"
     ]
    },
    {
     "data": {
      "text/html": [
       "<div class=\"alert-warning\" style=\"padding:5px;\"><strong>SyftWarning</strong>: You are using a default password. Please change the password using `[your_client].me.set_password([new_password])`.</div><br />"
      ],
      "text/plain": [
       "SyftWarning: You are using a default password. Please change the password using `[your_client].me.set_password([new_password])`."
      ]
     },
     "metadata": {},
     "output_type": "display_data"
    },
    {
     "name": "stdout",
     "output_type": "stream",
     "text": [
      "INFO:     127.0.0.1:61333 - \"POST /api/v2/api_call HTTP/1.1\" 200 OK\n",
      "INFO:     127.0.0.1:61335 - \"POST /api/v2/api_call HTTP/1.1\" 200 OK\n",
      "Approving request for domain ephemeral_node_fetch_weights_8694\n",
      "SyftInfo: Landing the ephmeral node...\n",
      "SyftInfo: Node Landed!\n"
     ]
    }
   ],
   "source": [
    "weights_pointer = fetch_weights(weights=weight_domain_obj)\n",
    "weights_local = weights_pointer.get()"
   ]
  },
  {
   "cell_type": "markdown",
   "metadata": {},
   "source": [
    "Retrieve and Verify the Output"
   ]
  },
  {
   "cell_type": "markdown",
   "metadata": {},
   "source": [
    "Request and Approve Code Execution"
   ]
  },
  {
   "cell_type": "code",
   "execution_count": 21,
   "metadata": {
    "tags": []
   },
   "outputs": [
    {
     "name": "stdout",
     "output_type": "stream",
     "text": [
      "INFO:     127.0.0.1:61340 - \"POST /api/v2/api_call HTTP/1.1\" 200 OK\n",
      "INFO:     127.0.0.1:61342 - \"GET /api/v2/api?verify_key=aec6ea4dfc049ceacaeeebc493167a88a200ddc367b1fa32da652444b635d21f&communication_protocol=3 HTTP/1.1\" 200 OK\n",
      "INFO:     127.0.0.1:61344 - \"POST /api/v2/api_call HTTP/1.1\" 200 OK\n",
      "INFO:     127.0.0.1:61346 - \"POST /api/v2/api_call HTTP/1.1\" 200 OK\n",
      "INFO:     127.0.0.1:61348 - \"POST /api/v2/api_call HTTP/1.1\" 200 OK\n",
      "INFO:     127.0.0.1:61350 - \"POST /api/v2/api_call HTTP/1.1\" 200 OK\n",
      "INFO:     127.0.0.1:61352 - \"POST /api/v2/api_call HTTP/1.1\" 200 OK\n",
      "INFO:     127.0.0.1:61354 - \"POST /api/v2/api_call HTTP/1.1\" 200 OK\n",
      "INFO:     127.0.0.1:61356 - \"POST /api/v2/api_call HTTP/1.1\" 200 OK\n"
     ]
    },
    {
     "data": {
      "text/html": [
       "\n",
       "            <style>\n",
       "            .syft-request {color: #464158;}\n",
       "            </style>\n",
       "            <div class='syft-request'>\n",
       "                <h3>Request</h3>\n",
       "                <p><strong>Id: </strong>32817041a22f4ac4bda09b95052d9f82</p>\n",
       "                <p><strong>Request time: </strong>2024-04-16 14:54:49</p>\n",
       "                \n",
       "                \n",
       "                <p><strong>Status: </strong>RequestStatus.PENDING</p>\n",
       "                <p><strong>Requested on: </strong> Test-domain-1 of type <strong>                     Domain</strong></p>\n",
       "                <p><strong>Requested by:</strong> Jane Doe (info@openmined.org) </p>\n",
       "                <p><strong>Changes: </strong> Request to change <b>fetch_weights</b> (Pool Id: <b>default-pool</b>) to permission <b>RequestStatus.APPROVED</b>. Nested Requests not resolved. </p>\n",
       "            </div>\n",
       "\n",
       "            "
      ],
      "text/markdown": [
       "```python\n",
       "class Request:\n",
       "  id: str = 32817041a22f4ac4bda09b95052d9f82\n",
       "  request_time: str = 2024-04-16 14:54:49\n",
       "  updated_at: str = None\n",
       "  status: str = RequestStatus.PENDING\n",
       "  changes: str = ['Request to change <b>fetch_weights</b> (Pool Id: <b>default-pool</b>) to permission <b>RequestStatus.APPROVED</b>. Nested Requests not resolved']\n",
       "  requesting_user_verify_key: str = aec6ea4dfc049ceacaeeebc493167a88a200ddc367b1fa32da652444b635d21f\n",
       "\n",
       "```"
      ],
      "text/plain": [
       "syft.service.request.request.Request"
      ]
     },
     "execution_count": 21,
     "metadata": {},
     "output_type": "execute_result"
    }
   ],
   "source": [
    "request = domain_client.code.request_code_execution(fetch_weights)\n",
    "request"
   ]
  },
  {
   "cell_type": "code",
   "execution_count": 22,
   "metadata": {
    "tags": []
   },
   "outputs": [
    {
     "name": "stdout",
     "output_type": "stream",
     "text": [
      "INFO:     127.0.0.1:61342 - \"GET /api/v2/metadata HTTP/1.1\" 200 OK\n",
      "INFO:     127.0.0.1:61358 - \"POST /api/v2/api_call HTTP/1.1\" 200 OK\n",
      "INFO:     127.0.0.1:61360 - \"POST /api/v2/api_call HTTP/1.1\" 200 OK\n",
      "INFO:     127.0.0.1:61362 - \"POST /api/v2/api_call HTTP/1.1\" 200 OK\n",
      "INFO:     127.0.0.1:61364 - \"POST /api/v2/api_call HTTP/1.1\" 200 OK\n",
      "INFO:     127.0.0.1:61366 - \"POST /api/v2/api_call HTTP/1.1\" 200 OK\n",
      "INFO:     127.0.0.1:61368 - \"POST /api/v2/api_call HTTP/1.1\" 200 OK\n",
      "INFO:     127.0.0.1:61370 - \"POST /api/v2/api_call HTTP/1.1\" 200 OK\n",
      "Approving request for domain test-domain-1\n",
      "INFO:     127.0.0.1:61372 - \"POST /api/v2/api_call HTTP/1.1\" 200 OK\n"
     ]
    },
    {
     "data": {
      "text/html": [
       "<div class=\"alert-success\" style=\"padding:5px;\"><strong>SyftSuccess</strong>: Request 32817041a22f4ac4bda09b95052d9f82 changes applied</div><br />"
      ],
      "text/plain": [
       "SyftSuccess: Request 32817041a22f4ac4bda09b95052d9f82 changes applied"
      ]
     },
     "execution_count": 22,
     "metadata": {},
     "output_type": "execute_result"
    }
   ],
   "source": [
    "request.approve()"
   ]
  },
  {
   "cell_type": "code",
   "execution_count": 23,
   "metadata": {
    "scrolled": true,
    "tags": []
   },
   "outputs": [
    {
     "name": "stdout",
     "output_type": "stream",
     "text": [
      "INFO:     127.0.0.1:61342 - \"GET /api/v2/api?verify_key=aec6ea4dfc049ceacaeeebc493167a88a200ddc367b1fa32da652444b635d21f&communication_protocol=3 HTTP/1.1\" 200 OK\n"
     ]
    }
   ],
   "source": [
    "domain_client._api = None\n",
    "_ = domain_client.api"
   ]
  },
  {
   "cell_type": "markdown",
   "metadata": {},
   "source": [
    "Fetching the pointer and the actual weights"
   ]
  },
  {
   "cell_type": "code",
   "execution_count": 24,
   "metadata": {
    "tags": []
   },
   "outputs": [
    {
     "name": "stdout",
     "output_type": "stream",
     "text": [
      "SyftInfo: Creating a node with n_consumers=2 (the default value)\n",
      "Staging Protocol Changes...\n",
      "SQLite Store Path:\n",
      "!open file:///var/folders/78/1q4j7nsx4sg2djyc6d_1xq680000gn/T/08096a3a19624c9698b9f12416e3c869.sqlite\n",
      "\n",
      "Creating default worker image with tag='local-dev'\n",
      "Building default worker image with tag=local-dev\n",
      "Setting up worker poolname=default-pool workers=2 image_uid=3e74626bbf1d4a9aa9f3cdb8ba3783a2 in_memory=True\n",
      "Created default worker pool.\n",
      "Data Migrated to latest version !!!\n",
      "Logged into <ephemeral_node_fetch_weights_4178: High side Domain> as <info@openmined.org>\n"
     ]
    },
    {
     "data": {
      "text/html": [
       "<div class=\"alert-warning\" style=\"padding:5px;\"><strong>SyftWarning</strong>: You are using a default password. Please change the password using `[your_client].me.set_password([new_password])`.</div><br />"
      ],
      "text/plain": [
       "SyftWarning: You are using a default password. Please change the password using `[your_client].me.set_password([new_password])`."
      ]
     },
     "metadata": {},
     "output_type": "display_data"
    },
    {
     "name": "stdout",
     "output_type": "stream",
     "text": [
      "INFO:     127.0.0.1:61379 - \"POST /api/v2/api_call HTTP/1.1\" 200 OK\n",
      "INFO:     127.0.0.1:61381 - \"POST /api/v2/api_call HTTP/1.1\" 200 OK\n",
      "Approving request for domain ephemeral_node_fetch_weights_4178\n",
      "SyftInfo: Landing the ephmeral node...\n",
      "SyftInfo: Node Landed!\n"
     ]
    }
   ],
   "source": [
    "# Fetch the weights pointer from the domain\n",
    "weights_ptr = fetch_weights(weights=weight_domain_obj)\n",
    "\n",
    "# Retrieve the actual weights from the pointer\n",
    "weights_local = weights_ptr.get()\n"
   ]
  },
  {
   "cell_type": "markdown",
   "metadata": {},
   "source": [
    "Retrieving the Computation Result"
   ]
  },
  {
   "cell_type": "markdown",
   "metadata": {},
   "source": [
    "Cleanup and Land the Node"
   ]
  },
  {
   "cell_type": "code",
   "execution_count": 25,
   "metadata": {
    "tags": []
   },
   "outputs": [],
   "source": [
    "if node.node_type.value == \"python\":\n",
    "    node.land()"
   ]
  },
  {
   "cell_type": "markdown",
   "metadata": {
    "editable": true,
    "slideshow": {
     "slide_type": ""
    },
    "tags": []
   },
   "source": [
    "## Data Owner 2"
   ]
  },
  {
   "cell_type": "code",
   "execution_count": 26,
   "metadata": {},
   "outputs": [],
   "source": [
    "tf.keras.backend.clear_session() #clears keras session to have the same mapping for DO1 and DO2 dictionaries\n",
    "\n",
    "TRAIN_SPLIT = 0.8\n",
    "VALIDATION_SPLIT = 0.2\n",
    "\n",
    "# Dataset size\n",
    "dataset_size = len(df2)\n",
    "train_size = int(dataset_size * TRAIN_SPLIT)\n",
    "test_size = dataset_size - train_size\n",
    "validation_size = int(test_size * VALIDATION_SPLIT)\n",
    "\n",
    "# Creating the dataset\n",
    "ds = tf.data.Dataset.zip((\n",
    "    tf.data.Dataset.from_tensor_slices((\n",
    "        tf.cast(df2[dense_cols].values, tf.float32),\n",
    "        tf.cast(df2[cat_cols].values, tf.int32),\n",
    "    )),\n",
    "    tf.data.Dataset.from_tensor_slices(tf.cast(to_categorical(df2['label'].values, num_classes=2), tf.float32))\n",
    ")).shuffle(buffer_size=2048)\n",
    "\n",
    "# Splitting the dataset\n",
    "ds_train = ds.take(train_size)\n",
    "ds_test = ds.skip(train_size)\n",
    "ds_valid = ds_test.take(validation_size)\n",
    "ds_test = ds_test.skip(validation_size)"
   ]
  },
  {
   "cell_type": "code",
   "execution_count": 27,
   "metadata": {},
   "outputs": [],
   "source": [
    "def MLP(arch, activation='relu', out_activation='sigmoid'):  # Ensure this matches your task\n",
    "  mlp = tf.keras.Sequential()\n",
    "  for units in arch[:-1]:\n",
    "    mlp.add(tf.keras.layers.Dense(units, activation=activation))\n",
    "  mlp.add(tf.keras.layers.Dense(arch[-1], activation=out_activation))\n",
    "  return mlp\n",
    "\n",
    "class BaseLayerModel(tf.keras.Model):\n",
    "  def __init__(self, embedding_sizes, embedding_dim, arch_bot):\n",
    "    super(BaseLayerModel, self).__init__()\n",
    "    self.emb = [Embedding(size, embedding_dim, trainable=True) for size in embedding_sizes]\n",
    "    self.bot_nn = MLP(arch_bot, out_activation='sigmoid')\n",
    "\n",
    "  def call(self, inputs):\n",
    "    input_dense, input_cat = inputs\n",
    "    emb_x = [E(tf.expand_dims(x, axis=-1)) for E, x in zip(self.emb, tf.unstack(input_cat, axis=1))]\n",
    "    dense_x = self.bot_nn(input_dense)\n",
    "    return dense_x  # Correct for binary classification\n",
    "\n",
    "# Instantiate and compile the base layer model\n",
    "base_layer_model = BaseLayerModel(\n",
    "  embedding_sizes=emb_counts,\n",
    "  embedding_dim=2,\n",
    "  arch_bot=[8, 2]\n",
    ")\n",
    "\n",
    "base_layer_model.compile(\n",
    "  optimizer=tf.keras.optimizers.legacy.Adam(learning_rate=0.0001),\n",
    "  loss=tf.keras.losses.BinaryCrossentropy(from_logits=False),\n",
    "  metrics=['accuracy', AUC(name='auc')]\n",
    ")"
   ]
  },
  {
   "cell_type": "code",
   "execution_count": 28,
   "metadata": {},
   "outputs": [
    {
     "name": "stdout",
     "output_type": "stream",
     "text": [
      "WARNING:tensorflow:Gradients do not exist for variables ['base_layer_model/embedding/embeddings:0', 'base_layer_model/embedding_1/embeddings:0', 'base_layer_model/embedding_2/embeddings:0', 'base_layer_model/embedding_3/embeddings:0', 'base_layer_model/embedding_4/embeddings:0', 'base_layer_model/embedding_5/embeddings:0', 'base_layer_model/embedding_6/embeddings:0', 'base_layer_model/embedding_7/embeddings:0', 'base_layer_model/embedding_8/embeddings:0', 'base_layer_model/embedding_9/embeddings:0', 'base_layer_model/embedding_10/embeddings:0', 'base_layer_model/embedding_11/embeddings:0', 'base_layer_model/embedding_12/embeddings:0', 'base_layer_model/embedding_13/embeddings:0', 'base_layer_model/embedding_14/embeddings:0', 'base_layer_model/embedding_15/embeddings:0', 'base_layer_model/embedding_16/embeddings:0', 'base_layer_model/embedding_17/embeddings:0', 'base_layer_model/embedding_18/embeddings:0', 'base_layer_model/embedding_19/embeddings:0', 'base_layer_model/embedding_20/embeddings:0', 'base_layer_model/embedding_21/embeddings:0', 'base_layer_model/embedding_22/embeddings:0', 'base_layer_model/embedding_23/embeddings:0', 'base_layer_model/embedding_24/embeddings:0', 'base_layer_model/embedding_25/embeddings:0'] when minimizing the loss. If you're using `model.compile()`, did you forget to provide a `loss` argument?\n"
     ]
    },
    {
     "name": "stderr",
     "output_type": "stream",
     "text": [
      "WARNING:tensorflow:Gradients do not exist for variables ['base_layer_model/embedding/embeddings:0', 'base_layer_model/embedding_1/embeddings:0', 'base_layer_model/embedding_2/embeddings:0', 'base_layer_model/embedding_3/embeddings:0', 'base_layer_model/embedding_4/embeddings:0', 'base_layer_model/embedding_5/embeddings:0', 'base_layer_model/embedding_6/embeddings:0', 'base_layer_model/embedding_7/embeddings:0', 'base_layer_model/embedding_8/embeddings:0', 'base_layer_model/embedding_9/embeddings:0', 'base_layer_model/embedding_10/embeddings:0', 'base_layer_model/embedding_11/embeddings:0', 'base_layer_model/embedding_12/embeddings:0', 'base_layer_model/embedding_13/embeddings:0', 'base_layer_model/embedding_14/embeddings:0', 'base_layer_model/embedding_15/embeddings:0', 'base_layer_model/embedding_16/embeddings:0', 'base_layer_model/embedding_17/embeddings:0', 'base_layer_model/embedding_18/embeddings:0', 'base_layer_model/embedding_19/embeddings:0', 'base_layer_model/embedding_20/embeddings:0', 'base_layer_model/embedding_21/embeddings:0', 'base_layer_model/embedding_22/embeddings:0', 'base_layer_model/embedding_23/embeddings:0', 'base_layer_model/embedding_24/embeddings:0', 'base_layer_model/embedding_25/embeddings:0'] when minimizing the loss. If you're using `model.compile()`, did you forget to provide a `loss` argument?\n"
     ]
    },
    {
     "name": "stdout",
     "output_type": "stream",
     "text": [
      "WARNING:tensorflow:Gradients do not exist for variables ['base_layer_model/embedding/embeddings:0', 'base_layer_model/embedding_1/embeddings:0', 'base_layer_model/embedding_2/embeddings:0', 'base_layer_model/embedding_3/embeddings:0', 'base_layer_model/embedding_4/embeddings:0', 'base_layer_model/embedding_5/embeddings:0', 'base_layer_model/embedding_6/embeddings:0', 'base_layer_model/embedding_7/embeddings:0', 'base_layer_model/embedding_8/embeddings:0', 'base_layer_model/embedding_9/embeddings:0', 'base_layer_model/embedding_10/embeddings:0', 'base_layer_model/embedding_11/embeddings:0', 'base_layer_model/embedding_12/embeddings:0', 'base_layer_model/embedding_13/embeddings:0', 'base_layer_model/embedding_14/embeddings:0', 'base_layer_model/embedding_15/embeddings:0', 'base_layer_model/embedding_16/embeddings:0', 'base_layer_model/embedding_17/embeddings:0', 'base_layer_model/embedding_18/embeddings:0', 'base_layer_model/embedding_19/embeddings:0', 'base_layer_model/embedding_20/embeddings:0', 'base_layer_model/embedding_21/embeddings:0', 'base_layer_model/embedding_22/embeddings:0', 'base_layer_model/embedding_23/embeddings:0', 'base_layer_model/embedding_24/embeddings:0', 'base_layer_model/embedding_25/embeddings:0'] when minimizing the loss. If you're using `model.compile()`, did you forget to provide a `loss` argument?\n"
     ]
    },
    {
     "name": "stderr",
     "output_type": "stream",
     "text": [
      "WARNING:tensorflow:Gradients do not exist for variables ['base_layer_model/embedding/embeddings:0', 'base_layer_model/embedding_1/embeddings:0', 'base_layer_model/embedding_2/embeddings:0', 'base_layer_model/embedding_3/embeddings:0', 'base_layer_model/embedding_4/embeddings:0', 'base_layer_model/embedding_5/embeddings:0', 'base_layer_model/embedding_6/embeddings:0', 'base_layer_model/embedding_7/embeddings:0', 'base_layer_model/embedding_8/embeddings:0', 'base_layer_model/embedding_9/embeddings:0', 'base_layer_model/embedding_10/embeddings:0', 'base_layer_model/embedding_11/embeddings:0', 'base_layer_model/embedding_12/embeddings:0', 'base_layer_model/embedding_13/embeddings:0', 'base_layer_model/embedding_14/embeddings:0', 'base_layer_model/embedding_15/embeddings:0', 'base_layer_model/embedding_16/embeddings:0', 'base_layer_model/embedding_17/embeddings:0', 'base_layer_model/embedding_18/embeddings:0', 'base_layer_model/embedding_19/embeddings:0', 'base_layer_model/embedding_20/embeddings:0', 'base_layer_model/embedding_21/embeddings:0', 'base_layer_model/embedding_22/embeddings:0', 'base_layer_model/embedding_23/embeddings:0', 'base_layer_model/embedding_24/embeddings:0', 'base_layer_model/embedding_25/embeddings:0'] when minimizing the loss. If you're using `model.compile()`, did you forget to provide a `loss` argument?\n"
     ]
    },
    {
     "name": "stdout",
     "output_type": "stream",
     "text": [
      "4265/4265 [==============================] - 4s 840us/step - loss: 0.5912 - accuracy: 0.7282 - auc: 0.7636 - val_loss: 0.5330 - val_accuracy: 0.7528 - val_auc: 0.8105\n"
     ]
    }
   ],
   "source": [
    "BATCH_SIZE = 128\n",
    "\n",
    "history = base_layer_model.fit(\n",
    "  ds_train.batch(BATCH_SIZE),\n",
    "  validation_data=ds_valid.batch(BATCH_SIZE),\n",
    "  callbacks=[tf.keras.callbacks.EarlyStopping(patience=6, restore_best_weights=True)],\n",
    "  epochs=1,\n",
    "  verbose=1,\n",
    ")"
   ]
  },
  {
   "cell_type": "code",
   "execution_count": 29,
   "metadata": {},
   "outputs": [
    {
     "name": "stdout",
     "output_type": "stream",
     "text": [
      "Model: \"base_layer_model\"\n",
      "_________________________________________________________________\n",
      " Layer (type)                Output Shape              Param #   \n",
      "=================================================================\n",
      " embedding (Embedding)       multiple                  2632      \n",
      "                                                                 \n",
      " embedding_1 (Embedding)     multiple                  1066      \n",
      "                                                                 \n",
      " embedding_2 (Embedding)     multiple                  849010    \n",
      "                                                                 \n",
      " embedding_3 (Embedding)     multiple                  303040    \n",
      "                                                                 \n",
      " embedding_4 (Embedding)     multiple                  558       \n",
      "                                                                 \n",
      " embedding_5 (Embedding)     multiple                  32        \n",
      "                                                                 \n",
      " embedding_6 (Embedding)     multiple                  22222     \n",
      "                                                                 \n",
      " embedding_7 (Embedding)     multiple                  1172      \n",
      "                                                                 \n",
      " embedding_8 (Embedding)     multiple                  8         \n",
      "                                                                 \n",
      " embedding_9 (Embedding)     multiple                  69112     \n",
      "                                                                 \n",
      " embedding_10 (Embedding)    multiple                  9644      \n",
      "                                                                 \n",
      " embedding_11 (Embedding)    multiple                  706314    \n",
      "                                                                 \n",
      " embedding_12 (Embedding)    multiple                  6158      \n",
      "                                                                 \n",
      " embedding_13 (Embedding)    multiple                  54        \n",
      "                                                                 \n",
      " embedding_14 (Embedding)    multiple                  18946     \n",
      "                                                                 \n",
      " embedding_15 (Embedding)    multiple                  534720    \n",
      "                                                                 \n",
      " embedding_16 (Embedding)    multiple                  22        \n",
      "                                                                 \n",
      " embedding_17 (Embedding)    multiple                  8120      \n",
      "                                                                 \n",
      " embedding_18 (Embedding)    multiple                  3808      \n",
      "                                                                 \n",
      " embedding_19 (Embedding)    multiple                  8         \n",
      "                                                                 \n",
      " embedding_20 (Embedding)    multiple                  630514    \n",
      "                                                                 \n",
      " embedding_21 (Embedding)    multiple                  34        \n",
      "                                                                 \n",
      " embedding_22 (Embedding)    multiple                  32        \n",
      "                                                                 \n",
      " embedding_23 (Embedding)    multiple                  97496     \n",
      "                                                                 \n",
      " embedding_24 (Embedding)    multiple                  154       \n",
      "                                                                 \n",
      " embedding_25 (Embedding)    multiple                  71950     \n",
      "                                                                 \n",
      " sequential (Sequential)     (None, 2)                 130       \n",
      "                                                                 \n",
      "=================================================================\n",
      "Total params: 3336956 (12.73 MB)\n",
      "Trainable params: 3336956 (12.73 MB)\n",
      "Non-trainable params: 0 (0.00 Byte)\n",
      "_________________________________________________________________\n"
     ]
    }
   ],
   "source": [
    "base_layer_model.summary()"
   ]
  },
  {
   "cell_type": "code",
   "execution_count": 30,
   "metadata": {},
   "outputs": [
    {
     "name": "stdout",
     "output_type": "stream",
     "text": [
      "853/853 [==============================] - 2s 446us/step - loss: 0.5344 - accuracy: 0.7520 - auc: 0.8091\n",
      "Loss: 0.5343743562698364, Accuracy: 0.7520036101341248, AUC: 0.8091052770614624\n"
     ]
    }
   ],
   "source": [
    "results = base_layer_model.evaluate(ds_test.batch(BATCH_SIZE))\n",
    "print(f'Loss: {results[0]}, Accuracy: {results[1]}, AUC: {results[2]}')"
   ]
  },
  {
   "cell_type": "code",
   "execution_count": 31,
   "metadata": {
    "scrolled": true
   },
   "outputs": [
    {
     "data": {
      "text/html": [
       "<div>\n",
       "<style scoped>\n",
       "    .dataframe tbody tr th:only-of-type {\n",
       "        vertical-align: middle;\n",
       "    }\n",
       "\n",
       "    .dataframe tbody tr th {\n",
       "        vertical-align: top;\n",
       "    }\n",
       "\n",
       "    .dataframe thead th {\n",
       "        text-align: right;\n",
       "    }\n",
       "</style>\n",
       "<table border=\"1\" class=\"dataframe\">\n",
       "  <thead>\n",
       "    <tr style=\"text-align: right;\">\n",
       "      <th></th>\n",
       "      <th>loss</th>\n",
       "      <th>accuracy</th>\n",
       "      <th>auc</th>\n",
       "      <th>val_loss</th>\n",
       "      <th>val_accuracy</th>\n",
       "      <th>val_auc</th>\n",
       "    </tr>\n",
       "  </thead>\n",
       "  <tbody>\n",
       "    <tr>\n",
       "      <th>0</th>\n",
       "      <td>0.59116</td>\n",
       "      <td>0.728184</td>\n",
       "      <td>0.763585</td>\n",
       "      <td>0.532988</td>\n",
       "      <td>0.752803</td>\n",
       "      <td>0.810546</td>\n",
       "    </tr>\n",
       "  </tbody>\n",
       "</table>\n",
       "</div>"
      ],
      "text/plain": [
       "      loss  accuracy       auc  val_loss  val_accuracy   val_auc\n",
       "0  0.59116  0.728184  0.763585  0.532988      0.752803  0.810546"
      ]
     },
     "metadata": {},
     "output_type": "display_data"
    },
    {
     "data": {
      "image/png": "[encoded data removed]",
      "text/plain": [
       "<Figure size 1000x800 with 1 Axes>"
      ]
     },
     "metadata": {},
     "output_type": "display_data"
    },
    {
     "name": "stdout",
     "output_type": "stream",
     "text": [
      "Validation AUC: 0.8123\n"
     ]
    }
   ],
   "source": [
    "loss = pd.DataFrame.from_dict(history.history)\n",
    "display(loss.head())\n",
    "\n",
    "plt.figure(figsize=(10,8))\n",
    "plt.plot(loss['loss'], label='Train Loss')\n",
    "plt.plot(loss['val_loss'], label='Validation Loss')\n",
    "\n",
    "# Plot AUC \n",
    "plt.plot(loss['auc'], label='Train AUC')\n",
    "plt.plot(loss['val_auc'], label='Validation AUC')\n",
    "\n",
    "plt.legend()\n",
    "plt.show()\n",
    "\n",
    "# Evaluate the model on the validation dataset\n",
    "val_metrics = base_layer_model.evaluate(ds_valid.batch(BATCH_SIZE), verbose=0)\n",
    "\n",
    "val_auc_index = base_layer_model.metrics_names.index('auc')\n",
    "auc_score_baseline2 = val_metrics[val_auc_index]\n",
    "\n",
    "print(f\"Validation AUC: {auc_score_baseline2:.4f}\")"
   ]
  },
  {
   "cell_type": "code",
   "execution_count": 32,
   "metadata": {},
   "outputs": [],
   "source": [
    "import numpy as np\n",
    "\n",
    "def add_noise_to_weights(weights, noise_std=0.01):\n",
    "    \"\"\"Adds Gaussian noise to a dictionary of weights.\"\"\"\n",
    "    noisy_weights = {}\n",
    "    for key, weight in weights.items():\n",
    "        # Generating Gaussian noise with the same shape as the weight\n",
    "        noise = np.random.normal(loc=0.0, scale=noise_std, size=weight.shape)\n",
    "        # Adding the noise to the weight\n",
    "        noisy_weight = weight + noise\n",
    "        noisy_weights[key] = noisy_weight\n",
    "    return noisy_weights\n",
    "\n",
    "# Extract the model's weights into a dictionary\n",
    "model_weights_dict_2 = {v.name: v.numpy() for v in base_layer_model.trainable_variables}\n",
    "\n",
    "# Add noise to the model's weights\n",
    "noisy_model_weights_dict_2 = add_noise_to_weights(model_weights_dict_2, noise_std=0.01)\n",
    "\n",
    "# Now, noisy_model_weights_dict contains the weights with added Gaussian noise"
   ]
  },
  {
   "cell_type": "code",
   "execution_count": 33,
   "metadata": {
    "editable": true,
    "scrolled": true,
    "slideshow": {
     "slide_type": ""
    },
    "tags": []
   },
   "outputs": [
    {
     "name": "stdout",
     "output_type": "stream",
     "text": [
      "Staging Protocol Changes...\n",
      "Starting test-domain-2 server on 0.0.0.0:43665\n"
     ]
    },
    {
     "name": "stderr",
     "output_type": "stream",
     "text": [
      "kj/filesystem-disk-unix.c++:1703: warning: PWD environment variable doesn't match current directory; pwd = /Users/alex\n"
     ]
    },
    {
     "name": "stdout",
     "output_type": "stream",
     "text": [
      "Waiting for server to start...."
     ]
    },
    {
     "name": "stderr",
     "output_type": "stream",
     "text": [
      "INFO:     Started server process [13749]\n",
      "INFO:     Waiting for application startup.\n",
      "INFO:     Application startup complete.\n",
      "INFO:     Uvicorn running on http://0.0.0.0:43665 (Press CTRL+C to quit)\n"
     ]
    },
    {
     "name": "stdout",
     "output_type": "stream",
     "text": [
      ".\n",
      "WARNING: private key is based on node name: test-domain-2 in dev_mode. Don't run this in production.\n",
      "SQLite Store Path:\n",
      "!open file:///var/folders/78/1q4j7nsx4sg2djyc6d_1xq680000gn/T/b626124c319343c882a448dac2d6953d.sqlite\n",
      "\n",
      "Creating default worker image with tag='local-dev'\n",
      "Building default worker image with tag=local-dev\n",
      "Setting up worker poolname=default-pool workers=0 image_uid=ee6064004e664834932dbd26cf6a380b in_memory=True\n",
      "Created default worker pool.\n",
      "Data Migrated to latest version !!!\n",
      "INFO:     127.0.0.1:61401 - \"GET /api/v2/metadata HTTP/1.1\" 200 OK\n",
      " Done.\n"
     ]
    }
   ],
   "source": [
    "node_2 = sy.orchestra.launch(name=\"test-domain-2\", port=\"auto\", dev_mode=True, reset=True)"
   ]
  },
  {
   "cell_type": "markdown",
   "metadata": {},
   "source": [
    "Login to the Domain"
   ]
  },
  {
   "cell_type": "code",
   "execution_count": 34,
   "metadata": {
    "editable": true,
    "scrolled": true,
    "slideshow": {
     "slide_type": ""
    },
    "tags": []
   },
   "outputs": [
    {
     "name": "stdout",
     "output_type": "stream",
     "text": [
      "INFO:     127.0.0.1:61403 - \"GET /api/v2/metadata HTTP/1.1\" 200 OK\n",
      "INFO:     127.0.0.1:61403 - \"GET /api/v2/metadata HTTP/1.1\" 200 OK\n",
      "Logged into <test-domain-2: High-side Domain> as GUEST\n",
      "INFO:     127.0.0.1:61403 - \"POST /api/v2/login HTTP/1.1\" 200 OK\n",
      "INFO:     127.0.0.1:61403 - \"GET /api/v2/api?verify_key=0dfade1de62080fb5e584e38a1b82ca623859caaefd6f13ae821a4e5172df446&communication_protocol=3 HTTP/1.1\" 200 OK\n",
      "INFO:     127.0.0.1:61405 - \"POST /api/v2/api_call HTTP/1.1\" 200 OK\n",
      "Logged into <test-domain-2: High side Domain> as <info@openmined.org>\n"
     ]
    },
    {
     "data": {
      "text/html": [
       "<div class=\"alert-warning\" style=\"padding:5px;\"><strong>SyftWarning</strong>: You are using a default password. Please change the password using `[your_client].me.set_password([new_password])`.</div><br />"
      ],
      "text/plain": [
       "SyftWarning: You are using a default password. Please change the password using `[your_client].me.set_password([new_password])`."
      ]
     },
     "metadata": {},
     "output_type": "display_data"
    }
   ],
   "source": [
    "domain_client_2 = node_2.login(email=\"info@openmined.org\", password=\"changethis\")"
   ]
  },
  {
   "cell_type": "markdown",
   "metadata": {},
   "source": [
    "Initialize Model Weights"
   ]
  },
  {
   "cell_type": "code",
   "execution_count": 35,
   "metadata": {
    "editable": true,
    "slideshow": {
     "slide_type": ""
    },
    "tags": []
   },
   "outputs": [
    {
     "name": "stdout",
     "output_type": "stream",
     "text": [
      "<class 'dict'> 77fecd5412634b6c99a739d58ccb4955\n"
     ]
    }
   ],
   "source": [
    "# Convert the trained model parameters to a Syft ActionObject\n",
    "model_weights_obj = sy.ActionObject.from_obj(noisy_model_weights_dict_2)\n",
    "\n",
    "# Check the object type and attributes\n",
    "print(type(model_weights_obj.syft_action_data), model_weights_obj.id)\n"
   ]
  },
  {
   "cell_type": "code",
   "execution_count": 36,
   "metadata": {
    "editable": true,
    "slideshow": {
     "slide_type": ""
    },
    "tags": []
   },
   "outputs": [
    {
     "name": "stdout",
     "output_type": "stream",
     "text": [
      "INFO:     127.0.0.1:61407 - \"POST /api/v2/api_call HTTP/1.1\" 200 OK\n",
      "77fecd5412634b6c99a739d58ccb4955\n"
     ]
    }
   ],
   "source": [
    "# Set the model weights ActionObject in the domain\n",
    "weight_domain_obj = domain_client_2.api.services.action.set(model_weights_obj)\n",
    "\n",
    "# Check the domain object attributes\n",
    "print(weight_domain_obj.id)\n"
   ]
  },
  {
   "cell_type": "markdown",
   "metadata": {},
   "source": [
    "Convert Model Weights to Syft ActionObject:"
   ]
  },
  {
   "cell_type": "markdown",
   "metadata": {},
   "source": [
    "Define a Weights Access function"
   ]
  },
  {
   "cell_type": "code",
   "execution_count": 37,
   "metadata": {
    "editable": true,
    "scrolled": true,
    "slideshow": {
     "slide_type": ""
    },
    "tags": []
   },
   "outputs": [
    {
     "name": "stdout",
     "output_type": "stream",
     "text": [
      "INFO:     127.0.0.1:61411 - \"POST /api/v2/api_call HTTP/1.1\" 200 OK\n",
      "INFO:     127.0.0.1:61413 - \"POST /api/v2/api_call HTTP/1.1\" 200 OK\n",
      "INFO:     127.0.0.1:61403 - \"GET /api/v2/metadata HTTP/1.1\" 200 OK\n"
     ]
    },
    {
     "data": {
      "text/html": [
       "<div class=\"alert-success\" style=\"padding:5px;\"><strong>SyftSuccess</strong>: Syft function 'fetch_weights' successfully created. To add a code request, please create a project using `project = syft.Project(...)`, then use command `project.create_code_request`.</div><br />"
      ],
      "text/plain": [
       "SyftSuccess: Syft function 'fetch_weights' successfully created. To add a code request, please create a project using `project = syft.Project(...)`, then use command `project.create_code_request`."
      ]
     },
     "metadata": {},
     "output_type": "display_data"
    }
   ],
   "source": [
    "@sy.syft_function(\n",
    "    input_policy=sy.ExactMatch(weights=weight_domain_obj.id),\n",
    "    output_policy=sy.SingleExecutionExactOutput(),\n",
    ")\n",
    "def fetch_weights(weights):\n",
    "    # Simply return the weights; no computation needed\n",
    "    return weights\n"
   ]
  },
  {
   "cell_type": "markdown",
   "metadata": {},
   "source": [
    "Access Weights"
   ]
  },
  {
   "cell_type": "code",
   "execution_count": 38,
   "metadata": {
    "editable": true,
    "scrolled": true,
    "slideshow": {
     "slide_type": ""
    },
    "tags": []
   },
   "outputs": [
    {
     "name": "stdout",
     "output_type": "stream",
     "text": [
      "SyftInfo: Creating a node with n_consumers=2 (the default value)\n",
      "Staging Protocol Changes...\n",
      "SQLite Store Path:\n",
      "!open file:///var/folders/78/1q4j7nsx4sg2djyc6d_1xq680000gn/T/52fbeff3e2e04371a1fa6fc1ec2a5f42.sqlite\n",
      "\n",
      "Creating default worker image with tag='local-dev'\n",
      "Building default worker image with tag=local-dev\n",
      "Setting up worker poolname=default-pool workers=2 image_uid=ce4e4d22c0c04debb4e763767b6a81f1 in_memory=True\n",
      "Created default worker pool.\n",
      "Data Migrated to latest version !!!\n",
      "Logged into <ephemeral_node_fetch_weights_5835: High side Domain> as <info@openmined.org>\n"
     ]
    },
    {
     "data": {
      "text/html": [
       "<div class=\"alert-warning\" style=\"padding:5px;\"><strong>SyftWarning</strong>: You are using a default password. Please change the password using `[your_client].me.set_password([new_password])`.</div><br />"
      ],
      "text/plain": [
       "SyftWarning: You are using a default password. Please change the password using `[your_client].me.set_password([new_password])`."
      ]
     },
     "metadata": {},
     "output_type": "display_data"
    },
    {
     "name": "stdout",
     "output_type": "stream",
     "text": [
      "INFO:     127.0.0.1:61419 - \"POST /api/v2/api_call HTTP/1.1\" 200 OK\n",
      "INFO:     127.0.0.1:61421 - \"POST /api/v2/api_call HTTP/1.1\" 200 OK\n",
      "Approving request for domain ephemeral_node_fetch_weights_5835\n",
      "SyftInfo: Landing the ephmeral node...\n",
      "SyftInfo: Node Landed!\n"
     ]
    }
   ],
   "source": [
    "weights_pointer = fetch_weights(weights=weight_domain_obj)\n",
    "weights_local_2 = weights_pointer.get()"
   ]
  },
  {
   "cell_type": "markdown",
   "metadata": {},
   "source": [
    "Retrieve and Verify the Output"
   ]
  },
  {
   "cell_type": "markdown",
   "metadata": {},
   "source": [
    "Request and Approve Code Execution"
   ]
  },
  {
   "cell_type": "code",
   "execution_count": 39,
   "metadata": {
    "editable": true,
    "slideshow": {
     "slide_type": ""
    },
    "tags": []
   },
   "outputs": [
    {
     "name": "stdout",
     "output_type": "stream",
     "text": [
      "INFO:     127.0.0.1:61450 - \"POST /api/v2/api_call HTTP/1.1\" 200 OK\n",
      "INFO:     127.0.0.1:61454 - \"GET /api/v2/api?verify_key=0dfade1de62080fb5e584e38a1b82ca623859caaefd6f13ae821a4e5172df446&communication_protocol=3 HTTP/1.1\" 200 OK\n",
      "INFO:     127.0.0.1:61456 - \"POST /api/v2/api_call HTTP/1.1\" 200 OK\n",
      "INFO:     127.0.0.1:61458 - \"POST /api/v2/api_call HTTP/1.1\" 200 OK\n",
      "INFO:     127.0.0.1:61460 - \"POST /api/v2/api_call HTTP/1.1\" 200 OK\n",
      "INFO:     127.0.0.1:61462 - \"POST /api/v2/api_call HTTP/1.1\" 200 OK\n",
      "INFO:     127.0.0.1:61464 - \"POST /api/v2/api_call HTTP/1.1\" 200 OK\n",
      "INFO:     127.0.0.1:61466 - \"POST /api/v2/api_call HTTP/1.1\" 200 OK\n",
      "INFO:     127.0.0.1:61468 - \"POST /api/v2/api_call HTTP/1.1\" 200 OK\n"
     ]
    },
    {
     "data": {
      "text/html": [
       "\n",
       "            <style>\n",
       "            .syft-request {color: #464158;}\n",
       "            </style>\n",
       "            <div class='syft-request'>\n",
       "                <h3>Request</h3>\n",
       "                <p><strong>Id: </strong>63bef771a6be432aa8e42229347a48a8</p>\n",
       "                <p><strong>Request time: </strong>2024-04-16 14:55:40</p>\n",
       "                \n",
       "                \n",
       "                <p><strong>Status: </strong>RequestStatus.PENDING</p>\n",
       "                <p><strong>Requested on: </strong> Test-domain-2 of type <strong>                     Domain</strong></p>\n",
       "                <p><strong>Requested by:</strong> Jane Doe (info@openmined.org) </p>\n",
       "                <p><strong>Changes: </strong> Request to change <b>fetch_weights</b> (Pool Id: <b>default-pool</b>) to permission <b>RequestStatus.APPROVED</b>. Nested Requests not resolved. </p>\n",
       "            </div>\n",
       "\n",
       "            "
      ],
      "text/markdown": [
       "```python\n",
       "class Request:\n",
       "  id: str = 63bef771a6be432aa8e42229347a48a8\n",
       "  request_time: str = 2024-04-16 14:55:40\n",
       "  updated_at: str = None\n",
       "  status: str = RequestStatus.PENDING\n",
       "  changes: str = ['Request to change <b>fetch_weights</b> (Pool Id: <b>default-pool</b>) to permission <b>RequestStatus.APPROVED</b>. Nested Requests not resolved']\n",
       "  requesting_user_verify_key: str = 0dfade1de62080fb5e584e38a1b82ca623859caaefd6f13ae821a4e5172df446\n",
       "\n",
       "```"
      ],
      "text/plain": [
       "syft.service.request.request.Request"
      ]
     },
     "execution_count": 39,
     "metadata": {},
     "output_type": "execute_result"
    }
   ],
   "source": [
    "request = domain_client_2.code.request_code_execution(fetch_weights)\n",
    "request"
   ]
  },
  {
   "cell_type": "code",
   "execution_count": 40,
   "metadata": {
    "tags": []
   },
   "outputs": [
    {
     "name": "stdout",
     "output_type": "stream",
     "text": [
      "INFO:     127.0.0.1:61454 - \"GET /api/v2/metadata HTTP/1.1\" 200 OK\n",
      "INFO:     127.0.0.1:61470 - \"POST /api/v2/api_call HTTP/1.1\" 200 OK\n",
      "INFO:     127.0.0.1:61472 - \"POST /api/v2/api_call HTTP/1.1\" 200 OK\n",
      "INFO:     127.0.0.1:61474 - \"POST /api/v2/api_call HTTP/1.1\" 200 OK\n",
      "INFO:     127.0.0.1:61476 - \"POST /api/v2/api_call HTTP/1.1\" 200 OK\n",
      "INFO:     127.0.0.1:61478 - \"POST /api/v2/api_call HTTP/1.1\" 200 OK\n",
      "INFO:     127.0.0.1:61480 - \"POST /api/v2/api_call HTTP/1.1\" 200 OK\n",
      "INFO:     127.0.0.1:61482 - \"POST /api/v2/api_call HTTP/1.1\" 200 OK\n",
      "Approving request for domain test-domain-2\n",
      "INFO:     127.0.0.1:61484 - \"POST /api/v2/api_call HTTP/1.1\" 200 OK\n"
     ]
    },
    {
     "data": {
      "text/html": [
       "<div class=\"alert-success\" style=\"padding:5px;\"><strong>SyftSuccess</strong>: Request 63bef771a6be432aa8e42229347a48a8 changes applied</div><br />"
      ],
      "text/plain": [
       "SyftSuccess: Request 63bef771a6be432aa8e42229347a48a8 changes applied"
      ]
     },
     "execution_count": 40,
     "metadata": {},
     "output_type": "execute_result"
    }
   ],
   "source": [
    "request.approve()"
   ]
  },
  {
   "cell_type": "code",
   "execution_count": 41,
   "metadata": {
    "editable": true,
    "scrolled": true,
    "slideshow": {
     "slide_type": ""
    },
    "tags": []
   },
   "outputs": [
    {
     "name": "stdout",
     "output_type": "stream",
     "text": [
      "INFO:     127.0.0.1:61454 - \"GET /api/v2/api?verify_key=0dfade1de62080fb5e584e38a1b82ca623859caaefd6f13ae821a4e5172df446&communication_protocol=3 HTTP/1.1\" 200 OK\n"
     ]
    }
   ],
   "source": [
    "domain_client_2._api = None\n",
    "_ = domain_client_2.api"
   ]
  },
  {
   "cell_type": "markdown",
   "metadata": {},
   "source": [
    "Fetching the pointer and the actual weights"
   ]
  },
  {
   "cell_type": "code",
   "execution_count": 42,
   "metadata": {
    "editable": true,
    "slideshow": {
     "slide_type": ""
    },
    "tags": []
   },
   "outputs": [
    {
     "name": "stdout",
     "output_type": "stream",
     "text": [
      "SyftInfo: Creating a node with n_consumers=2 (the default value)\n",
      "Staging Protocol Changes...\n",
      "SQLite Store Path:\n",
      "!open file:///var/folders/78/1q4j7nsx4sg2djyc6d_1xq680000gn/T/aaac9c62bfc74808980b700d140e9bf2.sqlite\n",
      "\n",
      "Creating default worker image with tag='local-dev'\n",
      "Building default worker image with tag=local-dev\n",
      "Setting up worker poolname=default-pool workers=2 image_uid=1064a3e763214bca9c28839dadc3e7d8 in_memory=True\n",
      "Created default worker pool.\n",
      "Data Migrated to latest version !!!\n",
      "Logged into <ephemeral_node_fetch_weights_1558: High side Domain> as <info@openmined.org>\n"
     ]
    },
    {
     "data": {
      "text/html": [
       "<div class=\"alert-warning\" style=\"padding:5px;\"><strong>SyftWarning</strong>: You are using a default password. Please change the password using `[your_client].me.set_password([new_password])`.</div><br />"
      ],
      "text/plain": [
       "SyftWarning: You are using a default password. Please change the password using `[your_client].me.set_password([new_password])`."
      ]
     },
     "metadata": {},
     "output_type": "display_data"
    },
    {
     "name": "stdout",
     "output_type": "stream",
     "text": [
      "INFO:     127.0.0.1:61490 - \"POST /api/v2/api_call HTTP/1.1\" 200 OK\n",
      "INFO:     127.0.0.1:61492 - \"POST /api/v2/api_call HTTP/1.1\" 200 OK\n",
      "Approving request for domain ephemeral_node_fetch_weights_1558\n",
      "SyftInfo: Landing the ephmeral node...\n",
      "SyftInfo: Node Landed!\n"
     ]
    }
   ],
   "source": [
    "# Fetch the weights pointer from the domain\n",
    "weights_ptr = fetch_weights(weights=weight_domain_obj)\n",
    "\n",
    "# Retrieve the actual weights from the pointer\n",
    "weights_local_2 = weights_ptr.get()\n"
   ]
  },
  {
   "cell_type": "markdown",
   "metadata": {},
   "source": [
    "Retrieving the Computation Result"
   ]
  },
  {
   "cell_type": "markdown",
   "metadata": {},
   "source": [
    "Cleanup and Land the Node"
   ]
  },
  {
   "cell_type": "code",
   "execution_count": 43,
   "metadata": {
    "tags": []
   },
   "outputs": [],
   "source": [
    "if node_2.node_type.value == \"python\":\n",
    "    node_2.land()"
   ]
  },
  {
   "cell_type": "markdown",
   "metadata": {
    "editable": true,
    "slideshow": {
     "slide_type": ""
    },
    "tags": []
   },
   "source": [
    "## Data Scientist"
   ]
  },
  {
   "cell_type": "code",
   "execution_count": 44,
   "metadata": {},
   "outputs": [],
   "source": [
    "weights1 = weights_local\n",
    "weights2 = weights_local_2"
   ]
  },
  {
   "cell_type": "code",
   "execution_count": 45,
   "metadata": {},
   "outputs": [],
   "source": [
    "import jax.numpy as jnp\n",
    "\n",
    "def combine_weights(weights1, weights2):\n",
    "    \"\"\"Combines two sets of weights by averaging.\"\"\"\n",
    "    global_weights = {}\n",
    "    \n",
    "    # Ensure the keys in both weight sets are identical\n",
    "    assert set(weights1.keys()) == set(weights2.keys()), \"Weight sets have different structures\"\n",
    "    \n",
    "    # Iterate through each layer's weights\n",
    "    for key in weights1:\n",
    "        layer_weights1 = weights1[key]\n",
    "        layer_weights2 = weights2[key]\n",
    "        \n",
    "        # Ensure each layer's weights have identical shapes\n",
    "        assert layer_weights1.shape == layer_weights2.shape, f\"Layer {key} has different shapes\"\n",
    "        \n",
    "        # Average the weights\n",
    "        global_weights[key] = (layer_weights1 + layer_weights2) / 2\n",
    "    \n",
    "    return global_weights\n"
   ]
  },
  {
   "cell_type": "code",
   "execution_count": 46,
   "metadata": {},
   "outputs": [],
   "source": [
    "global_weights = combine_weights(weights1, weights_local_2)"
   ]
  },
  {
   "cell_type": "markdown",
   "metadata": {},
   "source": [
    "# Data Owner 1 with Global Model Base and Local Top Layer "
   ]
  },
  {
   "cell_type": "code",
   "execution_count": 47,
   "metadata": {},
   "outputs": [],
   "source": [
    "tf.keras.backend.clear_session() #clears keras session to have the same mapping for DO1 and DO2 dictionaries\n",
    "\n",
    "TRAIN_SPLIT = 0.8\n",
    "VALIDATION_SPLIT = 0.2\n",
    "\n",
    "# Dataset size\n",
    "dataset_size = len(df1)\n",
    "train_size = int(dataset_size * TRAIN_SPLIT)\n",
    "test_size = dataset_size - train_size\n",
    "validation_size = int(test_size * VALIDATION_SPLIT)\n",
    "\n",
    "# Creating the dataset\n",
    "ds = tf.data.Dataset.zip((\n",
    "    tf.data.Dataset.from_tensor_slices((\n",
    "        tf.cast(df1[dense_cols].values, tf.float32),\n",
    "        tf.cast(df1[cat_cols].values, tf.int32),\n",
    "    )),\n",
    "    tf.data.Dataset.from_tensor_slices(tf.cast(to_categorical(df1['label'].values, num_classes=2), tf.float32))\n",
    ")).shuffle(buffer_size=2048)\n",
    "\n",
    "# Splitting the dataset\n",
    "ds_train = ds.take(train_size)\n",
    "ds_test = ds.skip(train_size)\n",
    "ds_valid = ds_test.take(validation_size)\n",
    "ds_test = ds_test.skip(validation_size)"
   ]
  },
  {
   "cell_type": "code",
   "execution_count": 48,
   "metadata": {},
   "outputs": [],
   "source": [
    "embedding_sizes = [emb_count for emb_count in emb_counts]\n",
    "\n",
    "# Model architecture parameters\n",
    "embedding_dim = 2\n",
    "arch_bot = [8, 2]  # Architecture for the bottom MLP (processing dense features)\n",
    "arch_top = [128, 64, 2]  # Architecture for the top MLP (combining embeddings and processed dense features)\n",
    "\n",
    "# Global Model Layer\n",
    "def MLP(arch, activation='relu', out_activation=None):\n",
    "    mlp = tf.keras.Sequential()\n",
    "    for units in arch[:-1]:\n",
    "        mlp.add(Dense(units, activation=activation))\n",
    "    mlp.add(Dense(arch[-1], activation=out_activation))\n",
    "    return mlp\n",
    "\n",
    "class SecondOrderFeatureInteraction(tf.keras.layers.Layer):\n",
    "    def __init__(self, self_interacation=False):\n",
    "        super(SecondOrderFeatureInteraction, self).__init__()\n",
    "        self.self_interaction = self_interaction\n",
    "\n",
    "    def call(self, inputs):\n",
    "        batch_size = tf.shape(inputs[0])[0]\n",
    "        concat_features = tf.stack(inputs, axis=1)\n",
    "        dot_products = tf.matmul(concat_features, concat_features, transpose_b=True)\n",
    "        ones = tf.ones_like(dot_products)\n",
    "        mask = tf.linalg.band_part(ones, 0, -1)\n",
    "        out_dim = int(len(inputs) * (len(inputs) + 1) / 2) if self.self_interaction else int(len(inputs) * (len(inputs) - 1) / 2)\n",
    "        flat_interactions = tf.reshape(tf.boolean_mask(dot_products, mask), (batch_size, out_dim))\n",
    "        return flat_interactions\n",
    "\n",
    "class BaseDLRM(Model):\n",
    "    def __init__(self, embedding_sizes, embedding_dim, arch_bot):\n",
    "        super(BaseDLRM, self).__init__()\n",
    "        self.emb = [Embedding(size, embedding_dim) for size in embedding_sizes]\n",
    "        self.bot_nn = MLP(arch_bot, out_activation='relu')\n",
    "\n",
    "    def call(self, inputs):\n",
    "        input_dense, input_cat = inputs\n",
    "        emb_x = [E(x) for E, x in zip(self.emb, tf.unstack(input_cat, axis=1))]\n",
    "        dense_x = self.bot_nn(input_dense)\n",
    "        return dense_x, emb_x\n",
    "\n",
    "    def update_global_weights(self, global_weights):\n",
    "        #Updates the model's weights with the provided global weights.\n",
    "        self.set_weights(global_weights)\n",
    "\n",
    "class PersonalizationModel(Model):\n",
    "    def __init__(self, arch_top):\n",
    "        super(PersonalizationModel, self).__init__()\n",
    "        self.top_nn = MLP(arch_top, out_activation='sigmoid')\n",
    "\n",
    "    def call(self, inputs):\n",
    "        dense_x, emb_x = inputs\n",
    "        z = concatenate([dense_x] + emb_x, axis=1)\n",
    "        p = self.top_nn(z)\n",
    "        return p\n",
    "\n",
    "class FederatedPersonalizedModel(Model):\n",
    "    def __init__(self, base_model, arch_top):\n",
    "        super(FederatedPersonalizedModel, self).__init__()\n",
    "        self.base_model = base_model\n",
    "        self.personalization_model = PersonalizationModel(arch_top)\n",
    "\n",
    "    def call(self, inputs):\n",
    "        base_output = self.base_model(inputs)\n",
    "        final_output = self.personalization_model(base_output)\n",
    "        return final_output\n"
   ]
  },
  {
   "cell_type": "code",
   "execution_count": 49,
   "metadata": {},
   "outputs": [],
   "source": [
    "base_model = BaseDLRM(embedding_sizes, embedding_dim, arch_bot)\n",
    "personalized_model = FederatedPersonalizedModel(base_model, arch_top)\n",
    "\n",
    "\n",
    "\n",
    "# Assuming 'base_model' and 'personalized_model' are correctly defined as before\n",
    "personalized_model.compile(\n",
    "    optimizer='adam',\n",
    "    loss='binary_crossentropy',\n",
    "    metrics=['accuracy', AUC(name='auc')]  # Correctly pass metrics as a list\n",
    ")\n"
   ]
  },
  {
   "cell_type": "code",
   "execution_count": 50,
   "metadata": {},
   "outputs": [
    {
     "name": "stdout",
     "output_type": "stream",
     "text": [
      "4265/4265 [==============================] - 51s 11ms/step - loss: 0.4891 - accuracy: 0.7695 - auc: 0.8445 - val_loss: 0.4782 - val_accuracy: 0.7770 - val_auc: 0.8523\n"
     ]
    }
   ],
   "source": [
    "BATCH_SIZE = 128\n",
    "\n",
    "history = personalized_model.fit(\n",
    "    ds_train.batch(BATCH_SIZE),\n",
    "    validation_data=ds_valid.batch(BATCH_SIZE),\n",
    "    callbacks=[\n",
    "        tf.keras.callbacks.EarlyStopping(patience=6, restore_best_weights=True)\n",
    "    ],\n",
    "    epochs=1,\n",
    "    verbose=1,\n",
    ")\n"
   ]
  },
  {
   "cell_type": "code",
   "execution_count": 51,
   "metadata": {},
   "outputs": [
    {
     "name": "stdout",
     "output_type": "stream",
     "text": [
      "Model: \"federated_personalized_model\"\n",
      "_________________________________________________________________\n",
      " Layer (type)                Output Shape              Param #   \n",
      "=================================================================\n",
      " base_dlrm (BaseDLRM)        multiple                  3336956   \n",
      "                                                                 \n",
      " personalization_model (Per  multiple                  15426     \n",
      " sonalizationModel)                                              \n",
      "                                                                 \n",
      "=================================================================\n",
      "Total params: 3352382 (12.79 MB)\n",
      "Trainable params: 3352382 (12.79 MB)\n",
      "Non-trainable params: 0 (0.00 Byte)\n",
      "_________________________________________________________________\n"
     ]
    }
   ],
   "source": [
    "personalized_model.summary()"
   ]
  },
  {
   "cell_type": "code",
   "execution_count": 52,
   "metadata": {},
   "outputs": [
    {
     "name": "stdout",
     "output_type": "stream",
     "text": [
      "853/853 [==============================] - 2s 715us/step - loss: 0.4807 - accuracy: 0.7730 - auc: 0.8503\n",
      "Loss: 0.4806562662124634, Accuracy: 0.7730149626731873, AUC: 0.850300669670105\n"
     ]
    }
   ],
   "source": [
    "results = personalized_model.evaluate(ds_test.batch(BATCH_SIZE))\n",
    "print(f'Loss: {results[0]}, Accuracy: {results[1]}, AUC: {results[2]}')"
   ]
  },
  {
   "cell_type": "code",
   "execution_count": 53,
   "metadata": {},
   "outputs": [
    {
     "data": {
      "text/html": [
       "<div>\n",
       "<style scoped>\n",
       "    .dataframe tbody tr th:only-of-type {\n",
       "        vertical-align: middle;\n",
       "    }\n",
       "\n",
       "    .dataframe tbody tr th {\n",
       "        vertical-align: top;\n",
       "    }\n",
       "\n",
       "    .dataframe thead th {\n",
       "        text-align: right;\n",
       "    }\n",
       "</style>\n",
       "<table border=\"1\" class=\"dataframe\">\n",
       "  <thead>\n",
       "    <tr style=\"text-align: right;\">\n",
       "      <th></th>\n",
       "      <th>loss</th>\n",
       "      <th>accuracy</th>\n",
       "      <th>auc</th>\n",
       "      <th>val_loss</th>\n",
       "      <th>val_accuracy</th>\n",
       "      <th>val_auc</th>\n",
       "    </tr>\n",
       "  </thead>\n",
       "  <tbody>\n",
       "    <tr>\n",
       "      <th>0</th>\n",
       "      <td>0.48913</td>\n",
       "      <td>0.769492</td>\n",
       "      <td>0.844489</td>\n",
       "      <td>0.478203</td>\n",
       "      <td>0.777021</td>\n",
       "      <td>0.852321</td>\n",
       "    </tr>\n",
       "  </tbody>\n",
       "</table>\n",
       "</div>"
      ],
      "text/plain": [
       "      loss  accuracy       auc  val_loss  val_accuracy   val_auc\n",
       "0  0.48913  0.769492  0.844489  0.478203      0.777021  0.852321"
      ]
     },
     "metadata": {},
     "output_type": "display_data"
    },
    {
     "data": {
      "image/png": "[encoded data removed]",
      "text/plain": [
       "<Figure size 1000x800 with 1 Axes>"
      ]
     },
     "metadata": {},
     "output_type": "display_data"
    }
   ],
   "source": [
    "loss = pd.DataFrame.from_dict(history.history)\n",
    "display(loss.head())\n",
    "\n",
    "plt.figure(figsize=(10,8))\n",
    "plt.plot(loss['loss'], label='Train Loss')\n",
    "plt.plot(loss['val_loss'], label='Validation Loss')\n",
    "\n",
    "# Plot AUC\n",
    "plt.plot(loss['auc'], label='Train AUC')\n",
    "plt.plot(loss['val_auc'], label='Validation AUC')\n",
    "\n",
    "plt.legend()\n",
    "plt.show()\n"
   ]
  },
  {
   "cell_type": "code",
   "execution_count": 54,
   "metadata": {},
   "outputs": [
    {
     "name": "stdout",
     "output_type": "stream",
     "text": [
      "Validation AUC: 0.8513\n"
     ]
    }
   ],
   "source": [
    "# Evaluate the model on the validation dataset\n",
    "val_metrics = personalized_model.evaluate(ds_valid.batch(BATCH_SIZE), verbose=0)\n",
    "val_auc_index = personalized_model.metrics_names.index('auc')\n",
    "val_auc = val_metrics[val_auc_index]\n",
    "\n",
    "print(f\"Validation AUC: {val_auc:.4f}\")"
   ]
  },
  {
   "cell_type": "code",
   "execution_count": 55,
   "metadata": {},
   "outputs": [
    {
     "name": "stdout",
     "output_type": "stream",
     "text": [
      "Relative Improvement (RelaImpr): 123.85%\n"
     ]
    }
   ],
   "source": [
    "rela_impr = ((val_auc - 0.5) / (auc_score_baseline1 - 0.5)) * 100\n",
    "print(f\"Relative Improvement (RelaImpr): {rela_impr:.2f}%\")"
   ]
  },
  {
   "cell_type": "markdown",
   "metadata": {
    "editable": true,
    "slideshow": {
     "slide_type": ""
    },
    "tags": []
   },
   "source": [
    "# Data Owner 2 with Global Model Base and Local Top Layer "
   ]
  },
  {
   "cell_type": "code",
   "execution_count": 56,
   "metadata": {
    "editable": true,
    "slideshow": {
     "slide_type": ""
    },
    "tags": []
   },
   "outputs": [],
   "source": [
    "tf.keras.backend.clear_session() #clears keras session to have the same mapping for DO1 and DO2 dictionaries\n",
    "\n",
    "TRAIN_SPLIT = 0.8\n",
    "VALIDATION_SPLIT = 0.2\n",
    "\n",
    "# Dataset size\n",
    "dataset_size = len(df2)\n",
    "train_size = int(dataset_size * TRAIN_SPLIT)\n",
    "test_size = dataset_size - train_size\n",
    "validation_size = int(test_size * VALIDATION_SPLIT)\n",
    "\n",
    "# Creating the dataset\n",
    "ds = tf.data.Dataset.zip((\n",
    "    tf.data.Dataset.from_tensor_slices((\n",
    "        tf.cast(df2[dense_cols].values, tf.float32),\n",
    "        tf.cast(df2[cat_cols].values, tf.int32),\n",
    "    )),\n",
    "    tf.data.Dataset.from_tensor_slices(tf.cast(to_categorical(df2['label'].values, num_classes=2), tf.float32))\n",
    ")).shuffle(buffer_size=2048)\n",
    "\n",
    "# Splitting the dataset\n",
    "ds_train = ds.take(train_size)\n",
    "ds_test = ds.skip(train_size)\n",
    "ds_valid = ds_test.take(validation_size)\n",
    "ds_test = ds_test.skip(validation_size)"
   ]
  },
  {
   "cell_type": "code",
   "execution_count": 57,
   "metadata": {},
   "outputs": [],
   "source": [
    "# Global Model Layer\n",
    "\n",
    "embedding_sizes = [emb_count for emb_count in emb_counts]\n",
    "\n",
    "# Model architecture parameters\n",
    "embedding_dim = 2\n",
    "arch_bot = [8, 2]  # Architecture for the bottom MLP (processing dense features)\n",
    "arch_top = [128, 64, 2]  # Architecture for the top MLP (combining embeddings and processed dense features)\n",
    "\n",
    "def MLP(arch, activation='relu', out_activation=None):\n",
    "    mlp = tf.keras.Sequential()\n",
    "    for units in arch[:-1]:\n",
    "        mlp.add(Dense(units, activation=activation))\n",
    "    mlp.add(Dense(arch[-1], activation=out_activation))\n",
    "    return mlp\n",
    "\n",
    "class SecondOrderFeatureInteraction(tf.keras.layers.Layer):\n",
    "    def __init__(self, self_interacation=False):\n",
    "        super(SecondOrderFeatureInteraction, self).__init__()\n",
    "        self.self_interaction = self_interaction\n",
    "\n",
    "    def call(self, inputs):\n",
    "        batch_size = tf.shape(inputs[0])[0]\n",
    "        concat_features = tf.stack(inputs, axis=1)\n",
    "        dot_products = tf.matmul(concat_features, concat_features, transpose_b=True)\n",
    "        ones = tf.ones_like(dot_products)\n",
    "        mask = tf.linalg.band_part(ones, 0, -1)\n",
    "        out_dim = int(len(inputs) * (len(inputs) + 1) / 2) if self.self_interaction else int(len(inputs) * (len(inputs) - 1) / 2)\n",
    "        flat_interactions = tf.reshape(tf.boolean_mask(dot_products, mask), (batch_size, out_dim))\n",
    "        return flat_interactions\n",
    "\n",
    "class BaseDLRM(Model):\n",
    "    def __init__(self, embedding_sizes, embedding_dim, arch_bot):\n",
    "        super(BaseDLRM, self).__init__()\n",
    "        self.emb = [Embedding(size, embedding_dim) for size in embedding_sizes]\n",
    "        self.bot_nn = MLP(arch_bot, out_activation='relu')\n",
    "\n",
    "    def call(self, inputs):\n",
    "        input_dense, input_cat = inputs\n",
    "        emb_x = [E(x) for E, x in zip(self.emb, tf.unstack(input_cat, axis=1))]\n",
    "        dense_x = self.bot_nn(input_dense)\n",
    "        return dense_x, emb_x\n",
    "\n",
    "    def update_global_weights(self, global_weights):\n",
    "        #Updates the model's weights with the provided global weights.\n",
    "        self.set_weights(global_weights)\n",
    "\n",
    "class PersonalizationModel(Model):\n",
    "    def __init__(self, arch_top):\n",
    "        super(PersonalizationModel, self).__init__()\n",
    "        self.top_nn = MLP(arch_top, out_activation='sigmoid')\n",
    "\n",
    "    def call(self, inputs):\n",
    "        dense_x, emb_x = inputs\n",
    "        z = concatenate([dense_x] + emb_x, axis=1)\n",
    "        p = self.top_nn(z)\n",
    "        return p\n",
    "\n",
    "class FederatedPersonalizedModel(Model):\n",
    "    def __init__(self, base_model, arch_top):\n",
    "        super(FederatedPersonalizedModel, self).__init__()\n",
    "        self.base_model = base_model\n",
    "        self.personalization_model = PersonalizationModel(arch_top)\n",
    "\n",
    "    def call(self, inputs):\n",
    "        base_output = self.base_model(inputs)\n",
    "        final_output = self.personalization_model(base_output)\n",
    "        return final_output\n"
   ]
  },
  {
   "cell_type": "code",
   "execution_count": 58,
   "metadata": {},
   "outputs": [],
   "source": [
    "base_model = BaseDLRM(embedding_sizes, embedding_dim, arch_bot)\n",
    "personalized_model = FederatedPersonalizedModel(base_model, arch_top)\n",
    "\n",
    "\n",
    "\n",
    "# Assuming 'base_model' and 'personalized_model' are correctly defined as before\n",
    "personalized_model.compile(\n",
    "    optimizer='adam',\n",
    "    loss='binary_crossentropy',\n",
    "    metrics=['accuracy', AUC(name='auc')]  # Correctly pass metrics as a list\n",
    ")\n"
   ]
  },
  {
   "cell_type": "code",
   "execution_count": 59,
   "metadata": {},
   "outputs": [
    {
     "name": "stdout",
     "output_type": "stream",
     "text": [
      "4265/4265 [==============================] - 53s 12ms/step - loss: 0.4778 - accuracy: 0.7774 - auc: 0.8526 - val_loss: 0.4649 - val_accuracy: 0.7849 - val_auc: 0.8611\n"
     ]
    }
   ],
   "source": [
    "BATCH_SIZE = 128\n",
    "\n",
    "history =personalized_model.fit(\n",
    "    ds_train.batch(BATCH_SIZE),\n",
    "    validation_data=ds_valid.batch(BATCH_SIZE),\n",
    "    callbacks=[\n",
    "        tf.keras.callbacks.EarlyStopping(patience=6, restore_best_weights=True)\n",
    "    ],\n",
    "    epochs=1,\n",
    "    verbose=1,\n",
    ")\n"
   ]
  },
  {
   "cell_type": "code",
   "execution_count": 60,
   "metadata": {},
   "outputs": [
    {
     "name": "stdout",
     "output_type": "stream",
     "text": [
      "Model: \"federated_personalized_model\"\n",
      "_________________________________________________________________\n",
      " Layer (type)                Output Shape              Param #   \n",
      "=================================================================\n",
      " base_dlrm (BaseDLRM)        multiple                  3336956   \n",
      "                                                                 \n",
      " personalization_model (Per  multiple                  15426     \n",
      " sonalizationModel)                                              \n",
      "                                                                 \n",
      "=================================================================\n",
      "Total params: 3352382 (12.79 MB)\n",
      "Trainable params: 3352382 (12.79 MB)\n",
      "Non-trainable params: 0 (0.00 Byte)\n",
      "_________________________________________________________________\n"
     ]
    }
   ],
   "source": [
    "personalized_model.summary()"
   ]
  },
  {
   "cell_type": "code",
   "execution_count": 61,
   "metadata": {},
   "outputs": [
    {
     "name": "stdout",
     "output_type": "stream",
     "text": [
      "853/853 [==============================] - 4s 753us/step - loss: 0.4667 - accuracy: 0.7823 - auc: 0.8602\n",
      "Loss: 0.46674734354019165, Accuracy: 0.7823390960693359, AUC: 0.8601790070533752\n"
     ]
    }
   ],
   "source": [
    "results = personalized_model.evaluate(ds_test.batch(BATCH_SIZE))\n",
    "print(f'Loss: {results[0]}, Accuracy: {results[1]}, AUC: {results[2]}')"
   ]
  },
  {
   "cell_type": "code",
   "execution_count": 62,
   "metadata": {},
   "outputs": [
    {
     "data": {
      "text/html": [
       "<div>\n",
       "<style scoped>\n",
       "    .dataframe tbody tr th:only-of-type {\n",
       "        vertical-align: middle;\n",
       "    }\n",
       "\n",
       "    .dataframe tbody tr th {\n",
       "        vertical-align: top;\n",
       "    }\n",
       "\n",
       "    .dataframe thead th {\n",
       "        text-align: right;\n",
       "    }\n",
       "</style>\n",
       "<table border=\"1\" class=\"dataframe\">\n",
       "  <thead>\n",
       "    <tr style=\"text-align: right;\">\n",
       "      <th></th>\n",
       "      <th>loss</th>\n",
       "      <th>accuracy</th>\n",
       "      <th>auc</th>\n",
       "      <th>val_loss</th>\n",
       "      <th>val_accuracy</th>\n",
       "      <th>val_auc</th>\n",
       "    </tr>\n",
       "  </thead>\n",
       "  <tbody>\n",
       "    <tr>\n",
       "      <th>0</th>\n",
       "      <td>0.477842</td>\n",
       "      <td>0.777425</td>\n",
       "      <td>0.852596</td>\n",
       "      <td>0.464913</td>\n",
       "      <td>0.784934</td>\n",
       "      <td>0.861101</td>\n",
       "    </tr>\n",
       "  </tbody>\n",
       "</table>\n",
       "</div>"
      ],
      "text/plain": [
       "       loss  accuracy       auc  val_loss  val_accuracy   val_auc\n",
       "0  0.477842  0.777425  0.852596  0.464913      0.784934  0.861101"
      ]
     },
     "metadata": {},
     "output_type": "display_data"
    },
    {
     "data": {
      "image/png": "[encoded data removed]",
      "text/plain": [
       "<Figure size 1000x800 with 1 Axes>"
      ]
     },
     "metadata": {},
     "output_type": "display_data"
    }
   ],
   "source": [
    "loss = pd.DataFrame.from_dict(history.history)\n",
    "display(loss.head())\n",
    "\n",
    "plt.figure(figsize=(10,8))\n",
    "plt.plot(loss['loss'], label='Train Loss')\n",
    "plt.plot(loss['val_loss'], label='Validation Loss')\n",
    "\n",
    "# Plot AUC\n",
    "plt.plot(loss['auc'], label='Train AUC')\n",
    "plt.plot(loss['val_auc'], label='Validation AUC')\n",
    "\n",
    "plt.legend()\n",
    "plt.show()\n"
   ]
  },
  {
   "cell_type": "code",
   "execution_count": 63,
   "metadata": {},
   "outputs": [
    {
     "name": "stdout",
     "output_type": "stream",
     "text": [
      "Validation AUC: 0.8606\n"
     ]
    }
   ],
   "source": [
    "# Evaluate the model on the validation dataset\n",
    "val_metrics = personalized_model.evaluate(ds_valid.batch(BATCH_SIZE), verbose=0)\n",
    "val_auc_index = personalized_model.metrics_names.index('auc')\n",
    "val_auc = val_metrics[val_auc_index]\n",
    "\n",
    "print(f\"Validation AUC: {val_auc:.4f}\")\n"
   ]
  },
  {
   "cell_type": "code",
   "execution_count": 64,
   "metadata": {
    "editable": true,
    "slideshow": {
     "slide_type": ""
    },
    "tags": []
   },
   "outputs": [
    {
     "name": "stdout",
     "output_type": "stream",
     "text": [
      "Relative Improvement (RelaImpr): 115.46%\n"
     ]
    }
   ],
   "source": [
    "rela_impr = ((val_auc - 0.5) / (auc_score_baseline2 - 0.5)) * 100\n",
    "print(f\"Relative Improvement (RelaImpr): {rela_impr:.2f}%\")"
   ]
  }
 ],
 "metadata": {
  "kernelspec": {
   "display_name": "Python 3 (ipykernel)",
   "language": "python",
   "name": "python3"
  },
  "language_info": {
   "codemirror_mode": {
    "name": "ipython",
    "version": 3
   },
   "file_extension": ".py",
   "mimetype": "text/x-python",
   "name": "python",
   "nbconvert_exporter": "python",
   "pygments_lexer": "ipython3",
   "version": "3.9.18"
  }
 },
 "nbformat": 4,
 "nbformat_minor": 4
}
