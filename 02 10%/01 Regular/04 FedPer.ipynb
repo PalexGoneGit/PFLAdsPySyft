{
 "cells": [
  {
   "cell_type": "markdown",
   "metadata": {
    "editable": true,
    "slideshow": {
     "slide_type": ""
    },
    "tags": []
   },
   "source": [
    "# Implementation of DLRM (10%/Regular/FedPer) "
   ]
  },
  {
   "cell_type": "markdown",
   "metadata": {
    "jp-MarkdownHeadingCollapsed": true
   },
   "source": [
    "## Imports"
   ]
  },
  {
   "cell_type": "code",
   "execution_count": 1,
   "metadata": {},
   "outputs": [
    {
     "name": "stderr",
     "output_type": "stream",
     "text": [
      "kj/filesystem-disk-unix.c++:1703: warning: PWD environment variable doesn't match current directory; pwd = /Users/alex\n"
     ]
    },
    {
     "name": "stdout",
     "output_type": "stream",
     "text": [
      "✅ The installed version of syft==0.8.4 matches the requirement >=0.8.2b0 and the requirement <0.9\n"
     ]
    }
   ],
   "source": [
    "SYFT_VERSION = \">=0.8.2.b0,<0.9\"\n",
    "package_string = f'\"syft{SYFT_VERSION}\"'\n",
    "# %pip install {package_string} -q\n",
    "\n",
    "import tensorflow as tf\n",
    "from tensorflow.keras.metrics import AUC\n",
    "# syft absolute\n",
    "import syft as sy\n",
    "\n",
    "sy.requires(SYFT_VERSION)\n",
    "\n",
    "import pandas as pd\n",
    "from sklearn import preprocessing\n",
    "from tensorflow.keras.utils import to_categorical\n",
    "from tensorflow.keras.metrics import Precision, Recall\n",
    "import tensorflow as tf\n",
    "from tensorflow.keras.layers import Dense, Embedding, Layer, Input, concatenate\n",
    "from tensorflow.keras.models import Model\n",
    "import matplotlib.pyplot as plt\n",
    "plt.style.use('ggplot')\n",
    "from sklearn.metrics import precision_score\n",
    "from sklearn.metrics import recall_score\n",
    "from sklearn.metrics import f1_score\n",
    "import numpy as np"
   ]
  },
  {
   "cell_type": "markdown",
   "metadata": {
    "editable": true,
    "jp-MarkdownHeadingCollapsed": true,
    "slideshow": {
     "slide_type": ""
    },
    "tags": []
   },
   "source": [
    "## Load and preprocess the data"
   ]
  },
  {
   "cell_type": "code",
   "execution_count": 2,
   "metadata": {},
   "outputs": [
    {
     "name": "stdout",
     "output_type": "stream",
     "text": [
      "Loaded rows: 136473\n"
     ]
    }
   ],
   "source": [
    "# Set the seed for reproducibility\n",
    "np.random.seed(42)\n",
    "\n",
    "# Total number of rows in the dataset (excluding the header)\n",
    "total_rows = 1364729\n",
    "\n",
    "# Number of rows to load - 10% of the total rows\n",
    "rows_to_load = total_rows // 10\n",
    "\n",
    "# Generate a sorted list of random indices to skip, aiming to load about 10% of the dataset\n",
    "skip_rows = np.sort(np.random.choice(np.arange(1, total_rows + 1), size=(total_rows - rows_to_load), replace=False))\n",
    "\n",
    "# Define the column names\n",
    "columns = ['label', *(f'I{i}' for i in range(1, 14)), *(f'C{i}' for i in range(1, 27))]\n",
    "\n",
    "# Load the dataset, skipping the selected rows\n",
    "df = pd.read_csv('/Users/alex/Thesis/New Dataset/train.txt', sep='\\t', names=columns, skiprows=skip_rows).fillna(0)\n",
    "\n",
    "# Check the loaded data\n",
    "print(f\"Loaded rows: {len(df)}\")"
   ]
  },
  {
   "cell_type": "code",
   "execution_count": 3,
   "metadata": {},
   "outputs": [
    {
     "data": {
      "text/html": [
       "<div>\n",
       "<style scoped>\n",
       "    .dataframe tbody tr th:only-of-type {\n",
       "        vertical-align: middle;\n",
       "    }\n",
       "\n",
       "    .dataframe tbody tr th {\n",
       "        vertical-align: top;\n",
       "    }\n",
       "\n",
       "    .dataframe thead th {\n",
       "        text-align: right;\n",
       "    }\n",
       "</style>\n",
       "<table border=\"1\" class=\"dataframe\">\n",
       "  <thead>\n",
       "    <tr style=\"text-align: right;\">\n",
       "      <th></th>\n",
       "      <th>label</th>\n",
       "      <th>I1</th>\n",
       "      <th>I2</th>\n",
       "      <th>I3</th>\n",
       "      <th>I4</th>\n",
       "      <th>I5</th>\n",
       "      <th>I6</th>\n",
       "      <th>I7</th>\n",
       "      <th>I8</th>\n",
       "      <th>I9</th>\n",
       "      <th>...</th>\n",
       "      <th>C17</th>\n",
       "      <th>C18</th>\n",
       "      <th>C19</th>\n",
       "      <th>C20</th>\n",
       "      <th>C21</th>\n",
       "      <th>C22</th>\n",
       "      <th>C23</th>\n",
       "      <th>C24</th>\n",
       "      <th>C25</th>\n",
       "      <th>C26</th>\n",
       "    </tr>\n",
       "  </thead>\n",
       "  <tbody>\n",
       "    <tr>\n",
       "      <th>0</th>\n",
       "      <td>0</td>\n",
       "      <td>-0.134357</td>\n",
       "      <td>-0.264834</td>\n",
       "      <td>-0.037551</td>\n",
       "      <td>-0.665336</td>\n",
       "      <td>-0.251022</td>\n",
       "      <td>-0.285512</td>\n",
       "      <td>0.022657</td>\n",
       "      <td>-0.416195</td>\n",
       "      <td>0.391602</td>\n",
       "      <td>...</td>\n",
       "      <td>e5ba7672</td>\n",
       "      <td>f54016b9</td>\n",
       "      <td>21ddcdc9</td>\n",
       "      <td>b1252a9d</td>\n",
       "      <td>07b5194c</td>\n",
       "      <td>0</td>\n",
       "      <td>3a171ecb</td>\n",
       "      <td>c5c50484</td>\n",
       "      <td>e8b83407</td>\n",
       "      <td>9727dd16</td>\n",
       "    </tr>\n",
       "    <tr>\n",
       "      <th>1</th>\n",
       "      <td>1</td>\n",
       "      <td>-0.289223</td>\n",
       "      <td>-0.057509</td>\n",
       "      <td>-0.047134</td>\n",
       "      <td>1.216693</td>\n",
       "      <td>-0.207498</td>\n",
       "      <td>-0.015080</td>\n",
       "      <td>-0.181215</td>\n",
       "      <td>0.173649</td>\n",
       "      <td>0.627000</td>\n",
       "      <td>...</td>\n",
       "      <td>e5ba7672</td>\n",
       "      <td>df00d249</td>\n",
       "      <td>0</td>\n",
       "      <td>0</td>\n",
       "      <td>f520f961</td>\n",
       "      <td>0</td>\n",
       "      <td>32c7478e</td>\n",
       "      <td>27b60b01</td>\n",
       "      <td>0</td>\n",
       "      <td>0</td>\n",
       "    </tr>\n",
       "    <tr>\n",
       "      <th>2</th>\n",
       "      <td>0</td>\n",
       "      <td>-0.289223</td>\n",
       "      <td>-0.267527</td>\n",
       "      <td>-0.043940</td>\n",
       "      <td>0.840287</td>\n",
       "      <td>-0.162964</td>\n",
       "      <td>0.024984</td>\n",
       "      <td>-0.218283</td>\n",
       "      <td>0.284245</td>\n",
       "      <td>-0.045566</td>\n",
       "      <td>...</td>\n",
       "      <td>e5ba7672</td>\n",
       "      <td>2a93f7c8</td>\n",
       "      <td>0</td>\n",
       "      <td>0</td>\n",
       "      <td>5dc9a057</td>\n",
       "      <td>0</td>\n",
       "      <td>32c7478e</td>\n",
       "      <td>90b6276f</td>\n",
       "      <td>0</td>\n",
       "      <td>0</td>\n",
       "    </tr>\n",
       "    <tr>\n",
       "      <th>3</th>\n",
       "      <td>0</td>\n",
       "      <td>-0.289223</td>\n",
       "      <td>-0.216369</td>\n",
       "      <td>-0.024773</td>\n",
       "      <td>-0.288930</td>\n",
       "      <td>-0.057373</td>\n",
       "      <td>4.218350</td>\n",
       "      <td>-0.199749</td>\n",
       "      <td>-0.453060</td>\n",
       "      <td>1.261135</td>\n",
       "      <td>...</td>\n",
       "      <td>8efede7f</td>\n",
       "      <td>5aed7436</td>\n",
       "      <td>21ddcdc9</td>\n",
       "      <td>a458ea53</td>\n",
       "      <td>3c1a8dd8</td>\n",
       "      <td>0</td>\n",
       "      <td>3a171ecb</td>\n",
       "      <td>3fdb382b</td>\n",
       "      <td>b9266ff0</td>\n",
       "      <td>49d68486</td>\n",
       "    </tr>\n",
       "    <tr>\n",
       "      <th>4</th>\n",
       "      <td>0</td>\n",
       "      <td>-0.289223</td>\n",
       "      <td>-0.219061</td>\n",
       "      <td>-0.015190</td>\n",
       "      <td>0.338413</td>\n",
       "      <td>-0.138342</td>\n",
       "      <td>-0.151965</td>\n",
       "      <td>-0.218283</td>\n",
       "      <td>-0.047543</td>\n",
       "      <td>-0.204100</td>\n",
       "      <td>...</td>\n",
       "      <td>07c540c4</td>\n",
       "      <td>0f2f9850</td>\n",
       "      <td>5fd56cf9</td>\n",
       "      <td>b1252a9d</td>\n",
       "      <td>96725293</td>\n",
       "      <td>0</td>\n",
       "      <td>32c7478e</td>\n",
       "      <td>2702453c</td>\n",
       "      <td>8b8de563</td>\n",
       "      <td>303cea07</td>\n",
       "    </tr>\n",
       "    <tr>\n",
       "      <th>...</th>\n",
       "      <td>...</td>\n",
       "      <td>...</td>\n",
       "      <td>...</td>\n",
       "      <td>...</td>\n",
       "      <td>...</td>\n",
       "      <td>...</td>\n",
       "      <td>...</td>\n",
       "      <td>...</td>\n",
       "      <td>...</td>\n",
       "      <td>...</td>\n",
       "      <td>...</td>\n",
       "      <td>...</td>\n",
       "      <td>...</td>\n",
       "      <td>...</td>\n",
       "      <td>...</td>\n",
       "      <td>...</td>\n",
       "      <td>...</td>\n",
       "      <td>...</td>\n",
       "      <td>...</td>\n",
       "      <td>...</td>\n",
       "      <td>...</td>\n",
       "    </tr>\n",
       "    <tr>\n",
       "      <th>136468</th>\n",
       "      <td>0</td>\n",
       "      <td>0.175374</td>\n",
       "      <td>-0.262142</td>\n",
       "      <td>-0.008801</td>\n",
       "      <td>1.216693</td>\n",
       "      <td>-0.269388</td>\n",
       "      <td>-0.232093</td>\n",
       "      <td>-0.051478</td>\n",
       "      <td>0.063053</td>\n",
       "      <td>1.208290</td>\n",
       "      <td>...</td>\n",
       "      <td>3486227d</td>\n",
       "      <td>ae09efbe</td>\n",
       "      <td>0</td>\n",
       "      <td>0</td>\n",
       "      <td>80d4b4fb</td>\n",
       "      <td>c9d4222a</td>\n",
       "      <td>423fab69</td>\n",
       "      <td>5ddc2c4c</td>\n",
       "      <td>0</td>\n",
       "      <td>0</td>\n",
       "    </tr>\n",
       "    <tr>\n",
       "      <th>136469</th>\n",
       "      <td>0</td>\n",
       "      <td>-0.134357</td>\n",
       "      <td>-0.259449</td>\n",
       "      <td>0.320225</td>\n",
       "      <td>-0.414399</td>\n",
       "      <td>-0.270190</td>\n",
       "      <td>-0.081853</td>\n",
       "      <td>-0.236817</td>\n",
       "      <td>0.616032</td>\n",
       "      <td>-0.386654</td>\n",
       "      <td>...</td>\n",
       "      <td>e5ba7672</td>\n",
       "      <td>6fc84bfb</td>\n",
       "      <td>0</td>\n",
       "      <td>0</td>\n",
       "      <td>5155d8a3</td>\n",
       "      <td>0</td>\n",
       "      <td>423fab69</td>\n",
       "      <td>ded4aac9</td>\n",
       "      <td>0</td>\n",
       "      <td>0</td>\n",
       "    </tr>\n",
       "    <tr>\n",
       "      <th>136470</th>\n",
       "      <td>0</td>\n",
       "      <td>-0.134357</td>\n",
       "      <td>-0.270219</td>\n",
       "      <td>-0.053523</td>\n",
       "      <td>-0.665336</td>\n",
       "      <td>-0.252656</td>\n",
       "      <td>-0.298867</td>\n",
       "      <td>-0.236817</td>\n",
       "      <td>-0.489925</td>\n",
       "      <td>-0.477931</td>\n",
       "      <td>...</td>\n",
       "      <td>d4bb7bd8</td>\n",
       "      <td>ab194a92</td>\n",
       "      <td>0</td>\n",
       "      <td>0</td>\n",
       "      <td>21c9516a</td>\n",
       "      <td>0</td>\n",
       "      <td>32c7478e</td>\n",
       "      <td>b34f3128</td>\n",
       "      <td>0</td>\n",
       "      <td>0</td>\n",
       "    </tr>\n",
       "    <tr>\n",
       "      <th>136471</th>\n",
       "      <td>0</td>\n",
       "      <td>-0.134357</td>\n",
       "      <td>-0.235216</td>\n",
       "      <td>-0.034357</td>\n",
       "      <td>0.087476</td>\n",
       "      <td>-0.270220</td>\n",
       "      <td>-0.262141</td>\n",
       "      <td>-0.236817</td>\n",
       "      <td>-0.231869</td>\n",
       "      <td>-0.444302</td>\n",
       "      <td>...</td>\n",
       "      <td>d4bb7bd8</td>\n",
       "      <td>e4ca448c</td>\n",
       "      <td>0</td>\n",
       "      <td>0</td>\n",
       "      <td>f8af07d5</td>\n",
       "      <td>ad3062eb</td>\n",
       "      <td>32c7478e</td>\n",
       "      <td>9117a34a</td>\n",
       "      <td>0</td>\n",
       "      <td>0</td>\n",
       "    </tr>\n",
       "    <tr>\n",
       "      <th>136472</th>\n",
       "      <td>0</td>\n",
       "      <td>-0.289223</td>\n",
       "      <td>-0.259449</td>\n",
       "      <td>-0.031162</td>\n",
       "      <td>0.589350</td>\n",
       "      <td>-0.213427</td>\n",
       "      <td>1.036600</td>\n",
       "      <td>-0.218283</td>\n",
       "      <td>0.136784</td>\n",
       "      <td>0.021690</td>\n",
       "      <td>...</td>\n",
       "      <td>e5ba7672</td>\n",
       "      <td>698d1c68</td>\n",
       "      <td>0</td>\n",
       "      <td>0</td>\n",
       "      <td>08119c8b</td>\n",
       "      <td>0</td>\n",
       "      <td>32c7478e</td>\n",
       "      <td>f96a556f</td>\n",
       "      <td>0</td>\n",
       "      <td>0</td>\n",
       "    </tr>\n",
       "  </tbody>\n",
       "</table>\n",
       "<p>136473 rows × 40 columns</p>\n",
       "</div>"
      ],
      "text/plain": [
       "        label        I1        I2        I3        I4        I5        I6  \\\n",
       "0           0 -0.134357 -0.264834 -0.037551 -0.665336 -0.251022 -0.285512   \n",
       "1           1 -0.289223 -0.057509 -0.047134  1.216693 -0.207498 -0.015080   \n",
       "2           0 -0.289223 -0.267527 -0.043940  0.840287 -0.162964  0.024984   \n",
       "3           0 -0.289223 -0.216369 -0.024773 -0.288930 -0.057373  4.218350   \n",
       "4           0 -0.289223 -0.219061 -0.015190  0.338413 -0.138342 -0.151965   \n",
       "...       ...       ...       ...       ...       ...       ...       ...   \n",
       "136468      0  0.175374 -0.262142 -0.008801  1.216693 -0.269388 -0.232093   \n",
       "136469      0 -0.134357 -0.259449  0.320225 -0.414399 -0.270190 -0.081853   \n",
       "136470      0 -0.134357 -0.270219 -0.053523 -0.665336 -0.252656 -0.298867   \n",
       "136471      0 -0.134357 -0.235216 -0.034357  0.087476 -0.270220 -0.262141   \n",
       "136472      0 -0.289223 -0.259449 -0.031162  0.589350 -0.213427  1.036600   \n",
       "\n",
       "              I7        I8        I9  ...       C17       C18       C19  \\\n",
       "0       0.022657 -0.416195  0.391602  ...  e5ba7672  f54016b9  21ddcdc9   \n",
       "1      -0.181215  0.173649  0.627000  ...  e5ba7672  df00d249         0   \n",
       "2      -0.218283  0.284245 -0.045566  ...  e5ba7672  2a93f7c8         0   \n",
       "3      -0.199749 -0.453060  1.261135  ...  8efede7f  5aed7436  21ddcdc9   \n",
       "4      -0.218283 -0.047543 -0.204100  ...  07c540c4  0f2f9850  5fd56cf9   \n",
       "...          ...       ...       ...  ...       ...       ...       ...   \n",
       "136468 -0.051478  0.063053  1.208290  ...  3486227d  ae09efbe         0   \n",
       "136469 -0.236817  0.616032 -0.386654  ...  e5ba7672  6fc84bfb         0   \n",
       "136470 -0.236817 -0.489925 -0.477931  ...  d4bb7bd8  ab194a92         0   \n",
       "136471 -0.236817 -0.231869 -0.444302  ...  d4bb7bd8  e4ca448c         0   \n",
       "136472 -0.218283  0.136784  0.021690  ...  e5ba7672  698d1c68         0   \n",
       "\n",
       "             C20       C21       C22       C23       C24       C25       C26  \n",
       "0       b1252a9d  07b5194c         0  3a171ecb  c5c50484  e8b83407  9727dd16  \n",
       "1              0  f520f961         0  32c7478e  27b60b01         0         0  \n",
       "2              0  5dc9a057         0  32c7478e  90b6276f         0         0  \n",
       "3       a458ea53  3c1a8dd8         0  3a171ecb  3fdb382b  b9266ff0  49d68486  \n",
       "4       b1252a9d  96725293         0  32c7478e  2702453c  8b8de563  303cea07  \n",
       "...          ...       ...       ...       ...       ...       ...       ...  \n",
       "136468         0  80d4b4fb  c9d4222a  423fab69  5ddc2c4c         0         0  \n",
       "136469         0  5155d8a3         0  423fab69  ded4aac9         0         0  \n",
       "136470         0  21c9516a         0  32c7478e  b34f3128         0         0  \n",
       "136471         0  f8af07d5  ad3062eb  32c7478e  9117a34a         0         0  \n",
       "136472         0  08119c8b         0  32c7478e  f96a556f         0         0  \n",
       "\n",
       "[136473 rows x 40 columns]"
      ]
     },
     "execution_count": 3,
     "metadata": {},
     "output_type": "execute_result"
    }
   ],
   "source": [
    "# Preprocess Dense Features\n",
    "dense_cols = [c for c in columns if 'I' in c]\n",
    "df[dense_cols] = preprocessing.StandardScaler().fit_transform(df[dense_cols])\n",
    "df"
   ]
  },
  {
   "cell_type": "code",
   "execution_count": 4,
   "metadata": {},
   "outputs": [
    {
     "data": {
      "text/html": [
       "<div>\n",
       "<style scoped>\n",
       "    .dataframe tbody tr th:only-of-type {\n",
       "        vertical-align: middle;\n",
       "    }\n",
       "\n",
       "    .dataframe tbody tr th {\n",
       "        vertical-align: top;\n",
       "    }\n",
       "\n",
       "    .dataframe thead th {\n",
       "        text-align: right;\n",
       "    }\n",
       "</style>\n",
       "<table border=\"1\" class=\"dataframe\">\n",
       "  <thead>\n",
       "    <tr style=\"text-align: right;\">\n",
       "      <th></th>\n",
       "      <th>label</th>\n",
       "      <th>I1</th>\n",
       "      <th>I2</th>\n",
       "      <th>I3</th>\n",
       "      <th>I4</th>\n",
       "      <th>I5</th>\n",
       "      <th>I6</th>\n",
       "      <th>I7</th>\n",
       "      <th>I8</th>\n",
       "      <th>I9</th>\n",
       "      <th>...</th>\n",
       "      <th>C17</th>\n",
       "      <th>C18</th>\n",
       "      <th>C19</th>\n",
       "      <th>C20</th>\n",
       "      <th>C21</th>\n",
       "      <th>C22</th>\n",
       "      <th>C23</th>\n",
       "      <th>C24</th>\n",
       "      <th>C25</th>\n",
       "      <th>C26</th>\n",
       "    </tr>\n",
       "  </thead>\n",
       "  <tbody>\n",
       "    <tr>\n",
       "      <th>0</th>\n",
       "      <td>0</td>\n",
       "      <td>-0.134357</td>\n",
       "      <td>-0.264834</td>\n",
       "      <td>-0.037551</td>\n",
       "      <td>-0.665336</td>\n",
       "      <td>-0.251022</td>\n",
       "      <td>-0.285512</td>\n",
       "      <td>0.022657</td>\n",
       "      <td>-0.416195</td>\n",
       "      <td>0.391602</td>\n",
       "      <td>...</td>\n",
       "      <td>0</td>\n",
       "      <td>0</td>\n",
       "      <td>0</td>\n",
       "      <td>0</td>\n",
       "      <td>0</td>\n",
       "      <td>0</td>\n",
       "      <td>0</td>\n",
       "      <td>0</td>\n",
       "      <td>0</td>\n",
       "      <td>0</td>\n",
       "    </tr>\n",
       "    <tr>\n",
       "      <th>1</th>\n",
       "      <td>1</td>\n",
       "      <td>-0.289223</td>\n",
       "      <td>-0.057509</td>\n",
       "      <td>-0.047134</td>\n",
       "      <td>1.216693</td>\n",
       "      <td>-0.207498</td>\n",
       "      <td>-0.015080</td>\n",
       "      <td>-0.181215</td>\n",
       "      <td>0.173649</td>\n",
       "      <td>0.627000</td>\n",
       "      <td>...</td>\n",
       "      <td>0</td>\n",
       "      <td>1</td>\n",
       "      <td>1</td>\n",
       "      <td>1</td>\n",
       "      <td>1</td>\n",
       "      <td>0</td>\n",
       "      <td>1</td>\n",
       "      <td>1</td>\n",
       "      <td>1</td>\n",
       "      <td>1</td>\n",
       "    </tr>\n",
       "    <tr>\n",
       "      <th>2</th>\n",
       "      <td>0</td>\n",
       "      <td>-0.289223</td>\n",
       "      <td>-0.267527</td>\n",
       "      <td>-0.043940</td>\n",
       "      <td>0.840287</td>\n",
       "      <td>-0.162964</td>\n",
       "      <td>0.024984</td>\n",
       "      <td>-0.218283</td>\n",
       "      <td>0.284245</td>\n",
       "      <td>-0.045566</td>\n",
       "      <td>...</td>\n",
       "      <td>0</td>\n",
       "      <td>2</td>\n",
       "      <td>1</td>\n",
       "      <td>1</td>\n",
       "      <td>2</td>\n",
       "      <td>0</td>\n",
       "      <td>1</td>\n",
       "      <td>2</td>\n",
       "      <td>1</td>\n",
       "      <td>1</td>\n",
       "    </tr>\n",
       "    <tr>\n",
       "      <th>3</th>\n",
       "      <td>0</td>\n",
       "      <td>-0.289223</td>\n",
       "      <td>-0.216369</td>\n",
       "      <td>-0.024773</td>\n",
       "      <td>-0.288930</td>\n",
       "      <td>-0.057373</td>\n",
       "      <td>4.218350</td>\n",
       "      <td>-0.199749</td>\n",
       "      <td>-0.453060</td>\n",
       "      <td>1.261135</td>\n",
       "      <td>...</td>\n",
       "      <td>1</td>\n",
       "      <td>3</td>\n",
       "      <td>0</td>\n",
       "      <td>2</td>\n",
       "      <td>3</td>\n",
       "      <td>0</td>\n",
       "      <td>0</td>\n",
       "      <td>3</td>\n",
       "      <td>2</td>\n",
       "      <td>2</td>\n",
       "    </tr>\n",
       "    <tr>\n",
       "      <th>4</th>\n",
       "      <td>0</td>\n",
       "      <td>-0.289223</td>\n",
       "      <td>-0.219061</td>\n",
       "      <td>-0.015190</td>\n",
       "      <td>0.338413</td>\n",
       "      <td>-0.138342</td>\n",
       "      <td>-0.151965</td>\n",
       "      <td>-0.218283</td>\n",
       "      <td>-0.047543</td>\n",
       "      <td>-0.204100</td>\n",
       "      <td>...</td>\n",
       "      <td>2</td>\n",
       "      <td>4</td>\n",
       "      <td>2</td>\n",
       "      <td>0</td>\n",
       "      <td>4</td>\n",
       "      <td>0</td>\n",
       "      <td>1</td>\n",
       "      <td>4</td>\n",
       "      <td>3</td>\n",
       "      <td>3</td>\n",
       "    </tr>\n",
       "    <tr>\n",
       "      <th>...</th>\n",
       "      <td>...</td>\n",
       "      <td>...</td>\n",
       "      <td>...</td>\n",
       "      <td>...</td>\n",
       "      <td>...</td>\n",
       "      <td>...</td>\n",
       "      <td>...</td>\n",
       "      <td>...</td>\n",
       "      <td>...</td>\n",
       "      <td>...</td>\n",
       "      <td>...</td>\n",
       "      <td>...</td>\n",
       "      <td>...</td>\n",
       "      <td>...</td>\n",
       "      <td>...</td>\n",
       "      <td>...</td>\n",
       "      <td>...</td>\n",
       "      <td>...</td>\n",
       "      <td>...</td>\n",
       "      <td>...</td>\n",
       "      <td>...</td>\n",
       "    </tr>\n",
       "    <tr>\n",
       "      <th>136468</th>\n",
       "      <td>0</td>\n",
       "      <td>0.175374</td>\n",
       "      <td>-0.262142</td>\n",
       "      <td>-0.008801</td>\n",
       "      <td>1.216693</td>\n",
       "      <td>-0.269388</td>\n",
       "      <td>-0.232093</td>\n",
       "      <td>-0.051478</td>\n",
       "      <td>0.063053</td>\n",
       "      <td>1.208290</td>\n",
       "      <td>...</td>\n",
       "      <td>8</td>\n",
       "      <td>91</td>\n",
       "      <td>1</td>\n",
       "      <td>1</td>\n",
       "      <td>7735</td>\n",
       "      <td>2</td>\n",
       "      <td>3</td>\n",
       "      <td>81</td>\n",
       "      <td>1</td>\n",
       "      <td>1</td>\n",
       "    </tr>\n",
       "    <tr>\n",
       "      <th>136469</th>\n",
       "      <td>0</td>\n",
       "      <td>-0.134357</td>\n",
       "      <td>-0.259449</td>\n",
       "      <td>0.320225</td>\n",
       "      <td>-0.414399</td>\n",
       "      <td>-0.270190</td>\n",
       "      <td>-0.081853</td>\n",
       "      <td>-0.236817</td>\n",
       "      <td>0.616032</td>\n",
       "      <td>-0.386654</td>\n",
       "      <td>...</td>\n",
       "      <td>0</td>\n",
       "      <td>148</td>\n",
       "      <td>1</td>\n",
       "      <td>1</td>\n",
       "      <td>1521</td>\n",
       "      <td>0</td>\n",
       "      <td>3</td>\n",
       "      <td>119</td>\n",
       "      <td>1</td>\n",
       "      <td>1</td>\n",
       "    </tr>\n",
       "    <tr>\n",
       "      <th>136470</th>\n",
       "      <td>0</td>\n",
       "      <td>-0.134357</td>\n",
       "      <td>-0.270219</td>\n",
       "      <td>-0.053523</td>\n",
       "      <td>-0.665336</td>\n",
       "      <td>-0.252656</td>\n",
       "      <td>-0.298867</td>\n",
       "      <td>-0.236817</td>\n",
       "      <td>-0.489925</td>\n",
       "      <td>-0.477931</td>\n",
       "      <td>...</td>\n",
       "      <td>6</td>\n",
       "      <td>475</td>\n",
       "      <td>1</td>\n",
       "      <td>1</td>\n",
       "      <td>70</td>\n",
       "      <td>0</td>\n",
       "      <td>1</td>\n",
       "      <td>16</td>\n",
       "      <td>1</td>\n",
       "      <td>1</td>\n",
       "    </tr>\n",
       "    <tr>\n",
       "      <th>136471</th>\n",
       "      <td>0</td>\n",
       "      <td>-0.134357</td>\n",
       "      <td>-0.235216</td>\n",
       "      <td>-0.034357</td>\n",
       "      <td>0.087476</td>\n",
       "      <td>-0.270220</td>\n",
       "      <td>-0.262141</td>\n",
       "      <td>-0.236817</td>\n",
       "      <td>-0.231869</td>\n",
       "      <td>-0.444302</td>\n",
       "      <td>...</td>\n",
       "      <td>6</td>\n",
       "      <td>280</td>\n",
       "      <td>1</td>\n",
       "      <td>1</td>\n",
       "      <td>46292</td>\n",
       "      <td>1</td>\n",
       "      <td>1</td>\n",
       "      <td>68</td>\n",
       "      <td>1</td>\n",
       "      <td>1</td>\n",
       "    </tr>\n",
       "    <tr>\n",
       "      <th>136472</th>\n",
       "      <td>0</td>\n",
       "      <td>-0.289223</td>\n",
       "      <td>-0.259449</td>\n",
       "      <td>-0.031162</td>\n",
       "      <td>0.589350</td>\n",
       "      <td>-0.213427</td>\n",
       "      <td>1.036600</td>\n",
       "      <td>-0.218283</td>\n",
       "      <td>0.136784</td>\n",
       "      <td>0.021690</td>\n",
       "      <td>...</td>\n",
       "      <td>0</td>\n",
       "      <td>78</td>\n",
       "      <td>1</td>\n",
       "      <td>1</td>\n",
       "      <td>352</td>\n",
       "      <td>0</td>\n",
       "      <td>1</td>\n",
       "      <td>98</td>\n",
       "      <td>1</td>\n",
       "      <td>1</td>\n",
       "    </tr>\n",
       "  </tbody>\n",
       "</table>\n",
       "<p>136473 rows × 40 columns</p>\n",
       "</div>"
      ],
      "text/plain": [
       "        label        I1        I2        I3        I4        I5        I6  \\\n",
       "0           0 -0.134357 -0.264834 -0.037551 -0.665336 -0.251022 -0.285512   \n",
       "1           1 -0.289223 -0.057509 -0.047134  1.216693 -0.207498 -0.015080   \n",
       "2           0 -0.289223 -0.267527 -0.043940  0.840287 -0.162964  0.024984   \n",
       "3           0 -0.289223 -0.216369 -0.024773 -0.288930 -0.057373  4.218350   \n",
       "4           0 -0.289223 -0.219061 -0.015190  0.338413 -0.138342 -0.151965   \n",
       "...       ...       ...       ...       ...       ...       ...       ...   \n",
       "136468      0  0.175374 -0.262142 -0.008801  1.216693 -0.269388 -0.232093   \n",
       "136469      0 -0.134357 -0.259449  0.320225 -0.414399 -0.270190 -0.081853   \n",
       "136470      0 -0.134357 -0.270219 -0.053523 -0.665336 -0.252656 -0.298867   \n",
       "136471      0 -0.134357 -0.235216 -0.034357  0.087476 -0.270220 -0.262141   \n",
       "136472      0 -0.289223 -0.259449 -0.031162  0.589350 -0.213427  1.036600   \n",
       "\n",
       "              I7        I8        I9  ...  C17  C18  C19  C20    C21  C22  \\\n",
       "0       0.022657 -0.416195  0.391602  ...    0    0    0    0      0    0   \n",
       "1      -0.181215  0.173649  0.627000  ...    0    1    1    1      1    0   \n",
       "2      -0.218283  0.284245 -0.045566  ...    0    2    1    1      2    0   \n",
       "3      -0.199749 -0.453060  1.261135  ...    1    3    0    2      3    0   \n",
       "4      -0.218283 -0.047543 -0.204100  ...    2    4    2    0      4    0   \n",
       "...          ...       ...       ...  ...  ...  ...  ...  ...    ...  ...   \n",
       "136468 -0.051478  0.063053  1.208290  ...    8   91    1    1   7735    2   \n",
       "136469 -0.236817  0.616032 -0.386654  ...    0  148    1    1   1521    0   \n",
       "136470 -0.236817 -0.489925 -0.477931  ...    6  475    1    1     70    0   \n",
       "136471 -0.236817 -0.231869 -0.444302  ...    6  280    1    1  46292    1   \n",
       "136472 -0.218283  0.136784  0.021690  ...    0   78    1    1    352    0   \n",
       "\n",
       "        C23  C24  C25  C26  \n",
       "0         0    0    0    0  \n",
       "1         1    1    1    1  \n",
       "2         1    2    1    1  \n",
       "3         0    3    2    2  \n",
       "4         1    4    3    3  \n",
       "...     ...  ...  ...  ...  \n",
       "136468    3   81    1    1  \n",
       "136469    3  119    1    1  \n",
       "136470    1   16    1    1  \n",
       "136471    1   68    1    1  \n",
       "136472    1   98    1    1  \n",
       "\n",
       "[136473 rows x 40 columns]"
      ]
     },
     "execution_count": 4,
     "metadata": {},
     "output_type": "execute_result"
    }
   ],
   "source": [
    "# Preprocess Categorical Features\n",
    "cat_cols = [c for c in columns if 'C' in c]\n",
    "mappings = {\n",
    "    col: dict(zip(values, range(len(values))))\n",
    "    for col, values in map(lambda col: (col, df[col].unique()), cat_cols)\n",
    "}\n",
    "for col, mapping in mappings.items():\n",
    "    df[col] = df[col].map(mapping.get)\n",
    "df"
   ]
  },
  {
   "cell_type": "code",
   "execution_count": 5,
   "metadata": {},
   "outputs": [
    {
     "name": "stdout",
     "output_type": "stream",
     "text": [
      "Baseline: 74.8177295142629%\n"
     ]
    }
   ],
   "source": [
    "label_counts = df.groupby('label')['I1'].count()\n",
    "print(f'Baseline: {max(label_counts.values) / sum(label_counts.values) * 100}%')"
   ]
  },
  {
   "cell_type": "code",
   "execution_count": 6,
   "metadata": {},
   "outputs": [
    {
     "name": "stdout",
     "output_type": "stream",
     "text": [
      "Total records: 136473\n",
      "df1 records: 68236\n",
      "df2 records: 68236\n"
     ]
    }
   ],
   "source": [
    "# Shuffle the DataFrame rows\n",
    "df_shuffled = df.sample(frac=1).reset_index(drop=True)\n",
    "\n",
    "# Calculate the index for splitting\n",
    "first_split = int(len(df_shuffled) * 1/2)\n",
    "second_split = first_split + int(len(df_shuffled) * 1/2)\n",
    "\n",
    "# Split the DataFrame into two parts\n",
    "df1 = df_shuffled.iloc[:first_split]\n",
    "df2 = df_shuffled.iloc[first_split:second_split]\n",
    "\n",
    "df1 = df1.reset_index(drop=True)\n",
    "df2 = df2.reset_index(drop=True)\n",
    "\n",
    "# Verifying the splits\n",
    "print(f\"Total records: {len(df)}\")\n",
    "print(f\"df1 records: {len(df1)}\")\n",
    "print(f\"df2 records: {len(df2)}\")"
   ]
  },
  {
   "cell_type": "code",
   "execution_count": 7,
   "metadata": {
    "editable": true,
    "slideshow": {
     "slide_type": ""
    },
    "tags": []
   },
   "outputs": [],
   "source": [
    "dense_cols = [c for c in df.columns if 'I' in c]\n",
    "cat_cols = [c for c in df.columns if 'C' in c]\n",
    "fixed_embedding_size = 455000\n",
    "emb_counts = [len(df[c].unique()) for c in cat_cols]"
   ]
  },
  {
   "cell_type": "markdown",
   "metadata": {
    "editable": true,
    "slideshow": {
     "slide_type": ""
    },
    "tags": []
   },
   "source": [
    "## Data Owner 1"
   ]
  },
  {
   "cell_type": "code",
   "execution_count": 8,
   "metadata": {},
   "outputs": [],
   "source": [
    "tf.keras.backend.clear_session() #clears keras session to have the same mapping for DO1 and DO2 dictionaries\n",
    "\n",
    "TRAIN_SPLIT = 0.8\n",
    "VALIDATION_SPLIT = 0.2\n",
    "\n",
    "# Dataset size\n",
    "dataset_size = len(df1)\n",
    "train_size = int(dataset_size * TRAIN_SPLIT)\n",
    "test_size = dataset_size - train_size\n",
    "validation_size = int(test_size * VALIDATION_SPLIT)\n",
    "\n",
    "# Creating the dataset\n",
    "ds = tf.data.Dataset.zip((\n",
    "    tf.data.Dataset.from_tensor_slices((\n",
    "        tf.cast(df1[dense_cols].values, tf.float32),\n",
    "        tf.cast(df1[cat_cols].values, tf.int32),\n",
    "    )),\n",
    "    tf.data.Dataset.from_tensor_slices(tf.cast(to_categorical(df1['label'].values, num_classes=2), tf.float32))\n",
    ")).shuffle(buffer_size=2048)\n",
    "\n",
    "# Splitting the dataset\n",
    "ds_train = ds.take(train_size)\n",
    "ds_test = ds.skip(train_size)\n",
    "ds_valid = ds_test.take(validation_size)\n",
    "ds_test = ds_test.skip(validation_size)"
   ]
  },
  {
   "cell_type": "code",
   "execution_count": 9,
   "metadata": {
    "editable": true,
    "slideshow": {
     "slide_type": ""
    },
    "tags": []
   },
   "outputs": [],
   "source": [
    "def MLP(arch, activation='relu', out_activation='sigmoid'): \n",
    "  mlp = tf.keras.Sequential()\n",
    "  for units in arch[:-1]:\n",
    "    mlp.add(tf.keras.layers.Dense(units, activation=activation))\n",
    "  mlp.add(tf.keras.layers.Dense(arch[-1], activation=out_activation))\n",
    "  return mlp\n",
    "\n",
    "class BaseLayerModel(tf.keras.Model):\n",
    "  def __init__(self, embedding_sizes, embedding_dim, arch_bot):\n",
    "    super(BaseLayerModel, self).__init__()\n",
    "    self.emb = [Embedding(size, embedding_dim, trainable=True) for size in embedding_sizes]\n",
    "    self.bot_nn = MLP(arch_bot, out_activation='sigmoid')\n",
    "\n",
    "  def call(self, inputs):\n",
    "    input_dense, input_cat = inputs\n",
    "    emb_x = [E(tf.expand_dims(x, axis=-1)) for E, x in zip(self.emb, tf.unstack(input_cat, axis=1))]\n",
    "    dense_x = self.bot_nn(input_dense)\n",
    "    return dense_x  # Correct for binary classification\n",
    "\n",
    "# Instantiate and compile the base layer model\n",
    "base_layer_model = BaseLayerModel(\n",
    "  embedding_sizes=emb_counts,\n",
    "  embedding_dim=2,\n",
    "  arch_bot=[8, 2]\n",
    ")\n",
    "\n",
    "base_layer_model.compile(\n",
    "  optimizer=tf.keras.optimizers.legacy.Adam(learning_rate=0.0001),\n",
    "  loss=tf.keras.losses.BinaryCrossentropy(from_logits=False),\n",
    "  metrics=['accuracy', AUC(name='auc')]\n",
    ")"
   ]
  },
  {
   "cell_type": "code",
   "execution_count": 10,
   "metadata": {
    "scrolled": true
   },
   "outputs": [
    {
     "name": "stdout",
     "output_type": "stream",
     "text": [
      "Epoch 1/5\n",
      "WARNING:tensorflow:Gradients do not exist for variables ['base_layer_model/embedding/embeddings:0', 'base_layer_model/embedding_1/embeddings:0', 'base_layer_model/embedding_2/embeddings:0', 'base_layer_model/embedding_3/embeddings:0', 'base_layer_model/embedding_4/embeddings:0', 'base_layer_model/embedding_5/embeddings:0', 'base_layer_model/embedding_6/embeddings:0', 'base_layer_model/embedding_7/embeddings:0', 'base_layer_model/embedding_8/embeddings:0', 'base_layer_model/embedding_9/embeddings:0', 'base_layer_model/embedding_10/embeddings:0', 'base_layer_model/embedding_11/embeddings:0', 'base_layer_model/embedding_12/embeddings:0', 'base_layer_model/embedding_13/embeddings:0', 'base_layer_model/embedding_14/embeddings:0', 'base_layer_model/embedding_15/embeddings:0', 'base_layer_model/embedding_16/embeddings:0', 'base_layer_model/embedding_17/embeddings:0', 'base_layer_model/embedding_18/embeddings:0', 'base_layer_model/embedding_19/embeddings:0', 'base_layer_model/embedding_20/embeddings:0', 'base_layer_model/embedding_21/embeddings:0', 'base_layer_model/embedding_22/embeddings:0', 'base_layer_model/embedding_23/embeddings:0', 'base_layer_model/embedding_24/embeddings:0', 'base_layer_model/embedding_25/embeddings:0'] when minimizing the loss. If you're using `model.compile()`, did you forget to provide a `loss` argument?\n"
     ]
    },
    {
     "name": "stderr",
     "output_type": "stream",
     "text": [
      "WARNING:tensorflow:Gradients do not exist for variables ['base_layer_model/embedding/embeddings:0', 'base_layer_model/embedding_1/embeddings:0', 'base_layer_model/embedding_2/embeddings:0', 'base_layer_model/embedding_3/embeddings:0', 'base_layer_model/embedding_4/embeddings:0', 'base_layer_model/embedding_5/embeddings:0', 'base_layer_model/embedding_6/embeddings:0', 'base_layer_model/embedding_7/embeddings:0', 'base_layer_model/embedding_8/embeddings:0', 'base_layer_model/embedding_9/embeddings:0', 'base_layer_model/embedding_10/embeddings:0', 'base_layer_model/embedding_11/embeddings:0', 'base_layer_model/embedding_12/embeddings:0', 'base_layer_model/embedding_13/embeddings:0', 'base_layer_model/embedding_14/embeddings:0', 'base_layer_model/embedding_15/embeddings:0', 'base_layer_model/embedding_16/embeddings:0', 'base_layer_model/embedding_17/embeddings:0', 'base_layer_model/embedding_18/embeddings:0', 'base_layer_model/embedding_19/embeddings:0', 'base_layer_model/embedding_20/embeddings:0', 'base_layer_model/embedding_21/embeddings:0', 'base_layer_model/embedding_22/embeddings:0', 'base_layer_model/embedding_23/embeddings:0', 'base_layer_model/embedding_24/embeddings:0', 'base_layer_model/embedding_25/embeddings:0'] when minimizing the loss. If you're using `model.compile()`, did you forget to provide a `loss` argument?\n"
     ]
    },
    {
     "name": "stdout",
     "output_type": "stream",
     "text": [
      "WARNING:tensorflow:Gradients do not exist for variables ['base_layer_model/embedding/embeddings:0', 'base_layer_model/embedding_1/embeddings:0', 'base_layer_model/embedding_2/embeddings:0', 'base_layer_model/embedding_3/embeddings:0', 'base_layer_model/embedding_4/embeddings:0', 'base_layer_model/embedding_5/embeddings:0', 'base_layer_model/embedding_6/embeddings:0', 'base_layer_model/embedding_7/embeddings:0', 'base_layer_model/embedding_8/embeddings:0', 'base_layer_model/embedding_9/embeddings:0', 'base_layer_model/embedding_10/embeddings:0', 'base_layer_model/embedding_11/embeddings:0', 'base_layer_model/embedding_12/embeddings:0', 'base_layer_model/embedding_13/embeddings:0', 'base_layer_model/embedding_14/embeddings:0', 'base_layer_model/embedding_15/embeddings:0', 'base_layer_model/embedding_16/embeddings:0', 'base_layer_model/embedding_17/embeddings:0', 'base_layer_model/embedding_18/embeddings:0', 'base_layer_model/embedding_19/embeddings:0', 'base_layer_model/embedding_20/embeddings:0', 'base_layer_model/embedding_21/embeddings:0', 'base_layer_model/embedding_22/embeddings:0', 'base_layer_model/embedding_23/embeddings:0', 'base_layer_model/embedding_24/embeddings:0', 'base_layer_model/embedding_25/embeddings:0'] when minimizing the loss. If you're using `model.compile()`, did you forget to provide a `loss` argument?\n"
     ]
    },
    {
     "name": "stderr",
     "output_type": "stream",
     "text": [
      "WARNING:tensorflow:Gradients do not exist for variables ['base_layer_model/embedding/embeddings:0', 'base_layer_model/embedding_1/embeddings:0', 'base_layer_model/embedding_2/embeddings:0', 'base_layer_model/embedding_3/embeddings:0', 'base_layer_model/embedding_4/embeddings:0', 'base_layer_model/embedding_5/embeddings:0', 'base_layer_model/embedding_6/embeddings:0', 'base_layer_model/embedding_7/embeddings:0', 'base_layer_model/embedding_8/embeddings:0', 'base_layer_model/embedding_9/embeddings:0', 'base_layer_model/embedding_10/embeddings:0', 'base_layer_model/embedding_11/embeddings:0', 'base_layer_model/embedding_12/embeddings:0', 'base_layer_model/embedding_13/embeddings:0', 'base_layer_model/embedding_14/embeddings:0', 'base_layer_model/embedding_15/embeddings:0', 'base_layer_model/embedding_16/embeddings:0', 'base_layer_model/embedding_17/embeddings:0', 'base_layer_model/embedding_18/embeddings:0', 'base_layer_model/embedding_19/embeddings:0', 'base_layer_model/embedding_20/embeddings:0', 'base_layer_model/embedding_21/embeddings:0', 'base_layer_model/embedding_22/embeddings:0', 'base_layer_model/embedding_23/embeddings:0', 'base_layer_model/embedding_24/embeddings:0', 'base_layer_model/embedding_25/embeddings:0'] when minimizing the loss. If you're using `model.compile()`, did you forget to provide a `loss` argument?\n"
     ]
    },
    {
     "name": "stdout",
     "output_type": "stream",
     "text": [
      "427/427 [==============================] - 21s 39ms/step - loss: 0.7107 - accuracy: 0.5453 - auc: 0.5365 - val_loss: 0.6856 - val_accuracy: 0.6596 - val_auc: 0.6353\n",
      "Epoch 2/5\n",
      "427/427 [==============================] - 10s 23ms/step - loss: 0.6613 - accuracy: 0.7030 - auc: 0.6970 - val_loss: 0.6349 - val_accuracy: 0.7299 - val_auc: 0.7385\n",
      "Epoch 3/5\n",
      "427/427 [==============================] - 9s 22ms/step - loss: 0.6203 - accuracy: 0.7344 - auc: 0.7508 - val_loss: 0.6018 - val_accuracy: 0.7358 - val_auc: 0.7675\n",
      "Epoch 4/5\n",
      "427/427 [==============================] - 8s 19ms/step - loss: 0.5894 - accuracy: 0.7475 - auc: 0.7739 - val_loss: 0.5839 - val_accuracy: 0.7296 - val_auc: 0.7750\n",
      "Epoch 5/5\n",
      "427/427 [==============================] - 8s 18ms/step - loss: 0.5685 - accuracy: 0.7491 - auc: 0.7858 - val_loss: 0.5574 - val_accuracy: 0.7461 - val_auc: 0.7935\n"
     ]
    }
   ],
   "source": [
    "BATCH_SIZE = 128\n",
    "\n",
    "history = base_layer_model.fit(\n",
    "  ds_train.batch(BATCH_SIZE),\n",
    "  validation_data=ds_valid.batch(BATCH_SIZE),\n",
    "  callbacks=[tf.keras.callbacks.EarlyStopping(patience=6, restore_best_weights=True)],\n",
    "  epochs=5,\n",
    "  verbose=1,\n",
    ")"
   ]
  },
  {
   "cell_type": "code",
   "execution_count": 11,
   "metadata": {},
   "outputs": [
    {
     "name": "stdout",
     "output_type": "stream",
     "text": [
      "Model: \"base_layer_model\"\n",
      "_________________________________________________________________\n",
      " Layer (type)                Output Shape              Param #   \n",
      "=================================================================\n",
      " embedding (Embedding)       multiple                  1204      \n",
      "                                                                 \n",
      " embedding_1 (Embedding)     multiple                  1022      \n",
      "                                                                 \n",
      " embedding_2 (Embedding)     multiple                  114322    \n",
      "                                                                 \n",
      " embedding_3 (Embedding)     multiple                  59116     \n",
      "                                                                 \n",
      " embedding_4 (Embedding)     multiple                  330       \n",
      "                                                                 \n",
      " embedding_5 (Embedding)     multiple                  26        \n",
      "                                                                 \n",
      " embedding_6 (Embedding)     multiple                  16824     \n",
      "                                                                 \n",
      " embedding_7 (Embedding)     multiple                  580       \n",
      "                                                                 \n",
      " embedding_8 (Embedding)     multiple                  6         \n",
      "                                                                 \n",
      " embedding_9 (Embedding)     multiple                  27292     \n",
      "                                                                 \n",
      " embedding_10 (Embedding)    multiple                  8016      \n",
      "                                                                 \n",
      " embedding_11 (Embedding)    multiple                  100286    \n",
      "                                                                 \n",
      " embedding_12 (Embedding)    multiple                  5754      \n",
      "                                                                 \n",
      " embedding_13 (Embedding)    multiple                  52        \n",
      "                                                                 \n",
      " embedding_14 (Embedding)    multiple                  11356     \n",
      "                                                                 \n",
      " embedding_15 (Embedding)    multiple                  82898     \n",
      "                                                                 \n",
      " embedding_16 (Embedding)    multiple                  20        \n",
      "                                                                 \n",
      " embedding_17 (Embedding)    multiple                  5490      \n",
      "                                                                 \n",
      " embedding_18 (Embedding)    multiple                  2718      \n",
      "                                                                 \n",
      " embedding_19 (Embedding)    multiple                  8         \n",
      "                                                                 \n",
      " embedding_20 (Embedding)    multiple                  92586     \n",
      "                                                                 \n",
      " embedding_21 (Embedding)    multiple                  28        \n",
      "                                                                 \n",
      " embedding_22 (Embedding)    multiple                  28        \n",
      "                                                                 \n",
      " embedding_23 (Embedding)    multiple                  27592     \n",
      "                                                                 \n",
      " embedding_24 (Embedding)    multiple                  102       \n",
      "                                                                 \n",
      " embedding_25 (Embedding)    multiple                  21242     \n",
      "                                                                 \n",
      " sequential (Sequential)     (None, 2)                 130       \n",
      "                                                                 \n",
      "=================================================================\n",
      "Total params: 579028 (2.21 MB)\n",
      "Trainable params: 579028 (2.21 MB)\n",
      "Non-trainable params: 0 (0.00 Byte)\n",
      "_________________________________________________________________\n"
     ]
    }
   ],
   "source": [
    "base_layer_model.summary()"
   ]
  },
  {
   "cell_type": "code",
   "execution_count": 12,
   "metadata": {},
   "outputs": [
    {
     "name": "stdout",
     "output_type": "stream",
     "text": [
      "86/86 [==============================] - 3s 11ms/step - loss: 0.5608 - accuracy: 0.7498 - auc: 0.7908\n",
      "Loss: 0.5608190298080444, Accuracy: 0.7497939467430115, AUC: 0.7908199429512024\n"
     ]
    }
   ],
   "source": [
    "results = base_layer_model.evaluate(ds_test.batch(BATCH_SIZE))\n",
    "print(f'Loss: {results[0]}, Accuracy: {results[1]}, AUC: {results[2]}')"
   ]
  },
  {
   "cell_type": "code",
   "execution_count": 13,
   "metadata": {
    "scrolled": true
   },
   "outputs": [
    {
     "data": {
      "text/html": [
       "<div>\n",
       "<style scoped>\n",
       "    .dataframe tbody tr th:only-of-type {\n",
       "        vertical-align: middle;\n",
       "    }\n",
       "\n",
       "    .dataframe tbody tr th {\n",
       "        vertical-align: top;\n",
       "    }\n",
       "\n",
       "    .dataframe thead th {\n",
       "        text-align: right;\n",
       "    }\n",
       "</style>\n",
       "<table border=\"1\" class=\"dataframe\">\n",
       "  <thead>\n",
       "    <tr style=\"text-align: right;\">\n",
       "      <th></th>\n",
       "      <th>loss</th>\n",
       "      <th>accuracy</th>\n",
       "      <th>auc</th>\n",
       "      <th>val_loss</th>\n",
       "      <th>val_accuracy</th>\n",
       "      <th>val_auc</th>\n",
       "    </tr>\n",
       "  </thead>\n",
       "  <tbody>\n",
       "    <tr>\n",
       "      <th>0</th>\n",
       "      <td>0.710726</td>\n",
       "      <td>0.545266</td>\n",
       "      <td>0.536500</td>\n",
       "      <td>0.685604</td>\n",
       "      <td>0.659582</td>\n",
       "      <td>0.635257</td>\n",
       "    </tr>\n",
       "    <tr>\n",
       "      <th>1</th>\n",
       "      <td>0.661260</td>\n",
       "      <td>0.702993</td>\n",
       "      <td>0.697008</td>\n",
       "      <td>0.634859</td>\n",
       "      <td>0.729938</td>\n",
       "      <td>0.738513</td>\n",
       "    </tr>\n",
       "    <tr>\n",
       "      <th>2</th>\n",
       "      <td>0.620275</td>\n",
       "      <td>0.734356</td>\n",
       "      <td>0.750839</td>\n",
       "      <td>0.601781</td>\n",
       "      <td>0.735801</td>\n",
       "      <td>0.767465</td>\n",
       "    </tr>\n",
       "    <tr>\n",
       "      <th>3</th>\n",
       "      <td>0.589370</td>\n",
       "      <td>0.747490</td>\n",
       "      <td>0.773905</td>\n",
       "      <td>0.583856</td>\n",
       "      <td>0.729571</td>\n",
       "      <td>0.775001</td>\n",
       "    </tr>\n",
       "    <tr>\n",
       "      <th>4</th>\n",
       "      <td>0.568478</td>\n",
       "      <td>0.749084</td>\n",
       "      <td>0.785789</td>\n",
       "      <td>0.557420</td>\n",
       "      <td>0.746061</td>\n",
       "      <td>0.793537</td>\n",
       "    </tr>\n",
       "  </tbody>\n",
       "</table>\n",
       "</div>"
      ],
      "text/plain": [
       "       loss  accuracy       auc  val_loss  val_accuracy   val_auc\n",
       "0  0.710726  0.545266  0.536500  0.685604      0.659582  0.635257\n",
       "1  0.661260  0.702993  0.697008  0.634859      0.729938  0.738513\n",
       "2  0.620275  0.734356  0.750839  0.601781      0.735801  0.767465\n",
       "3  0.589370  0.747490  0.773905  0.583856      0.729571  0.775001\n",
       "4  0.568478  0.749084  0.785789  0.557420      0.746061  0.793537"
      ]
     },
     "metadata": {},
     "output_type": "display_data"
    },
    {
     "data": {
      "image/png": "[encoded data removed]",
      "text/plain": [
       "<Figure size 1000x800 with 1 Axes>"
      ]
     },
     "metadata": {},
     "output_type": "display_data"
    },
    {
     "name": "stdout",
     "output_type": "stream",
     "text": [
      "Validation AUC: 0.7929\n"
     ]
    }
   ],
   "source": [
    "loss = pd.DataFrame.from_dict(history.history)\n",
    "display(loss.head())\n",
    "\n",
    "plt.figure(figsize=(10,8))\n",
    "plt.plot(loss['loss'], label='Train Loss')\n",
    "plt.plot(loss['val_loss'], label='Validation Loss')\n",
    "\n",
    "# Plot AUC \n",
    "plt.plot(loss['auc'], label='Train AUC')\n",
    "plt.plot(loss['val_auc'], label='Validation AUC')\n",
    "\n",
    "plt.legend()\n",
    "plt.show()\n",
    "\n",
    "# Evaluate the model on the validation dataset\n",
    "val_metrics = base_layer_model.evaluate(ds_valid.batch(BATCH_SIZE), verbose=0)\n",
    "\n",
    "val_auc_index = base_layer_model.metrics_names.index('auc')\n",
    "auc_score_baseline1 = val_metrics[val_auc_index]\n",
    "\n",
    "print(f\"Validation AUC: {auc_score_baseline1:.4f}\")"
   ]
  },
  {
   "cell_type": "code",
   "execution_count": 14,
   "metadata": {},
   "outputs": [],
   "source": [
    "import numpy as np\n",
    "\n",
    "def add_noise_to_weights(weights, noise_std=0.01):\n",
    "    \"\"\"Adds Gaussian noise to a dictionary of weights.\"\"\"\n",
    "    noisy_weights = {}\n",
    "    for key, weight in weights.items():\n",
    "        # Generating Gaussian noise with the same shape as the weight\n",
    "        noise = np.random.normal(loc=0.0, scale=noise_std, size=weight.shape)\n",
    "        # Adding the noise to the weight\n",
    "        noisy_weight = weight + noise\n",
    "        noisy_weights[key] = noisy_weight\n",
    "    return noisy_weights\n",
    "\n",
    "# Extract the model's weights into a dictionary\n",
    "model_weights_dict_1 = {v.name: v.numpy() for v in base_layer_model.trainable_variables}\n",
    "\n",
    "# Add noise to the model's weights\n",
    "noisy_model_weights_dict_1 = add_noise_to_weights(model_weights_dict_1, noise_std=0.01)\n",
    "\n",
    "# Now, noisy_model_weights_dict contains the weights with added Gaussian noise"
   ]
  },
  {
   "cell_type": "code",
   "execution_count": 19,
   "metadata": {
    "scrolled": true,
    "tags": []
   },
   "outputs": [
    {
     "name": "stdout",
     "output_type": "stream",
     "text": [
      "Staging Protocol Changes...\n",
      "Starting test-domain-1 server on 0.0.0.0:53826\n",
      "Waiting for server to start."
     ]
    },
    {
     "name": "stderr",
     "output_type": "stream",
     "text": [
      "kj/filesystem-disk-unix.c++:1703: warning: PWD environment variable doesn't match current directory; pwd = /Users/alex\n"
     ]
    },
    {
     "name": "stdout",
     "output_type": "stream",
     "text": [
      "............"
     ]
    },
    {
     "name": "stderr",
     "output_type": "stream",
     "text": [
      "INFO:     Started server process [47044]\n",
      "INFO:     Waiting for application startup.\n",
      "INFO:     Application startup complete.\n",
      "INFO:     Uvicorn running on http://0.0.0.0:53826 (Press CTRL+C to quit)\n"
     ]
    },
    {
     "name": "stdout",
     "output_type": "stream",
     "text": [
      ". Done.\n",
      "WARNING: private key is based on node name: test-domain-1 in dev_mode. Don't run this in production.\n",
      "SQLite Store Path:\n",
      "!open file:///var/folders/78/1q4j7nsx4sg2djyc6d_1xq680000gn/T/7bca415d13ed4ec881f0d0aede098dbb.sqlite\n",
      "\n",
      "Creating default worker image with tag='local-dev'\n",
      "Building default worker image with tag=local-dev\n",
      "Setting up worker poolname=default-pool workers=0 image_uid=649832e58fb64586b7757ee613acceab in_memory=True\n",
      "Created default worker pool.\n",
      "Data Migrated to latest version !!!\n",
      "INFO:     127.0.0.1:59325 - \"GET /api/v2/metadata HTTP/1.1\" 200 OK\n",
      "\n"
     ]
    }
   ],
   "source": [
    "node = sy.orchestra.launch(name=\"test-domain-1\", port=\"auto\", dev_mode=True, reset=True)"
   ]
  },
  {
   "cell_type": "markdown",
   "metadata": {},
   "source": [
    "Login to the Domain"
   ]
  },
  {
   "cell_type": "code",
   "execution_count": 20,
   "metadata": {
    "scrolled": true,
    "tags": []
   },
   "outputs": [
    {
     "name": "stdout",
     "output_type": "stream",
     "text": [
      "INFO:     127.0.0.1:59327 - \"GET /api/v2/metadata HTTP/1.1\" 200 OK\n",
      "INFO:     127.0.0.1:59327 - \"GET /api/v2/metadata HTTP/1.1\" 200 OK\n",
      "Logged into <test-domain-1: High-side Domain> as GUEST\n",
      "INFO:     127.0.0.1:59327 - \"POST /api/v2/login HTTP/1.1\" 200 OK\n",
      "INFO:     127.0.0.1:59327 - \"GET /api/v2/api?verify_key=aec6ea4dfc049ceacaeeebc493167a88a200ddc367b1fa32da652444b635d21f&communication_protocol=3 HTTP/1.1\" 200 OK\n",
      "INFO:     127.0.0.1:59333 - \"POST /api/v2/api_call HTTP/1.1\" 200 OK\n",
      "Logged into <test-domain-1: High side Domain> as <info@openmined.org>\n"
     ]
    },
    {
     "data": {
      "text/html": [
       "<div class=\"alert-warning\" style=\"padding:5px;\"><strong>SyftWarning</strong>: You are using a default password. Please change the password using `[your_client].me.set_password([new_password])`.</div><br />"
      ],
      "text/plain": [
       "SyftWarning: You are using a default password. Please change the password using `[your_client].me.set_password([new_password])`."
      ]
     },
     "metadata": {},
     "output_type": "display_data"
    }
   ],
   "source": [
    "domain_client = node.login(email=\"info@openmined.org\", password=\"changethis\")"
   ]
  },
  {
   "cell_type": "markdown",
   "metadata": {},
   "source": [
    "Initialize Model Weights"
   ]
  },
  {
   "cell_type": "code",
   "execution_count": 21,
   "metadata": {},
   "outputs": [
    {
     "name": "stdout",
     "output_type": "stream",
     "text": [
      "<class 'dict'> 1e46c7034aca4502991e476ef06c01b2\n"
     ]
    }
   ],
   "source": [
    "# Convert the trained model parameters to a Syft ActionObject\n",
    "model_weights_obj = sy.ActionObject.from_obj(noisy_model_weights_dict_1)\n",
    "\n",
    "# Check the object type and attributes\n",
    "print(type(model_weights_obj.syft_action_data), model_weights_obj.id)\n"
   ]
  },
  {
   "cell_type": "code",
   "execution_count": 22,
   "metadata": {},
   "outputs": [
    {
     "name": "stdout",
     "output_type": "stream",
     "text": [
      "INFO:     127.0.0.1:59335 - \"POST /api/v2/api_call HTTP/1.1\" 200 OK\n",
      "1e46c7034aca4502991e476ef06c01b2\n"
     ]
    }
   ],
   "source": [
    "# Set the model weights ActionObject in the domain\n",
    "weight_domain_obj = domain_client.api.services.action.set(model_weights_obj)\n",
    "\n",
    "# Check the domain object attributes\n",
    "print(weight_domain_obj.id)\n"
   ]
  },
  {
   "cell_type": "markdown",
   "metadata": {},
   "source": [
    "Convert Model Weights to Syft ActionObject:"
   ]
  },
  {
   "cell_type": "markdown",
   "metadata": {},
   "source": [
    "Define a Weights Access function"
   ]
  },
  {
   "cell_type": "code",
   "execution_count": 23,
   "metadata": {
    "scrolled": true,
    "tags": []
   },
   "outputs": [
    {
     "name": "stdout",
     "output_type": "stream",
     "text": [
      "INFO:     127.0.0.1:59338 - \"POST /api/v2/api_call HTTP/1.1\" 200 OK\n",
      "INFO:     127.0.0.1:59327 - \"GET /api/v2/metadata HTTP/1.1\" 200 OK\n"
     ]
    },
    {
     "data": {
      "text/html": [
       "<div class=\"alert-success\" style=\"padding:5px;\"><strong>SyftSuccess</strong>: Syft function 'fetch_weights' successfully created. To add a code request, please create a project using `project = syft.Project(...)`, then use command `project.create_code_request`.</div><br />"
      ],
      "text/plain": [
       "SyftSuccess: Syft function 'fetch_weights' successfully created. To add a code request, please create a project using `project = syft.Project(...)`, then use command `project.create_code_request`."
      ]
     },
     "metadata": {},
     "output_type": "display_data"
    }
   ],
   "source": [
    "@sy.syft_function(\n",
    "    input_policy=sy.ExactMatch(weights=weight_domain_obj.id),\n",
    "    output_policy=sy.SingleExecutionExactOutput(),\n",
    ")\n",
    "def fetch_weights(weights):\n",
    "    # Simply return the weights; no computation needed\n",
    "    return weights\n"
   ]
  },
  {
   "cell_type": "markdown",
   "metadata": {},
   "source": [
    "Access Weights"
   ]
  },
  {
   "cell_type": "code",
   "execution_count": 24,
   "metadata": {
    "scrolled": true,
    "tags": []
   },
   "outputs": [
    {
     "name": "stdout",
     "output_type": "stream",
     "text": [
      "SyftInfo: Creating a node with n_consumers=2 (the default value)\n",
      "Staging Protocol Changes...\n",
      "SQLite Store Path:\n",
      "!open file:///var/folders/78/1q4j7nsx4sg2djyc6d_1xq680000gn/T/49edea60befb41fbae12191cfc9f6439.sqlite\n",
      "\n",
      "Creating default worker image with tag='local-dev'\n",
      "Building default worker image with tag=local-dev\n",
      "Setting up worker poolname=default-pool workers=2 image_uid=10ff95c89a08454fbc230be7847dc9e2 in_memory=True\n",
      "Created default worker pool.\n",
      "Data Migrated to latest version !!!\n",
      "Logged into <ephemeral_node_fetch_weights_5351: High side Domain> as <info@openmined.org>\n"
     ]
    },
    {
     "data": {
      "text/html": [
       "<div class=\"alert-warning\" style=\"padding:5px;\"><strong>SyftWarning</strong>: You are using a default password. Please change the password using `[your_client].me.set_password([new_password])`.</div><br />"
      ],
      "text/plain": [
       "SyftWarning: You are using a default password. Please change the password using `[your_client].me.set_password([new_password])`."
      ]
     },
     "metadata": {},
     "output_type": "display_data"
    },
    {
     "name": "stdout",
     "output_type": "stream",
     "text": [
      "INFO:     127.0.0.1:59352 - \"POST /api/v2/api_call HTTP/1.1\" 200 OK\n",
      "INFO:     127.0.0.1:59354 - \"POST /api/v2/api_call HTTP/1.1\" 200 OK\n",
      "Approving request for domain ephemeral_node_fetch_weights_5351\n",
      "SyftInfo: Landing the ephmeral node...\n",
      "SyftInfo: Node Landed!\n"
     ]
    }
   ],
   "source": [
    "weights_pointer = fetch_weights(weights=weight_domain_obj)\n",
    "weights_local = weights_pointer.get()"
   ]
  },
  {
   "cell_type": "markdown",
   "metadata": {},
   "source": [
    "Retrieve and Verify the Output"
   ]
  },
  {
   "cell_type": "markdown",
   "metadata": {},
   "source": [
    "Request and Approve Code Execution"
   ]
  },
  {
   "cell_type": "code",
   "execution_count": 25,
   "metadata": {
    "tags": []
   },
   "outputs": [
    {
     "name": "stdout",
     "output_type": "stream",
     "text": [
      "INFO:     127.0.0.1:59365 - \"POST /api/v2/api_call HTTP/1.1\" 200 OK\n",
      "INFO:     127.0.0.1:59368 - \"GET /api/v2/api?verify_key=aec6ea4dfc049ceacaeeebc493167a88a200ddc367b1fa32da652444b635d21f&communication_protocol=3 HTTP/1.1\" 200 OK\n",
      "INFO:     127.0.0.1:59370 - \"POST /api/v2/api_call HTTP/1.1\" 200 OK\n",
      "INFO:     127.0.0.1:59373 - \"POST /api/v2/api_call HTTP/1.1\" 200 OK\n",
      "INFO:     127.0.0.1:59375 - \"POST /api/v2/api_call HTTP/1.1\" 200 OK\n",
      "INFO:     127.0.0.1:59377 - \"POST /api/v2/api_call HTTP/1.1\" 200 OK\n",
      "INFO:     127.0.0.1:59380 - \"POST /api/v2/api_call HTTP/1.1\" 200 OK\n",
      "INFO:     127.0.0.1:59382 - \"POST /api/v2/api_call HTTP/1.1\" 200 OK\n",
      "INFO:     127.0.0.1:59384 - \"POST /api/v2/api_call HTTP/1.1\" 200 OK\n"
     ]
    },
    {
     "data": {
      "text/html": [
       "\n",
       "            <style>\n",
       "            .syft-request {color: #464158;}\n",
       "            </style>\n",
       "            <div class='syft-request'>\n",
       "                <h3>Request</h3>\n",
       "                <p><strong>Id: </strong>a92199189196474897b26858ad959aa3</p>\n",
       "                <p><strong>Request time: </strong>2024-03-21 15:33:50</p>\n",
       "                \n",
       "                \n",
       "                <p><strong>Status: </strong>RequestStatus.PENDING</p>\n",
       "                <p><strong>Requested on: </strong> Test-domain-1 of type <strong>                     Domain</strong></p>\n",
       "                <p><strong>Requested by:</strong> Jane Doe (info@openmined.org) </p>\n",
       "                <p><strong>Changes: </strong> Request to change <b>fetch_weights</b> (Pool Id: <b>default-pool</b>) to permission <b>RequestStatus.APPROVED</b>. Nested Requests not resolved. </p>\n",
       "            </div>\n",
       "\n",
       "            "
      ],
      "text/markdown": [
       "```python\n",
       "class Request:\n",
       "  id: str = a92199189196474897b26858ad959aa3\n",
       "  request_time: str = 2024-03-21 15:33:50\n",
       "  updated_at: str = None\n",
       "  status: str = RequestStatus.PENDING\n",
       "  changes: str = ['Request to change <b>fetch_weights</b> (Pool Id: <b>default-pool</b>) to permission <b>RequestStatus.APPROVED</b>. Nested Requests not resolved']\n",
       "  requesting_user_verify_key: str = aec6ea4dfc049ceacaeeebc493167a88a200ddc367b1fa32da652444b635d21f\n",
       "\n",
       "```"
      ],
      "text/plain": [
       "syft.service.request.request.Request"
      ]
     },
     "execution_count": 25,
     "metadata": {},
     "output_type": "execute_result"
    }
   ],
   "source": [
    "request = domain_client.code.request_code_execution(fetch_weights)\n",
    "request"
   ]
  },
  {
   "cell_type": "code",
   "execution_count": 26,
   "metadata": {
    "tags": []
   },
   "outputs": [
    {
     "name": "stdout",
     "output_type": "stream",
     "text": [
      "INFO:     127.0.0.1:59368 - \"GET /api/v2/metadata HTTP/1.1\" 200 OK\n",
      "INFO:     127.0.0.1:59386 - \"POST /api/v2/api_call HTTP/1.1\" 200 OK\n",
      "INFO:     127.0.0.1:59388 - \"POST /api/v2/api_call HTTP/1.1\" 200 OK\n",
      "INFO:     127.0.0.1:59392 - \"POST /api/v2/api_call HTTP/1.1\" 200 OK\n",
      "INFO:     127.0.0.1:59394 - \"POST /api/v2/api_call HTTP/1.1\" 200 OK\n",
      "INFO:     127.0.0.1:59396 - \"POST /api/v2/api_call HTTP/1.1\" 200 OK\n",
      "INFO:     127.0.0.1:59400 - \"POST /api/v2/api_call HTTP/1.1\" 200 OK\n",
      "INFO:     127.0.0.1:59402 - \"POST /api/v2/api_call HTTP/1.1\" 200 OK\n",
      "Approving request for domain test-domain-1\n",
      "INFO:     127.0.0.1:59406 - \"POST /api/v2/api_call HTTP/1.1\" 200 OK\n"
     ]
    },
    {
     "data": {
      "text/html": [
       "<div class=\"alert-success\" style=\"padding:5px;\"><strong>SyftSuccess</strong>: Request a92199189196474897b26858ad959aa3 changes applied</div><br />"
      ],
      "text/plain": [
       "SyftSuccess: Request a92199189196474897b26858ad959aa3 changes applied"
      ]
     },
     "execution_count": 26,
     "metadata": {},
     "output_type": "execute_result"
    }
   ],
   "source": [
    "request.approve()"
   ]
  },
  {
   "cell_type": "code",
   "execution_count": 27,
   "metadata": {
    "scrolled": true,
    "tags": []
   },
   "outputs": [
    {
     "name": "stdout",
     "output_type": "stream",
     "text": [
      "INFO:     127.0.0.1:59368 - \"GET /api/v2/api?verify_key=aec6ea4dfc049ceacaeeebc493167a88a200ddc367b1fa32da652444b635d21f&communication_protocol=3 HTTP/1.1\" 200 OK\n"
     ]
    }
   ],
   "source": [
    "domain_client._api = None\n",
    "_ = domain_client.api"
   ]
  },
  {
   "cell_type": "markdown",
   "metadata": {},
   "source": [
    "Fetching the pointer and the actual weights"
   ]
  },
  {
   "cell_type": "code",
   "execution_count": 28,
   "metadata": {
    "tags": []
   },
   "outputs": [
    {
     "name": "stdout",
     "output_type": "stream",
     "text": [
      "SyftInfo: Creating a node with n_consumers=2 (the default value)\n",
      "Staging Protocol Changes...\n",
      "SQLite Store Path:\n",
      "!open file:///var/folders/78/1q4j7nsx4sg2djyc6d_1xq680000gn/T/9c639fab0fa146cd8e4b27d07ee75dd9.sqlite\n",
      "\n",
      "Creating default worker image with tag='local-dev'\n",
      "Building default worker image with tag=local-dev\n",
      "Setting up worker poolname=default-pool workers=2 image_uid=7045e70c3de0431b894a271e2cd533cc in_memory=True\n",
      "Created default worker pool.\n",
      "Data Migrated to latest version !!!\n",
      "Logged into <ephemeral_node_fetch_weights_5777: High side Domain> as <info@openmined.org>\n"
     ]
    },
    {
     "data": {
      "text/html": [
       "<div class=\"alert-warning\" style=\"padding:5px;\"><strong>SyftWarning</strong>: You are using a default password. Please change the password using `[your_client].me.set_password([new_password])`.</div><br />"
      ],
      "text/plain": [
       "SyftWarning: You are using a default password. Please change the password using `[your_client].me.set_password([new_password])`."
      ]
     },
     "metadata": {},
     "output_type": "display_data"
    },
    {
     "name": "stdout",
     "output_type": "stream",
     "text": [
      "INFO:     127.0.0.1:59428 - \"POST /api/v2/api_call HTTP/1.1\" 200 OK\n",
      "INFO:     127.0.0.1:59430 - \"POST /api/v2/api_call HTTP/1.1\" 200 OK\n",
      "Approving request for domain ephemeral_node_fetch_weights_5777\n",
      "SyftInfo: Landing the ephmeral node...\n",
      "SyftInfo: Node Landed!\n"
     ]
    }
   ],
   "source": [
    "# Fetch the weights pointer from the domain\n",
    "weights_ptr = fetch_weights(weights=weight_domain_obj)\n",
    "\n",
    "# Retrieve the actual weights from the pointer\n",
    "weights_local = weights_ptr.get()\n"
   ]
  },
  {
   "cell_type": "markdown",
   "metadata": {},
   "source": [
    "Retrieving the Computation Result"
   ]
  },
  {
   "cell_type": "markdown",
   "metadata": {},
   "source": [
    "Cleanup and Land the Node"
   ]
  },
  {
   "cell_type": "code",
   "execution_count": 29,
   "metadata": {
    "tags": []
   },
   "outputs": [],
   "source": [
    "if node.node_type.value == \"python\":\n",
    "    node.land()"
   ]
  },
  {
   "cell_type": "markdown",
   "metadata": {
    "editable": true,
    "slideshow": {
     "slide_type": ""
    },
    "tags": []
   },
   "source": [
    "## Data Owner 2"
   ]
  },
  {
   "cell_type": "code",
   "execution_count": 30,
   "metadata": {},
   "outputs": [],
   "source": [
    "tf.keras.backend.clear_session() #clears keras session to have the same mapping for DO1 and DO2 dictionaries\n",
    "\n",
    "TRAIN_SPLIT = 0.8\n",
    "VALIDATION_SPLIT = 0.2\n",
    "\n",
    "# Dataset size\n",
    "dataset_size = len(df2)\n",
    "train_size = int(dataset_size * TRAIN_SPLIT)\n",
    "test_size = dataset_size - train_size\n",
    "validation_size = int(test_size * VALIDATION_SPLIT)\n",
    "\n",
    "# Creating the dataset\n",
    "ds = tf.data.Dataset.zip((\n",
    "    tf.data.Dataset.from_tensor_slices((\n",
    "        tf.cast(df2[dense_cols].values, tf.float32),\n",
    "        tf.cast(df2[cat_cols].values, tf.int32),\n",
    "    )),\n",
    "    tf.data.Dataset.from_tensor_slices(tf.cast(to_categorical(df2['label'].values, num_classes=2), tf.float32))\n",
    ")).shuffle(buffer_size=2048)\n",
    "\n",
    "# Splitting the dataset\n",
    "ds_train = ds.take(train_size)\n",
    "ds_test = ds.skip(train_size)\n",
    "ds_valid = ds_test.take(validation_size)\n",
    "ds_test = ds_test.skip(validation_size)"
   ]
  },
  {
   "cell_type": "code",
   "execution_count": 31,
   "metadata": {},
   "outputs": [],
   "source": [
    "def MLP(arch, activation='relu', out_activation='sigmoid'):  # Ensure this matches your task\n",
    "  mlp = tf.keras.Sequential()\n",
    "  for units in arch[:-1]:\n",
    "    mlp.add(tf.keras.layers.Dense(units, activation=activation))\n",
    "  mlp.add(tf.keras.layers.Dense(arch[-1], activation=out_activation))\n",
    "  return mlp\n",
    "\n",
    "class BaseLayerModel(tf.keras.Model):\n",
    "  def __init__(self, embedding_sizes, embedding_dim, arch_bot):\n",
    "    super(BaseLayerModel, self).__init__()\n",
    "    self.emb = [Embedding(size, embedding_dim, trainable=True) for size in embedding_sizes]\n",
    "    self.bot_nn = MLP(arch_bot, out_activation='sigmoid')\n",
    "\n",
    "  def call(self, inputs):\n",
    "    input_dense, input_cat = inputs\n",
    "    emb_x = [E(tf.expand_dims(x, axis=-1)) for E, x in zip(self.emb, tf.unstack(input_cat, axis=1))]\n",
    "    dense_x = self.bot_nn(input_dense)\n",
    "    return dense_x  # Correct for binary classification\n",
    "\n",
    "# Instantiate and compile the base layer model\n",
    "base_layer_model = BaseLayerModel(\n",
    "  embedding_sizes=emb_counts,\n",
    "  embedding_dim=2,\n",
    "  arch_bot=[8, 2]\n",
    ")\n",
    "\n",
    "base_layer_model.compile(\n",
    "  optimizer=tf.keras.optimizers.legacy.Adam(learning_rate=0.0001),\n",
    "  loss=tf.keras.losses.BinaryCrossentropy(from_logits=False),\n",
    "  metrics=['accuracy', AUC(name='auc')]\n",
    ")"
   ]
  },
  {
   "cell_type": "code",
   "execution_count": 32,
   "metadata": {},
   "outputs": [
    {
     "name": "stdout",
     "output_type": "stream",
     "text": [
      "Epoch 1/5\n",
      "WARNING:tensorflow:Gradients do not exist for variables ['base_layer_model/embedding/embeddings:0', 'base_layer_model/embedding_1/embeddings:0', 'base_layer_model/embedding_2/embeddings:0', 'base_layer_model/embedding_3/embeddings:0', 'base_layer_model/embedding_4/embeddings:0', 'base_layer_model/embedding_5/embeddings:0', 'base_layer_model/embedding_6/embeddings:0', 'base_layer_model/embedding_7/embeddings:0', 'base_layer_model/embedding_8/embeddings:0', 'base_layer_model/embedding_9/embeddings:0', 'base_layer_model/embedding_10/embeddings:0', 'base_layer_model/embedding_11/embeddings:0', 'base_layer_model/embedding_12/embeddings:0', 'base_layer_model/embedding_13/embeddings:0', 'base_layer_model/embedding_14/embeddings:0', 'base_layer_model/embedding_15/embeddings:0', 'base_layer_model/embedding_16/embeddings:0', 'base_layer_model/embedding_17/embeddings:0', 'base_layer_model/embedding_18/embeddings:0', 'base_layer_model/embedding_19/embeddings:0', 'base_layer_model/embedding_20/embeddings:0', 'base_layer_model/embedding_21/embeddings:0', 'base_layer_model/embedding_22/embeddings:0', 'base_layer_model/embedding_23/embeddings:0', 'base_layer_model/embedding_24/embeddings:0', 'base_layer_model/embedding_25/embeddings:0'] when minimizing the loss. If you're using `model.compile()`, did you forget to provide a `loss` argument?\n"
     ]
    },
    {
     "name": "stderr",
     "output_type": "stream",
     "text": [
      "WARNING:tensorflow:Gradients do not exist for variables ['base_layer_model/embedding/embeddings:0', 'base_layer_model/embedding_1/embeddings:0', 'base_layer_model/embedding_2/embeddings:0', 'base_layer_model/embedding_3/embeddings:0', 'base_layer_model/embedding_4/embeddings:0', 'base_layer_model/embedding_5/embeddings:0', 'base_layer_model/embedding_6/embeddings:0', 'base_layer_model/embedding_7/embeddings:0', 'base_layer_model/embedding_8/embeddings:0', 'base_layer_model/embedding_9/embeddings:0', 'base_layer_model/embedding_10/embeddings:0', 'base_layer_model/embedding_11/embeddings:0', 'base_layer_model/embedding_12/embeddings:0', 'base_layer_model/embedding_13/embeddings:0', 'base_layer_model/embedding_14/embeddings:0', 'base_layer_model/embedding_15/embeddings:0', 'base_layer_model/embedding_16/embeddings:0', 'base_layer_model/embedding_17/embeddings:0', 'base_layer_model/embedding_18/embeddings:0', 'base_layer_model/embedding_19/embeddings:0', 'base_layer_model/embedding_20/embeddings:0', 'base_layer_model/embedding_21/embeddings:0', 'base_layer_model/embedding_22/embeddings:0', 'base_layer_model/embedding_23/embeddings:0', 'base_layer_model/embedding_24/embeddings:0', 'base_layer_model/embedding_25/embeddings:0'] when minimizing the loss. If you're using `model.compile()`, did you forget to provide a `loss` argument?\n"
     ]
    },
    {
     "name": "stdout",
     "output_type": "stream",
     "text": [
      "WARNING:tensorflow:Gradients do not exist for variables ['base_layer_model/embedding/embeddings:0', 'base_layer_model/embedding_1/embeddings:0', 'base_layer_model/embedding_2/embeddings:0', 'base_layer_model/embedding_3/embeddings:0', 'base_layer_model/embedding_4/embeddings:0', 'base_layer_model/embedding_5/embeddings:0', 'base_layer_model/embedding_6/embeddings:0', 'base_layer_model/embedding_7/embeddings:0', 'base_layer_model/embedding_8/embeddings:0', 'base_layer_model/embedding_9/embeddings:0', 'base_layer_model/embedding_10/embeddings:0', 'base_layer_model/embedding_11/embeddings:0', 'base_layer_model/embedding_12/embeddings:0', 'base_layer_model/embedding_13/embeddings:0', 'base_layer_model/embedding_14/embeddings:0', 'base_layer_model/embedding_15/embeddings:0', 'base_layer_model/embedding_16/embeddings:0', 'base_layer_model/embedding_17/embeddings:0', 'base_layer_model/embedding_18/embeddings:0', 'base_layer_model/embedding_19/embeddings:0', 'base_layer_model/embedding_20/embeddings:0', 'base_layer_model/embedding_21/embeddings:0', 'base_layer_model/embedding_22/embeddings:0', 'base_layer_model/embedding_23/embeddings:0', 'base_layer_model/embedding_24/embeddings:0', 'base_layer_model/embedding_25/embeddings:0'] when minimizing the loss. If you're using `model.compile()`, did you forget to provide a `loss` argument?\n"
     ]
    },
    {
     "name": "stderr",
     "output_type": "stream",
     "text": [
      "WARNING:tensorflow:Gradients do not exist for variables ['base_layer_model/embedding/embeddings:0', 'base_layer_model/embedding_1/embeddings:0', 'base_layer_model/embedding_2/embeddings:0', 'base_layer_model/embedding_3/embeddings:0', 'base_layer_model/embedding_4/embeddings:0', 'base_layer_model/embedding_5/embeddings:0', 'base_layer_model/embedding_6/embeddings:0', 'base_layer_model/embedding_7/embeddings:0', 'base_layer_model/embedding_8/embeddings:0', 'base_layer_model/embedding_9/embeddings:0', 'base_layer_model/embedding_10/embeddings:0', 'base_layer_model/embedding_11/embeddings:0', 'base_layer_model/embedding_12/embeddings:0', 'base_layer_model/embedding_13/embeddings:0', 'base_layer_model/embedding_14/embeddings:0', 'base_layer_model/embedding_15/embeddings:0', 'base_layer_model/embedding_16/embeddings:0', 'base_layer_model/embedding_17/embeddings:0', 'base_layer_model/embedding_18/embeddings:0', 'base_layer_model/embedding_19/embeddings:0', 'base_layer_model/embedding_20/embeddings:0', 'base_layer_model/embedding_21/embeddings:0', 'base_layer_model/embedding_22/embeddings:0', 'base_layer_model/embedding_23/embeddings:0', 'base_layer_model/embedding_24/embeddings:0', 'base_layer_model/embedding_25/embeddings:0'] when minimizing the loss. If you're using `model.compile()`, did you forget to provide a `loss` argument?\n"
     ]
    },
    {
     "name": "stdout",
     "output_type": "stream",
     "text": [
      "427/427 [==============================] - 6s 9ms/step - loss: 0.6827 - accuracy: 0.6882 - auc: 0.6830 - val_loss: 0.6632 - val_accuracy: 0.7175 - val_auc: 0.7122\n",
      "Epoch 2/5\n",
      "427/427 [==============================] - 3s 8ms/step - loss: 0.6470 - accuracy: 0.7221 - auc: 0.7251 - val_loss: 0.6218 - val_accuracy: 0.7424 - val_auc: 0.7486\n",
      "Epoch 3/5\n",
      "427/427 [==============================] - 4s 9ms/step - loss: 0.6176 - accuracy: 0.7380 - auc: 0.7488 - val_loss: 0.5898 - val_accuracy: 0.7596 - val_auc: 0.7701\n",
      "Epoch 4/5\n",
      "427/427 [==============================] - 4s 10ms/step - loss: 0.5945 - accuracy: 0.7463 - auc: 0.7646 - val_loss: 0.5843 - val_accuracy: 0.7428 - val_auc: 0.7687\n",
      "Epoch 5/5\n",
      "427/427 [==============================] - 4s 9ms/step - loss: 0.5766 - accuracy: 0.7484 - auc: 0.7762 - val_loss: 0.5687 - val_accuracy: 0.7457 - val_auc: 0.7801\n"
     ]
    }
   ],
   "source": [
    "BATCH_SIZE = 128\n",
    "\n",
    "history = base_layer_model.fit(\n",
    "  ds_train.batch(BATCH_SIZE),\n",
    "  validation_data=ds_valid.batch(BATCH_SIZE),\n",
    "  callbacks=[tf.keras.callbacks.EarlyStopping(patience=6, restore_best_weights=True)],\n",
    "  epochs=5,\n",
    "  verbose=1,\n",
    ")"
   ]
  },
  {
   "cell_type": "code",
   "execution_count": 33,
   "metadata": {},
   "outputs": [
    {
     "name": "stdout",
     "output_type": "stream",
     "text": [
      "Model: \"base_layer_model\"\n",
      "_________________________________________________________________\n",
      " Layer (type)                Output Shape              Param #   \n",
      "=================================================================\n",
      " embedding (Embedding)       multiple                  1204      \n",
      "                                                                 \n",
      " embedding_1 (Embedding)     multiple                  1022      \n",
      "                                                                 \n",
      " embedding_2 (Embedding)     multiple                  114322    \n",
      "                                                                 \n",
      " embedding_3 (Embedding)     multiple                  59116     \n",
      "                                                                 \n",
      " embedding_4 (Embedding)     multiple                  330       \n",
      "                                                                 \n",
      " embedding_5 (Embedding)     multiple                  26        \n",
      "                                                                 \n",
      " embedding_6 (Embedding)     multiple                  16824     \n",
      "                                                                 \n",
      " embedding_7 (Embedding)     multiple                  580       \n",
      "                                                                 \n",
      " embedding_8 (Embedding)     multiple                  6         \n",
      "                                                                 \n",
      " embedding_9 (Embedding)     multiple                  27292     \n",
      "                                                                 \n",
      " embedding_10 (Embedding)    multiple                  8016      \n",
      "                                                                 \n",
      " embedding_11 (Embedding)    multiple                  100286    \n",
      "                                                                 \n",
      " embedding_12 (Embedding)    multiple                  5754      \n",
      "                                                                 \n",
      " embedding_13 (Embedding)    multiple                  52        \n",
      "                                                                 \n",
      " embedding_14 (Embedding)    multiple                  11356     \n",
      "                                                                 \n",
      " embedding_15 (Embedding)    multiple                  82898     \n",
      "                                                                 \n",
      " embedding_16 (Embedding)    multiple                  20        \n",
      "                                                                 \n",
      " embedding_17 (Embedding)    multiple                  5490      \n",
      "                                                                 \n",
      " embedding_18 (Embedding)    multiple                  2718      \n",
      "                                                                 \n",
      " embedding_19 (Embedding)    multiple                  8         \n",
      "                                                                 \n",
      " embedding_20 (Embedding)    multiple                  92586     \n",
      "                                                                 \n",
      " embedding_21 (Embedding)    multiple                  28        \n",
      "                                                                 \n",
      " embedding_22 (Embedding)    multiple                  28        \n",
      "                                                                 \n",
      " embedding_23 (Embedding)    multiple                  27592     \n",
      "                                                                 \n",
      " embedding_24 (Embedding)    multiple                  102       \n",
      "                                                                 \n",
      " embedding_25 (Embedding)    multiple                  21242     \n",
      "                                                                 \n",
      " sequential (Sequential)     (None, 2)                 130       \n",
      "                                                                 \n",
      "=================================================================\n",
      "Total params: 579028 (2.21 MB)\n",
      "Trainable params: 579028 (2.21 MB)\n",
      "Non-trainable params: 0 (0.00 Byte)\n",
      "_________________________________________________________________\n"
     ]
    }
   ],
   "source": [
    "base_layer_model.summary()"
   ]
  },
  {
   "cell_type": "code",
   "execution_count": 34,
   "metadata": {},
   "outputs": [
    {
     "name": "stdout",
     "output_type": "stream",
     "text": [
      "86/86 [==============================] - 1s 5ms/step - loss: 0.5785 - accuracy: 0.7431 - auc: 0.7749\n",
      "Loss: 0.5785147547721863, Accuracy: 0.743108332157135, AUC: 0.7748656272888184\n"
     ]
    }
   ],
   "source": [
    "results = base_layer_model.evaluate(ds_test.batch(BATCH_SIZE))\n",
    "print(f'Loss: {results[0]}, Accuracy: {results[1]}, AUC: {results[2]}')"
   ]
  },
  {
   "cell_type": "code",
   "execution_count": 35,
   "metadata": {
    "scrolled": true
   },
   "outputs": [
    {
     "data": {
      "text/html": [
       "<div>\n",
       "<style scoped>\n",
       "    .dataframe tbody tr th:only-of-type {\n",
       "        vertical-align: middle;\n",
       "    }\n",
       "\n",
       "    .dataframe tbody tr th {\n",
       "        vertical-align: top;\n",
       "    }\n",
       "\n",
       "    .dataframe thead th {\n",
       "        text-align: right;\n",
       "    }\n",
       "</style>\n",
       "<table border=\"1\" class=\"dataframe\">\n",
       "  <thead>\n",
       "    <tr style=\"text-align: right;\">\n",
       "      <th></th>\n",
       "      <th>loss</th>\n",
       "      <th>accuracy</th>\n",
       "      <th>auc</th>\n",
       "      <th>val_loss</th>\n",
       "      <th>val_accuracy</th>\n",
       "      <th>val_auc</th>\n",
       "    </tr>\n",
       "  </thead>\n",
       "  <tbody>\n",
       "    <tr>\n",
       "      <th>0</th>\n",
       "      <td>0.682711</td>\n",
       "      <td>0.688228</td>\n",
       "      <td>0.682955</td>\n",
       "      <td>0.663208</td>\n",
       "      <td>0.717479</td>\n",
       "      <td>0.712245</td>\n",
       "    </tr>\n",
       "    <tr>\n",
       "      <th>1</th>\n",
       "      <td>0.647040</td>\n",
       "      <td>0.722137</td>\n",
       "      <td>0.725073</td>\n",
       "      <td>0.621801</td>\n",
       "      <td>0.742396</td>\n",
       "      <td>0.748607</td>\n",
       "    </tr>\n",
       "    <tr>\n",
       "      <th>2</th>\n",
       "      <td>0.617635</td>\n",
       "      <td>0.737964</td>\n",
       "      <td>0.748791</td>\n",
       "      <td>0.589765</td>\n",
       "      <td>0.759619</td>\n",
       "      <td>0.770148</td>\n",
       "    </tr>\n",
       "    <tr>\n",
       "      <th>3</th>\n",
       "      <td>0.594548</td>\n",
       "      <td>0.746281</td>\n",
       "      <td>0.764624</td>\n",
       "      <td>0.584339</td>\n",
       "      <td>0.742763</td>\n",
       "      <td>0.768672</td>\n",
       "    </tr>\n",
       "    <tr>\n",
       "      <th>4</th>\n",
       "      <td>0.576613</td>\n",
       "      <td>0.748443</td>\n",
       "      <td>0.776198</td>\n",
       "      <td>0.568653</td>\n",
       "      <td>0.745694</td>\n",
       "      <td>0.780105</td>\n",
       "    </tr>\n",
       "  </tbody>\n",
       "</table>\n",
       "</div>"
      ],
      "text/plain": [
       "       loss  accuracy       auc  val_loss  val_accuracy   val_auc\n",
       "0  0.682711  0.688228  0.682955  0.663208      0.717479  0.712245\n",
       "1  0.647040  0.722137  0.725073  0.621801      0.742396  0.748607\n",
       "2  0.617635  0.737964  0.748791  0.589765      0.759619  0.770148\n",
       "3  0.594548  0.746281  0.764624  0.584339      0.742763  0.768672\n",
       "4  0.576613  0.748443  0.776198  0.568653      0.745694  0.780105"
      ]
     },
     "metadata": {},
     "output_type": "display_data"
    },
    {
     "data": {
      "image/png": "[encoded data removed]",
      "text/plain": [
       "<Figure size 1000x800 with 1 Axes>"
      ]
     },
     "metadata": {},
     "output_type": "display_data"
    },
    {
     "name": "stdout",
     "output_type": "stream",
     "text": [
      "Validation AUC: 0.7790\n"
     ]
    }
   ],
   "source": [
    "loss = pd.DataFrame.from_dict(history.history)\n",
    "display(loss.head())\n",
    "\n",
    "plt.figure(figsize=(10,8))\n",
    "plt.plot(loss['loss'], label='Train Loss')\n",
    "plt.plot(loss['val_loss'], label='Validation Loss')\n",
    "\n",
    "# Plot AUC \n",
    "plt.plot(loss['auc'], label='Train AUC')\n",
    "plt.plot(loss['val_auc'], label='Validation AUC')\n",
    "\n",
    "plt.legend()\n",
    "plt.show()\n",
    "\n",
    "# Evaluate the model on the validation dataset\n",
    "val_metrics = base_layer_model.evaluate(ds_valid.batch(BATCH_SIZE), verbose=0)\n",
    "\n",
    "val_auc_index = base_layer_model.metrics_names.index('auc')\n",
    "auc_score_baseline2 = val_metrics[val_auc_index]\n",
    "\n",
    "print(f\"Validation AUC: {auc_score_baseline2:.4f}\")"
   ]
  },
  {
   "cell_type": "code",
   "execution_count": 36,
   "metadata": {},
   "outputs": [],
   "source": [
    "import numpy as np\n",
    "\n",
    "def add_noise_to_weights(weights, noise_std=0.01):\n",
    "    \"\"\"Adds Gaussian noise to a dictionary of weights.\"\"\"\n",
    "    noisy_weights = {}\n",
    "    for key, weight in weights.items():\n",
    "        # Generating Gaussian noise with the same shape as the weight\n",
    "        noise = np.random.normal(loc=0.0, scale=noise_std, size=weight.shape)\n",
    "        # Adding the noise to the weight\n",
    "        noisy_weight = weight + noise\n",
    "        noisy_weights[key] = noisy_weight\n",
    "    return noisy_weights\n",
    "\n",
    "# Extract the model's weights into a dictionary\n",
    "model_weights_dict_2 = {v.name: v.numpy() for v in base_layer_model.trainable_variables}\n",
    "\n",
    "# Add noise to the model's weights\n",
    "noisy_model_weights_dict_2 = add_noise_to_weights(model_weights_dict_2, noise_std=0.01)\n",
    "\n",
    "# Now, noisy_model_weights_dict contains the weights with added Gaussian noise"
   ]
  },
  {
   "cell_type": "code",
   "execution_count": 37,
   "metadata": {
    "editable": true,
    "scrolled": true,
    "slideshow": {
     "slide_type": ""
    },
    "tags": []
   },
   "outputs": [
    {
     "name": "stdout",
     "output_type": "stream",
     "text": [
      "Staging Protocol Changes...\n",
      "Starting test-domain-2 server on 0.0.0.0:51584\n",
      "Waiting for server to start"
     ]
    },
    {
     "name": "stderr",
     "output_type": "stream",
     "text": [
      "kj/filesystem-disk-unix.c++:1703: warning: PWD environment variable doesn't match current directory; pwd = /Users/alex\n"
     ]
    },
    {
     "name": "stdout",
     "output_type": "stream",
     "text": [
      ".............."
     ]
    },
    {
     "name": "stderr",
     "output_type": "stream",
     "text": [
      "INFO:     Started server process [47113]\n",
      "INFO:     Waiting for application startup.\n",
      "INFO:     Application startup complete.\n",
      "INFO:     Uvicorn running on http://0.0.0.0:51584 (Press CTRL+C to quit)\n"
     ]
    },
    {
     "name": "stdout",
     "output_type": "stream",
     "text": [
      ".\n",
      "WARNING: private key is based on node name: test-domain-2 in dev_mode. Don't run this in production.\n",
      "SQLite Store Path:\n",
      "!open file:///var/folders/78/1q4j7nsx4sg2djyc6d_1xq680000gn/T/b626124c319343c882a448dac2d6953d.sqlite\n",
      "\n",
      "Creating default worker image with tag='local-dev'\n",
      "Building default worker image with tag=local-dev\n",
      "Setting up worker poolname=default-pool workers=0 image_uid=da9606dd49df49b3bdd94889ed309eee in_memory=True\n",
      "Created default worker pool.\n",
      "Data Migrated to latest version !!!\n",
      "INFO:     127.0.0.1:59473 - \"GET /api/v2/metadata HTTP/1.1\" 200 OK\n",
      " Done.\n"
     ]
    }
   ],
   "source": [
    "node_2 = sy.orchestra.launch(name=\"test-domain-2\", port=\"auto\", dev_mode=True, reset=True)"
   ]
  },
  {
   "cell_type": "markdown",
   "metadata": {},
   "source": [
    "Login to the Domain"
   ]
  },
  {
   "cell_type": "code",
   "execution_count": 38,
   "metadata": {
    "editable": true,
    "scrolled": true,
    "slideshow": {
     "slide_type": ""
    },
    "tags": []
   },
   "outputs": [
    {
     "name": "stdout",
     "output_type": "stream",
     "text": [
      "INFO:     127.0.0.1:59475 - \"GET /api/v2/metadata HTTP/1.1\" 200 OK\n",
      "INFO:     127.0.0.1:59475 - \"GET /api/v2/metadata HTTP/1.1\" 200 OK\n",
      "Logged into <test-domain-2: High-side Domain> as GUEST\n",
      "INFO:     127.0.0.1:59475 - \"POST /api/v2/login HTTP/1.1\" 200 OK\n",
      "INFO:     127.0.0.1:59475 - \"GET /api/v2/api?verify_key=0dfade1de62080fb5e584e38a1b82ca623859caaefd6f13ae821a4e5172df446&communication_protocol=3 HTTP/1.1\" 200 OK\n",
      "INFO:     127.0.0.1:59479 - \"POST /api/v2/api_call HTTP/1.1\" 200 OK\n",
      "Logged into <test-domain-2: High side Domain> as <info@openmined.org>\n"
     ]
    },
    {
     "data": {
      "text/html": [
       "<div class=\"alert-warning\" style=\"padding:5px;\"><strong>SyftWarning</strong>: You are using a default password. Please change the password using `[your_client].me.set_password([new_password])`.</div><br />"
      ],
      "text/plain": [
       "SyftWarning: You are using a default password. Please change the password using `[your_client].me.set_password([new_password])`."
      ]
     },
     "metadata": {},
     "output_type": "display_data"
    }
   ],
   "source": [
    "domain_client_2 = node_2.login(email=\"info@openmined.org\", password=\"changethis\")"
   ]
  },
  {
   "cell_type": "markdown",
   "metadata": {},
   "source": [
    "Initialize Model Weights"
   ]
  },
  {
   "cell_type": "code",
   "execution_count": 39,
   "metadata": {
    "editable": true,
    "slideshow": {
     "slide_type": ""
    },
    "tags": []
   },
   "outputs": [
    {
     "name": "stdout",
     "output_type": "stream",
     "text": [
      "<class 'dict'> 9fdab97c00f24cd9851a3d02cfdccc1a\n"
     ]
    }
   ],
   "source": [
    "# Convert the trained model parameters to a Syft ActionObject\n",
    "model_weights_obj = sy.ActionObject.from_obj(noisy_model_weights_dict_2)\n",
    "\n",
    "# Check the object type and attributes\n",
    "print(type(model_weights_obj.syft_action_data), model_weights_obj.id)\n"
   ]
  },
  {
   "cell_type": "code",
   "execution_count": 40,
   "metadata": {
    "editable": true,
    "slideshow": {
     "slide_type": ""
    },
    "tags": []
   },
   "outputs": [
    {
     "name": "stdout",
     "output_type": "stream",
     "text": [
      "INFO:     127.0.0.1:59481 - \"POST /api/v2/api_call HTTP/1.1\" 200 OK\n",
      "9fdab97c00f24cd9851a3d02cfdccc1a\n"
     ]
    }
   ],
   "source": [
    "# Set the model weights ActionObject in the domain\n",
    "weight_domain_obj = domain_client_2.api.services.action.set(model_weights_obj)\n",
    "\n",
    "# Check the domain object attributes\n",
    "print(weight_domain_obj.id)\n"
   ]
  },
  {
   "cell_type": "markdown",
   "metadata": {},
   "source": [
    "Convert Model Weights to Syft ActionObject:"
   ]
  },
  {
   "cell_type": "markdown",
   "metadata": {},
   "source": [
    "Define a Weights Access function"
   ]
  },
  {
   "cell_type": "code",
   "execution_count": 41,
   "metadata": {
    "editable": true,
    "scrolled": true,
    "slideshow": {
     "slide_type": ""
    },
    "tags": []
   },
   "outputs": [
    {
     "name": "stdout",
     "output_type": "stream",
     "text": [
      "INFO:     127.0.0.1:59483 - \"POST /api/v2/api_call HTTP/1.1\" 200 OK\n",
      "INFO:     127.0.0.1:59485 - \"POST /api/v2/api_call HTTP/1.1\" 200 OK\n",
      "INFO:     127.0.0.1:59487 - \"GET /api/v2/metadata HTTP/1.1\" 200 OK\n"
     ]
    },
    {
     "data": {
      "text/html": [
       "<div class=\"alert-success\" style=\"padding:5px;\"><strong>SyftSuccess</strong>: Syft function 'fetch_weights' successfully created. To add a code request, please create a project using `project = syft.Project(...)`, then use command `project.create_code_request`.</div><br />"
      ],
      "text/plain": [
       "SyftSuccess: Syft function 'fetch_weights' successfully created. To add a code request, please create a project using `project = syft.Project(...)`, then use command `project.create_code_request`."
      ]
     },
     "metadata": {},
     "output_type": "display_data"
    }
   ],
   "source": [
    "@sy.syft_function(\n",
    "    input_policy=sy.ExactMatch(weights=weight_domain_obj.id),\n",
    "    output_policy=sy.SingleExecutionExactOutput(),\n",
    ")\n",
    "def fetch_weights(weights):\n",
    "    # Simply return the weights; no computation needed\n",
    "    return weights\n"
   ]
  },
  {
   "cell_type": "markdown",
   "metadata": {},
   "source": [
    "Access Weights"
   ]
  },
  {
   "cell_type": "code",
   "execution_count": 42,
   "metadata": {
    "editable": true,
    "scrolled": true,
    "slideshow": {
     "slide_type": ""
    },
    "tags": []
   },
   "outputs": [
    {
     "name": "stdout",
     "output_type": "stream",
     "text": [
      "SyftInfo: Creating a node with n_consumers=2 (the default value)\n",
      "Staging Protocol Changes...\n",
      "SQLite Store Path:\n",
      "!open file:///var/folders/78/1q4j7nsx4sg2djyc6d_1xq680000gn/T/ae244cd354de4308890dc956bea99327.sqlite\n",
      "\n",
      "Creating default worker image with tag='local-dev'\n",
      "Building default worker image with tag=local-dev\n",
      "Setting up worker poolname=default-pool workers=2 image_uid=4e2279b33cbd492dbaf47a9695ea9f95 in_memory=True\n",
      "Created default worker pool.\n",
      "Data Migrated to latest version !!!\n",
      "Logged into <ephemeral_node_fetch_weights_223: High side Domain> as <info@openmined.org>\n"
     ]
    },
    {
     "data": {
      "text/html": [
       "<div class=\"alert-warning\" style=\"padding:5px;\"><strong>SyftWarning</strong>: You are using a default password. Please change the password using `[your_client].me.set_password([new_password])`.</div><br />"
      ],
      "text/plain": [
       "SyftWarning: You are using a default password. Please change the password using `[your_client].me.set_password([new_password])`."
      ]
     },
     "metadata": {},
     "output_type": "display_data"
    },
    {
     "name": "stdout",
     "output_type": "stream",
     "text": [
      "INFO:     127.0.0.1:59498 - \"POST /api/v2/api_call HTTP/1.1\" 200 OK\n",
      "INFO:     127.0.0.1:59500 - \"POST /api/v2/api_call HTTP/1.1\" 200 OK\n",
      "Approving request for domain ephemeral_node_fetch_weights_223\n",
      "SyftInfo: Landing the ephmeral node...\n",
      "SyftInfo: Node Landed!\n"
     ]
    }
   ],
   "source": [
    "weights_pointer = fetch_weights(weights=weight_domain_obj)\n",
    "weights_local_2 = weights_pointer.get()"
   ]
  },
  {
   "cell_type": "markdown",
   "metadata": {},
   "source": [
    "Retrieve and Verify the Output"
   ]
  },
  {
   "cell_type": "markdown",
   "metadata": {},
   "source": [
    "Request and Approve Code Execution"
   ]
  },
  {
   "cell_type": "code",
   "execution_count": 43,
   "metadata": {
    "editable": true,
    "slideshow": {
     "slide_type": ""
    },
    "tags": []
   },
   "outputs": [
    {
     "name": "stdout",
     "output_type": "stream",
     "text": [
      "INFO:     127.0.0.1:59511 - \"POST /api/v2/api_call HTTP/1.1\" 200 OK\n",
      "INFO:     127.0.0.1:59515 - \"GET /api/v2/api?verify_key=0dfade1de62080fb5e584e38a1b82ca623859caaefd6f13ae821a4e5172df446&communication_protocol=3 HTTP/1.1\" 200 OK\n",
      "INFO:     127.0.0.1:59517 - \"POST /api/v2/api_call HTTP/1.1\" 200 OK\n",
      "INFO:     127.0.0.1:59519 - \"POST /api/v2/api_call HTTP/1.1\" 200 OK\n",
      "INFO:     127.0.0.1:59521 - \"POST /api/v2/api_call HTTP/1.1\" 200 OK\n",
      "INFO:     127.0.0.1:59524 - \"POST /api/v2/api_call HTTP/1.1\" 200 OK\n",
      "INFO:     127.0.0.1:59526 - \"POST /api/v2/api_call HTTP/1.1\" 200 OK\n",
      "INFO:     127.0.0.1:59528 - \"POST /api/v2/api_call HTTP/1.1\" 200 OK\n",
      "INFO:     127.0.0.1:59530 - \"POST /api/v2/api_call HTTP/1.1\" 200 OK\n"
     ]
    },
    {
     "data": {
      "text/html": [
       "\n",
       "            <style>\n",
       "            .syft-request {color: #464158;}\n",
       "            </style>\n",
       "            <div class='syft-request'>\n",
       "                <h3>Request</h3>\n",
       "                <p><strong>Id: </strong>d6e6fcd4be2f431c9eace8e03f64bcd6</p>\n",
       "                <p><strong>Request time: </strong>2024-03-21 15:35:53</p>\n",
       "                \n",
       "                \n",
       "                <p><strong>Status: </strong>RequestStatus.PENDING</p>\n",
       "                <p><strong>Requested on: </strong> Test-domain-2 of type <strong>                     Domain</strong></p>\n",
       "                <p><strong>Requested by:</strong> Jane Doe (info@openmined.org) </p>\n",
       "                <p><strong>Changes: </strong> Request to change <b>fetch_weights</b> (Pool Id: <b>default-pool</b>) to permission <b>RequestStatus.APPROVED</b>. Nested Requests not resolved. </p>\n",
       "            </div>\n",
       "\n",
       "            "
      ],
      "text/markdown": [
       "```python\n",
       "class Request:\n",
       "  id: str = d6e6fcd4be2f431c9eace8e03f64bcd6\n",
       "  request_time: str = 2024-03-21 15:35:53\n",
       "  updated_at: str = None\n",
       "  status: str = RequestStatus.PENDING\n",
       "  changes: str = ['Request to change <b>fetch_weights</b> (Pool Id: <b>default-pool</b>) to permission <b>RequestStatus.APPROVED</b>. Nested Requests not resolved']\n",
       "  requesting_user_verify_key: str = 0dfade1de62080fb5e584e38a1b82ca623859caaefd6f13ae821a4e5172df446\n",
       "\n",
       "```"
      ],
      "text/plain": [
       "syft.service.request.request.Request"
      ]
     },
     "execution_count": 43,
     "metadata": {},
     "output_type": "execute_result"
    }
   ],
   "source": [
    "request = domain_client_2.code.request_code_execution(fetch_weights)\n",
    "request"
   ]
  },
  {
   "cell_type": "code",
   "execution_count": 44,
   "metadata": {
    "tags": []
   },
   "outputs": [
    {
     "name": "stdout",
     "output_type": "stream",
     "text": [
      "INFO:     127.0.0.1:59515 - \"GET /api/v2/metadata HTTP/1.1\" 200 OK\n",
      "INFO:     127.0.0.1:59532 - \"POST /api/v2/api_call HTTP/1.1\" 200 OK\n",
      "INFO:     127.0.0.1:59534 - \"POST /api/v2/api_call HTTP/1.1\" 200 OK\n",
      "INFO:     127.0.0.1:59536 - \"POST /api/v2/api_call HTTP/1.1\" 200 OK\n",
      "INFO:     127.0.0.1:59540 - \"POST /api/v2/api_call HTTP/1.1\" 200 OK\n",
      "INFO:     127.0.0.1:59542 - \"POST /api/v2/api_call HTTP/1.1\" 200 OK\n",
      "INFO:     127.0.0.1:59544 - \"POST /api/v2/api_call HTTP/1.1\" 200 OK\n",
      "INFO:     127.0.0.1:59546 - \"POST /api/v2/api_call HTTP/1.1\" 200 OK\n",
      "Approving request for domain test-domain-2\n",
      "INFO:     127.0.0.1:59548 - \"POST /api/v2/api_call HTTP/1.1\" 200 OK\n"
     ]
    },
    {
     "data": {
      "text/html": [
       "<div class=\"alert-success\" style=\"padding:5px;\"><strong>SyftSuccess</strong>: Request d6e6fcd4be2f431c9eace8e03f64bcd6 changes applied</div><br />"
      ],
      "text/plain": [
       "SyftSuccess: Request d6e6fcd4be2f431c9eace8e03f64bcd6 changes applied"
      ]
     },
     "execution_count": 44,
     "metadata": {},
     "output_type": "execute_result"
    }
   ],
   "source": [
    "request.approve()"
   ]
  },
  {
   "cell_type": "code",
   "execution_count": 45,
   "metadata": {
    "editable": true,
    "scrolled": true,
    "slideshow": {
     "slide_type": ""
    },
    "tags": []
   },
   "outputs": [
    {
     "name": "stdout",
     "output_type": "stream",
     "text": [
      "INFO:     127.0.0.1:59515 - \"GET /api/v2/api?verify_key=0dfade1de62080fb5e584e38a1b82ca623859caaefd6f13ae821a4e5172df446&communication_protocol=3 HTTP/1.1\" 200 OK\n"
     ]
    }
   ],
   "source": [
    "domain_client_2._api = None\n",
    "_ = domain_client_2.api"
   ]
  },
  {
   "cell_type": "markdown",
   "metadata": {},
   "source": [
    "Fetching the pointer and the actual weights"
   ]
  },
  {
   "cell_type": "code",
   "execution_count": 46,
   "metadata": {
    "editable": true,
    "slideshow": {
     "slide_type": ""
    },
    "tags": []
   },
   "outputs": [
    {
     "name": "stdout",
     "output_type": "stream",
     "text": [
      "SyftInfo: Creating a node with n_consumers=2 (the default value)\n",
      "Staging Protocol Changes...\n",
      "SQLite Store Path:\n",
      "!open file:///var/folders/78/1q4j7nsx4sg2djyc6d_1xq680000gn/T/08547a0dba1d4271902c50057c5b5d1d.sqlite\n",
      "\n",
      "Creating default worker image with tag='local-dev'\n",
      "Building default worker image with tag=local-dev\n",
      "Setting up worker poolname=default-pool workers=2 image_uid=9cef6bdd3a08453e8cd6e448926d0937 in_memory=True\n",
      "Created default worker pool.\n",
      "Data Migrated to latest version !!!\n",
      "Logged into <ephemeral_node_fetch_weights_1974: High side Domain> as <info@openmined.org>\n"
     ]
    },
    {
     "data": {
      "text/html": [
       "<div class=\"alert-warning\" style=\"padding:5px;\"><strong>SyftWarning</strong>: You are using a default password. Please change the password using `[your_client].me.set_password([new_password])`.</div><br />"
      ],
      "text/plain": [
       "SyftWarning: You are using a default password. Please change the password using `[your_client].me.set_password([new_password])`."
      ]
     },
     "metadata": {},
     "output_type": "display_data"
    },
    {
     "name": "stdout",
     "output_type": "stream",
     "text": [
      "INFO:     127.0.0.1:59554 - \"POST /api/v2/api_call HTTP/1.1\" 200 OK\n",
      "INFO:     127.0.0.1:59556 - \"POST /api/v2/api_call HTTP/1.1\" 200 OK\n",
      "Approving request for domain ephemeral_node_fetch_weights_1974\n",
      "SyftInfo: Landing the ephmeral node...\n",
      "SyftInfo: Node Landed!\n"
     ]
    }
   ],
   "source": [
    "# Fetch the weights pointer from the domain\n",
    "weights_ptr = fetch_weights(weights=weight_domain_obj)\n",
    "\n",
    "# Retrieve the actual weights from the pointer\n",
    "weights_local_2 = weights_ptr.get()\n"
   ]
  },
  {
   "cell_type": "markdown",
   "metadata": {},
   "source": [
    "Retrieving the Computation Result"
   ]
  },
  {
   "cell_type": "markdown",
   "metadata": {},
   "source": [
    "Cleanup and Land the Node"
   ]
  },
  {
   "cell_type": "code",
   "execution_count": 47,
   "metadata": {
    "tags": []
   },
   "outputs": [],
   "source": [
    "if node_2.node_type.value == \"python\":\n",
    "    node_2.land()"
   ]
  },
  {
   "cell_type": "markdown",
   "metadata": {
    "editable": true,
    "slideshow": {
     "slide_type": ""
    },
    "tags": []
   },
   "source": [
    "## Data Scientist"
   ]
  },
  {
   "cell_type": "code",
   "execution_count": 48,
   "metadata": {},
   "outputs": [],
   "source": [
    "weights1 = weights_local\n",
    "weights2 = weights_local_2"
   ]
  },
  {
   "cell_type": "code",
   "execution_count": 49,
   "metadata": {},
   "outputs": [],
   "source": [
    "import jax.numpy as jnp\n",
    "\n",
    "def combine_weights(weights1, weights2):\n",
    "    \"\"\"Combines two sets of weights by averaging.\"\"\"\n",
    "    global_weights = {}\n",
    "    \n",
    "    # Ensure the keys in both weight sets are identical\n",
    "    assert set(weights1.keys()) == set(weights2.keys()), \"Weight sets have different structures\"\n",
    "    \n",
    "    # Iterate through each layer's weights\n",
    "    for key in weights1:\n",
    "        layer_weights1 = weights1[key]\n",
    "        layer_weights2 = weights2[key]\n",
    "        \n",
    "        # Ensure each layer's weights have identical shapes\n",
    "        assert layer_weights1.shape == layer_weights2.shape, f\"Layer {key} has different shapes\"\n",
    "        \n",
    "        # Average the weights\n",
    "        global_weights[key] = (layer_weights1 + layer_weights2) / 2\n",
    "    \n",
    "    return global_weights\n"
   ]
  },
  {
   "cell_type": "code",
   "execution_count": 50,
   "metadata": {},
   "outputs": [],
   "source": [
    "global_weights = combine_weights(weights1, weights_local_2)"
   ]
  },
  {
   "cell_type": "markdown",
   "metadata": {},
   "source": [
    "# Data Owner 1 with Global Model Base and Local Top Layer "
   ]
  },
  {
   "cell_type": "code",
   "execution_count": 51,
   "metadata": {},
   "outputs": [],
   "source": [
    "tf.keras.backend.clear_session() #clears keras session to have the same mapping for DO1 and DO2 dictionaries\n",
    "\n",
    "TRAIN_SPLIT = 0.8\n",
    "VALIDATION_SPLIT = 0.2\n",
    "\n",
    "# Dataset size\n",
    "dataset_size = len(df1)\n",
    "train_size = int(dataset_size * TRAIN_SPLIT)\n",
    "test_size = dataset_size - train_size\n",
    "validation_size = int(test_size * VALIDATION_SPLIT)\n",
    "\n",
    "# Creating the dataset\n",
    "ds = tf.data.Dataset.zip((\n",
    "    tf.data.Dataset.from_tensor_slices((\n",
    "        tf.cast(df1[dense_cols].values, tf.float32),\n",
    "        tf.cast(df1[cat_cols].values, tf.int32),\n",
    "    )),\n",
    "    tf.data.Dataset.from_tensor_slices(tf.cast(to_categorical(df1['label'].values, num_classes=2), tf.float32))\n",
    ")).shuffle(buffer_size=2048)\n",
    "\n",
    "# Splitting the dataset\n",
    "ds_train = ds.take(train_size)\n",
    "ds_test = ds.skip(train_size)\n",
    "ds_valid = ds_test.take(validation_size)\n",
    "ds_test = ds_test.skip(validation_size)"
   ]
  },
  {
   "cell_type": "code",
   "execution_count": 52,
   "metadata": {},
   "outputs": [],
   "source": [
    "embedding_sizes = [emb_count for emb_count in emb_counts]\n",
    "\n",
    "# Model architecture parameters\n",
    "embedding_dim = 2\n",
    "arch_bot = [8, 2]  # Architecture for the bottom MLP (processing dense features)\n",
    "arch_top = [128, 64, 2]  # Architecture for the top MLP (combining embeddings and processed dense features)\n",
    "\n",
    "# Global Model Layer\n",
    "def MLP(arch, activation='relu', out_activation=None):\n",
    "    mlp = tf.keras.Sequential()\n",
    "    for units in arch[:-1]:\n",
    "        mlp.add(Dense(units, activation=activation))\n",
    "    mlp.add(Dense(arch[-1], activation=out_activation))\n",
    "    return mlp\n",
    "\n",
    "class SecondOrderFeatureInteraction(tf.keras.layers.Layer):\n",
    "    def __init__(self, self_interacation=False):\n",
    "        super(SecondOrderFeatureInteraction, self).__init__()\n",
    "        self.self_interaction = self_interaction\n",
    "\n",
    "    def call(self, inputs):\n",
    "        batch_size = tf.shape(inputs[0])[0]\n",
    "        concat_features = tf.stack(inputs, axis=1)\n",
    "        dot_products = tf.matmul(concat_features, concat_features, transpose_b=True)\n",
    "        ones = tf.ones_like(dot_products)\n",
    "        mask = tf.linalg.band_part(ones, 0, -1)\n",
    "        out_dim = int(len(inputs) * (len(inputs) + 1) / 2) if self.self_interaction else int(len(inputs) * (len(inputs) - 1) / 2)\n",
    "        flat_interactions = tf.reshape(tf.boolean_mask(dot_products, mask), (batch_size, out_dim))\n",
    "        return flat_interactions\n",
    "\n",
    "class BaseDLRM(Model):\n",
    "    def __init__(self, embedding_sizes, embedding_dim, arch_bot):\n",
    "        super(BaseDLRM, self).__init__()\n",
    "        self.emb = [Embedding(size, embedding_dim) for size in embedding_sizes]\n",
    "        self.bot_nn = MLP(arch_bot, out_activation='relu')\n",
    "\n",
    "    def call(self, inputs):\n",
    "        input_dense, input_cat = inputs\n",
    "        emb_x = [E(x) for E, x in zip(self.emb, tf.unstack(input_cat, axis=1))]\n",
    "        dense_x = self.bot_nn(input_dense)\n",
    "        return dense_x, emb_x\n",
    "\n",
    "    def update_global_weights(self, global_weights):\n",
    "        #Updates the model's weights with the provided global weights.\n",
    "        self.set_weights(global_weights)\n",
    "\n",
    "class PersonalizationModel(Model):\n",
    "    def __init__(self, arch_top):\n",
    "        super(PersonalizationModel, self).__init__()\n",
    "        self.top_nn = MLP(arch_top, out_activation='sigmoid')\n",
    "\n",
    "    def call(self, inputs):\n",
    "        dense_x, emb_x = inputs\n",
    "        z = concatenate([dense_x] + emb_x, axis=1)\n",
    "        p = self.top_nn(z)\n",
    "        return p\n",
    "\n",
    "class FederatedPersonalizedModel(Model):\n",
    "    def __init__(self, base_model, arch_top):\n",
    "        super(FederatedPersonalizedModel, self).__init__()\n",
    "        self.base_model = base_model\n",
    "        self.personalization_model = PersonalizationModel(arch_top)\n",
    "\n",
    "    def call(self, inputs):\n",
    "        base_output = self.base_model(inputs)\n",
    "        final_output = self.personalization_model(base_output)\n",
    "        return final_output\n"
   ]
  },
  {
   "cell_type": "code",
   "execution_count": 53,
   "metadata": {},
   "outputs": [],
   "source": [
    "base_model = BaseDLRM(embedding_sizes, embedding_dim, arch_bot)\n",
    "personalized_model = FederatedPersonalizedModel(base_model, arch_top)\n",
    "\n",
    "\n",
    "\n",
    "# Assuming 'base_model' and 'personalized_model' are correctly defined as before\n",
    "personalized_model.compile(\n",
    "    optimizer='adam',\n",
    "    loss='binary_crossentropy',\n",
    "    metrics=['accuracy', AUC(name='auc')]  # Correctly pass metrics as a list\n",
    ")\n"
   ]
  },
  {
   "cell_type": "code",
   "execution_count": 54,
   "metadata": {},
   "outputs": [
    {
     "name": "stdout",
     "output_type": "stream",
     "text": [
      "Epoch 1/5\n",
      "427/427 [==============================] - 6s 8ms/step - loss: 0.5267 - accuracy: 0.7569 - auc: 0.8146 - val_loss: 0.4890 - val_accuracy: 0.7739 - val_auc: 0.8452\n",
      "Epoch 2/5\n",
      "427/427 [==============================] - 6s 13ms/step - loss: 0.4095 - accuracy: 0.8190 - auc: 0.8950 - val_loss: 0.4625 - val_accuracy: 0.7882 - val_auc: 0.8652\n",
      "Epoch 3/5\n",
      "427/427 [==============================] - 6s 14ms/step - loss: 0.2830 - accuracy: 0.8812 - auc: 0.9511 - val_loss: 0.4712 - val_accuracy: 0.7922 - val_auc: 0.8666\n",
      "Epoch 4/5\n",
      "427/427 [==============================] - 6s 14ms/step - loss: 0.2204 - accuracy: 0.9081 - auc: 0.9705 - val_loss: 0.4797 - val_accuracy: 0.8014 - val_auc: 0.8731\n",
      "Epoch 5/5\n",
      "427/427 [==============================] - 6s 15ms/step - loss: 0.1856 - accuracy: 0.9210 - auc: 0.9790 - val_loss: 0.5280 - val_accuracy: 0.7955 - val_auc: 0.8682\n"
     ]
    }
   ],
   "source": [
    "BATCH_SIZE = 128\n",
    "\n",
    "history = personalized_model.fit(\n",
    "    ds_train.batch(BATCH_SIZE),\n",
    "    validation_data=ds_valid.batch(BATCH_SIZE),\n",
    "    callbacks=[\n",
    "        tf.keras.callbacks.EarlyStopping(patience=6, restore_best_weights=True)\n",
    "    ],\n",
    "    epochs=5,\n",
    "    verbose=1,\n",
    ")\n"
   ]
  },
  {
   "cell_type": "code",
   "execution_count": 55,
   "metadata": {},
   "outputs": [
    {
     "name": "stdout",
     "output_type": "stream",
     "text": [
      "Model: \"federated_personalized_model\"\n",
      "_________________________________________________________________\n",
      " Layer (type)                Output Shape              Param #   \n",
      "=================================================================\n",
      " base_dlrm (BaseDLRM)        multiple                  579028    \n",
      "                                                                 \n",
      " personalization_model (Per  multiple                  15426     \n",
      " sonalizationModel)                                              \n",
      "                                                                 \n",
      "=================================================================\n",
      "Total params: 594454 (2.27 MB)\n",
      "Trainable params: 594454 (2.27 MB)\n",
      "Non-trainable params: 0 (0.00 Byte)\n",
      "_________________________________________________________________\n"
     ]
    }
   ],
   "source": [
    "personalized_model.summary()"
   ]
  },
  {
   "cell_type": "code",
   "execution_count": 56,
   "metadata": {},
   "outputs": [
    {
     "name": "stdout",
     "output_type": "stream",
     "text": [
      "86/86 [==============================] - 1s 3ms/step - loss: 0.7051 - accuracy: 0.7253 - auc: 0.7888\n",
      "Loss: 0.7051197290420532, Accuracy: 0.7253411412239075, AUC: 0.7887747883796692\n"
     ]
    }
   ],
   "source": [
    "results = personalized_model.evaluate(ds_test.batch(BATCH_SIZE))\n",
    "print(f'Loss: {results[0]}, Accuracy: {results[1]}, AUC: {results[2]}')"
   ]
  },
  {
   "cell_type": "code",
   "execution_count": 57,
   "metadata": {},
   "outputs": [
    {
     "data": {
      "text/html": [
       "<div>\n",
       "<style scoped>\n",
       "    .dataframe tbody tr th:only-of-type {\n",
       "        vertical-align: middle;\n",
       "    }\n",
       "\n",
       "    .dataframe tbody tr th {\n",
       "        vertical-align: top;\n",
       "    }\n",
       "\n",
       "    .dataframe thead th {\n",
       "        text-align: right;\n",
       "    }\n",
       "</style>\n",
       "<table border=\"1\" class=\"dataframe\">\n",
       "  <thead>\n",
       "    <tr style=\"text-align: right;\">\n",
       "      <th></th>\n",
       "      <th>loss</th>\n",
       "      <th>accuracy</th>\n",
       "      <th>auc</th>\n",
       "      <th>val_loss</th>\n",
       "      <th>val_accuracy</th>\n",
       "      <th>val_auc</th>\n",
       "    </tr>\n",
       "  </thead>\n",
       "  <tbody>\n",
       "    <tr>\n",
       "      <th>0</th>\n",
       "      <td>0.526727</td>\n",
       "      <td>0.756870</td>\n",
       "      <td>0.814643</td>\n",
       "      <td>0.489018</td>\n",
       "      <td>0.773910</td>\n",
       "      <td>0.845175</td>\n",
       "    </tr>\n",
       "    <tr>\n",
       "      <th>1</th>\n",
       "      <td>0.409483</td>\n",
       "      <td>0.818971</td>\n",
       "      <td>0.894963</td>\n",
       "      <td>0.462453</td>\n",
       "      <td>0.788201</td>\n",
       "      <td>0.865233</td>\n",
       "    </tr>\n",
       "    <tr>\n",
       "      <th>2</th>\n",
       "      <td>0.283028</td>\n",
       "      <td>0.881201</td>\n",
       "      <td>0.951098</td>\n",
       "      <td>0.471242</td>\n",
       "      <td>0.792232</td>\n",
       "      <td>0.866586</td>\n",
       "    </tr>\n",
       "    <tr>\n",
       "      <th>3</th>\n",
       "      <td>0.220366</td>\n",
       "      <td>0.908148</td>\n",
       "      <td>0.970468</td>\n",
       "      <td>0.479663</td>\n",
       "      <td>0.801392</td>\n",
       "      <td>0.873071</td>\n",
       "    </tr>\n",
       "    <tr>\n",
       "      <th>4</th>\n",
       "      <td>0.185561</td>\n",
       "      <td>0.920990</td>\n",
       "      <td>0.979038</td>\n",
       "      <td>0.527954</td>\n",
       "      <td>0.795529</td>\n",
       "      <td>0.868170</td>\n",
       "    </tr>\n",
       "  </tbody>\n",
       "</table>\n",
       "</div>"
      ],
      "text/plain": [
       "       loss  accuracy       auc  val_loss  val_accuracy   val_auc\n",
       "0  0.526727  0.756870  0.814643  0.489018      0.773910  0.845175\n",
       "1  0.409483  0.818971  0.894963  0.462453      0.788201  0.865233\n",
       "2  0.283028  0.881201  0.951098  0.471242      0.792232  0.866586\n",
       "3  0.220366  0.908148  0.970468  0.479663      0.801392  0.873071\n",
       "4  0.185561  0.920990  0.979038  0.527954      0.795529  0.868170"
      ]
     },
     "metadata": {},
     "output_type": "display_data"
    },
    {
     "data": {
      "image/png": "[encoded data removed]",
      "text/plain": [
       "<Figure size 1000x800 with 1 Axes>"
      ]
     },
     "metadata": {},
     "output_type": "display_data"
    }
   ],
   "source": [
    "loss = pd.DataFrame.from_dict(history.history)\n",
    "display(loss.head())\n",
    "\n",
    "plt.figure(figsize=(10,8))\n",
    "plt.plot(loss['loss'], label='Train Loss')\n",
    "plt.plot(loss['val_loss'], label='Validation Loss')\n",
    "\n",
    "# Plot AUC\n",
    "plt.plot(loss['auc'], label='Train AUC')\n",
    "plt.plot(loss['val_auc'], label='Validation AUC')\n",
    "\n",
    "plt.legend()\n",
    "plt.show()\n"
   ]
  },
  {
   "cell_type": "code",
   "execution_count": 58,
   "metadata": {},
   "outputs": [
    {
     "name": "stdout",
     "output_type": "stream",
     "text": [
      "Validation AUC: 0.8665\n"
     ]
    }
   ],
   "source": [
    "# Evaluate the model on the validation dataset\n",
    "val_metrics = personalized_model.evaluate(ds_valid.batch(BATCH_SIZE), verbose=0)\n",
    "val_auc_index = personalized_model.metrics_names.index('auc')\n",
    "val_auc = val_metrics[val_auc_index]\n",
    "\n",
    "print(f\"Validation AUC: {val_auc:.4f}\")"
   ]
  },
  {
   "cell_type": "code",
   "execution_count": 59,
   "metadata": {},
   "outputs": [
    {
     "name": "stdout",
     "output_type": "stream",
     "text": [
      "Relative Improvement (RelaImpr): 125.15%\n"
     ]
    }
   ],
   "source": [
    "rela_impr = ((val_auc - 0.5) / (auc_score_baseline1 - 0.5)) * 100\n",
    "print(f\"Relative Improvement (RelaImpr): {rela_impr:.2f}%\")"
   ]
  },
  {
   "cell_type": "markdown",
   "metadata": {
    "editable": true,
    "slideshow": {
     "slide_type": ""
    },
    "tags": []
   },
   "source": [
    "# Data Owner 2 with Global Model Base and Local Top Layer "
   ]
  },
  {
   "cell_type": "code",
   "execution_count": 60,
   "metadata": {
    "editable": true,
    "slideshow": {
     "slide_type": ""
    },
    "tags": []
   },
   "outputs": [],
   "source": [
    "tf.keras.backend.clear_session() #clears keras session to have the same mapping for DO1 and DO2 dictionaries\n",
    "\n",
    "TRAIN_SPLIT = 0.8\n",
    "VALIDATION_SPLIT = 0.2\n",
    "\n",
    "# Dataset size\n",
    "dataset_size = len(df2)\n",
    "train_size = int(dataset_size * TRAIN_SPLIT)\n",
    "test_size = dataset_size - train_size\n",
    "validation_size = int(test_size * VALIDATION_SPLIT)\n",
    "\n",
    "# Creating the dataset\n",
    "ds = tf.data.Dataset.zip((\n",
    "    tf.data.Dataset.from_tensor_slices((\n",
    "        tf.cast(df2[dense_cols].values, tf.float32),\n",
    "        tf.cast(df2[cat_cols].values, tf.int32),\n",
    "    )),\n",
    "    tf.data.Dataset.from_tensor_slices(tf.cast(to_categorical(df2['label'].values, num_classes=2), tf.float32))\n",
    ")).shuffle(buffer_size=2048)\n",
    "\n",
    "# Splitting the dataset\n",
    "ds_train = ds.take(train_size)\n",
    "ds_test = ds.skip(train_size)\n",
    "ds_valid = ds_test.take(validation_size)\n",
    "ds_test = ds_test.skip(validation_size)"
   ]
  },
  {
   "cell_type": "code",
   "execution_count": 61,
   "metadata": {},
   "outputs": [],
   "source": [
    "# Global Model Layer\n",
    "\n",
    "embedding_sizes = [emb_count for emb_count in emb_counts]\n",
    "\n",
    "# Model architecture parameters\n",
    "embedding_dim = 2\n",
    "arch_bot = [8, 2]  # Architecture for the bottom MLP (processing dense features)\n",
    "arch_top = [128, 64, 2]  # Architecture for the top MLP (combining embeddings and processed dense features)\n",
    "\n",
    "def MLP(arch, activation='relu', out_activation=None):\n",
    "    mlp = tf.keras.Sequential()\n",
    "    for units in arch[:-1]:\n",
    "        mlp.add(Dense(units, activation=activation))\n",
    "    mlp.add(Dense(arch[-1], activation=out_activation))\n",
    "    return mlp\n",
    "\n",
    "class SecondOrderFeatureInteraction(tf.keras.layers.Layer):\n",
    "    def __init__(self, self_interacation=False):\n",
    "        super(SecondOrderFeatureInteraction, self).__init__()\n",
    "        self.self_interaction = self_interaction\n",
    "\n",
    "    def call(self, inputs):\n",
    "        batch_size = tf.shape(inputs[0])[0]\n",
    "        concat_features = tf.stack(inputs, axis=1)\n",
    "        dot_products = tf.matmul(concat_features, concat_features, transpose_b=True)\n",
    "        ones = tf.ones_like(dot_products)\n",
    "        mask = tf.linalg.band_part(ones, 0, -1)\n",
    "        out_dim = int(len(inputs) * (len(inputs) + 1) / 2) if self.self_interaction else int(len(inputs) * (len(inputs) - 1) / 2)\n",
    "        flat_interactions = tf.reshape(tf.boolean_mask(dot_products, mask), (batch_size, out_dim))\n",
    "        return flat_interactions\n",
    "\n",
    "class BaseDLRM(Model):\n",
    "    def __init__(self, embedding_sizes, embedding_dim, arch_bot):\n",
    "        super(BaseDLRM, self).__init__()\n",
    "        self.emb = [Embedding(size, embedding_dim) for size in embedding_sizes]\n",
    "        self.bot_nn = MLP(arch_bot, out_activation='relu')\n",
    "\n",
    "    def call(self, inputs):\n",
    "        input_dense, input_cat = inputs\n",
    "        emb_x = [E(x) for E, x in zip(self.emb, tf.unstack(input_cat, axis=1))]\n",
    "        dense_x = self.bot_nn(input_dense)\n",
    "        return dense_x, emb_x\n",
    "\n",
    "    def update_global_weights(self, global_weights):\n",
    "        #Updates the model's weights with the provided global weights.\n",
    "        self.set_weights(global_weights)\n",
    "\n",
    "class PersonalizationModel(Model):\n",
    "    def __init__(self, arch_top):\n",
    "        super(PersonalizationModel, self).__init__()\n",
    "        self.top_nn = MLP(arch_top, out_activation='sigmoid')\n",
    "\n",
    "    def call(self, inputs):\n",
    "        dense_x, emb_x = inputs\n",
    "        z = concatenate([dense_x] + emb_x, axis=1)\n",
    "        p = self.top_nn(z)\n",
    "        return p\n",
    "\n",
    "class FederatedPersonalizedModel(Model):\n",
    "    def __init__(self, base_model, arch_top):\n",
    "        super(FederatedPersonalizedModel, self).__init__()\n",
    "        self.base_model = base_model\n",
    "        self.personalization_model = PersonalizationModel(arch_top)\n",
    "\n",
    "    def call(self, inputs):\n",
    "        base_output = self.base_model(inputs)\n",
    "        final_output = self.personalization_model(base_output)\n",
    "        return final_output\n"
   ]
  },
  {
   "cell_type": "code",
   "execution_count": 62,
   "metadata": {},
   "outputs": [],
   "source": [
    "base_model = BaseDLRM(embedding_sizes, embedding_dim, arch_bot)\n",
    "personalized_model = FederatedPersonalizedModel(base_model, arch_top)\n",
    "\n",
    "\n",
    "\n",
    "# Assuming 'base_model' and 'personalized_model' are correctly defined as before\n",
    "personalized_model.compile(\n",
    "    optimizer='adam',\n",
    "    loss='binary_crossentropy',\n",
    "    metrics=['accuracy', AUC(name='auc')]  # Correctly pass metrics as a list\n",
    ")\n"
   ]
  },
  {
   "cell_type": "code",
   "execution_count": 63,
   "metadata": {},
   "outputs": [
    {
     "name": "stdout",
     "output_type": "stream",
     "text": [
      "Epoch 1/5\n",
      "427/427 [==============================] - 14s 25ms/step - loss: 0.5188 - accuracy: 0.7585 - auc: 0.8225 - val_loss: 0.4734 - val_accuracy: 0.7743 - val_auc: 0.8556\n",
      "Epoch 2/5\n",
      "427/427 [==============================] - 11s 26ms/step - loss: 0.4020 - accuracy: 0.8207 - auc: 0.8991 - val_loss: 0.4461 - val_accuracy: 0.8003 - val_auc: 0.8757\n",
      "Epoch 3/5\n",
      "427/427 [==============================] - 16s 38ms/step - loss: 0.2732 - accuracy: 0.8852 - auc: 0.9545 - val_loss: 0.4840 - val_accuracy: 0.7816 - val_auc: 0.8616\n",
      "Epoch 4/5\n",
      "427/427 [==============================] - 10s 23ms/step - loss: 0.2111 - accuracy: 0.9131 - auc: 0.9729 - val_loss: 0.4957 - val_accuracy: 0.7933 - val_auc: 0.8756\n",
      "Epoch 5/5\n",
      "427/427 [==============================] - 9s 22ms/step - loss: 0.1793 - accuracy: 0.9251 - auc: 0.9804 - val_loss: 0.4975 - val_accuracy: 0.8043 - val_auc: 0.8842\n"
     ]
    }
   ],
   "source": [
    "BATCH_SIZE = 128\n",
    "\n",
    "history =personalized_model.fit(\n",
    "    ds_train.batch(BATCH_SIZE),\n",
    "    validation_data=ds_valid.batch(BATCH_SIZE),\n",
    "    callbacks=[\n",
    "        tf.keras.callbacks.EarlyStopping(patience=6, restore_best_weights=True)\n",
    "    ],\n",
    "    epochs=5,\n",
    "    verbose=1,\n",
    ")\n"
   ]
  },
  {
   "cell_type": "code",
   "execution_count": 64,
   "metadata": {},
   "outputs": [
    {
     "name": "stdout",
     "output_type": "stream",
     "text": [
      "Model: \"federated_personalized_model\"\n",
      "_________________________________________________________________\n",
      " Layer (type)                Output Shape              Param #   \n",
      "=================================================================\n",
      " base_dlrm (BaseDLRM)        multiple                  579028    \n",
      "                                                                 \n",
      " personalization_model (Per  multiple                  15426     \n",
      " sonalizationModel)                                              \n",
      "                                                                 \n",
      "=================================================================\n",
      "Total params: 594454 (2.27 MB)\n",
      "Trainable params: 594454 (2.27 MB)\n",
      "Non-trainable params: 0 (0.00 Byte)\n",
      "_________________________________________________________________\n"
     ]
    }
   ],
   "source": [
    "personalized_model.summary()"
   ]
  },
  {
   "cell_type": "code",
   "execution_count": 65,
   "metadata": {},
   "outputs": [
    {
     "name": "stdout",
     "output_type": "stream",
     "text": [
      "86/86 [==============================] - 1s 4ms/step - loss: 0.7374 - accuracy: 0.7325 - auc: 0.7954\n",
      "Loss: 0.7374005317687988, Accuracy: 0.7324846386909485, AUC: 0.7954269647598267\n"
     ]
    }
   ],
   "source": [
    "results = personalized_model.evaluate(ds_test.batch(BATCH_SIZE))\n",
    "print(f'Loss: {results[0]}, Accuracy: {results[1]}, AUC: {results[2]}')"
   ]
  },
  {
   "cell_type": "code",
   "execution_count": 66,
   "metadata": {},
   "outputs": [
    {
     "data": {
      "text/html": [
       "<div>\n",
       "<style scoped>\n",
       "    .dataframe tbody tr th:only-of-type {\n",
       "        vertical-align: middle;\n",
       "    }\n",
       "\n",
       "    .dataframe tbody tr th {\n",
       "        vertical-align: top;\n",
       "    }\n",
       "\n",
       "    .dataframe thead th {\n",
       "        text-align: right;\n",
       "    }\n",
       "</style>\n",
       "<table border=\"1\" class=\"dataframe\">\n",
       "  <thead>\n",
       "    <tr style=\"text-align: right;\">\n",
       "      <th></th>\n",
       "      <th>loss</th>\n",
       "      <th>accuracy</th>\n",
       "      <th>auc</th>\n",
       "      <th>val_loss</th>\n",
       "      <th>val_accuracy</th>\n",
       "      <th>val_auc</th>\n",
       "    </tr>\n",
       "  </thead>\n",
       "  <tbody>\n",
       "    <tr>\n",
       "      <th>0</th>\n",
       "      <td>0.518836</td>\n",
       "      <td>0.758482</td>\n",
       "      <td>0.822457</td>\n",
       "      <td>0.473357</td>\n",
       "      <td>0.774276</td>\n",
       "      <td>0.855602</td>\n",
       "    </tr>\n",
       "    <tr>\n",
       "      <th>1</th>\n",
       "      <td>0.401951</td>\n",
       "      <td>0.820693</td>\n",
       "      <td>0.899126</td>\n",
       "      <td>0.446089</td>\n",
       "      <td>0.800293</td>\n",
       "      <td>0.875654</td>\n",
       "    </tr>\n",
       "    <tr>\n",
       "      <th>2</th>\n",
       "      <td>0.273154</td>\n",
       "      <td>0.885231</td>\n",
       "      <td>0.954542</td>\n",
       "      <td>0.483957</td>\n",
       "      <td>0.781605</td>\n",
       "      <td>0.861608</td>\n",
       "    </tr>\n",
       "    <tr>\n",
       "      <th>3</th>\n",
       "      <td>0.211065</td>\n",
       "      <td>0.913131</td>\n",
       "      <td>0.972917</td>\n",
       "      <td>0.495664</td>\n",
       "      <td>0.793331</td>\n",
       "      <td>0.875556</td>\n",
       "    </tr>\n",
       "    <tr>\n",
       "      <th>4</th>\n",
       "      <td>0.179266</td>\n",
       "      <td>0.925093</td>\n",
       "      <td>0.980396</td>\n",
       "      <td>0.497454</td>\n",
       "      <td>0.804324</td>\n",
       "      <td>0.884239</td>\n",
       "    </tr>\n",
       "  </tbody>\n",
       "</table>\n",
       "</div>"
      ],
      "text/plain": [
       "       loss  accuracy       auc  val_loss  val_accuracy   val_auc\n",
       "0  0.518836  0.758482  0.822457  0.473357      0.774276  0.855602\n",
       "1  0.401951  0.820693  0.899126  0.446089      0.800293  0.875654\n",
       "2  0.273154  0.885231  0.954542  0.483957      0.781605  0.861608\n",
       "3  0.211065  0.913131  0.972917  0.495664      0.793331  0.875556\n",
       "4  0.179266  0.925093  0.980396  0.497454      0.804324  0.884239"
      ]
     },
     "metadata": {},
     "output_type": "display_data"
    },
    {
     "data": {
      "image/png": "[encoded data removed]",
      "text/plain": [
       "<Figure size 1000x800 with 1 Axes>"
      ]
     },
     "metadata": {},
     "output_type": "display_data"
    }
   ],
   "source": [
    "loss = pd.DataFrame.from_dict(history.history)\n",
    "display(loss.head())\n",
    "\n",
    "plt.figure(figsize=(10,8))\n",
    "plt.plot(loss['loss'], label='Train Loss')\n",
    "plt.plot(loss['val_loss'], label='Validation Loss')\n",
    "\n",
    "# Plot AUC\n",
    "plt.plot(loss['auc'], label='Train AUC')\n",
    "plt.plot(loss['val_auc'], label='Validation AUC')\n",
    "\n",
    "plt.legend()\n",
    "plt.show()\n"
   ]
  },
  {
   "cell_type": "code",
   "execution_count": 67,
   "metadata": {},
   "outputs": [
    {
     "name": "stdout",
     "output_type": "stream",
     "text": [
      "Validation AUC: 0.8799\n"
     ]
    }
   ],
   "source": [
    "# Evaluate the model on the validation dataset\n",
    "val_metrics = personalized_model.evaluate(ds_valid.batch(BATCH_SIZE), verbose=0)\n",
    "val_auc_index = personalized_model.metrics_names.index('auc')\n",
    "val_auc = val_metrics[val_auc_index]\n",
    "\n",
    "print(f\"Validation AUC: {val_auc:.4f}\")\n"
   ]
  },
  {
   "cell_type": "code",
   "execution_count": 68,
   "metadata": {
    "editable": true,
    "slideshow": {
     "slide_type": ""
    },
    "tags": []
   },
   "outputs": [
    {
     "name": "stdout",
     "output_type": "stream",
     "text": [
      "Relative Improvement (RelaImpr): 136.16%\n"
     ]
    }
   ],
   "source": [
    "rela_impr = ((val_auc - 0.5) / (auc_score_baseline2 - 0.5)) * 100\n",
    "print(f\"Relative Improvement (RelaImpr): {rela_impr:.2f}%\")"
   ]
  }
 ],
 "metadata": {
  "kernelspec": {
   "display_name": "Python 3 (ipykernel)",
   "language": "python",
   "name": "python3"
  },
  "language_info": {
   "codemirror_mode": {
    "name": "ipython",
    "version": 3
   },
   "file_extension": ".py",
   "mimetype": "text/x-python",
   "name": "python",
   "nbconvert_exporter": "python",
   "pygments_lexer": "ipython3",
   "version": "3.9.18"
  }
 },
 "nbformat": 4,
 "nbformat_minor": 4
}
