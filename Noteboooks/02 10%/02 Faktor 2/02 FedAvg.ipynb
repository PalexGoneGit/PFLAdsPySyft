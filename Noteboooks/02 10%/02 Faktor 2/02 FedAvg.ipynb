{
 "cells": [
  {
   "cell_type": "markdown",
   "metadata": {
    "editable": true,
    "slideshow": {
     "slide_type": ""
    },
    "tags": []
   },
   "source": [
    "# Implementation of DLRM (10%/Faktor 2/FedAvg) "
   ]
  },
  {
   "cell_type": "markdown",
   "metadata": {
    "jp-MarkdownHeadingCollapsed": true
   },
   "source": [
    "## Imports"
   ]
  },
  {
   "cell_type": "code",
   "execution_count": 1,
   "metadata": {},
   "outputs": [
    {
     "name": "stderr",
     "output_type": "stream",
     "text": [
      "kj/filesystem-disk-unix.c++:1703: warning: PWD environment variable doesn't match current directory; pwd = /Users/alex\n"
     ]
    },
    {
     "name": "stdout",
     "output_type": "stream",
     "text": [
      "✅ The installed version of syft==0.8.4 matches the requirement >=0.8.2b0 and the requirement <0.9\n"
     ]
    }
   ],
   "source": [
    "SYFT_VERSION = \">=0.8.2.b0,<0.9\"\n",
    "package_string = f'\"syft{SYFT_VERSION}\"'\n",
    "# %pip install {package_string} -q\n",
    "\n",
    "import tensorflow as tf\n",
    "from tensorflow.keras.metrics import AUC\n",
    "# syft absolute\n",
    "import syft as sy\n",
    "\n",
    "sy.requires(SYFT_VERSION)\n",
    "\n",
    "import pandas as pd\n",
    "from sklearn import preprocessing\n",
    "from tensorflow.keras.utils import to_categorical\n",
    "from tensorflow.keras.metrics import Precision, Recall\n",
    "import matplotlib.pyplot as plt\n",
    "plt.style.use('ggplot')\n",
    "from sklearn.metrics import precision_score\n",
    "from sklearn.metrics import recall_score\n",
    "from sklearn.metrics import f1_score\n",
    "import numpy as np"
   ]
  },
  {
   "cell_type": "markdown",
   "metadata": {
    "editable": true,
    "jp-MarkdownHeadingCollapsed": true,
    "slideshow": {
     "slide_type": ""
    },
    "tags": []
   },
   "source": [
    "## Load and preprocess the data"
   ]
  },
  {
   "cell_type": "code",
   "execution_count": 2,
   "metadata": {},
   "outputs": [
    {
     "name": "stdout",
     "output_type": "stream",
     "text": [
      "Loaded rows: 136473\n"
     ]
    }
   ],
   "source": [
    "# Set the seed for reproducibility\n",
    "np.random.seed(42)\n",
    "\n",
    "# Total number of rows in the dataset (excluding the header)\n",
    "total_rows = 1364729\n",
    "\n",
    "# Number of rows to load - 10% of the total rows\n",
    "rows_to_load = total_rows // 10\n",
    "\n",
    "# Generate a sorted list of random indices to skip, aiming to load about 10% of the dataset\n",
    "skip_rows = np.sort(np.random.choice(np.arange(1, total_rows + 1), size=(total_rows - rows_to_load), replace=False))\n",
    "\n",
    "# Define the column names\n",
    "columns = ['label', *(f'I{i}' for i in range(1, 14)), *(f'C{i}' for i in range(1, 27))]\n",
    "\n",
    "# Load the dataset, skipping the selected rows\n",
    "df = pd.read_csv('/Users/alex/Thesis/New Dataset/train.txt', sep='\\t', names=columns, skiprows=skip_rows).fillna(0)\n",
    "\n",
    "# Check the loaded data\n",
    "print(f\"Loaded rows: {len(df)}\")"
   ]
  },
  {
   "cell_type": "code",
   "execution_count": 3,
   "metadata": {},
   "outputs": [
    {
     "data": {
      "text/html": [
       "<div>\n",
       "<style scoped>\n",
       "    .dataframe tbody tr th:only-of-type {\n",
       "        vertical-align: middle;\n",
       "    }\n",
       "\n",
       "    .dataframe tbody tr th {\n",
       "        vertical-align: top;\n",
       "    }\n",
       "\n",
       "    .dataframe thead th {\n",
       "        text-align: right;\n",
       "    }\n",
       "</style>\n",
       "<table border=\"1\" class=\"dataframe\">\n",
       "  <thead>\n",
       "    <tr style=\"text-align: right;\">\n",
       "      <th></th>\n",
       "      <th>label</th>\n",
       "      <th>I1</th>\n",
       "      <th>I2</th>\n",
       "      <th>I3</th>\n",
       "      <th>I4</th>\n",
       "      <th>I5</th>\n",
       "      <th>I6</th>\n",
       "      <th>I7</th>\n",
       "      <th>I8</th>\n",
       "      <th>I9</th>\n",
       "      <th>...</th>\n",
       "      <th>C17</th>\n",
       "      <th>C18</th>\n",
       "      <th>C19</th>\n",
       "      <th>C20</th>\n",
       "      <th>C21</th>\n",
       "      <th>C22</th>\n",
       "      <th>C23</th>\n",
       "      <th>C24</th>\n",
       "      <th>C25</th>\n",
       "      <th>C26</th>\n",
       "    </tr>\n",
       "  </thead>\n",
       "  <tbody>\n",
       "    <tr>\n",
       "      <th>0</th>\n",
       "      <td>0</td>\n",
       "      <td>-0.134357</td>\n",
       "      <td>-0.264834</td>\n",
       "      <td>-0.037551</td>\n",
       "      <td>-0.665336</td>\n",
       "      <td>-0.251022</td>\n",
       "      <td>-0.285512</td>\n",
       "      <td>0.022657</td>\n",
       "      <td>-0.416195</td>\n",
       "      <td>0.391602</td>\n",
       "      <td>...</td>\n",
       "      <td>e5ba7672</td>\n",
       "      <td>f54016b9</td>\n",
       "      <td>21ddcdc9</td>\n",
       "      <td>b1252a9d</td>\n",
       "      <td>07b5194c</td>\n",
       "      <td>0</td>\n",
       "      <td>3a171ecb</td>\n",
       "      <td>c5c50484</td>\n",
       "      <td>e8b83407</td>\n",
       "      <td>9727dd16</td>\n",
       "    </tr>\n",
       "    <tr>\n",
       "      <th>1</th>\n",
       "      <td>1</td>\n",
       "      <td>-0.289223</td>\n",
       "      <td>-0.057509</td>\n",
       "      <td>-0.047134</td>\n",
       "      <td>1.216693</td>\n",
       "      <td>-0.207498</td>\n",
       "      <td>-0.015080</td>\n",
       "      <td>-0.181215</td>\n",
       "      <td>0.173649</td>\n",
       "      <td>0.627000</td>\n",
       "      <td>...</td>\n",
       "      <td>e5ba7672</td>\n",
       "      <td>df00d249</td>\n",
       "      <td>0</td>\n",
       "      <td>0</td>\n",
       "      <td>f520f961</td>\n",
       "      <td>0</td>\n",
       "      <td>32c7478e</td>\n",
       "      <td>27b60b01</td>\n",
       "      <td>0</td>\n",
       "      <td>0</td>\n",
       "    </tr>\n",
       "    <tr>\n",
       "      <th>2</th>\n",
       "      <td>0</td>\n",
       "      <td>-0.289223</td>\n",
       "      <td>-0.267527</td>\n",
       "      <td>-0.043940</td>\n",
       "      <td>0.840287</td>\n",
       "      <td>-0.162964</td>\n",
       "      <td>0.024984</td>\n",
       "      <td>-0.218283</td>\n",
       "      <td>0.284245</td>\n",
       "      <td>-0.045566</td>\n",
       "      <td>...</td>\n",
       "      <td>e5ba7672</td>\n",
       "      <td>2a93f7c8</td>\n",
       "      <td>0</td>\n",
       "      <td>0</td>\n",
       "      <td>5dc9a057</td>\n",
       "      <td>0</td>\n",
       "      <td>32c7478e</td>\n",
       "      <td>90b6276f</td>\n",
       "      <td>0</td>\n",
       "      <td>0</td>\n",
       "    </tr>\n",
       "    <tr>\n",
       "      <th>3</th>\n",
       "      <td>0</td>\n",
       "      <td>-0.289223</td>\n",
       "      <td>-0.216369</td>\n",
       "      <td>-0.024773</td>\n",
       "      <td>-0.288930</td>\n",
       "      <td>-0.057373</td>\n",
       "      <td>4.218350</td>\n",
       "      <td>-0.199749</td>\n",
       "      <td>-0.453060</td>\n",
       "      <td>1.261135</td>\n",
       "      <td>...</td>\n",
       "      <td>8efede7f</td>\n",
       "      <td>5aed7436</td>\n",
       "      <td>21ddcdc9</td>\n",
       "      <td>a458ea53</td>\n",
       "      <td>3c1a8dd8</td>\n",
       "      <td>0</td>\n",
       "      <td>3a171ecb</td>\n",
       "      <td>3fdb382b</td>\n",
       "      <td>b9266ff0</td>\n",
       "      <td>49d68486</td>\n",
       "    </tr>\n",
       "    <tr>\n",
       "      <th>4</th>\n",
       "      <td>0</td>\n",
       "      <td>-0.289223</td>\n",
       "      <td>-0.219061</td>\n",
       "      <td>-0.015190</td>\n",
       "      <td>0.338413</td>\n",
       "      <td>-0.138342</td>\n",
       "      <td>-0.151965</td>\n",
       "      <td>-0.218283</td>\n",
       "      <td>-0.047543</td>\n",
       "      <td>-0.204100</td>\n",
       "      <td>...</td>\n",
       "      <td>07c540c4</td>\n",
       "      <td>0f2f9850</td>\n",
       "      <td>5fd56cf9</td>\n",
       "      <td>b1252a9d</td>\n",
       "      <td>96725293</td>\n",
       "      <td>0</td>\n",
       "      <td>32c7478e</td>\n",
       "      <td>2702453c</td>\n",
       "      <td>8b8de563</td>\n",
       "      <td>303cea07</td>\n",
       "    </tr>\n",
       "    <tr>\n",
       "      <th>...</th>\n",
       "      <td>...</td>\n",
       "      <td>...</td>\n",
       "      <td>...</td>\n",
       "      <td>...</td>\n",
       "      <td>...</td>\n",
       "      <td>...</td>\n",
       "      <td>...</td>\n",
       "      <td>...</td>\n",
       "      <td>...</td>\n",
       "      <td>...</td>\n",
       "      <td>...</td>\n",
       "      <td>...</td>\n",
       "      <td>...</td>\n",
       "      <td>...</td>\n",
       "      <td>...</td>\n",
       "      <td>...</td>\n",
       "      <td>...</td>\n",
       "      <td>...</td>\n",
       "      <td>...</td>\n",
       "      <td>...</td>\n",
       "      <td>...</td>\n",
       "    </tr>\n",
       "    <tr>\n",
       "      <th>136468</th>\n",
       "      <td>0</td>\n",
       "      <td>0.175374</td>\n",
       "      <td>-0.262142</td>\n",
       "      <td>-0.008801</td>\n",
       "      <td>1.216693</td>\n",
       "      <td>-0.269388</td>\n",
       "      <td>-0.232093</td>\n",
       "      <td>-0.051478</td>\n",
       "      <td>0.063053</td>\n",
       "      <td>1.208290</td>\n",
       "      <td>...</td>\n",
       "      <td>3486227d</td>\n",
       "      <td>ae09efbe</td>\n",
       "      <td>0</td>\n",
       "      <td>0</td>\n",
       "      <td>80d4b4fb</td>\n",
       "      <td>c9d4222a</td>\n",
       "      <td>423fab69</td>\n",
       "      <td>5ddc2c4c</td>\n",
       "      <td>0</td>\n",
       "      <td>0</td>\n",
       "    </tr>\n",
       "    <tr>\n",
       "      <th>136469</th>\n",
       "      <td>0</td>\n",
       "      <td>-0.134357</td>\n",
       "      <td>-0.259449</td>\n",
       "      <td>0.320225</td>\n",
       "      <td>-0.414399</td>\n",
       "      <td>-0.270190</td>\n",
       "      <td>-0.081853</td>\n",
       "      <td>-0.236817</td>\n",
       "      <td>0.616032</td>\n",
       "      <td>-0.386654</td>\n",
       "      <td>...</td>\n",
       "      <td>e5ba7672</td>\n",
       "      <td>6fc84bfb</td>\n",
       "      <td>0</td>\n",
       "      <td>0</td>\n",
       "      <td>5155d8a3</td>\n",
       "      <td>0</td>\n",
       "      <td>423fab69</td>\n",
       "      <td>ded4aac9</td>\n",
       "      <td>0</td>\n",
       "      <td>0</td>\n",
       "    </tr>\n",
       "    <tr>\n",
       "      <th>136470</th>\n",
       "      <td>0</td>\n",
       "      <td>-0.134357</td>\n",
       "      <td>-0.270219</td>\n",
       "      <td>-0.053523</td>\n",
       "      <td>-0.665336</td>\n",
       "      <td>-0.252656</td>\n",
       "      <td>-0.298867</td>\n",
       "      <td>-0.236817</td>\n",
       "      <td>-0.489925</td>\n",
       "      <td>-0.477931</td>\n",
       "      <td>...</td>\n",
       "      <td>d4bb7bd8</td>\n",
       "      <td>ab194a92</td>\n",
       "      <td>0</td>\n",
       "      <td>0</td>\n",
       "      <td>21c9516a</td>\n",
       "      <td>0</td>\n",
       "      <td>32c7478e</td>\n",
       "      <td>b34f3128</td>\n",
       "      <td>0</td>\n",
       "      <td>0</td>\n",
       "    </tr>\n",
       "    <tr>\n",
       "      <th>136471</th>\n",
       "      <td>0</td>\n",
       "      <td>-0.134357</td>\n",
       "      <td>-0.235216</td>\n",
       "      <td>-0.034357</td>\n",
       "      <td>0.087476</td>\n",
       "      <td>-0.270220</td>\n",
       "      <td>-0.262141</td>\n",
       "      <td>-0.236817</td>\n",
       "      <td>-0.231869</td>\n",
       "      <td>-0.444302</td>\n",
       "      <td>...</td>\n",
       "      <td>d4bb7bd8</td>\n",
       "      <td>e4ca448c</td>\n",
       "      <td>0</td>\n",
       "      <td>0</td>\n",
       "      <td>f8af07d5</td>\n",
       "      <td>ad3062eb</td>\n",
       "      <td>32c7478e</td>\n",
       "      <td>9117a34a</td>\n",
       "      <td>0</td>\n",
       "      <td>0</td>\n",
       "    </tr>\n",
       "    <tr>\n",
       "      <th>136472</th>\n",
       "      <td>0</td>\n",
       "      <td>-0.289223</td>\n",
       "      <td>-0.259449</td>\n",
       "      <td>-0.031162</td>\n",
       "      <td>0.589350</td>\n",
       "      <td>-0.213427</td>\n",
       "      <td>1.036600</td>\n",
       "      <td>-0.218283</td>\n",
       "      <td>0.136784</td>\n",
       "      <td>0.021690</td>\n",
       "      <td>...</td>\n",
       "      <td>e5ba7672</td>\n",
       "      <td>698d1c68</td>\n",
       "      <td>0</td>\n",
       "      <td>0</td>\n",
       "      <td>08119c8b</td>\n",
       "      <td>0</td>\n",
       "      <td>32c7478e</td>\n",
       "      <td>f96a556f</td>\n",
       "      <td>0</td>\n",
       "      <td>0</td>\n",
       "    </tr>\n",
       "  </tbody>\n",
       "</table>\n",
       "<p>136473 rows × 40 columns</p>\n",
       "</div>"
      ],
      "text/plain": [
       "        label        I1        I2        I3        I4        I5        I6  \\\n",
       "0           0 -0.134357 -0.264834 -0.037551 -0.665336 -0.251022 -0.285512   \n",
       "1           1 -0.289223 -0.057509 -0.047134  1.216693 -0.207498 -0.015080   \n",
       "2           0 -0.289223 -0.267527 -0.043940  0.840287 -0.162964  0.024984   \n",
       "3           0 -0.289223 -0.216369 -0.024773 -0.288930 -0.057373  4.218350   \n",
       "4           0 -0.289223 -0.219061 -0.015190  0.338413 -0.138342 -0.151965   \n",
       "...       ...       ...       ...       ...       ...       ...       ...   \n",
       "136468      0  0.175374 -0.262142 -0.008801  1.216693 -0.269388 -0.232093   \n",
       "136469      0 -0.134357 -0.259449  0.320225 -0.414399 -0.270190 -0.081853   \n",
       "136470      0 -0.134357 -0.270219 -0.053523 -0.665336 -0.252656 -0.298867   \n",
       "136471      0 -0.134357 -0.235216 -0.034357  0.087476 -0.270220 -0.262141   \n",
       "136472      0 -0.289223 -0.259449 -0.031162  0.589350 -0.213427  1.036600   \n",
       "\n",
       "              I7        I8        I9  ...       C17       C18       C19  \\\n",
       "0       0.022657 -0.416195  0.391602  ...  e5ba7672  f54016b9  21ddcdc9   \n",
       "1      -0.181215  0.173649  0.627000  ...  e5ba7672  df00d249         0   \n",
       "2      -0.218283  0.284245 -0.045566  ...  e5ba7672  2a93f7c8         0   \n",
       "3      -0.199749 -0.453060  1.261135  ...  8efede7f  5aed7436  21ddcdc9   \n",
       "4      -0.218283 -0.047543 -0.204100  ...  07c540c4  0f2f9850  5fd56cf9   \n",
       "...          ...       ...       ...  ...       ...       ...       ...   \n",
       "136468 -0.051478  0.063053  1.208290  ...  3486227d  ae09efbe         0   \n",
       "136469 -0.236817  0.616032 -0.386654  ...  e5ba7672  6fc84bfb         0   \n",
       "136470 -0.236817 -0.489925 -0.477931  ...  d4bb7bd8  ab194a92         0   \n",
       "136471 -0.236817 -0.231869 -0.444302  ...  d4bb7bd8  e4ca448c         0   \n",
       "136472 -0.218283  0.136784  0.021690  ...  e5ba7672  698d1c68         0   \n",
       "\n",
       "             C20       C21       C22       C23       C24       C25       C26  \n",
       "0       b1252a9d  07b5194c         0  3a171ecb  c5c50484  e8b83407  9727dd16  \n",
       "1              0  f520f961         0  32c7478e  27b60b01         0         0  \n",
       "2              0  5dc9a057         0  32c7478e  90b6276f         0         0  \n",
       "3       a458ea53  3c1a8dd8         0  3a171ecb  3fdb382b  b9266ff0  49d68486  \n",
       "4       b1252a9d  96725293         0  32c7478e  2702453c  8b8de563  303cea07  \n",
       "...          ...       ...       ...       ...       ...       ...       ...  \n",
       "136468         0  80d4b4fb  c9d4222a  423fab69  5ddc2c4c         0         0  \n",
       "136469         0  5155d8a3         0  423fab69  ded4aac9         0         0  \n",
       "136470         0  21c9516a         0  32c7478e  b34f3128         0         0  \n",
       "136471         0  f8af07d5  ad3062eb  32c7478e  9117a34a         0         0  \n",
       "136472         0  08119c8b         0  32c7478e  f96a556f         0         0  \n",
       "\n",
       "[136473 rows x 40 columns]"
      ]
     },
     "execution_count": 3,
     "metadata": {},
     "output_type": "execute_result"
    }
   ],
   "source": [
    "# Preprocess Dense Features\n",
    "dense_cols = [c for c in columns if 'I' in c]\n",
    "df[dense_cols] = preprocessing.StandardScaler().fit_transform(df[dense_cols])\n",
    "df"
   ]
  },
  {
   "cell_type": "code",
   "execution_count": 4,
   "metadata": {},
   "outputs": [
    {
     "data": {
      "text/html": [
       "<div>\n",
       "<style scoped>\n",
       "    .dataframe tbody tr th:only-of-type {\n",
       "        vertical-align: middle;\n",
       "    }\n",
       "\n",
       "    .dataframe tbody tr th {\n",
       "        vertical-align: top;\n",
       "    }\n",
       "\n",
       "    .dataframe thead th {\n",
       "        text-align: right;\n",
       "    }\n",
       "</style>\n",
       "<table border=\"1\" class=\"dataframe\">\n",
       "  <thead>\n",
       "    <tr style=\"text-align: right;\">\n",
       "      <th></th>\n",
       "      <th>label</th>\n",
       "      <th>I1</th>\n",
       "      <th>I2</th>\n",
       "      <th>I3</th>\n",
       "      <th>I4</th>\n",
       "      <th>I5</th>\n",
       "      <th>I6</th>\n",
       "      <th>I7</th>\n",
       "      <th>I8</th>\n",
       "      <th>I9</th>\n",
       "      <th>...</th>\n",
       "      <th>C17</th>\n",
       "      <th>C18</th>\n",
       "      <th>C19</th>\n",
       "      <th>C20</th>\n",
       "      <th>C21</th>\n",
       "      <th>C22</th>\n",
       "      <th>C23</th>\n",
       "      <th>C24</th>\n",
       "      <th>C25</th>\n",
       "      <th>C26</th>\n",
       "    </tr>\n",
       "  </thead>\n",
       "  <tbody>\n",
       "    <tr>\n",
       "      <th>0</th>\n",
       "      <td>0</td>\n",
       "      <td>-0.134357</td>\n",
       "      <td>-0.264834</td>\n",
       "      <td>-0.037551</td>\n",
       "      <td>-0.665336</td>\n",
       "      <td>-0.251022</td>\n",
       "      <td>-0.285512</td>\n",
       "      <td>0.022657</td>\n",
       "      <td>-0.416195</td>\n",
       "      <td>0.391602</td>\n",
       "      <td>...</td>\n",
       "      <td>0</td>\n",
       "      <td>0</td>\n",
       "      <td>0</td>\n",
       "      <td>0</td>\n",
       "      <td>0</td>\n",
       "      <td>0</td>\n",
       "      <td>0</td>\n",
       "      <td>0</td>\n",
       "      <td>0</td>\n",
       "      <td>0</td>\n",
       "    </tr>\n",
       "    <tr>\n",
       "      <th>1</th>\n",
       "      <td>1</td>\n",
       "      <td>-0.289223</td>\n",
       "      <td>-0.057509</td>\n",
       "      <td>-0.047134</td>\n",
       "      <td>1.216693</td>\n",
       "      <td>-0.207498</td>\n",
       "      <td>-0.015080</td>\n",
       "      <td>-0.181215</td>\n",
       "      <td>0.173649</td>\n",
       "      <td>0.627000</td>\n",
       "      <td>...</td>\n",
       "      <td>0</td>\n",
       "      <td>1</td>\n",
       "      <td>1</td>\n",
       "      <td>1</td>\n",
       "      <td>1</td>\n",
       "      <td>0</td>\n",
       "      <td>1</td>\n",
       "      <td>1</td>\n",
       "      <td>1</td>\n",
       "      <td>1</td>\n",
       "    </tr>\n",
       "    <tr>\n",
       "      <th>2</th>\n",
       "      <td>0</td>\n",
       "      <td>-0.289223</td>\n",
       "      <td>-0.267527</td>\n",
       "      <td>-0.043940</td>\n",
       "      <td>0.840287</td>\n",
       "      <td>-0.162964</td>\n",
       "      <td>0.024984</td>\n",
       "      <td>-0.218283</td>\n",
       "      <td>0.284245</td>\n",
       "      <td>-0.045566</td>\n",
       "      <td>...</td>\n",
       "      <td>0</td>\n",
       "      <td>2</td>\n",
       "      <td>1</td>\n",
       "      <td>1</td>\n",
       "      <td>2</td>\n",
       "      <td>0</td>\n",
       "      <td>1</td>\n",
       "      <td>2</td>\n",
       "      <td>1</td>\n",
       "      <td>1</td>\n",
       "    </tr>\n",
       "    <tr>\n",
       "      <th>3</th>\n",
       "      <td>0</td>\n",
       "      <td>-0.289223</td>\n",
       "      <td>-0.216369</td>\n",
       "      <td>-0.024773</td>\n",
       "      <td>-0.288930</td>\n",
       "      <td>-0.057373</td>\n",
       "      <td>4.218350</td>\n",
       "      <td>-0.199749</td>\n",
       "      <td>-0.453060</td>\n",
       "      <td>1.261135</td>\n",
       "      <td>...</td>\n",
       "      <td>1</td>\n",
       "      <td>3</td>\n",
       "      <td>0</td>\n",
       "      <td>2</td>\n",
       "      <td>3</td>\n",
       "      <td>0</td>\n",
       "      <td>0</td>\n",
       "      <td>3</td>\n",
       "      <td>2</td>\n",
       "      <td>2</td>\n",
       "    </tr>\n",
       "    <tr>\n",
       "      <th>4</th>\n",
       "      <td>0</td>\n",
       "      <td>-0.289223</td>\n",
       "      <td>-0.219061</td>\n",
       "      <td>-0.015190</td>\n",
       "      <td>0.338413</td>\n",
       "      <td>-0.138342</td>\n",
       "      <td>-0.151965</td>\n",
       "      <td>-0.218283</td>\n",
       "      <td>-0.047543</td>\n",
       "      <td>-0.204100</td>\n",
       "      <td>...</td>\n",
       "      <td>2</td>\n",
       "      <td>4</td>\n",
       "      <td>2</td>\n",
       "      <td>0</td>\n",
       "      <td>4</td>\n",
       "      <td>0</td>\n",
       "      <td>1</td>\n",
       "      <td>4</td>\n",
       "      <td>3</td>\n",
       "      <td>3</td>\n",
       "    </tr>\n",
       "    <tr>\n",
       "      <th>...</th>\n",
       "      <td>...</td>\n",
       "      <td>...</td>\n",
       "      <td>...</td>\n",
       "      <td>...</td>\n",
       "      <td>...</td>\n",
       "      <td>...</td>\n",
       "      <td>...</td>\n",
       "      <td>...</td>\n",
       "      <td>...</td>\n",
       "      <td>...</td>\n",
       "      <td>...</td>\n",
       "      <td>...</td>\n",
       "      <td>...</td>\n",
       "      <td>...</td>\n",
       "      <td>...</td>\n",
       "      <td>...</td>\n",
       "      <td>...</td>\n",
       "      <td>...</td>\n",
       "      <td>...</td>\n",
       "      <td>...</td>\n",
       "      <td>...</td>\n",
       "    </tr>\n",
       "    <tr>\n",
       "      <th>136468</th>\n",
       "      <td>0</td>\n",
       "      <td>0.175374</td>\n",
       "      <td>-0.262142</td>\n",
       "      <td>-0.008801</td>\n",
       "      <td>1.216693</td>\n",
       "      <td>-0.269388</td>\n",
       "      <td>-0.232093</td>\n",
       "      <td>-0.051478</td>\n",
       "      <td>0.063053</td>\n",
       "      <td>1.208290</td>\n",
       "      <td>...</td>\n",
       "      <td>8</td>\n",
       "      <td>91</td>\n",
       "      <td>1</td>\n",
       "      <td>1</td>\n",
       "      <td>7735</td>\n",
       "      <td>2</td>\n",
       "      <td>3</td>\n",
       "      <td>81</td>\n",
       "      <td>1</td>\n",
       "      <td>1</td>\n",
       "    </tr>\n",
       "    <tr>\n",
       "      <th>136469</th>\n",
       "      <td>0</td>\n",
       "      <td>-0.134357</td>\n",
       "      <td>-0.259449</td>\n",
       "      <td>0.320225</td>\n",
       "      <td>-0.414399</td>\n",
       "      <td>-0.270190</td>\n",
       "      <td>-0.081853</td>\n",
       "      <td>-0.236817</td>\n",
       "      <td>0.616032</td>\n",
       "      <td>-0.386654</td>\n",
       "      <td>...</td>\n",
       "      <td>0</td>\n",
       "      <td>148</td>\n",
       "      <td>1</td>\n",
       "      <td>1</td>\n",
       "      <td>1521</td>\n",
       "      <td>0</td>\n",
       "      <td>3</td>\n",
       "      <td>119</td>\n",
       "      <td>1</td>\n",
       "      <td>1</td>\n",
       "    </tr>\n",
       "    <tr>\n",
       "      <th>136470</th>\n",
       "      <td>0</td>\n",
       "      <td>-0.134357</td>\n",
       "      <td>-0.270219</td>\n",
       "      <td>-0.053523</td>\n",
       "      <td>-0.665336</td>\n",
       "      <td>-0.252656</td>\n",
       "      <td>-0.298867</td>\n",
       "      <td>-0.236817</td>\n",
       "      <td>-0.489925</td>\n",
       "      <td>-0.477931</td>\n",
       "      <td>...</td>\n",
       "      <td>6</td>\n",
       "      <td>475</td>\n",
       "      <td>1</td>\n",
       "      <td>1</td>\n",
       "      <td>70</td>\n",
       "      <td>0</td>\n",
       "      <td>1</td>\n",
       "      <td>16</td>\n",
       "      <td>1</td>\n",
       "      <td>1</td>\n",
       "    </tr>\n",
       "    <tr>\n",
       "      <th>136471</th>\n",
       "      <td>0</td>\n",
       "      <td>-0.134357</td>\n",
       "      <td>-0.235216</td>\n",
       "      <td>-0.034357</td>\n",
       "      <td>0.087476</td>\n",
       "      <td>-0.270220</td>\n",
       "      <td>-0.262141</td>\n",
       "      <td>-0.236817</td>\n",
       "      <td>-0.231869</td>\n",
       "      <td>-0.444302</td>\n",
       "      <td>...</td>\n",
       "      <td>6</td>\n",
       "      <td>280</td>\n",
       "      <td>1</td>\n",
       "      <td>1</td>\n",
       "      <td>46292</td>\n",
       "      <td>1</td>\n",
       "      <td>1</td>\n",
       "      <td>68</td>\n",
       "      <td>1</td>\n",
       "      <td>1</td>\n",
       "    </tr>\n",
       "    <tr>\n",
       "      <th>136472</th>\n",
       "      <td>0</td>\n",
       "      <td>-0.289223</td>\n",
       "      <td>-0.259449</td>\n",
       "      <td>-0.031162</td>\n",
       "      <td>0.589350</td>\n",
       "      <td>-0.213427</td>\n",
       "      <td>1.036600</td>\n",
       "      <td>-0.218283</td>\n",
       "      <td>0.136784</td>\n",
       "      <td>0.021690</td>\n",
       "      <td>...</td>\n",
       "      <td>0</td>\n",
       "      <td>78</td>\n",
       "      <td>1</td>\n",
       "      <td>1</td>\n",
       "      <td>352</td>\n",
       "      <td>0</td>\n",
       "      <td>1</td>\n",
       "      <td>98</td>\n",
       "      <td>1</td>\n",
       "      <td>1</td>\n",
       "    </tr>\n",
       "  </tbody>\n",
       "</table>\n",
       "<p>136473 rows × 40 columns</p>\n",
       "</div>"
      ],
      "text/plain": [
       "        label        I1        I2        I3        I4        I5        I6  \\\n",
       "0           0 -0.134357 -0.264834 -0.037551 -0.665336 -0.251022 -0.285512   \n",
       "1           1 -0.289223 -0.057509 -0.047134  1.216693 -0.207498 -0.015080   \n",
       "2           0 -0.289223 -0.267527 -0.043940  0.840287 -0.162964  0.024984   \n",
       "3           0 -0.289223 -0.216369 -0.024773 -0.288930 -0.057373  4.218350   \n",
       "4           0 -0.289223 -0.219061 -0.015190  0.338413 -0.138342 -0.151965   \n",
       "...       ...       ...       ...       ...       ...       ...       ...   \n",
       "136468      0  0.175374 -0.262142 -0.008801  1.216693 -0.269388 -0.232093   \n",
       "136469      0 -0.134357 -0.259449  0.320225 -0.414399 -0.270190 -0.081853   \n",
       "136470      0 -0.134357 -0.270219 -0.053523 -0.665336 -0.252656 -0.298867   \n",
       "136471      0 -0.134357 -0.235216 -0.034357  0.087476 -0.270220 -0.262141   \n",
       "136472      0 -0.289223 -0.259449 -0.031162  0.589350 -0.213427  1.036600   \n",
       "\n",
       "              I7        I8        I9  ...  C17  C18  C19  C20    C21  C22  \\\n",
       "0       0.022657 -0.416195  0.391602  ...    0    0    0    0      0    0   \n",
       "1      -0.181215  0.173649  0.627000  ...    0    1    1    1      1    0   \n",
       "2      -0.218283  0.284245 -0.045566  ...    0    2    1    1      2    0   \n",
       "3      -0.199749 -0.453060  1.261135  ...    1    3    0    2      3    0   \n",
       "4      -0.218283 -0.047543 -0.204100  ...    2    4    2    0      4    0   \n",
       "...          ...       ...       ...  ...  ...  ...  ...  ...    ...  ...   \n",
       "136468 -0.051478  0.063053  1.208290  ...    8   91    1    1   7735    2   \n",
       "136469 -0.236817  0.616032 -0.386654  ...    0  148    1    1   1521    0   \n",
       "136470 -0.236817 -0.489925 -0.477931  ...    6  475    1    1     70    0   \n",
       "136471 -0.236817 -0.231869 -0.444302  ...    6  280    1    1  46292    1   \n",
       "136472 -0.218283  0.136784  0.021690  ...    0   78    1    1    352    0   \n",
       "\n",
       "        C23  C24  C25  C26  \n",
       "0         0    0    0    0  \n",
       "1         1    1    1    1  \n",
       "2         1    2    1    1  \n",
       "3         0    3    2    2  \n",
       "4         1    4    3    3  \n",
       "...     ...  ...  ...  ...  \n",
       "136468    3   81    1    1  \n",
       "136469    3  119    1    1  \n",
       "136470    1   16    1    1  \n",
       "136471    1   68    1    1  \n",
       "136472    1   98    1    1  \n",
       "\n",
       "[136473 rows x 40 columns]"
      ]
     },
     "execution_count": 4,
     "metadata": {},
     "output_type": "execute_result"
    }
   ],
   "source": [
    "# Preprocess Categorical Features\n",
    "cat_cols = [c for c in columns if 'C' in c]\n",
    "mappings = {\n",
    "    col: dict(zip(values, range(len(values))))\n",
    "    for col, values in map(lambda col: (col, df[col].unique()), cat_cols)\n",
    "}\n",
    "for col, mapping in mappings.items():\n",
    "    df[col] = df[col].map(mapping.get)\n",
    "df"
   ]
  },
  {
   "cell_type": "code",
   "execution_count": 5,
   "metadata": {},
   "outputs": [
    {
     "name": "stdout",
     "output_type": "stream",
     "text": [
      "Baseline: 74.8177295142629%\n"
     ]
    }
   ],
   "source": [
    "label_counts = df.groupby('label')['I1'].count()\n",
    "print(f'Baseline: {max(label_counts.values) / sum(label_counts.values) * 100}%')"
   ]
  },
  {
   "cell_type": "code",
   "execution_count": 6,
   "metadata": {},
   "outputs": [
    {
     "name": "stdout",
     "output_type": "stream",
     "text": [
      "Total records: 136473\n",
      "df1 records: 68236 - with amplified features\n",
      "df2 records: 68237 - with dampened features\n"
     ]
    }
   ],
   "source": [
    "# Select halfway point for the split\n",
    "split_point = len(df) // 2\n",
    "\n",
    "# Amplify integer features in the first half by multiplying by 2\n",
    "df.loc[:split_point, 'I1':'I13'] *= 2\n",
    "\n",
    "# Dampen those integer features in the second half by dividing by 2\n",
    "df.loc[split_point:, 'I1':'I13'] /= 2\n",
    "\n",
    "# Now split the DataFrame into two parts: one with amplified features and one with dampened features\n",
    "df1 = df.iloc[:split_point].reset_index(drop=True)\n",
    "df2 = df.iloc[split_point:].reset_index(drop=True)\n",
    "\n",
    "# Verifying the manipulation\n",
    "print(f\"Total records: {len(df)}\")\n",
    "print(f\"df1 records: {len(df1)} - with amplified features\")\n",
    "print(f\"df2 records: {len(df2)} - with dampened features\")"
   ]
  },
  {
   "cell_type": "code",
   "execution_count": 7,
   "metadata": {
    "editable": true,
    "slideshow": {
     "slide_type": ""
    },
    "tags": []
   },
   "outputs": [],
   "source": [
    "dense_cols = [c for c in df.columns if 'I' in c]\n",
    "cat_cols = [c for c in df.columns if 'C' in c]\n",
    "fixed_embedding_size = 455000\n",
    "emb_counts = [len(df[c].unique()) for c in cat_cols]"
   ]
  },
  {
   "cell_type": "markdown",
   "metadata": {
    "editable": true,
    "slideshow": {
     "slide_type": ""
    },
    "tags": []
   },
   "source": [
    "## Data Owner 1"
   ]
  },
  {
   "cell_type": "code",
   "execution_count": 8,
   "metadata": {},
   "outputs": [],
   "source": [
    "tf.keras.backend.clear_session() #clears keras session to have the same mapping for DO1 and DO2 dictionaries\n",
    "\n",
    "TRAIN_SPLIT = 0.8\n",
    "VALIDATION_SPLIT = 0.2\n",
    "\n",
    "# Dataset size\n",
    "dataset_size = len(df1)\n",
    "train_size = int(dataset_size * TRAIN_SPLIT)\n",
    "test_size = dataset_size - train_size\n",
    "validation_size = int(test_size * VALIDATION_SPLIT)\n",
    "\n",
    "# Creating the dataset\n",
    "ds = tf.data.Dataset.zip((\n",
    "    tf.data.Dataset.from_tensor_slices((\n",
    "        tf.cast(df1[dense_cols].values, tf.float32),\n",
    "        tf.cast(df1[cat_cols].values, tf.int32),\n",
    "    )),\n",
    "    tf.data.Dataset.from_tensor_slices(tf.cast(to_categorical(df1['label'].values, num_classes=2), tf.float32))\n",
    ")).shuffle(buffer_size=2048)\n",
    "\n",
    "# Splitting the dataset\n",
    "ds_train = ds.take(train_size)\n",
    "ds_test = ds.skip(train_size)\n",
    "ds_valid = ds_test.take(validation_size)\n",
    "ds_test = ds_test.skip(validation_size)"
   ]
  },
  {
   "cell_type": "code",
   "execution_count": 9,
   "metadata": {
    "editable": true,
    "slideshow": {
     "slide_type": ""
    },
    "tags": []
   },
   "outputs": [],
   "source": [
    "def MLP(arch, activation='relu', out_activation=None):\n",
    "    mlp = tf.keras.Sequential()\n",
    "\n",
    "    for units in arch[:-1]:\n",
    "        mlp.add(tf.keras.layers.Dense(units, activation=activation))\n",
    "\n",
    "    mlp.add(tf.keras.layers.Dense(arch[-1], activation=out_activation))\n",
    "\n",
    "    return mlp\n",
    "\n",
    "\n",
    "class SecondOrderFeatureInteraction(tf.keras.layers.Layer):\n",
    "    def __init__(self, self_interaction=False):\n",
    "        super(SecondOrderFeatureInteraction, self).__init__()\n",
    "        self.self_interaction = self_interaction\n",
    "\n",
    "    def call(self, inputs):\n",
    "        batch_size = tf.shape(inputs[0])[0]\n",
    "        concat_features = tf.stack(inputs, axis=1)\n",
    "\n",
    "        dot_products = tf.matmul(concat_features, concat_features, transpose_b=True)\n",
    "\n",
    "        ones = tf.ones_like(dot_products)\n",
    "        mask = tf.linalg.band_part(ones, 0, -1)\n",
    "        out_dim = int(len(inputs) * (len(inputs) + 1) / 2)\n",
    "\n",
    "        if not self.self_interaction:\n",
    "            mask = mask - tf.linalg.band_part(ones, 0, 0)\n",
    "            out_dim = int(len(inputs) * (len(inputs) - 1) / 2)\n",
    "\n",
    "        flat_interactions = tf.reshape(tf.boolean_mask(dot_products, mask), (batch_size, out_dim))\n",
    "        return flat_interactions\n",
    "\n",
    "\n",
    "class DLRM(tf.keras.Model):\n",
    "    def __init__(\n",
    "            self,\n",
    "            embedding_sizes,\n",
    "            embedding_dim,\n",
    "            arch_bot,\n",
    "            arch_top,\n",
    "            self_interaction,\n",
    "    ):\n",
    "        super(DLRM, self).__init__()\n",
    "        self.emb = [tf.keras.layers.Embedding(size, embedding_dim) for size in embedding_sizes]\n",
    "        self.bot_nn = MLP(arch_bot, out_activation='relu')\n",
    "        self.top_nn = MLP(arch_top, out_activation='sigmoid')\n",
    "        self.interaction_op = SecondOrderFeatureInteraction(self_interaction)\n",
    "\n",
    "    def call(self, input):\n",
    "        input_dense, input_cat = input\n",
    "        emb_x = [E(x) for E, x in zip(self.emb, tf.unstack(input_cat, axis=1))]\n",
    "        dense_x = self.bot_nn(input_dense)\n",
    "\n",
    "        Z = self.interaction_op(emb_x + [dense_x])\n",
    "        z = tf.concat([dense_x, Z], axis=1)\n",
    "        p = self.top_nn(z)\n",
    "\n",
    "        return p"
   ]
  },
  {
   "cell_type": "code",
   "execution_count": 10,
   "metadata": {
    "editable": true,
    "slideshow": {
     "slide_type": ""
    },
    "tags": []
   },
   "outputs": [],
   "source": [
    "model = DLRM(\n",
    "    embedding_sizes=emb_counts,\n",
    "    embedding_dim=2,\n",
    "    arch_bot=[8, 2],\n",
    "    arch_top=[128, 64, 2],\n",
    "    self_interaction=False\n",
    ")\n",
    "\n",
    "model.compile(\n",
    "    optimizer=tf.keras.optimizers.legacy.Adam(learning_rate=0.0001),\n",
    "    loss=tf.keras.losses.BinaryCrossentropy(from_logits=False),\n",
    "    metrics=['accuracy', AUC(name='auc')]  \n",
    ")"
   ]
  },
  {
   "cell_type": "code",
   "execution_count": 11,
   "metadata": {},
   "outputs": [
    {
     "name": "stdout",
     "output_type": "stream",
     "text": [
      "Epoch 1/5\n",
      "427/427 [==============================] - 3s 5ms/step - loss: 0.6252 - accuracy: 0.7330 - auc: 0.7383 - val_loss: 0.5763 - val_accuracy: 0.7413 - val_auc: 0.7698\n",
      "Epoch 2/5\n",
      "427/427 [==============================] - 2s 5ms/step - loss: 0.5483 - accuracy: 0.7466 - auc: 0.7980 - val_loss: 0.5400 - val_accuracy: 0.7398 - val_auc: 0.8060\n",
      "Epoch 3/5\n",
      "427/427 [==============================] - 2s 5ms/step - loss: 0.5060 - accuracy: 0.7563 - auc: 0.8354 - val_loss: 0.5090 - val_accuracy: 0.7560 - val_auc: 0.8293\n",
      "Epoch 4/5\n",
      "427/427 [==============================] - 2s 5ms/step - loss: 0.4631 - accuracy: 0.7815 - auc: 0.8639 - val_loss: 0.4942 - val_accuracy: 0.7699 - val_auc: 0.8427\n",
      "Epoch 5/5\n",
      "427/427 [==============================] - 2s 5ms/step - loss: 0.4153 - accuracy: 0.8142 - auc: 0.8931 - val_loss: 0.4998 - val_accuracy: 0.7640 - val_auc: 0.8448\n"
     ]
    }
   ],
   "source": [
    "BATCH_SIZE = 128\n",
    "\n",
    "history =model.fit(\n",
    "    ds_train.batch(BATCH_SIZE),\n",
    "    validation_data=ds_valid.batch(BATCH_SIZE),\n",
    "    callbacks=[\n",
    "        tf.keras.callbacks.EarlyStopping(patience=6, restore_best_weights=True)\n",
    "    ],\n",
    "    epochs=5,\n",
    "    verbose=1,\n",
    ")\n"
   ]
  },
  {
   "cell_type": "code",
   "execution_count": 12,
   "metadata": {},
   "outputs": [
    {
     "name": "stdout",
     "output_type": "stream",
     "text": [
      "Model: \"dlrm\"\n",
      "_________________________________________________________________\n",
      " Layer (type)                Output Shape              Param #   \n",
      "=================================================================\n",
      " embedding (Embedding)       multiple                  1204      \n",
      "                                                                 \n",
      " embedding_1 (Embedding)     multiple                  1022      \n",
      "                                                                 \n",
      " embedding_2 (Embedding)     multiple                  114322    \n",
      "                                                                 \n",
      " embedding_3 (Embedding)     multiple                  59116     \n",
      "                                                                 \n",
      " embedding_4 (Embedding)     multiple                  330       \n",
      "                                                                 \n",
      " embedding_5 (Embedding)     multiple                  26        \n",
      "                                                                 \n",
      " embedding_6 (Embedding)     multiple                  16824     \n",
      "                                                                 \n",
      " embedding_7 (Embedding)     multiple                  580       \n",
      "                                                                 \n",
      " embedding_8 (Embedding)     multiple                  6         \n",
      "                                                                 \n",
      " embedding_9 (Embedding)     multiple                  27292     \n",
      "                                                                 \n",
      " embedding_10 (Embedding)    multiple                  8016      \n",
      "                                                                 \n",
      " embedding_11 (Embedding)    multiple                  100286    \n",
      "                                                                 \n",
      " embedding_12 (Embedding)    multiple                  5754      \n",
      "                                                                 \n",
      " embedding_13 (Embedding)    multiple                  52        \n",
      "                                                                 \n",
      " embedding_14 (Embedding)    multiple                  11356     \n",
      "                                                                 \n",
      " embedding_15 (Embedding)    multiple                  82898     \n",
      "                                                                 \n",
      " embedding_16 (Embedding)    multiple                  20        \n",
      "                                                                 \n",
      " embedding_17 (Embedding)    multiple                  5490      \n",
      "                                                                 \n",
      " embedding_18 (Embedding)    multiple                  2718      \n",
      "                                                                 \n",
      " embedding_19 (Embedding)    multiple                  8         \n",
      "                                                                 \n",
      " embedding_20 (Embedding)    multiple                  92586     \n",
      "                                                                 \n",
      " embedding_21 (Embedding)    multiple                  28        \n",
      "                                                                 \n",
      " embedding_22 (Embedding)    multiple                  28        \n",
      "                                                                 \n",
      " embedding_23 (Embedding)    multiple                  27592     \n",
      "                                                                 \n",
      " embedding_24 (Embedding)    multiple                  102       \n",
      "                                                                 \n",
      " embedding_25 (Embedding)    multiple                  21242     \n",
      "                                                                 \n",
      " sequential (Sequential)     (None, 2)                 130       \n",
      "                                                                 \n",
      " sequential_1 (Sequential)   (None, 2)                 53698     \n",
      "                                                                 \n",
      " second_order_feature_inter  multiple                  0         \n",
      " action (SecondOrderFeature                                      \n",
      " Interaction)                                                    \n",
      "                                                                 \n",
      "=================================================================\n",
      "Total params: 632726 (2.41 MB)\n",
      "Trainable params: 632726 (2.41 MB)\n",
      "Non-trainable params: 0 (0.00 Byte)\n",
      "_________________________________________________________________\n"
     ]
    }
   ],
   "source": [
    "model.summary()"
   ]
  },
  {
   "cell_type": "code",
   "execution_count": 13,
   "metadata": {},
   "outputs": [
    {
     "name": "stdout",
     "output_type": "stream",
     "text": [
      "86/86 [==============================] - 0s 1ms/step - loss: 0.5573 - accuracy: 0.7421 - auc: 0.8121\n",
      "Loss: 0.5573086738586426, Accuracy: 0.7421009540557861, AUC: 0.8120676279067993\n"
     ]
    }
   ],
   "source": [
    "results = model.evaluate(ds_test.batch(BATCH_SIZE))\n",
    "print(f'Loss: {results[0]}, Accuracy: {results[1]}, AUC: {results[2]}')"
   ]
  },
  {
   "cell_type": "code",
   "execution_count": 14,
   "metadata": {
    "scrolled": true
   },
   "outputs": [
    {
     "data": {
      "text/html": [
       "<div>\n",
       "<style scoped>\n",
       "    .dataframe tbody tr th:only-of-type {\n",
       "        vertical-align: middle;\n",
       "    }\n",
       "\n",
       "    .dataframe tbody tr th {\n",
       "        vertical-align: top;\n",
       "    }\n",
       "\n",
       "    .dataframe thead th {\n",
       "        text-align: right;\n",
       "    }\n",
       "</style>\n",
       "<table border=\"1\" class=\"dataframe\">\n",
       "  <thead>\n",
       "    <tr style=\"text-align: right;\">\n",
       "      <th></th>\n",
       "      <th>loss</th>\n",
       "      <th>accuracy</th>\n",
       "      <th>auc</th>\n",
       "      <th>val_loss</th>\n",
       "      <th>val_accuracy</th>\n",
       "      <th>val_auc</th>\n",
       "    </tr>\n",
       "  </thead>\n",
       "  <tbody>\n",
       "    <tr>\n",
       "      <th>0</th>\n",
       "      <td>0.625215</td>\n",
       "      <td>0.733037</td>\n",
       "      <td>0.738266</td>\n",
       "      <td>0.576288</td>\n",
       "      <td>0.741297</td>\n",
       "      <td>0.769780</td>\n",
       "    </tr>\n",
       "    <tr>\n",
       "      <th>1</th>\n",
       "      <td>0.548273</td>\n",
       "      <td>0.746648</td>\n",
       "      <td>0.797996</td>\n",
       "      <td>0.540031</td>\n",
       "      <td>0.739831</td>\n",
       "      <td>0.806049</td>\n",
       "    </tr>\n",
       "    <tr>\n",
       "      <th>2</th>\n",
       "      <td>0.506044</td>\n",
       "      <td>0.756265</td>\n",
       "      <td>0.835446</td>\n",
       "      <td>0.509001</td>\n",
       "      <td>0.755955</td>\n",
       "      <td>0.829264</td>\n",
       "    </tr>\n",
       "    <tr>\n",
       "      <th>3</th>\n",
       "      <td>0.463060</td>\n",
       "      <td>0.781454</td>\n",
       "      <td>0.863924</td>\n",
       "      <td>0.494182</td>\n",
       "      <td>0.769879</td>\n",
       "      <td>0.842700</td>\n",
       "    </tr>\n",
       "    <tr>\n",
       "      <th>4</th>\n",
       "      <td>0.415322</td>\n",
       "      <td>0.814153</td>\n",
       "      <td>0.893060</td>\n",
       "      <td>0.499803</td>\n",
       "      <td>0.764016</td>\n",
       "      <td>0.844845</td>\n",
       "    </tr>\n",
       "  </tbody>\n",
       "</table>\n",
       "</div>"
      ],
      "text/plain": [
       "       loss  accuracy       auc  val_loss  val_accuracy   val_auc\n",
       "0  0.625215  0.733037  0.738266  0.576288      0.741297  0.769780\n",
       "1  0.548273  0.746648  0.797996  0.540031      0.739831  0.806049\n",
       "2  0.506044  0.756265  0.835446  0.509001      0.755955  0.829264\n",
       "3  0.463060  0.781454  0.863924  0.494182      0.769879  0.842700\n",
       "4  0.415322  0.814153  0.893060  0.499803      0.764016  0.844845"
      ]
     },
     "metadata": {},
     "output_type": "display_data"
    },
    {
     "data": {
      "image/png": "[encoded data removed]",
      "text/plain": [
       "<Figure size 1000x800 with 1 Axes>"
      ]
     },
     "metadata": {},
     "output_type": "display_data"
    },
    {
     "name": "stdout",
     "output_type": "stream",
     "text": [
      "Validation AUC: 0.8399\n"
     ]
    }
   ],
   "source": [
    "loss = pd.DataFrame.from_dict(history.history)\n",
    "display(loss.head())\n",
    "\n",
    "plt.figure(figsize=(10,8))\n",
    "plt.plot(loss['loss'], label='Train Loss')\n",
    "plt.plot(loss['val_loss'], label='Validation Loss')\n",
    "\n",
    "# Plot AUC \n",
    "plt.plot(loss['auc'], label='Train AUC')\n",
    "plt.plot(loss['val_auc'], label='Validation AUC')\n",
    "\n",
    "plt.legend()\n",
    "plt.show()\n",
    "\n",
    "# Evaluate the model on the validation dataset\n",
    "val_metrics = model.evaluate(ds_valid.batch(BATCH_SIZE), verbose=0)\n",
    "\n",
    "val_auc_index = model.metrics_names.index('auc')\n",
    "auc_score_baseline1 = val_metrics[val_auc_index]\n",
    "\n",
    "print(f\"Validation AUC: {auc_score_baseline1:.4f}\")"
   ]
  },
  {
   "cell_type": "code",
   "execution_count": 15,
   "metadata": {},
   "outputs": [],
   "source": [
    "import numpy as np\n",
    "\n",
    "def add_noise_to_weights(weights, noise_std=0.01):\n",
    "    \"\"\"Adds Gaussian noise to a dictionary of weights.\"\"\"\n",
    "    noisy_weights = {}\n",
    "    for key, weight in weights.items():\n",
    "        # Generating Gaussian noise with the same shape as the weight\n",
    "        noise = np.random.normal(loc=0.0, scale=noise_std, size=weight.shape)\n",
    "        # Adding the noise to the weight\n",
    "        noisy_weight = weight + noise\n",
    "        noisy_weights[key] = noisy_weight\n",
    "    return noisy_weights\n",
    "\n",
    "# Extract the model's weights into a dictionary\n",
    "model_weights_dict_1 = {v.name: v.numpy() for v in model.trainable_variables}\n",
    "\n",
    "# Add noise to the model's weights\n",
    "noisy_model_weights_dict_1 = add_noise_to_weights(model_weights_dict_1, noise_std=0.01)\n",
    "\n",
    "# Now, noisy_model_weights_dict contains the weights with added Gaussian noise"
   ]
  },
  {
   "cell_type": "code",
   "execution_count": 16,
   "metadata": {
    "scrolled": true,
    "tags": []
   },
   "outputs": [
    {
     "name": "stdout",
     "output_type": "stream",
     "text": [
      "Staging Protocol Changes...\n",
      "Starting test-domain-1 server on 0.0.0.0:49029\n"
     ]
    },
    {
     "name": "stderr",
     "output_type": "stream",
     "text": [
      "kj/filesystem-disk-unix.c++:1703: warning: PWD environment variable doesn't match current directory; pwd = /Users/alex\n"
     ]
    },
    {
     "name": "stdout",
     "output_type": "stream",
     "text": [
      "Waiting for server to start.."
     ]
    },
    {
     "name": "stderr",
     "output_type": "stream",
     "text": [
      "INFO:     Started server process [2131]\n",
      "INFO:     Waiting for application startup.\n",
      "INFO:     Application startup complete.\n",
      "INFO:     Uvicorn running on http://0.0.0.0:49029 (Press CTRL+C to quit)\n"
     ]
    },
    {
     "name": "stdout",
     "output_type": "stream",
     "text": [
      ".\n",
      "WARNING: private key is based on node name: test-domain-1 in dev_mode. Don't run this in production.\n",
      "SQLite Store Path:\n",
      "!open file:///var/folders/78/1q4j7nsx4sg2djyc6d_1xq680000gn/T/7bca415d13ed4ec881f0d0aede098dbb.sqlite\n",
      "\n",
      "Creating default worker image with tag='local-dev'\n",
      "Building default worker image with tag=local-dev\n",
      "Setting up worker poolname=default-pool workers=0 image_uid=54609759e6ee4da8bfa3249e5bd9572c in_memory=True\n",
      "Created default worker pool.\n",
      "Data Migrated to latest version !!!\n",
      "INFO:     127.0.0.1:51742 - \"GET /api/v2/metadata HTTP/1.1\" 200 OK\n",
      " Done.\n"
     ]
    }
   ],
   "source": [
    "node = sy.orchestra.launch(name=\"test-domain-1\", port=\"auto\", dev_mode=True, reset=True)"
   ]
  },
  {
   "cell_type": "markdown",
   "metadata": {},
   "source": [
    "Login to the Domain"
   ]
  },
  {
   "cell_type": "code",
   "execution_count": 17,
   "metadata": {
    "scrolled": true,
    "tags": []
   },
   "outputs": [
    {
     "name": "stdout",
     "output_type": "stream",
     "text": [
      "INFO:     127.0.0.1:51744 - \"GET /api/v2/metadata HTTP/1.1\" 200 OK\n",
      "INFO:     127.0.0.1:51744 - \"GET /api/v2/metadata HTTP/1.1\" 200 OK\n",
      "Logged into <test-domain-1: High-side Domain> as GUEST\n",
      "INFO:     127.0.0.1:51744 - \"POST /api/v2/login HTTP/1.1\" 200 OK\n",
      "INFO:     127.0.0.1:51744 - \"GET /api/v2/api?verify_key=aec6ea4dfc049ceacaeeebc493167a88a200ddc367b1fa32da652444b635d21f&communication_protocol=3 HTTP/1.1\" 200 OK\n",
      "INFO:     127.0.0.1:51747 - \"POST /api/v2/api_call HTTP/1.1\" 200 OK\n",
      "Logged into <test-domain-1: High side Domain> as <info@openmined.org>\n"
     ]
    },
    {
     "data": {
      "text/html": [
       "<div class=\"alert-warning\" style=\"padding:5px;\"><strong>SyftWarning</strong>: You are using a default password. Please change the password using `[your_client].me.set_password([new_password])`.</div><br />"
      ],
      "text/plain": [
       "SyftWarning: You are using a default password. Please change the password using `[your_client].me.set_password([new_password])`."
      ]
     },
     "metadata": {},
     "output_type": "display_data"
    }
   ],
   "source": [
    "domain_client = node.login(email=\"info@openmined.org\", password=\"changethis\")"
   ]
  },
  {
   "cell_type": "markdown",
   "metadata": {},
   "source": [
    "Initialize Model Weights"
   ]
  },
  {
   "cell_type": "code",
   "execution_count": 18,
   "metadata": {},
   "outputs": [
    {
     "name": "stdout",
     "output_type": "stream",
     "text": [
      "<class 'dict'> c001919fc711477883c0780419c71120\n"
     ]
    }
   ],
   "source": [
    "# Convert the trained model parameters to a Syft ActionObject\n",
    "model_weights_obj = sy.ActionObject.from_obj(noisy_model_weights_dict_1)\n",
    "\n",
    "# Check the object type and attributes\n",
    "print(type(model_weights_obj.syft_action_data), model_weights_obj.id)\n"
   ]
  },
  {
   "cell_type": "code",
   "execution_count": 19,
   "metadata": {},
   "outputs": [
    {
     "name": "stdout",
     "output_type": "stream",
     "text": [
      "INFO:     127.0.0.1:51749 - \"POST /api/v2/api_call HTTP/1.1\" 200 OK\n",
      "c001919fc711477883c0780419c71120\n"
     ]
    }
   ],
   "source": [
    "# Set the model weights ActionObject in the domain\n",
    "weight_domain_obj = domain_client.api.services.action.set(model_weights_obj)\n",
    "\n",
    "# Check the domain object attributes\n",
    "print(weight_domain_obj.id)\n"
   ]
  },
  {
   "cell_type": "markdown",
   "metadata": {},
   "source": [
    "Convert Model Weights to Syft ActionObject:"
   ]
  },
  {
   "cell_type": "markdown",
   "metadata": {},
   "source": [
    "Define a Weights Access function"
   ]
  },
  {
   "cell_type": "code",
   "execution_count": 20,
   "metadata": {
    "scrolled": true,
    "tags": []
   },
   "outputs": [
    {
     "name": "stdout",
     "output_type": "stream",
     "text": [
      "INFO:     127.0.0.1:51751 - \"POST /api/v2/api_call HTTP/1.1\" 200 OK\n",
      "INFO:     127.0.0.1:51744 - \"GET /api/v2/metadata HTTP/1.1\" 200 OK\n"
     ]
    },
    {
     "data": {
      "text/html": [
       "<div class=\"alert-success\" style=\"padding:5px;\"><strong>SyftSuccess</strong>: Syft function 'fetch_weights' successfully created. To add a code request, please create a project using `project = syft.Project(...)`, then use command `project.create_code_request`.</div><br />"
      ],
      "text/plain": [
       "SyftSuccess: Syft function 'fetch_weights' successfully created. To add a code request, please create a project using `project = syft.Project(...)`, then use command `project.create_code_request`."
      ]
     },
     "metadata": {},
     "output_type": "display_data"
    }
   ],
   "source": [
    "@sy.syft_function(\n",
    "    input_policy=sy.ExactMatch(weights=weight_domain_obj.id),\n",
    "    output_policy=sy.SingleExecutionExactOutput(),\n",
    ")\n",
    "def fetch_weights(weights):\n",
    "    # Simply return the weights; no computation needed\n",
    "    return weights\n"
   ]
  },
  {
   "cell_type": "markdown",
   "metadata": {},
   "source": [
    "Access Weights"
   ]
  },
  {
   "cell_type": "code",
   "execution_count": 21,
   "metadata": {
    "scrolled": true,
    "tags": []
   },
   "outputs": [
    {
     "name": "stdout",
     "output_type": "stream",
     "text": [
      "SyftInfo: Creating a node with n_consumers=2 (the default value)\n",
      "Staging Protocol Changes...\n",
      "SQLite Store Path:\n",
      "!open file:///var/folders/78/1q4j7nsx4sg2djyc6d_1xq680000gn/T/0aebbb280d944502827743e8940ba74c.sqlite\n",
      "\n",
      "Creating default worker image with tag='local-dev'\n",
      "Building default worker image with tag=local-dev\n",
      "Setting up worker poolname=default-pool workers=2 image_uid=dae1c10c01f343bfbb42f15cf8549de3 in_memory=True\n",
      "Created default worker pool.\n",
      "Data Migrated to latest version !!!\n",
      "Logged into <ephemeral_node_fetch_weights_9270: High side Domain> as <info@openmined.org>\n"
     ]
    },
    {
     "data": {
      "text/html": [
       "<div class=\"alert-warning\" style=\"padding:5px;\"><strong>SyftWarning</strong>: You are using a default password. Please change the password using `[your_client].me.set_password([new_password])`.</div><br />"
      ],
      "text/plain": [
       "SyftWarning: You are using a default password. Please change the password using `[your_client].me.set_password([new_password])`."
      ]
     },
     "metadata": {},
     "output_type": "display_data"
    },
    {
     "name": "stdout",
     "output_type": "stream",
     "text": [
      "INFO:     127.0.0.1:51757 - \"POST /api/v2/api_call HTTP/1.1\" 200 OK\n",
      "INFO:     127.0.0.1:51759 - \"POST /api/v2/api_call HTTP/1.1\" 200 OK\n",
      "Approving request for domain ephemeral_node_fetch_weights_9270\n",
      "SyftInfo: Landing the ephmeral node...\n",
      "SyftInfo: Node Landed!\n"
     ]
    }
   ],
   "source": [
    "weights_pointer = fetch_weights(weights=weight_domain_obj)\n",
    "weights_local = weights_pointer.get()"
   ]
  },
  {
   "cell_type": "markdown",
   "metadata": {},
   "source": [
    "Retrieve and Verify the Output"
   ]
  },
  {
   "cell_type": "markdown",
   "metadata": {},
   "source": [
    "Request and Approve Code Execution"
   ]
  },
  {
   "cell_type": "code",
   "execution_count": 22,
   "metadata": {
    "tags": []
   },
   "outputs": [
    {
     "name": "stdout",
     "output_type": "stream",
     "text": [
      "INFO:     127.0.0.1:51761 - \"POST /api/v2/api_call HTTP/1.1\" 200 OK\n",
      "INFO:     127.0.0.1:51744 - \"GET /api/v2/api?verify_key=aec6ea4dfc049ceacaeeebc493167a88a200ddc367b1fa32da652444b635d21f&communication_protocol=3 HTTP/1.1\" 200 OK\n",
      "INFO:     127.0.0.1:51763 - \"POST /api/v2/api_call HTTP/1.1\" 200 OK\n",
      "INFO:     127.0.0.1:51765 - \"POST /api/v2/api_call HTTP/1.1\" 200 OK\n",
      "INFO:     127.0.0.1:51767 - \"POST /api/v2/api_call HTTP/1.1\" 200 OK\n",
      "INFO:     127.0.0.1:51769 - \"POST /api/v2/api_call HTTP/1.1\" 200 OK\n",
      "INFO:     127.0.0.1:51771 - \"POST /api/v2/api_call HTTP/1.1\" 200 OK\n",
      "INFO:     127.0.0.1:51773 - \"POST /api/v2/api_call HTTP/1.1\" 200 OK\n",
      "INFO:     127.0.0.1:51775 - \"POST /api/v2/api_call HTTP/1.1\" 200 OK\n"
     ]
    },
    {
     "data": {
      "text/html": [
       "\n",
       "            <style>\n",
       "            .syft-request {color: #464158;}\n",
       "            </style>\n",
       "            <div class='syft-request'>\n",
       "                <h3>Request</h3>\n",
       "                <p><strong>Id: </strong>a704fe14948a4caaa2c6fcca46fce112</p>\n",
       "                <p><strong>Request time: </strong>2024-03-21 17:06:14</p>\n",
       "                \n",
       "                \n",
       "                <p><strong>Status: </strong>RequestStatus.PENDING</p>\n",
       "                <p><strong>Requested on: </strong> Test-domain-1 of type <strong>                     Domain</strong></p>\n",
       "                <p><strong>Requested by:</strong> Jane Doe (info@openmined.org) </p>\n",
       "                <p><strong>Changes: </strong> Request to change <b>fetch_weights</b> (Pool Id: <b>default-pool</b>) to permission <b>RequestStatus.APPROVED</b>. Nested Requests not resolved. </p>\n",
       "            </div>\n",
       "\n",
       "            "
      ],
      "text/markdown": [
       "```python\n",
       "class Request:\n",
       "  id: str = a704fe14948a4caaa2c6fcca46fce112\n",
       "  request_time: str = 2024-03-21 17:06:14\n",
       "  updated_at: str = None\n",
       "  status: str = RequestStatus.PENDING\n",
       "  changes: str = ['Request to change <b>fetch_weights</b> (Pool Id: <b>default-pool</b>) to permission <b>RequestStatus.APPROVED</b>. Nested Requests not resolved']\n",
       "  requesting_user_verify_key: str = aec6ea4dfc049ceacaeeebc493167a88a200ddc367b1fa32da652444b635d21f\n",
       "\n",
       "```"
      ],
      "text/plain": [
       "syft.service.request.request.Request"
      ]
     },
     "execution_count": 22,
     "metadata": {},
     "output_type": "execute_result"
    }
   ],
   "source": [
    "request = domain_client.code.request_code_execution(fetch_weights)\n",
    "request"
   ]
  },
  {
   "cell_type": "code",
   "execution_count": 23,
   "metadata": {
    "tags": []
   },
   "outputs": [
    {
     "name": "stdout",
     "output_type": "stream",
     "text": [
      "INFO:     127.0.0.1:51744 - \"GET /api/v2/metadata HTTP/1.1\" 200 OK\n",
      "INFO:     127.0.0.1:51777 - \"POST /api/v2/api_call HTTP/1.1\" 200 OK\n",
      "INFO:     127.0.0.1:51779 - \"POST /api/v2/api_call HTTP/1.1\" 200 OK\n",
      "INFO:     127.0.0.1:51781 - \"POST /api/v2/api_call HTTP/1.1\" 200 OK\n",
      "INFO:     127.0.0.1:51783 - \"POST /api/v2/api_call HTTP/1.1\" 200 OK\n",
      "INFO:     127.0.0.1:51785 - \"POST /api/v2/api_call HTTP/1.1\" 200 OK\n",
      "INFO:     127.0.0.1:51787 - \"POST /api/v2/api_call HTTP/1.1\" 200 OK\n",
      "INFO:     127.0.0.1:51789 - \"POST /api/v2/api_call HTTP/1.1\" 200 OK\n",
      "Approving request for domain test-domain-1\n",
      "INFO:     127.0.0.1:51791 - \"POST /api/v2/api_call HTTP/1.1\" 200 OK\n"
     ]
    },
    {
     "data": {
      "text/html": [
       "<div class=\"alert-success\" style=\"padding:5px;\"><strong>SyftSuccess</strong>: Request a704fe14948a4caaa2c6fcca46fce112 changes applied</div><br />"
      ],
      "text/plain": [
       "SyftSuccess: Request a704fe14948a4caaa2c6fcca46fce112 changes applied"
      ]
     },
     "execution_count": 23,
     "metadata": {},
     "output_type": "execute_result"
    }
   ],
   "source": [
    "request.approve()"
   ]
  },
  {
   "cell_type": "code",
   "execution_count": 24,
   "metadata": {
    "scrolled": true,
    "tags": []
   },
   "outputs": [
    {
     "name": "stdout",
     "output_type": "stream",
     "text": [
      "INFO:     127.0.0.1:51744 - \"GET /api/v2/api?verify_key=aec6ea4dfc049ceacaeeebc493167a88a200ddc367b1fa32da652444b635d21f&communication_protocol=3 HTTP/1.1\" 200 OK\n"
     ]
    }
   ],
   "source": [
    "domain_client._api = None\n",
    "_ = domain_client.api"
   ]
  },
  {
   "cell_type": "markdown",
   "metadata": {},
   "source": [
    "Fetching the pointer and the actual weights"
   ]
  },
  {
   "cell_type": "code",
   "execution_count": 25,
   "metadata": {
    "tags": []
   },
   "outputs": [
    {
     "name": "stdout",
     "output_type": "stream",
     "text": [
      "SyftInfo: Creating a node with n_consumers=2 (the default value)\n",
      "Staging Protocol Changes...\n",
      "SQLite Store Path:\n",
      "!open file:///var/folders/78/1q4j7nsx4sg2djyc6d_1xq680000gn/T/ded326efd75b452cba846710ebb1544d.sqlite\n",
      "\n",
      "Creating default worker image with tag='local-dev'\n",
      "Building default worker image with tag=local-dev\n",
      "Setting up worker poolname=default-pool workers=2 image_uid=ad31136cba774fcbab21aeb1a8234b87 in_memory=True\n",
      "Created default worker pool.\n",
      "Data Migrated to latest version !!!\n",
      "Logged into <ephemeral_node_fetch_weights_5476: High side Domain> as <info@openmined.org>\n"
     ]
    },
    {
     "data": {
      "text/html": [
       "<div class=\"alert-warning\" style=\"padding:5px;\"><strong>SyftWarning</strong>: You are using a default password. Please change the password using `[your_client].me.set_password([new_password])`.</div><br />"
      ],
      "text/plain": [
       "SyftWarning: You are using a default password. Please change the password using `[your_client].me.set_password([new_password])`."
      ]
     },
     "metadata": {},
     "output_type": "display_data"
    },
    {
     "name": "stdout",
     "output_type": "stream",
     "text": [
      "INFO:     127.0.0.1:51796 - \"POST /api/v2/api_call HTTP/1.1\" 200 OK\n",
      "INFO:     127.0.0.1:51798 - \"POST /api/v2/api_call HTTP/1.1\" 200 OK\n",
      "Approving request for domain ephemeral_node_fetch_weights_5476\n",
      "SyftInfo: Landing the ephmeral node...\n",
      "SyftInfo: Node Landed!\n"
     ]
    }
   ],
   "source": [
    "# Fetch the weights pointer from the domain\n",
    "weights_ptr = fetch_weights(weights=weight_domain_obj)\n",
    "\n",
    "# Retrieve the actual weights from the pointer\n",
    "weights_local = weights_ptr.get()\n"
   ]
  },
  {
   "cell_type": "markdown",
   "metadata": {},
   "source": [
    "Retrieving the Computation Result"
   ]
  },
  {
   "cell_type": "markdown",
   "metadata": {},
   "source": [
    "Cleanup and Land the Node"
   ]
  },
  {
   "cell_type": "code",
   "execution_count": 26,
   "metadata": {
    "tags": []
   },
   "outputs": [],
   "source": [
    "if node.node_type.value == \"python\":\n",
    "    node.land()"
   ]
  },
  {
   "cell_type": "markdown",
   "metadata": {
    "editable": true,
    "slideshow": {
     "slide_type": ""
    },
    "tags": []
   },
   "source": [
    "## Data Owner 2"
   ]
  },
  {
   "cell_type": "code",
   "execution_count": 27,
   "metadata": {},
   "outputs": [],
   "source": [
    "tf.keras.backend.clear_session() #clears keras session to have the same mapping for DO1 and DO2 dictionaries\n",
    "\n",
    "TRAIN_SPLIT = 0.8\n",
    "VALIDATION_SPLIT = 0.2\n",
    "\n",
    "# Dataset size\n",
    "dataset_size = len(df2)\n",
    "train_size = int(dataset_size * TRAIN_SPLIT)\n",
    "test_size = dataset_size - train_size\n",
    "validation_size = int(test_size * VALIDATION_SPLIT)\n",
    "\n",
    "# Creating the dataset\n",
    "ds = tf.data.Dataset.zip((\n",
    "    tf.data.Dataset.from_tensor_slices((\n",
    "        tf.cast(df2[dense_cols].values, tf.float32),\n",
    "        tf.cast(df2[cat_cols].values, tf.int32),\n",
    "    )),\n",
    "    tf.data.Dataset.from_tensor_slices(tf.cast(to_categorical(df2['label'].values, num_classes=2), tf.float32))\n",
    ")).shuffle(buffer_size=2048)\n",
    "\n",
    "# Splitting the dataset\n",
    "ds_train = ds.take(train_size)\n",
    "ds_test = ds.skip(train_size)\n",
    "ds_valid = ds_test.take(validation_size)\n",
    "ds_test = ds_test.skip(validation_size)"
   ]
  },
  {
   "cell_type": "code",
   "execution_count": 28,
   "metadata": {},
   "outputs": [],
   "source": [
    "def MLP(arch, activation='relu', out_activation=None):\n",
    "    mlp = tf.keras.Sequential()\n",
    "\n",
    "    for units in arch[:-1]:\n",
    "        mlp.add(tf.keras.layers.Dense(units, activation=activation))\n",
    "\n",
    "    mlp.add(tf.keras.layers.Dense(arch[-1], activation=out_activation))\n",
    "\n",
    "    return mlp\n",
    "\n",
    "\n",
    "class SecondOrderFeatureInteraction(tf.keras.layers.Layer):\n",
    "    def __init__(self, self_interaction=False):\n",
    "        super(SecondOrderFeatureInteraction, self).__init__()\n",
    "        self.self_interaction = self_interaction\n",
    "\n",
    "    def call(self, inputs):\n",
    "        batch_size = tf.shape(inputs[0])[0]\n",
    "        concat_features = tf.stack(inputs, axis=1)\n",
    "\n",
    "        dot_products = tf.matmul(concat_features, concat_features, transpose_b=True)\n",
    "\n",
    "        ones = tf.ones_like(dot_products)\n",
    "        mask = tf.linalg.band_part(ones, 0, -1)\n",
    "        out_dim = int(len(inputs) * (len(inputs) + 1) / 2)\n",
    "\n",
    "        if not self.self_interaction:\n",
    "            mask = mask - tf.linalg.band_part(ones, 0, 0)\n",
    "            out_dim = int(len(inputs) * (len(inputs) - 1) / 2)\n",
    "\n",
    "        flat_interactions = tf.reshape(tf.boolean_mask(dot_products, mask), (batch_size, out_dim))\n",
    "        return flat_interactions\n",
    "\n",
    "\n",
    "class DLRM(tf.keras.Model):\n",
    "    def __init__(\n",
    "            self,\n",
    "            embedding_sizes,\n",
    "            embedding_dim,\n",
    "            arch_bot,\n",
    "            arch_top,\n",
    "            self_interaction,\n",
    "    ):\n",
    "        super(DLRM, self).__init__()\n",
    "        self.emb = [tf.keras.layers.Embedding(size, embedding_dim) for size in embedding_sizes]\n",
    "        self.bot_nn = MLP(arch_bot, out_activation='relu')\n",
    "        self.top_nn = MLP(arch_top, out_activation='sigmoid')\n",
    "        self.interaction_op = SecondOrderFeatureInteraction(self_interaction)\n",
    "\n",
    "    def call(self, input):\n",
    "        input_dense, input_cat = input\n",
    "        emb_x = [E(x) for E, x in zip(self.emb, tf.unstack(input_cat, axis=1))]\n",
    "        dense_x = self.bot_nn(input_dense)\n",
    "\n",
    "        Z = self.interaction_op(emb_x + [dense_x])\n",
    "        z = tf.concat([dense_x, Z], axis=1)\n",
    "        p = self.top_nn(z)\n",
    "\n",
    "        return p"
   ]
  },
  {
   "cell_type": "code",
   "execution_count": 29,
   "metadata": {},
   "outputs": [],
   "source": [
    "model = DLRM(\n",
    "    embedding_sizes=emb_counts,\n",
    "    embedding_dim=2,\n",
    "    arch_bot=[8, 2],\n",
    "    arch_top=[128, 64, 2],\n",
    "    self_interaction=False\n",
    ")\n",
    "\n",
    "model.compile(\n",
    "    optimizer=tf.keras.optimizers.legacy.Adam(learning_rate=0.0001),\n",
    "    loss=tf.keras.losses.BinaryCrossentropy(from_logits=False),\n",
    "    metrics=['accuracy', AUC(name='auc')]  \n",
    ")"
   ]
  },
  {
   "cell_type": "code",
   "execution_count": 30,
   "metadata": {},
   "outputs": [
    {
     "name": "stdout",
     "output_type": "stream",
     "text": [
      "Epoch 1/5\n",
      "427/427 [==============================] - 3s 5ms/step - loss: 0.6080 - accuracy: 0.7483 - auc: 0.7524 - val_loss: 0.5301 - val_accuracy: 0.7684 - val_auc: 0.8113\n",
      "Epoch 2/5\n",
      "427/427 [==============================] - 2s 5ms/step - loss: 0.5372 - accuracy: 0.7497 - auc: 0.8124 - val_loss: 0.5044 - val_accuracy: 0.7618 - val_auc: 0.8367\n",
      "Epoch 3/5\n",
      "427/427 [==============================] - 2s 5ms/step - loss: 0.4916 - accuracy: 0.7649 - auc: 0.8443 - val_loss: 0.4830 - val_accuracy: 0.7750 - val_auc: 0.8490\n",
      "Epoch 4/5\n",
      "427/427 [==============================] - 2s 5ms/step - loss: 0.4497 - accuracy: 0.7918 - auc: 0.8718 - val_loss: 0.5000 - val_accuracy: 0.7626 - val_auc: 0.8388\n",
      "Epoch 5/5\n",
      "427/427 [==============================] - 2s 5ms/step - loss: 0.4059 - accuracy: 0.8175 - auc: 0.8975 - val_loss: 0.4610 - val_accuracy: 0.7904 - val_auc: 0.8674\n"
     ]
    }
   ],
   "source": [
    "BATCH_SIZE = 128\n",
    "\n",
    "history =model.fit(\n",
    "    ds_train.batch(BATCH_SIZE),\n",
    "    validation_data=ds_valid.batch(BATCH_SIZE),\n",
    "    callbacks=[\n",
    "        tf.keras.callbacks.EarlyStopping(patience=6, restore_best_weights=True)\n",
    "    ],\n",
    "    epochs=5,\n",
    "    verbose=1,\n",
    ")\n"
   ]
  },
  {
   "cell_type": "code",
   "execution_count": 31,
   "metadata": {},
   "outputs": [
    {
     "name": "stdout",
     "output_type": "stream",
     "text": [
      "Model: \"dlrm\"\n",
      "_________________________________________________________________\n",
      " Layer (type)                Output Shape              Param #   \n",
      "=================================================================\n",
      " embedding (Embedding)       multiple                  1204      \n",
      "                                                                 \n",
      " embedding_1 (Embedding)     multiple                  1022      \n",
      "                                                                 \n",
      " embedding_2 (Embedding)     multiple                  114322    \n",
      "                                                                 \n",
      " embedding_3 (Embedding)     multiple                  59116     \n",
      "                                                                 \n",
      " embedding_4 (Embedding)     multiple                  330       \n",
      "                                                                 \n",
      " embedding_5 (Embedding)     multiple                  26        \n",
      "                                                                 \n",
      " embedding_6 (Embedding)     multiple                  16824     \n",
      "                                                                 \n",
      " embedding_7 (Embedding)     multiple                  580       \n",
      "                                                                 \n",
      " embedding_8 (Embedding)     multiple                  6         \n",
      "                                                                 \n",
      " embedding_9 (Embedding)     multiple                  27292     \n",
      "                                                                 \n",
      " embedding_10 (Embedding)    multiple                  8016      \n",
      "                                                                 \n",
      " embedding_11 (Embedding)    multiple                  100286    \n",
      "                                                                 \n",
      " embedding_12 (Embedding)    multiple                  5754      \n",
      "                                                                 \n",
      " embedding_13 (Embedding)    multiple                  52        \n",
      "                                                                 \n",
      " embedding_14 (Embedding)    multiple                  11356     \n",
      "                                                                 \n",
      " embedding_15 (Embedding)    multiple                  82898     \n",
      "                                                                 \n",
      " embedding_16 (Embedding)    multiple                  20        \n",
      "                                                                 \n",
      " embedding_17 (Embedding)    multiple                  5490      \n",
      "                                                                 \n",
      " embedding_18 (Embedding)    multiple                  2718      \n",
      "                                                                 \n",
      " embedding_19 (Embedding)    multiple                  8         \n",
      "                                                                 \n",
      " embedding_20 (Embedding)    multiple                  92586     \n",
      "                                                                 \n",
      " embedding_21 (Embedding)    multiple                  28        \n",
      "                                                                 \n",
      " embedding_22 (Embedding)    multiple                  28        \n",
      "                                                                 \n",
      " embedding_23 (Embedding)    multiple                  27592     \n",
      "                                                                 \n",
      " embedding_24 (Embedding)    multiple                  102       \n",
      "                                                                 \n",
      " embedding_25 (Embedding)    multiple                  21242     \n",
      "                                                                 \n",
      " sequential (Sequential)     (None, 2)                 130       \n",
      "                                                                 \n",
      " sequential_1 (Sequential)   (None, 2)                 53698     \n",
      "                                                                 \n",
      " second_order_feature_inter  multiple                  0         \n",
      " action (SecondOrderFeature                                      \n",
      " Interaction)                                                    \n",
      "                                                                 \n",
      "=================================================================\n",
      "Total params: 632726 (2.41 MB)\n",
      "Trainable params: 632726 (2.41 MB)\n",
      "Non-trainable params: 0 (0.00 Byte)\n",
      "_________________________________________________________________\n"
     ]
    }
   ],
   "source": [
    "model.summary()"
   ]
  },
  {
   "cell_type": "code",
   "execution_count": 32,
   "metadata": {},
   "outputs": [
    {
     "name": "stdout",
     "output_type": "stream",
     "text": [
      "86/86 [==============================] - 0s 2ms/step - loss: 0.5331 - accuracy: 0.7508 - auc: 0.8264\n",
      "Loss: 0.5331483483314514, Accuracy: 0.7508013844490051, AUC: 0.8263899683952332\n"
     ]
    }
   ],
   "source": [
    "results = model.evaluate(ds_test.batch(BATCH_SIZE))\n",
    "print(f'Loss: {results[0]}, Accuracy: {results[1]}, AUC: {results[2]}')"
   ]
  },
  {
   "cell_type": "code",
   "execution_count": 33,
   "metadata": {
    "scrolled": true
   },
   "outputs": [
    {
     "data": {
      "text/html": [
       "<div>\n",
       "<style scoped>\n",
       "    .dataframe tbody tr th:only-of-type {\n",
       "        vertical-align: middle;\n",
       "    }\n",
       "\n",
       "    .dataframe tbody tr th {\n",
       "        vertical-align: top;\n",
       "    }\n",
       "\n",
       "    .dataframe thead th {\n",
       "        text-align: right;\n",
       "    }\n",
       "</style>\n",
       "<table border=\"1\" class=\"dataframe\">\n",
       "  <thead>\n",
       "    <tr style=\"text-align: right;\">\n",
       "      <th></th>\n",
       "      <th>loss</th>\n",
       "      <th>accuracy</th>\n",
       "      <th>auc</th>\n",
       "      <th>val_loss</th>\n",
       "      <th>val_accuracy</th>\n",
       "      <th>val_auc</th>\n",
       "    </tr>\n",
       "  </thead>\n",
       "  <tbody>\n",
       "    <tr>\n",
       "      <th>0</th>\n",
       "      <td>0.607977</td>\n",
       "      <td>0.748283</td>\n",
       "      <td>0.752360</td>\n",
       "      <td>0.530129</td>\n",
       "      <td>0.768413</td>\n",
       "      <td>0.811333</td>\n",
       "    </tr>\n",
       "    <tr>\n",
       "      <th>1</th>\n",
       "      <td>0.537174</td>\n",
       "      <td>0.749711</td>\n",
       "      <td>0.812419</td>\n",
       "      <td>0.504356</td>\n",
       "      <td>0.761818</td>\n",
       "      <td>0.836700</td>\n",
       "    </tr>\n",
       "    <tr>\n",
       "      <th>2</th>\n",
       "      <td>0.491577</td>\n",
       "      <td>0.764934</td>\n",
       "      <td>0.844325</td>\n",
       "      <td>0.483038</td>\n",
       "      <td>0.775009</td>\n",
       "      <td>0.848986</td>\n",
       "    </tr>\n",
       "    <tr>\n",
       "      <th>3</th>\n",
       "      <td>0.449741</td>\n",
       "      <td>0.791826</td>\n",
       "      <td>0.871802</td>\n",
       "      <td>0.499982</td>\n",
       "      <td>0.762550</td>\n",
       "      <td>0.838797</td>\n",
       "    </tr>\n",
       "    <tr>\n",
       "      <th>4</th>\n",
       "      <td>0.405937</td>\n",
       "      <td>0.817454</td>\n",
       "      <td>0.897548</td>\n",
       "      <td>0.461012</td>\n",
       "      <td>0.790399</td>\n",
       "      <td>0.867403</td>\n",
       "    </tr>\n",
       "  </tbody>\n",
       "</table>\n",
       "</div>"
      ],
      "text/plain": [
       "       loss  accuracy       auc  val_loss  val_accuracy   val_auc\n",
       "0  0.607977  0.748283  0.752360  0.530129      0.768413  0.811333\n",
       "1  0.537174  0.749711  0.812419  0.504356      0.761818  0.836700\n",
       "2  0.491577  0.764934  0.844325  0.483038      0.775009  0.848986\n",
       "3  0.449741  0.791826  0.871802  0.499982      0.762550  0.838797\n",
       "4  0.405937  0.817454  0.897548  0.461012      0.790399  0.867403"
      ]
     },
     "metadata": {},
     "output_type": "display_data"
    },
    {
     "data": {
      "image/png": "[encoded data removed]",
      "text/plain": [
       "<Figure size 1000x800 with 1 Axes>"
      ]
     },
     "metadata": {},
     "output_type": "display_data"
    },
    {
     "name": "stdout",
     "output_type": "stream",
     "text": [
      "Validation AUC: 0.8622\n"
     ]
    }
   ],
   "source": [
    "loss = pd.DataFrame.from_dict(history.history)\n",
    "display(loss.head())\n",
    "\n",
    "plt.figure(figsize=(10,8))\n",
    "plt.plot(loss['loss'], label='Train Loss')\n",
    "plt.plot(loss['val_loss'], label='Validation Loss')\n",
    "\n",
    "# Plot AUC \n",
    "plt.plot(loss['auc'], label='Train AUC')\n",
    "plt.plot(loss['val_auc'], label='Validation AUC')\n",
    "\n",
    "plt.legend()\n",
    "plt.show()\n",
    "\n",
    "# Evaluate the model on the validation dataset\n",
    "val_metrics = model.evaluate(ds_valid.batch(BATCH_SIZE), verbose=0)\n",
    "\n",
    "val_auc_index = model.metrics_names.index('auc')\n",
    "auc_score_baseline2 = val_metrics[val_auc_index]\n",
    "\n",
    "print(f\"Validation AUC: {auc_score_baseline2:.4f}\")"
   ]
  },
  {
   "cell_type": "code",
   "execution_count": 34,
   "metadata": {},
   "outputs": [],
   "source": [
    "import numpy as np\n",
    "\n",
    "def add_noise_to_weights(weights, noise_std=0.01):\n",
    "    \"\"\"Adds Gaussian noise to a dictionary of weights.\"\"\"\n",
    "    noisy_weights = {}\n",
    "    for key, weight in weights.items():\n",
    "        # Generating Gaussian noise with the same shape as the weight\n",
    "        noise = np.random.normal(loc=0.0, scale=noise_std, size=weight.shape)\n",
    "        # Adding the noise to the weight\n",
    "        noisy_weight = weight + noise\n",
    "        noisy_weights[key] = noisy_weight\n",
    "    return noisy_weights\n",
    "\n",
    "# Extract the model's weights into a dictionary\n",
    "model_weights_dict_2 = {v.name: v.numpy() for v in model.trainable_variables}\n",
    "\n",
    "# Add noise to the model's weights\n",
    "noisy_model_weights_dict_2 = add_noise_to_weights(model_weights_dict_2, noise_std=0.01)\n",
    "\n",
    "# Now, noisy_model_weights_dict contains the weights with added Gaussian noise"
   ]
  },
  {
   "cell_type": "code",
   "execution_count": 35,
   "metadata": {
    "editable": true,
    "scrolled": true,
    "slideshow": {
     "slide_type": ""
    },
    "tags": []
   },
   "outputs": [
    {
     "name": "stdout",
     "output_type": "stream",
     "text": [
      "Staging Protocol Changes...\n",
      "Starting test-domain-2 server on 0.0.0.0:4556\n"
     ]
    },
    {
     "name": "stderr",
     "output_type": "stream",
     "text": [
      "kj/filesystem-disk-unix.c++:1703: warning: PWD environment variable doesn't match current directory; pwd = /Users/alex\n"
     ]
    },
    {
     "name": "stdout",
     "output_type": "stream",
     "text": [
      "Waiting for server to start.."
     ]
    },
    {
     "name": "stderr",
     "output_type": "stream",
     "text": [
      "INFO:     Started server process [2140]\n",
      "INFO:     Waiting for application startup.\n",
      "INFO:     Application startup complete.\n",
      "INFO:     Uvicorn running on http://0.0.0.0:4556 (Press CTRL+C to quit)\n"
     ]
    },
    {
     "name": "stdout",
     "output_type": "stream",
     "text": [
      ".\n",
      "WARNING: private key is based on node name: test-domain-2 in dev_mode. Don't run this in production.\n",
      "SQLite Store Path:\n",
      "!open file:///var/folders/78/1q4j7nsx4sg2djyc6d_1xq680000gn/T/b626124c319343c882a448dac2d6953d.sqlite\n",
      "\n",
      "Creating default worker image with tag='local-dev'\n",
      "Building default worker image with tag=local-dev\n",
      "Setting up worker poolname=default-pool workers=0 image_uid=65209b248e34436b8199b2b5f0c9096c in_memory=True\n",
      "Created default worker pool.\n",
      "Data Migrated to latest version !!!\n",
      "INFO:     127.0.0.1:51805 - \"GET /api/v2/metadata HTTP/1.1\" 200 OK\n",
      " Done.\n"
     ]
    }
   ],
   "source": [
    "node_2 = sy.orchestra.launch(name=\"test-domain-2\", port=\"auto\", dev_mode=True, reset=True)"
   ]
  },
  {
   "cell_type": "markdown",
   "metadata": {},
   "source": [
    "Login to the Domain"
   ]
  },
  {
   "cell_type": "code",
   "execution_count": 36,
   "metadata": {
    "editable": true,
    "scrolled": true,
    "slideshow": {
     "slide_type": ""
    },
    "tags": []
   },
   "outputs": [
    {
     "name": "stdout",
     "output_type": "stream",
     "text": [
      "INFO:     127.0.0.1:51807 - \"GET /api/v2/metadata HTTP/1.1\" 200 OK\n",
      "INFO:     127.0.0.1:51807 - \"GET /api/v2/metadata HTTP/1.1\" 200 OK\n",
      "Logged into <test-domain-2: High-side Domain> as GUEST\n",
      "INFO:     127.0.0.1:51807 - \"POST /api/v2/login HTTP/1.1\" 200 OK\n",
      "INFO:     127.0.0.1:51807 - \"GET /api/v2/api?verify_key=0dfade1de62080fb5e584e38a1b82ca623859caaefd6f13ae821a4e5172df446&communication_protocol=3 HTTP/1.1\" 200 OK\n",
      "INFO:     127.0.0.1:51810 - \"POST /api/v2/api_call HTTP/1.1\" 200 OK\n",
      "Logged into <test-domain-2: High side Domain> as <info@openmined.org>\n"
     ]
    },
    {
     "data": {
      "text/html": [
       "<div class=\"alert-warning\" style=\"padding:5px;\"><strong>SyftWarning</strong>: You are using a default password. Please change the password using `[your_client].me.set_password([new_password])`.</div><br />"
      ],
      "text/plain": [
       "SyftWarning: You are using a default password. Please change the password using `[your_client].me.set_password([new_password])`."
      ]
     },
     "metadata": {},
     "output_type": "display_data"
    }
   ],
   "source": [
    "domain_client_2 = node_2.login(email=\"info@openmined.org\", password=\"changethis\")"
   ]
  },
  {
   "cell_type": "markdown",
   "metadata": {},
   "source": [
    "Initialize Model Weights"
   ]
  },
  {
   "cell_type": "code",
   "execution_count": 37,
   "metadata": {
    "editable": true,
    "slideshow": {
     "slide_type": ""
    },
    "tags": []
   },
   "outputs": [
    {
     "name": "stdout",
     "output_type": "stream",
     "text": [
      "<class 'dict'> 55db3338389c4d9689105e6d916260f9\n"
     ]
    }
   ],
   "source": [
    "# Convert the trained model parameters to a Syft ActionObject\n",
    "model_weights_obj = sy.ActionObject.from_obj(noisy_model_weights_dict_2)\n",
    "\n",
    "# Check the object type and attributes\n",
    "print(type(model_weights_obj.syft_action_data), model_weights_obj.id)\n"
   ]
  },
  {
   "cell_type": "code",
   "execution_count": 38,
   "metadata": {
    "editable": true,
    "slideshow": {
     "slide_type": ""
    },
    "tags": []
   },
   "outputs": [
    {
     "name": "stdout",
     "output_type": "stream",
     "text": [
      "INFO:     127.0.0.1:51812 - \"POST /api/v2/api_call HTTP/1.1\" 200 OK\n",
      "55db3338389c4d9689105e6d916260f9\n"
     ]
    }
   ],
   "source": [
    "# Set the model weights ActionObject in the domain\n",
    "weight_domain_obj = domain_client_2.api.services.action.set(model_weights_obj)\n",
    "\n",
    "# Check the domain object attributes\n",
    "print(weight_domain_obj.id)\n"
   ]
  },
  {
   "cell_type": "markdown",
   "metadata": {},
   "source": [
    "Convert Model Weights to Syft ActionObject:"
   ]
  },
  {
   "cell_type": "markdown",
   "metadata": {},
   "source": [
    "Define a Weights Access function"
   ]
  },
  {
   "cell_type": "code",
   "execution_count": 39,
   "metadata": {
    "editable": true,
    "scrolled": true,
    "slideshow": {
     "slide_type": ""
    },
    "tags": []
   },
   "outputs": [
    {
     "name": "stdout",
     "output_type": "stream",
     "text": [
      "INFO:     127.0.0.1:51814 - \"POST /api/v2/api_call HTTP/1.1\" 200 OK\n",
      "INFO:     127.0.0.1:51816 - \"POST /api/v2/api_call HTTP/1.1\" 200 OK\n",
      "INFO:     127.0.0.1:51807 - \"GET /api/v2/metadata HTTP/1.1\" 200 OK\n"
     ]
    },
    {
     "data": {
      "text/html": [
       "<div class=\"alert-success\" style=\"padding:5px;\"><strong>SyftSuccess</strong>: Syft function 'fetch_weights' successfully created. To add a code request, please create a project using `project = syft.Project(...)`, then use command `project.create_code_request`.</div><br />"
      ],
      "text/plain": [
       "SyftSuccess: Syft function 'fetch_weights' successfully created. To add a code request, please create a project using `project = syft.Project(...)`, then use command `project.create_code_request`."
      ]
     },
     "metadata": {},
     "output_type": "display_data"
    }
   ],
   "source": [
    "@sy.syft_function(\n",
    "    input_policy=sy.ExactMatch(weights=weight_domain_obj.id),\n",
    "    output_policy=sy.SingleExecutionExactOutput(),\n",
    ")\n",
    "def fetch_weights(weights):\n",
    "    # Simply return the weights; no computation needed\n",
    "    return weights\n"
   ]
  },
  {
   "cell_type": "markdown",
   "metadata": {},
   "source": [
    "Access Weights"
   ]
  },
  {
   "cell_type": "code",
   "execution_count": 40,
   "metadata": {
    "editable": true,
    "scrolled": true,
    "slideshow": {
     "slide_type": ""
    },
    "tags": []
   },
   "outputs": [
    {
     "name": "stdout",
     "output_type": "stream",
     "text": [
      "SyftInfo: Creating a node with n_consumers=2 (the default value)\n",
      "Staging Protocol Changes...\n",
      "SQLite Store Path:\n",
      "!open file:///var/folders/78/1q4j7nsx4sg2djyc6d_1xq680000gn/T/dd7a96c3145b426f8a2f9697182f0de8.sqlite\n",
      "\n",
      "Creating default worker image with tag='local-dev'\n",
      "Building default worker image with tag=local-dev\n",
      "Setting up worker poolname=default-pool workers=2 image_uid=ff93441280034401ac7680c4278dde04 in_memory=True\n",
      "Created default worker pool.\n",
      "Data Migrated to latest version !!!\n",
      "Logged into <ephemeral_node_fetch_weights_6918: High side Domain> as <info@openmined.org>\n"
     ]
    },
    {
     "data": {
      "text/html": [
       "<div class=\"alert-warning\" style=\"padding:5px;\"><strong>SyftWarning</strong>: You are using a default password. Please change the password using `[your_client].me.set_password([new_password])`.</div><br />"
      ],
      "text/plain": [
       "SyftWarning: You are using a default password. Please change the password using `[your_client].me.set_password([new_password])`."
      ]
     },
     "metadata": {},
     "output_type": "display_data"
    },
    {
     "name": "stdout",
     "output_type": "stream",
     "text": [
      "INFO:     127.0.0.1:51821 - \"POST /api/v2/api_call HTTP/1.1\" 200 OK\n",
      "INFO:     127.0.0.1:51823 - \"POST /api/v2/api_call HTTP/1.1\" 200 OK\n",
      "Approving request for domain ephemeral_node_fetch_weights_6918\n",
      "SyftInfo: Landing the ephmeral node...\n",
      "SyftInfo: Node Landed!\n"
     ]
    }
   ],
   "source": [
    "weights_pointer = fetch_weights(weights=weight_domain_obj)\n",
    "weights_local_2 = weights_pointer.get()"
   ]
  },
  {
   "cell_type": "markdown",
   "metadata": {},
   "source": [
    "Retrieve and Verify the Output"
   ]
  },
  {
   "cell_type": "markdown",
   "metadata": {},
   "source": [
    "Request and Approve Code Execution"
   ]
  },
  {
   "cell_type": "code",
   "execution_count": 41,
   "metadata": {
    "editable": true,
    "slideshow": {
     "slide_type": ""
    },
    "tags": []
   },
   "outputs": [
    {
     "name": "stdout",
     "output_type": "stream",
     "text": [
      "INFO:     127.0.0.1:51825 - \"POST /api/v2/api_call HTTP/1.1\" 200 OK\n",
      "INFO:     127.0.0.1:51807 - \"GET /api/v2/api?verify_key=0dfade1de62080fb5e584e38a1b82ca623859caaefd6f13ae821a4e5172df446&communication_protocol=3 HTTP/1.1\" 200 OK\n",
      "INFO:     127.0.0.1:51827 - \"POST /api/v2/api_call HTTP/1.1\" 200 OK\n",
      "INFO:     127.0.0.1:51829 - \"POST /api/v2/api_call HTTP/1.1\" 200 OK\n",
      "INFO:     127.0.0.1:51831 - \"POST /api/v2/api_call HTTP/1.1\" 200 OK\n",
      "INFO:     127.0.0.1:51833 - \"POST /api/v2/api_call HTTP/1.1\" 200 OK\n",
      "INFO:     127.0.0.1:51835 - \"POST /api/v2/api_call HTTP/1.1\" 200 OK\n",
      "INFO:     127.0.0.1:51837 - \"POST /api/v2/api_call HTTP/1.1\" 200 OK\n",
      "INFO:     127.0.0.1:51839 - \"POST /api/v2/api_call HTTP/1.1\" 200 OK\n"
     ]
    },
    {
     "data": {
      "text/html": [
       "\n",
       "            <style>\n",
       "            .syft-request {color: #464158;}\n",
       "            </style>\n",
       "            <div class='syft-request'>\n",
       "                <h3>Request</h3>\n",
       "                <p><strong>Id: </strong>1fa7fb8c4d774473860b54980238daf7</p>\n",
       "                <p><strong>Request time: </strong>2024-03-21 17:06:43</p>\n",
       "                \n",
       "                \n",
       "                <p><strong>Status: </strong>RequestStatus.PENDING</p>\n",
       "                <p><strong>Requested on: </strong> Test-domain-2 of type <strong>                     Domain</strong></p>\n",
       "                <p><strong>Requested by:</strong> Jane Doe (info@openmined.org) </p>\n",
       "                <p><strong>Changes: </strong> Request to change <b>fetch_weights</b> (Pool Id: <b>default-pool</b>) to permission <b>RequestStatus.APPROVED</b>. Nested Requests not resolved. </p>\n",
       "            </div>\n",
       "\n",
       "            "
      ],
      "text/markdown": [
       "```python\n",
       "class Request:\n",
       "  id: str = 1fa7fb8c4d774473860b54980238daf7\n",
       "  request_time: str = 2024-03-21 17:06:43\n",
       "  updated_at: str = None\n",
       "  status: str = RequestStatus.PENDING\n",
       "  changes: str = ['Request to change <b>fetch_weights</b> (Pool Id: <b>default-pool</b>) to permission <b>RequestStatus.APPROVED</b>. Nested Requests not resolved']\n",
       "  requesting_user_verify_key: str = 0dfade1de62080fb5e584e38a1b82ca623859caaefd6f13ae821a4e5172df446\n",
       "\n",
       "```"
      ],
      "text/plain": [
       "syft.service.request.request.Request"
      ]
     },
     "execution_count": 41,
     "metadata": {},
     "output_type": "execute_result"
    }
   ],
   "source": [
    "request = domain_client_2.code.request_code_execution(fetch_weights)\n",
    "request"
   ]
  },
  {
   "cell_type": "code",
   "execution_count": 42,
   "metadata": {
    "tags": []
   },
   "outputs": [
    {
     "name": "stdout",
     "output_type": "stream",
     "text": [
      "INFO:     127.0.0.1:51807 - \"GET /api/v2/metadata HTTP/1.1\" 200 OK\n",
      "INFO:     127.0.0.1:51841 - \"POST /api/v2/api_call HTTP/1.1\" 200 OK\n",
      "INFO:     127.0.0.1:51843 - \"POST /api/v2/api_call HTTP/1.1\" 200 OK\n",
      "INFO:     127.0.0.1:51845 - \"POST /api/v2/api_call HTTP/1.1\" 200 OK\n",
      "INFO:     127.0.0.1:51847 - \"POST /api/v2/api_call HTTP/1.1\" 200 OK\n",
      "INFO:     127.0.0.1:51849 - \"POST /api/v2/api_call HTTP/1.1\" 200 OK\n",
      "INFO:     127.0.0.1:51851 - \"POST /api/v2/api_call HTTP/1.1\" 200 OK\n",
      "INFO:     127.0.0.1:51853 - \"POST /api/v2/api_call HTTP/1.1\" 200 OK\n",
      "Approving request for domain test-domain-2\n",
      "INFO:     127.0.0.1:51855 - \"POST /api/v2/api_call HTTP/1.1\" 200 OK\n"
     ]
    },
    {
     "data": {
      "text/html": [
       "<div class=\"alert-success\" style=\"padding:5px;\"><strong>SyftSuccess</strong>: Request 1fa7fb8c4d774473860b54980238daf7 changes applied</div><br />"
      ],
      "text/plain": [
       "SyftSuccess: Request 1fa7fb8c4d774473860b54980238daf7 changes applied"
      ]
     },
     "execution_count": 42,
     "metadata": {},
     "output_type": "execute_result"
    }
   ],
   "source": [
    "request.approve()"
   ]
  },
  {
   "cell_type": "code",
   "execution_count": 43,
   "metadata": {
    "editable": true,
    "scrolled": true,
    "slideshow": {
     "slide_type": ""
    },
    "tags": []
   },
   "outputs": [
    {
     "name": "stdout",
     "output_type": "stream",
     "text": [
      "INFO:     127.0.0.1:51807 - \"GET /api/v2/api?verify_key=0dfade1de62080fb5e584e38a1b82ca623859caaefd6f13ae821a4e5172df446&communication_protocol=3 HTTP/1.1\" 200 OK\n"
     ]
    }
   ],
   "source": [
    "domain_client_2._api = None\n",
    "_ = domain_client_2.api"
   ]
  },
  {
   "cell_type": "markdown",
   "metadata": {},
   "source": [
    "Fetching the pointer and the actual weights"
   ]
  },
  {
   "cell_type": "code",
   "execution_count": 44,
   "metadata": {
    "editable": true,
    "slideshow": {
     "slide_type": ""
    },
    "tags": []
   },
   "outputs": [
    {
     "name": "stdout",
     "output_type": "stream",
     "text": [
      "SyftInfo: Creating a node with n_consumers=2 (the default value)\n",
      "Staging Protocol Changes...\n",
      "SQLite Store Path:\n",
      "!open file:///var/folders/78/1q4j7nsx4sg2djyc6d_1xq680000gn/T/98f4c2bf491240eea93ca4017a64012b.sqlite\n",
      "\n",
      "Creating default worker image with tag='local-dev'\n",
      "Building default worker image with tag=local-dev\n",
      "Setting up worker poolname=default-pool workers=2 image_uid=f3bfe6f57e724110ac7fa0b35eb0d798 in_memory=True\n",
      "Created default worker pool.\n",
      "Data Migrated to latest version !!!\n",
      "Logged into <ephemeral_node_fetch_weights_1574: High side Domain> as <info@openmined.org>\n"
     ]
    },
    {
     "data": {
      "text/html": [
       "<div class=\"alert-warning\" style=\"padding:5px;\"><strong>SyftWarning</strong>: You are using a default password. Please change the password using `[your_client].me.set_password([new_password])`.</div><br />"
      ],
      "text/plain": [
       "SyftWarning: You are using a default password. Please change the password using `[your_client].me.set_password([new_password])`."
      ]
     },
     "metadata": {},
     "output_type": "display_data"
    },
    {
     "name": "stdout",
     "output_type": "stream",
     "text": [
      "INFO:     127.0.0.1:51860 - \"POST /api/v2/api_call HTTP/1.1\" 200 OK\n",
      "INFO:     127.0.0.1:51862 - \"POST /api/v2/api_call HTTP/1.1\" 200 OK\n",
      "Approving request for domain ephemeral_node_fetch_weights_1574\n",
      "SyftInfo: Landing the ephmeral node...\n",
      "SyftInfo: Node Landed!\n"
     ]
    }
   ],
   "source": [
    "# Fetch the weights pointer from the domain\n",
    "weights_ptr = fetch_weights(weights=weight_domain_obj)\n",
    "\n",
    "# Retrieve the actual weights from the pointer\n",
    "weights_local_2 = weights_ptr.get()\n"
   ]
  },
  {
   "cell_type": "markdown",
   "metadata": {},
   "source": [
    "Retrieving the Computation Result"
   ]
  },
  {
   "cell_type": "markdown",
   "metadata": {},
   "source": [
    "Cleanup and Land the Node"
   ]
  },
  {
   "cell_type": "code",
   "execution_count": 45,
   "metadata": {
    "tags": []
   },
   "outputs": [],
   "source": [
    "if node_2.node_type.value == \"python\":\n",
    "    node_2.land()"
   ]
  },
  {
   "cell_type": "markdown",
   "metadata": {
    "editable": true,
    "slideshow": {
     "slide_type": ""
    },
    "tags": []
   },
   "source": [
    "## Data Scientist"
   ]
  },
  {
   "cell_type": "code",
   "execution_count": 46,
   "metadata": {},
   "outputs": [],
   "source": [
    "weights1 = weights_local\n",
    "weights2 = weights_local_2"
   ]
  },
  {
   "cell_type": "code",
   "execution_count": 47,
   "metadata": {},
   "outputs": [],
   "source": [
    "import jax.numpy as jnp\n",
    "\n",
    "def combine_weights(weights1, weights2):\n",
    "    \"\"\"Combines two sets of weights by averaging.\"\"\"\n",
    "    global_weights = {}\n",
    "    \n",
    "    # Ensure the keys in both weight sets are identical\n",
    "    assert set(weights1.keys()) == set(weights2.keys()), \"Weight sets have different structures\"\n",
    "    \n",
    "    # Iterate through each layer's weights\n",
    "    for key in weights1:\n",
    "        layer_weights1 = weights1[key]\n",
    "        layer_weights2 = weights2[key]\n",
    "        \n",
    "        # Ensure each layer's weights have identical shapes\n",
    "        assert layer_weights1.shape == layer_weights2.shape, f\"Layer {key} has different shapes\"\n",
    "        \n",
    "        # Average the weights\n",
    "        global_weights[key] = (layer_weights1 + layer_weights2) / 2\n",
    "    \n",
    "    return global_weights\n"
   ]
  },
  {
   "cell_type": "code",
   "execution_count": 48,
   "metadata": {},
   "outputs": [],
   "source": [
    "global_weights = combine_weights(weights1, weights_local_2)"
   ]
  },
  {
   "cell_type": "markdown",
   "metadata": {},
   "source": [
    "# Data Owner 1 with Global Model Weights "
   ]
  },
  {
   "cell_type": "code",
   "execution_count": 49,
   "metadata": {},
   "outputs": [],
   "source": [
    "tf.keras.backend.clear_session() #clears keras session to have the same mapping for DO1 and DO2 dictionaries\n",
    "\n",
    "TRAIN_SPLIT = 0.8\n",
    "VALIDATION_SPLIT = 0.2\n",
    "\n",
    "# Dataset size\n",
    "dataset_size = len(df1)\n",
    "train_size = int(dataset_size * TRAIN_SPLIT)\n",
    "test_size = dataset_size - train_size\n",
    "validation_size = int(test_size * VALIDATION_SPLIT)\n",
    "\n",
    "# Creating the dataset\n",
    "ds = tf.data.Dataset.zip((\n",
    "    tf.data.Dataset.from_tensor_slices((\n",
    "        tf.cast(df1[dense_cols].values, tf.float32),\n",
    "        tf.cast(df1[cat_cols].values, tf.int32),\n",
    "    )),\n",
    "    tf.data.Dataset.from_tensor_slices(tf.cast(to_categorical(df1['label'].values, num_classes=2), tf.float32))\n",
    ")).shuffle(buffer_size=2048)\n",
    "\n",
    "# Splitting the dataset\n",
    "ds_train = ds.take(train_size)\n",
    "ds_test = ds.skip(train_size)\n",
    "ds_valid = ds_test.take(validation_size)\n",
    "ds_test = ds_test.skip(validation_size)"
   ]
  },
  {
   "cell_type": "code",
   "execution_count": 50,
   "metadata": {},
   "outputs": [],
   "source": [
    "embedding_sizes = [emb_count for emb_count in emb_counts]\n",
    "\n",
    "# Model architecture parameters\n",
    "embedding_dim = 2\n",
    "arch_bot = [8, 2]  # Architecture for the bottom MLP (processing dense features)\n",
    "arch_top = [128, 64, 2]  # Architecture for the top MLP (combining embeddings and processed dense features)\n",
    "\n",
    "class DLRM(tf.keras.Model):\n",
    "    def __init__(self, embedding_sizes, embedding_dim, arch_bot, arch_top, self_interaction):\n",
    "        super(DLRM, self).__init__()\n",
    "        self.emb = [tf.keras.layers.Embedding(size, embedding_dim) for size in embedding_sizes]\n",
    "        self.bot_nn = MLP(arch_bot, out_activation='relu')\n",
    "        self.top_nn = MLP(arch_top, out_activation='sigmoid')\n",
    "        self.interaction_op = SecondOrderFeatureInteraction(self_interaction)\n",
    "\n",
    "    def call(self, inputs):\n",
    "        input_dense, input_cat = inputs\n",
    "        emb_x = [E(x) for E, x in zip(self.emb, tf.unstack(input_cat, axis=1))]\n",
    "        dense_x = self.bot_nn(input_dense)\n",
    "\n",
    "        Z = self.interaction_op(emb_x + [dense_x])\n",
    "        z = tf.concat([dense_x, Z], axis=1)\n",
    "        p = self.top_nn(z)\n",
    "\n",
    "        return p\n",
    "\n",
    "# Initialize the model\n",
    "model = DLRM(\n",
    "    embedding_sizes=embedding_sizes,\n",
    "    embedding_dim=embedding_dim,\n",
    "    arch_bot=arch_bot,\n",
    "    arch_top=arch_top,\n",
    "    self_interaction=False\n",
    ")\n",
    "\n",
    "# Compile the model\n",
    "model.compile(\n",
    "    optimizer=tf.keras.optimizers.legacy.Adam(learning_rate=0.0001),\n",
    "    loss=tf.keras.losses.BinaryCrossentropy(from_logits=False),\n",
    "    metrics=['accuracy', AUC(name='auc')]\n",
    ")\n",
    "\n",
    "# Generate dummy input to build the model\n",
    "dummy_input_dense = tf.random.uniform((1, len(dense_cols)), dtype=tf.float32)\n",
    "dummy_input_cat = tf.random.uniform((1, len(cat_cols)), maxval=2, dtype=tf.int32)\n",
    "model([dummy_input_dense, dummy_input_cat])  # This builds the model's layers\n",
    "\n",
    "# Set the pre-trained weights\n",
    "for layer in model.layers:\n",
    "    if hasattr(layer, 'layers'):  # For nested layers\n",
    "        for sub_layer in layer.layers:\n",
    "            if sub_layer.name in global_weights:\n",
    "                sub_layer.set_weights(global_weights[sub_layer.name])\n",
    "    else:\n",
    "        if layer.name in global_weights:\n",
    "            layer.set_weights(global_weights[layer.name])\n"
   ]
  },
  {
   "cell_type": "code",
   "execution_count": 51,
   "metadata": {},
   "outputs": [
    {
     "name": "stdout",
     "output_type": "stream",
     "text": [
      "Epoch 1/5\n",
      "427/427 [==============================] - 3s 4ms/step - loss: 0.6086 - accuracy: 0.7452 - auc: 0.7499 - val_loss: 0.5507 - val_accuracy: 0.7446 - val_auc: 0.7944\n",
      "Epoch 2/5\n",
      "427/427 [==============================] - 2s 4ms/step - loss: 0.5386 - accuracy: 0.7455 - auc: 0.8116 - val_loss: 0.5222 - val_accuracy: 0.7497 - val_auc: 0.8205\n",
      "Epoch 3/5\n",
      "427/427 [==============================] - 2s 4ms/step - loss: 0.5023 - accuracy: 0.7577 - auc: 0.8371 - val_loss: 0.4871 - val_accuracy: 0.7710 - val_auc: 0.8478\n",
      "Epoch 4/5\n",
      "427/427 [==============================] - 2s 4ms/step - loss: 0.4584 - accuracy: 0.7874 - auc: 0.8669 - val_loss: 0.4951 - val_accuracy: 0.7636 - val_auc: 0.8401\n",
      "Epoch 5/5\n",
      "427/427 [==============================] - 2s 4ms/step - loss: 0.4112 - accuracy: 0.8172 - auc: 0.8951 - val_loss: 0.4910 - val_accuracy: 0.7673 - val_auc: 0.8464\n"
     ]
    }
   ],
   "source": [
    "BATCH_SIZE = 128\n",
    "\n",
    "history =model.fit(\n",
    "    ds_train.batch(BATCH_SIZE),\n",
    "    validation_data=ds_valid.batch(BATCH_SIZE),\n",
    "    callbacks=[\n",
    "        tf.keras.callbacks.EarlyStopping(patience=6, restore_best_weights=True)\n",
    "    ],\n",
    "    epochs=5,\n",
    "    verbose=1,\n",
    ")\n"
   ]
  },
  {
   "cell_type": "code",
   "execution_count": 52,
   "metadata": {},
   "outputs": [
    {
     "name": "stdout",
     "output_type": "stream",
     "text": [
      "Model: \"dlrm\"\n",
      "_________________________________________________________________\n",
      " Layer (type)                Output Shape              Param #   \n",
      "=================================================================\n",
      " embedding (Embedding)       multiple                  1204      \n",
      "                                                                 \n",
      " embedding_1 (Embedding)     multiple                  1022      \n",
      "                                                                 \n",
      " embedding_2 (Embedding)     multiple                  114322    \n",
      "                                                                 \n",
      " embedding_3 (Embedding)     multiple                  59116     \n",
      "                                                                 \n",
      " embedding_4 (Embedding)     multiple                  330       \n",
      "                                                                 \n",
      " embedding_5 (Embedding)     multiple                  26        \n",
      "                                                                 \n",
      " embedding_6 (Embedding)     multiple                  16824     \n",
      "                                                                 \n",
      " embedding_7 (Embedding)     multiple                  580       \n",
      "                                                                 \n",
      " embedding_8 (Embedding)     multiple                  6         \n",
      "                                                                 \n",
      " embedding_9 (Embedding)     multiple                  27292     \n",
      "                                                                 \n",
      " embedding_10 (Embedding)    multiple                  8016      \n",
      "                                                                 \n",
      " embedding_11 (Embedding)    multiple                  100286    \n",
      "                                                                 \n",
      " embedding_12 (Embedding)    multiple                  5754      \n",
      "                                                                 \n",
      " embedding_13 (Embedding)    multiple                  52        \n",
      "                                                                 \n",
      " embedding_14 (Embedding)    multiple                  11356     \n",
      "                                                                 \n",
      " embedding_15 (Embedding)    multiple                  82898     \n",
      "                                                                 \n",
      " embedding_16 (Embedding)    multiple                  20        \n",
      "                                                                 \n",
      " embedding_17 (Embedding)    multiple                  5490      \n",
      "                                                                 \n",
      " embedding_18 (Embedding)    multiple                  2718      \n",
      "                                                                 \n",
      " embedding_19 (Embedding)    multiple                  8         \n",
      "                                                                 \n",
      " embedding_20 (Embedding)    multiple                  92586     \n",
      "                                                                 \n",
      " embedding_21 (Embedding)    multiple                  28        \n",
      "                                                                 \n",
      " embedding_22 (Embedding)    multiple                  28        \n",
      "                                                                 \n",
      " embedding_23 (Embedding)    multiple                  27592     \n",
      "                                                                 \n",
      " embedding_24 (Embedding)    multiple                  102       \n",
      "                                                                 \n",
      " embedding_25 (Embedding)    multiple                  21242     \n",
      "                                                                 \n",
      " sequential (Sequential)     (None, 2)                 130       \n",
      "                                                                 \n",
      " sequential_1 (Sequential)   (None, 2)                 53698     \n",
      "                                                                 \n",
      " second_order_feature_inter  multiple                  0         \n",
      " action (SecondOrderFeature                                      \n",
      " Interaction)                                                    \n",
      "                                                                 \n",
      "=================================================================\n",
      "Total params: 632726 (2.41 MB)\n",
      "Trainable params: 632726 (2.41 MB)\n",
      "Non-trainable params: 0 (0.00 Byte)\n",
      "_________________________________________________________________\n"
     ]
    }
   ],
   "source": [
    "model.summary()"
   ]
  },
  {
   "cell_type": "code",
   "execution_count": 53,
   "metadata": {},
   "outputs": [
    {
     "name": "stdout",
     "output_type": "stream",
     "text": [
      "86/86 [==============================] - 0s 2ms/step - loss: 0.5339 - accuracy: 0.7437 - auc: 0.8204\n",
      "Loss: 0.5339065790176392, Accuracy: 0.7437494397163391, AUC: 0.8204355835914612\n"
     ]
    }
   ],
   "source": [
    "results = model.evaluate(ds_test.batch(BATCH_SIZE))\n",
    "print(f'Loss: {results[0]}, Accuracy: {results[1]}, AUC: {results[2]}')"
   ]
  },
  {
   "cell_type": "code",
   "execution_count": 54,
   "metadata": {},
   "outputs": [
    {
     "data": {
      "text/html": [
       "<div>\n",
       "<style scoped>\n",
       "    .dataframe tbody tr th:only-of-type {\n",
       "        vertical-align: middle;\n",
       "    }\n",
       "\n",
       "    .dataframe tbody tr th {\n",
       "        vertical-align: top;\n",
       "    }\n",
       "\n",
       "    .dataframe thead th {\n",
       "        text-align: right;\n",
       "    }\n",
       "</style>\n",
       "<table border=\"1\" class=\"dataframe\">\n",
       "  <thead>\n",
       "    <tr style=\"text-align: right;\">\n",
       "      <th></th>\n",
       "      <th>loss</th>\n",
       "      <th>accuracy</th>\n",
       "      <th>auc</th>\n",
       "      <th>val_loss</th>\n",
       "      <th>val_accuracy</th>\n",
       "      <th>val_auc</th>\n",
       "    </tr>\n",
       "  </thead>\n",
       "  <tbody>\n",
       "    <tr>\n",
       "      <th>0</th>\n",
       "      <td>0.608581</td>\n",
       "      <td>0.745164</td>\n",
       "      <td>0.749903</td>\n",
       "      <td>0.550681</td>\n",
       "      <td>0.744595</td>\n",
       "      <td>0.794377</td>\n",
       "    </tr>\n",
       "    <tr>\n",
       "      <th>1</th>\n",
       "      <td>0.538646</td>\n",
       "      <td>0.745494</td>\n",
       "      <td>0.811628</td>\n",
       "      <td>0.522234</td>\n",
       "      <td>0.749725</td>\n",
       "      <td>0.820548</td>\n",
       "    </tr>\n",
       "    <tr>\n",
       "      <th>2</th>\n",
       "      <td>0.502278</td>\n",
       "      <td>0.757657</td>\n",
       "      <td>0.837080</td>\n",
       "      <td>0.487061</td>\n",
       "      <td>0.770978</td>\n",
       "      <td>0.847779</td>\n",
       "    </tr>\n",
       "    <tr>\n",
       "      <th>3</th>\n",
       "      <td>0.458417</td>\n",
       "      <td>0.787408</td>\n",
       "      <td>0.866875</td>\n",
       "      <td>0.495111</td>\n",
       "      <td>0.763650</td>\n",
       "      <td>0.840144</td>\n",
       "    </tr>\n",
       "    <tr>\n",
       "      <th>4</th>\n",
       "      <td>0.411241</td>\n",
       "      <td>0.817249</td>\n",
       "      <td>0.895119</td>\n",
       "      <td>0.491021</td>\n",
       "      <td>0.767314</td>\n",
       "      <td>0.846373</td>\n",
       "    </tr>\n",
       "  </tbody>\n",
       "</table>\n",
       "</div>"
      ],
      "text/plain": [
       "       loss  accuracy       auc  val_loss  val_accuracy   val_auc\n",
       "0  0.608581  0.745164  0.749903  0.550681      0.744595  0.794377\n",
       "1  0.538646  0.745494  0.811628  0.522234      0.749725  0.820548\n",
       "2  0.502278  0.757657  0.837080  0.487061      0.770978  0.847779\n",
       "3  0.458417  0.787408  0.866875  0.495111      0.763650  0.840144\n",
       "4  0.411241  0.817249  0.895119  0.491021      0.767314  0.846373"
      ]
     },
     "metadata": {},
     "output_type": "display_data"
    },
    {
     "data": {
      "image/png": "[encoded data removed]",
      "text/plain": [
       "<Figure size 1000x800 with 1 Axes>"
      ]
     },
     "metadata": {},
     "output_type": "display_data"
    }
   ],
   "source": [
    "loss = pd.DataFrame.from_dict(history.history)\n",
    "display(loss.head())\n",
    "\n",
    "plt.figure(figsize=(10,8))\n",
    "plt.plot(loss['loss'], label='Train Loss')\n",
    "plt.plot(loss['val_loss'], label='Validation Loss')\n",
    "\n",
    "# Plot AUC\n",
    "plt.plot(loss['auc'], label='Train AUC')\n",
    "plt.plot(loss['val_auc'], label='Validation AUC')\n",
    "\n",
    "plt.legend()\n",
    "plt.show()\n"
   ]
  },
  {
   "cell_type": "code",
   "execution_count": 55,
   "metadata": {},
   "outputs": [
    {
     "name": "stdout",
     "output_type": "stream",
     "text": [
      "Validation AUC: 0.8428\n"
     ]
    }
   ],
   "source": [
    "# Evaluate the model on the validation dataset\n",
    "val_metrics = model.evaluate(ds_valid.batch(BATCH_SIZE), verbose=0)\n",
    "val_auc_index = model.metrics_names.index('auc')\n",
    "val_auc = val_metrics[val_auc_index]\n",
    "\n",
    "print(f\"Validation AUC: {val_auc:.4f}\")"
   ]
  },
  {
   "cell_type": "code",
   "execution_count": 56,
   "metadata": {},
   "outputs": [
    {
     "name": "stdout",
     "output_type": "stream",
     "text": [
      "Relative Improvement (RelaImpr): 100.87%\n"
     ]
    }
   ],
   "source": [
    "rela_impr = ((val_auc - 0.5) / (auc_score_baseline1 - 0.5)) * 100\n",
    "print(f\"Relative Improvement (RelaImpr): {rela_impr:.2f}%\")"
   ]
  },
  {
   "cell_type": "markdown",
   "metadata": {
    "editable": true,
    "slideshow": {
     "slide_type": ""
    },
    "tags": []
   },
   "source": [
    "# Data Owner 2 with Global Model Weights "
   ]
  },
  {
   "cell_type": "code",
   "execution_count": 57,
   "metadata": {
    "editable": true,
    "slideshow": {
     "slide_type": ""
    },
    "tags": []
   },
   "outputs": [],
   "source": [
    "tf.keras.backend.clear_session() #clears keras session to have the same mapping for DO1 and DO2 dictionaries\n",
    "\n",
    "TRAIN_SPLIT = 0.8\n",
    "VALIDATION_SPLIT = 0.2\n",
    "\n",
    "# Dataset size\n",
    "dataset_size = len(df2)\n",
    "train_size = int(dataset_size * TRAIN_SPLIT)\n",
    "test_size = dataset_size - train_size\n",
    "validation_size = int(test_size * VALIDATION_SPLIT)\n",
    "\n",
    "# Creating the dataset\n",
    "ds = tf.data.Dataset.zip((\n",
    "    tf.data.Dataset.from_tensor_slices((\n",
    "        tf.cast(df2[dense_cols].values, tf.float32),\n",
    "        tf.cast(df2[cat_cols].values, tf.int32),\n",
    "    )),\n",
    "    tf.data.Dataset.from_tensor_slices(tf.cast(to_categorical(df2['label'].values, num_classes=2), tf.float32))\n",
    ")).shuffle(buffer_size=2048)\n",
    "\n",
    "# Splitting the dataset\n",
    "ds_train = ds.take(train_size)\n",
    "ds_test = ds.skip(train_size)\n",
    "ds_valid = ds_test.take(validation_size)\n",
    "ds_test = ds_test.skip(validation_size)"
   ]
  },
  {
   "cell_type": "code",
   "execution_count": 58,
   "metadata": {},
   "outputs": [],
   "source": [
    "embedding_sizes = [emb_count for emb_count in emb_counts]\n",
    "\n",
    "# Model architecture parameters\n",
    "embedding_dim = 2\n",
    "arch_bot = [8, 2]  # Architecture for the bottom MLP (processing dense features)\n",
    "arch_top = [128, 64, 2]  # Architecture for the top MLP (combining embeddings and processed dense features)\n",
    "\n",
    "class DLRM(tf.keras.Model):\n",
    "    def __init__(self, embedding_sizes, embedding_dim, arch_bot, arch_top, self_interaction):\n",
    "        super(DLRM, self).__init__()\n",
    "        self.emb = [tf.keras.layers.Embedding(size, embedding_dim) for size in embedding_sizes]\n",
    "        self.bot_nn = MLP(arch_bot, out_activation='relu')\n",
    "        self.top_nn = MLP(arch_top, out_activation='sigmoid')\n",
    "        self.interaction_op = SecondOrderFeatureInteraction(self_interaction)\n",
    "\n",
    "    def call(self, inputs):\n",
    "        input_dense, input_cat = inputs\n",
    "        emb_x = [E(x) for E, x in zip(self.emb, tf.unstack(input_cat, axis=1))]\n",
    "        dense_x = self.bot_nn(input_dense)\n",
    "\n",
    "        Z = self.interaction_op(emb_x + [dense_x])\n",
    "        z = tf.concat([dense_x, Z], axis=1)\n",
    "        p = self.top_nn(z)\n",
    "\n",
    "        return p\n",
    "\n",
    "# Initialize the model\n",
    "model = DLRM(\n",
    "    embedding_sizes=embedding_sizes,\n",
    "    embedding_dim=embedding_dim,\n",
    "    arch_bot=arch_bot,\n",
    "    arch_top=arch_top,\n",
    "    self_interaction=False\n",
    ")\n",
    "\n",
    "# Compile the model\n",
    "model.compile(\n",
    "    optimizer=tf.keras.optimizers.legacy.Adam(learning_rate=0.0001),\n",
    "    loss=tf.keras.losses.BinaryCrossentropy(from_logits=False),\n",
    "    metrics=['accuracy', AUC(name='auc')]\n",
    ")\n",
    "\n",
    "# Generate dummy input to build the model\n",
    "dummy_input_dense = tf.random.uniform((1, len(dense_cols)), dtype=tf.float32)\n",
    "dummy_input_cat = tf.random.uniform((1, len(cat_cols)), maxval=2, dtype=tf.int32)\n",
    "model([dummy_input_dense, dummy_input_cat])  # This builds the model's layers\n",
    "\n",
    "# Set the pre-trained weights\n",
    "for layer in model.layers:\n",
    "    if hasattr(layer, 'layers'):  # For nested layers\n",
    "        for sub_layer in layer.layers:\n",
    "            if sub_layer.name in global_weights:\n",
    "                sub_layer.set_weights(gglobal_weights[sub_layer.name])\n",
    "    else:\n",
    "        if layer.name in global_weights:\n",
    "            layer.set_weights(global_weights[layer.name])\n"
   ]
  },
  {
   "cell_type": "code",
   "execution_count": 59,
   "metadata": {},
   "outputs": [
    {
     "name": "stdout",
     "output_type": "stream",
     "text": [
      "Epoch 1/5\n",
      "427/427 [==============================] - 3s 5ms/step - loss: 0.6159 - accuracy: 0.7484 - auc: 0.7489 - val_loss: 0.5422 - val_accuracy: 0.7611 - val_auc: 0.8037\n",
      "Epoch 2/5\n",
      "427/427 [==============================] - 2s 5ms/step - loss: 0.5357 - accuracy: 0.7499 - auc: 0.8141 - val_loss: 0.5127 - val_accuracy: 0.7615 - val_auc: 0.8278\n",
      "Epoch 3/5\n",
      "427/427 [==============================] - 2s 5ms/step - loss: 0.4924 - accuracy: 0.7657 - auc: 0.8432 - val_loss: 0.4969 - val_accuracy: 0.7735 - val_auc: 0.8393\n",
      "Epoch 4/5\n",
      "427/427 [==============================] - 2s 5ms/step - loss: 0.4542 - accuracy: 0.7884 - auc: 0.8689 - val_loss: 0.4702 - val_accuracy: 0.7823 - val_auc: 0.8581\n",
      "Epoch 5/5\n",
      "427/427 [==============================] - 2s 5ms/step - loss: 0.4166 - accuracy: 0.8104 - auc: 0.8915 - val_loss: 0.4668 - val_accuracy: 0.7926 - val_auc: 0.8624\n"
     ]
    }
   ],
   "source": [
    "BATCH_SIZE = 128\n",
    "\n",
    "history =model.fit(\n",
    "    ds_train.batch(BATCH_SIZE),\n",
    "    validation_data=ds_valid.batch(BATCH_SIZE),\n",
    "    callbacks=[\n",
    "        tf.keras.callbacks.EarlyStopping(patience=6, restore_best_weights=True)\n",
    "    ],\n",
    "    epochs=5,\n",
    "    verbose=1,\n",
    ")\n"
   ]
  },
  {
   "cell_type": "code",
   "execution_count": 60,
   "metadata": {},
   "outputs": [
    {
     "name": "stdout",
     "output_type": "stream",
     "text": [
      "Model: \"dlrm\"\n",
      "_________________________________________________________________\n",
      " Layer (type)                Output Shape              Param #   \n",
      "=================================================================\n",
      " embedding (Embedding)       multiple                  1204      \n",
      "                                                                 \n",
      " embedding_1 (Embedding)     multiple                  1022      \n",
      "                                                                 \n",
      " embedding_2 (Embedding)     multiple                  114322    \n",
      "                                                                 \n",
      " embedding_3 (Embedding)     multiple                  59116     \n",
      "                                                                 \n",
      " embedding_4 (Embedding)     multiple                  330       \n",
      "                                                                 \n",
      " embedding_5 (Embedding)     multiple                  26        \n",
      "                                                                 \n",
      " embedding_6 (Embedding)     multiple                  16824     \n",
      "                                                                 \n",
      " embedding_7 (Embedding)     multiple                  580       \n",
      "                                                                 \n",
      " embedding_8 (Embedding)     multiple                  6         \n",
      "                                                                 \n",
      " embedding_9 (Embedding)     multiple                  27292     \n",
      "                                                                 \n",
      " embedding_10 (Embedding)    multiple                  8016      \n",
      "                                                                 \n",
      " embedding_11 (Embedding)    multiple                  100286    \n",
      "                                                                 \n",
      " embedding_12 (Embedding)    multiple                  5754      \n",
      "                                                                 \n",
      " embedding_13 (Embedding)    multiple                  52        \n",
      "                                                                 \n",
      " embedding_14 (Embedding)    multiple                  11356     \n",
      "                                                                 \n",
      " embedding_15 (Embedding)    multiple                  82898     \n",
      "                                                                 \n",
      " embedding_16 (Embedding)    multiple                  20        \n",
      "                                                                 \n",
      " embedding_17 (Embedding)    multiple                  5490      \n",
      "                                                                 \n",
      " embedding_18 (Embedding)    multiple                  2718      \n",
      "                                                                 \n",
      " embedding_19 (Embedding)    multiple                  8         \n",
      "                                                                 \n",
      " embedding_20 (Embedding)    multiple                  92586     \n",
      "                                                                 \n",
      " embedding_21 (Embedding)    multiple                  28        \n",
      "                                                                 \n",
      " embedding_22 (Embedding)    multiple                  28        \n",
      "                                                                 \n",
      " embedding_23 (Embedding)    multiple                  27592     \n",
      "                                                                 \n",
      " embedding_24 (Embedding)    multiple                  102       \n",
      "                                                                 \n",
      " embedding_25 (Embedding)    multiple                  21242     \n",
      "                                                                 \n",
      " sequential (Sequential)     (None, 2)                 130       \n",
      "                                                                 \n",
      " sequential_1 (Sequential)   (None, 2)                 53698     \n",
      "                                                                 \n",
      " second_order_feature_inter  multiple                  0         \n",
      " action (SecondOrderFeature                                      \n",
      " Interaction)                                                    \n",
      "                                                                 \n",
      "=================================================================\n",
      "Total params: 632726 (2.41 MB)\n",
      "Trainable params: 632726 (2.41 MB)\n",
      "Non-trainable params: 0 (0.00 Byte)\n",
      "_________________________________________________________________\n"
     ]
    }
   ],
   "source": [
    "model.summary()"
   ]
  },
  {
   "cell_type": "code",
   "execution_count": 61,
   "metadata": {},
   "outputs": [
    {
     "name": "stdout",
     "output_type": "stream",
     "text": [
      "86/86 [==============================] - 0s 1ms/step - loss: 0.5101 - accuracy: 0.7643 - auc: 0.8380\n",
      "Loss: 0.5101112127304077, Accuracy: 0.7642641067504883, AUC: 0.8380277156829834\n"
     ]
    }
   ],
   "source": [
    "results = model.evaluate(ds_test.batch(BATCH_SIZE))\n",
    "print(f'Loss: {results[0]}, Accuracy: {results[1]}, AUC: {results[2]}')"
   ]
  },
  {
   "cell_type": "code",
   "execution_count": 62,
   "metadata": {},
   "outputs": [
    {
     "data": {
      "text/html": [
       "<div>\n",
       "<style scoped>\n",
       "    .dataframe tbody tr th:only-of-type {\n",
       "        vertical-align: middle;\n",
       "    }\n",
       "\n",
       "    .dataframe tbody tr th {\n",
       "        vertical-align: top;\n",
       "    }\n",
       "\n",
       "    .dataframe thead th {\n",
       "        text-align: right;\n",
       "    }\n",
       "</style>\n",
       "<table border=\"1\" class=\"dataframe\">\n",
       "  <thead>\n",
       "    <tr style=\"text-align: right;\">\n",
       "      <th></th>\n",
       "      <th>loss</th>\n",
       "      <th>accuracy</th>\n",
       "      <th>auc</th>\n",
       "      <th>val_loss</th>\n",
       "      <th>val_accuracy</th>\n",
       "      <th>val_auc</th>\n",
       "    </tr>\n",
       "  </thead>\n",
       "  <tbody>\n",
       "    <tr>\n",
       "      <th>0</th>\n",
       "      <td>0.615923</td>\n",
       "      <td>0.748393</td>\n",
       "      <td>0.748868</td>\n",
       "      <td>0.542247</td>\n",
       "      <td>0.761085</td>\n",
       "      <td>0.803739</td>\n",
       "    </tr>\n",
       "    <tr>\n",
       "      <th>1</th>\n",
       "      <td>0.535730</td>\n",
       "      <td>0.749931</td>\n",
       "      <td>0.814138</td>\n",
       "      <td>0.512663</td>\n",
       "      <td>0.761451</td>\n",
       "      <td>0.827785</td>\n",
       "    </tr>\n",
       "    <tr>\n",
       "      <th>2</th>\n",
       "      <td>0.492366</td>\n",
       "      <td>0.765740</td>\n",
       "      <td>0.843189</td>\n",
       "      <td>0.496890</td>\n",
       "      <td>0.773543</td>\n",
       "      <td>0.839315</td>\n",
       "    </tr>\n",
       "    <tr>\n",
       "      <th>3</th>\n",
       "      <td>0.454218</td>\n",
       "      <td>0.788419</td>\n",
       "      <td>0.868856</td>\n",
       "      <td>0.470160</td>\n",
       "      <td>0.782338</td>\n",
       "      <td>0.858117</td>\n",
       "    </tr>\n",
       "    <tr>\n",
       "      <th>4</th>\n",
       "      <td>0.416603</td>\n",
       "      <td>0.810365</td>\n",
       "      <td>0.891499</td>\n",
       "      <td>0.466811</td>\n",
       "      <td>0.792598</td>\n",
       "      <td>0.862447</td>\n",
       "    </tr>\n",
       "  </tbody>\n",
       "</table>\n",
       "</div>"
      ],
      "text/plain": [
       "       loss  accuracy       auc  val_loss  val_accuracy   val_auc\n",
       "0  0.615923  0.748393  0.748868  0.542247      0.761085  0.803739\n",
       "1  0.535730  0.749931  0.814138  0.512663      0.761451  0.827785\n",
       "2  0.492366  0.765740  0.843189  0.496890      0.773543  0.839315\n",
       "3  0.454218  0.788419  0.868856  0.470160      0.782338  0.858117\n",
       "4  0.416603  0.810365  0.891499  0.466811      0.792598  0.862447"
      ]
     },
     "metadata": {},
     "output_type": "display_data"
    },
    {
     "data": {
      "image/png": "[encoded data removed]",
      "text/plain": [
       "<Figure size 1000x800 with 1 Axes>"
      ]
     },
     "metadata": {},
     "output_type": "display_data"
    }
   ],
   "source": [
    "loss = pd.DataFrame.from_dict(history.history)\n",
    "display(loss.head())\n",
    "\n",
    "plt.figure(figsize=(10,8))\n",
    "plt.plot(loss['loss'], label='Train Loss')\n",
    "plt.plot(loss['val_loss'], label='Validation Loss')\n",
    "\n",
    "# Plot AUC\n",
    "plt.plot(loss['auc'], label='Train AUC')\n",
    "plt.plot(loss['val_auc'], label='Validation AUC')\n",
    "\n",
    "plt.legend()\n",
    "plt.show()\n"
   ]
  },
  {
   "cell_type": "code",
   "execution_count": 63,
   "metadata": {},
   "outputs": [
    {
     "name": "stdout",
     "output_type": "stream",
     "text": [
      "Validation AUC: 0.8576\n"
     ]
    }
   ],
   "source": [
    "# Evaluate the model on the validation dataset\n",
    "val_metrics = model.evaluate(ds_valid.batch(BATCH_SIZE), verbose=0)\n",
    "val_auc_index = model.metrics_names.index('auc')\n",
    "val_auc = val_metrics[val_auc_index]\n",
    "\n",
    "print(f\"Validation AUC: {val_auc:.4f}\")\n"
   ]
  },
  {
   "cell_type": "code",
   "execution_count": 64,
   "metadata": {
    "editable": true,
    "slideshow": {
     "slide_type": ""
    },
    "tags": []
   },
   "outputs": [
    {
     "name": "stdout",
     "output_type": "stream",
     "text": [
      "Relative Improvement (RelaImpr): 98.73%\n"
     ]
    }
   ],
   "source": [
    "rela_impr = ((val_auc - 0.5) / (auc_score_baseline2 - 0.5)) * 100\n",
    "print(f\"Relative Improvement (RelaImpr): {rela_impr:.2f}%\")"
   ]
  }
 ],
 "metadata": {
  "kernelspec": {
   "display_name": "Python 3 (ipykernel)",
   "language": "python",
   "name": "python3"
  },
  "language_info": {
   "codemirror_mode": {
    "name": "ipython",
    "version": 3
   },
   "file_extension": ".py",
   "mimetype": "text/x-python",
   "name": "python",
   "nbconvert_exporter": "python",
   "pygments_lexer": "ipython3",
   "version": "3.9.18"
  }
 },
 "nbformat": 4,
 "nbformat_minor": 4
}
