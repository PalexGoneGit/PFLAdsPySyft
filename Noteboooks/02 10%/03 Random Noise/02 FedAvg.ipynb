{
 "cells": [
  {
   "cell_type": "markdown",
   "metadata": {
    "editable": true,
    "slideshow": {
     "slide_type": ""
    },
    "tags": []
   },
   "source": [
    "# Implementation of DLRM (10%/Random Noise/FedAvg) "
   ]
  },
  {
   "cell_type": "markdown",
   "metadata": {
    "jp-MarkdownHeadingCollapsed": true
   },
   "source": [
    "## Imports"
   ]
  },
  {
   "cell_type": "code",
   "execution_count": 1,
   "metadata": {},
   "outputs": [
    {
     "name": "stderr",
     "output_type": "stream",
     "text": [
      "kj/filesystem-disk-unix.c++:1703: warning: PWD environment variable doesn't match current directory; pwd = /Users/alex\n"
     ]
    },
    {
     "name": "stdout",
     "output_type": "stream",
     "text": [
      "✅ The installed version of syft==0.8.4 matches the requirement >=0.8.2b0 and the requirement <0.9\n"
     ]
    }
   ],
   "source": [
    "SYFT_VERSION = \">=0.8.2.b0,<0.9\"\n",
    "package_string = f'\"syft{SYFT_VERSION}\"'\n",
    "# %pip install {package_string} -q\n",
    "\n",
    "import tensorflow as tf\n",
    "from tensorflow.keras.metrics import AUC\n",
    "# syft absolute\n",
    "import syft as sy\n",
    "\n",
    "sy.requires(SYFT_VERSION)\n",
    "\n",
    "import pandas as pd\n",
    "from sklearn import preprocessing\n",
    "from tensorflow.keras.utils import to_categorical\n",
    "from tensorflow.keras.metrics import Precision, Recall\n",
    "import matplotlib.pyplot as plt\n",
    "plt.style.use('ggplot')\n",
    "from sklearn.metrics import precision_score\n",
    "from sklearn.metrics import recall_score\n",
    "from sklearn.metrics import f1_score\n",
    "import numpy as np\n"
   ]
  },
  {
   "cell_type": "markdown",
   "metadata": {
    "editable": true,
    "jp-MarkdownHeadingCollapsed": true,
    "slideshow": {
     "slide_type": ""
    },
    "tags": []
   },
   "source": [
    "## Load and preprocess the data"
   ]
  },
  {
   "cell_type": "code",
   "execution_count": 66,
   "metadata": {},
   "outputs": [
    {
     "name": "stdout",
     "output_type": "stream",
     "text": [
      "Loaded rows: 136473\n"
     ]
    }
   ],
   "source": [
    "# Set the seed for reproducibility\n",
    "np.random.seed(42)\n",
    "\n",
    "# Total number of rows in the dataset (excluding the header)\n",
    "total_rows = 1364729\n",
    "\n",
    "# Number of rows to load - 10% of the total rows\n",
    "rows_to_load = total_rows // 10\n",
    "\n",
    "# Generate a sorted list of random indices to skip, aiming to load about 10% of the dataset\n",
    "skip_rows = np.sort(np.random.choice(np.arange(1, total_rows + 1), size=(total_rows - rows_to_load), replace=False))\n",
    "\n",
    "# Define the column names\n",
    "columns = ['label', *(f'I{i}' for i in range(1, 14)), *(f'C{i}' for i in range(1, 27))]\n",
    "\n",
    "# Load the dataset, skipping the selected rows\n",
    "df = pd.read_csv('/Users/alex/Thesis/New Dataset/train.txt', sep='\\t', names=columns, skiprows=skip_rows).fillna(0)\n",
    "\n",
    "# Check the loaded data\n",
    "print(f\"Loaded rows: {len(df)}\")"
   ]
  },
  {
   "cell_type": "code",
   "execution_count": 67,
   "metadata": {},
   "outputs": [
    {
     "data": {
      "text/html": [
       "<div>\n",
       "<style scoped>\n",
       "    .dataframe tbody tr th:only-of-type {\n",
       "        vertical-align: middle;\n",
       "    }\n",
       "\n",
       "    .dataframe tbody tr th {\n",
       "        vertical-align: top;\n",
       "    }\n",
       "\n",
       "    .dataframe thead th {\n",
       "        text-align: right;\n",
       "    }\n",
       "</style>\n",
       "<table border=\"1\" class=\"dataframe\">\n",
       "  <thead>\n",
       "    <tr style=\"text-align: right;\">\n",
       "      <th></th>\n",
       "      <th>label</th>\n",
       "      <th>I1</th>\n",
       "      <th>I2</th>\n",
       "      <th>I3</th>\n",
       "      <th>I4</th>\n",
       "      <th>I5</th>\n",
       "      <th>I6</th>\n",
       "      <th>I7</th>\n",
       "      <th>I8</th>\n",
       "      <th>I9</th>\n",
       "      <th>...</th>\n",
       "      <th>C17</th>\n",
       "      <th>C18</th>\n",
       "      <th>C19</th>\n",
       "      <th>C20</th>\n",
       "      <th>C21</th>\n",
       "      <th>C22</th>\n",
       "      <th>C23</th>\n",
       "      <th>C24</th>\n",
       "      <th>C25</th>\n",
       "      <th>C26</th>\n",
       "    </tr>\n",
       "  </thead>\n",
       "  <tbody>\n",
       "    <tr>\n",
       "      <th>0</th>\n",
       "      <td>0</td>\n",
       "      <td>-0.134357</td>\n",
       "      <td>-0.264834</td>\n",
       "      <td>-0.037551</td>\n",
       "      <td>-0.665336</td>\n",
       "      <td>-0.251022</td>\n",
       "      <td>-0.285512</td>\n",
       "      <td>0.022657</td>\n",
       "      <td>-0.416195</td>\n",
       "      <td>0.391602</td>\n",
       "      <td>...</td>\n",
       "      <td>e5ba7672</td>\n",
       "      <td>f54016b9</td>\n",
       "      <td>21ddcdc9</td>\n",
       "      <td>b1252a9d</td>\n",
       "      <td>07b5194c</td>\n",
       "      <td>0</td>\n",
       "      <td>3a171ecb</td>\n",
       "      <td>c5c50484</td>\n",
       "      <td>e8b83407</td>\n",
       "      <td>9727dd16</td>\n",
       "    </tr>\n",
       "    <tr>\n",
       "      <th>1</th>\n",
       "      <td>1</td>\n",
       "      <td>-0.289223</td>\n",
       "      <td>-0.057509</td>\n",
       "      <td>-0.047134</td>\n",
       "      <td>1.216693</td>\n",
       "      <td>-0.207498</td>\n",
       "      <td>-0.015080</td>\n",
       "      <td>-0.181215</td>\n",
       "      <td>0.173649</td>\n",
       "      <td>0.627000</td>\n",
       "      <td>...</td>\n",
       "      <td>e5ba7672</td>\n",
       "      <td>df00d249</td>\n",
       "      <td>0</td>\n",
       "      <td>0</td>\n",
       "      <td>f520f961</td>\n",
       "      <td>0</td>\n",
       "      <td>32c7478e</td>\n",
       "      <td>27b60b01</td>\n",
       "      <td>0</td>\n",
       "      <td>0</td>\n",
       "    </tr>\n",
       "    <tr>\n",
       "      <th>2</th>\n",
       "      <td>0</td>\n",
       "      <td>-0.289223</td>\n",
       "      <td>-0.267527</td>\n",
       "      <td>-0.043940</td>\n",
       "      <td>0.840287</td>\n",
       "      <td>-0.162964</td>\n",
       "      <td>0.024984</td>\n",
       "      <td>-0.218283</td>\n",
       "      <td>0.284245</td>\n",
       "      <td>-0.045566</td>\n",
       "      <td>...</td>\n",
       "      <td>e5ba7672</td>\n",
       "      <td>2a93f7c8</td>\n",
       "      <td>0</td>\n",
       "      <td>0</td>\n",
       "      <td>5dc9a057</td>\n",
       "      <td>0</td>\n",
       "      <td>32c7478e</td>\n",
       "      <td>90b6276f</td>\n",
       "      <td>0</td>\n",
       "      <td>0</td>\n",
       "    </tr>\n",
       "    <tr>\n",
       "      <th>3</th>\n",
       "      <td>0</td>\n",
       "      <td>-0.289223</td>\n",
       "      <td>-0.216369</td>\n",
       "      <td>-0.024773</td>\n",
       "      <td>-0.288930</td>\n",
       "      <td>-0.057373</td>\n",
       "      <td>4.218350</td>\n",
       "      <td>-0.199749</td>\n",
       "      <td>-0.453060</td>\n",
       "      <td>1.261135</td>\n",
       "      <td>...</td>\n",
       "      <td>8efede7f</td>\n",
       "      <td>5aed7436</td>\n",
       "      <td>21ddcdc9</td>\n",
       "      <td>a458ea53</td>\n",
       "      <td>3c1a8dd8</td>\n",
       "      <td>0</td>\n",
       "      <td>3a171ecb</td>\n",
       "      <td>3fdb382b</td>\n",
       "      <td>b9266ff0</td>\n",
       "      <td>49d68486</td>\n",
       "    </tr>\n",
       "    <tr>\n",
       "      <th>4</th>\n",
       "      <td>0</td>\n",
       "      <td>-0.289223</td>\n",
       "      <td>-0.219061</td>\n",
       "      <td>-0.015190</td>\n",
       "      <td>0.338413</td>\n",
       "      <td>-0.138342</td>\n",
       "      <td>-0.151965</td>\n",
       "      <td>-0.218283</td>\n",
       "      <td>-0.047543</td>\n",
       "      <td>-0.204100</td>\n",
       "      <td>...</td>\n",
       "      <td>07c540c4</td>\n",
       "      <td>0f2f9850</td>\n",
       "      <td>5fd56cf9</td>\n",
       "      <td>b1252a9d</td>\n",
       "      <td>96725293</td>\n",
       "      <td>0</td>\n",
       "      <td>32c7478e</td>\n",
       "      <td>2702453c</td>\n",
       "      <td>8b8de563</td>\n",
       "      <td>303cea07</td>\n",
       "    </tr>\n",
       "    <tr>\n",
       "      <th>...</th>\n",
       "      <td>...</td>\n",
       "      <td>...</td>\n",
       "      <td>...</td>\n",
       "      <td>...</td>\n",
       "      <td>...</td>\n",
       "      <td>...</td>\n",
       "      <td>...</td>\n",
       "      <td>...</td>\n",
       "      <td>...</td>\n",
       "      <td>...</td>\n",
       "      <td>...</td>\n",
       "      <td>...</td>\n",
       "      <td>...</td>\n",
       "      <td>...</td>\n",
       "      <td>...</td>\n",
       "      <td>...</td>\n",
       "      <td>...</td>\n",
       "      <td>...</td>\n",
       "      <td>...</td>\n",
       "      <td>...</td>\n",
       "      <td>...</td>\n",
       "    </tr>\n",
       "    <tr>\n",
       "      <th>136468</th>\n",
       "      <td>0</td>\n",
       "      <td>0.175374</td>\n",
       "      <td>-0.262142</td>\n",
       "      <td>-0.008801</td>\n",
       "      <td>1.216693</td>\n",
       "      <td>-0.269388</td>\n",
       "      <td>-0.232093</td>\n",
       "      <td>-0.051478</td>\n",
       "      <td>0.063053</td>\n",
       "      <td>1.208290</td>\n",
       "      <td>...</td>\n",
       "      <td>3486227d</td>\n",
       "      <td>ae09efbe</td>\n",
       "      <td>0</td>\n",
       "      <td>0</td>\n",
       "      <td>80d4b4fb</td>\n",
       "      <td>c9d4222a</td>\n",
       "      <td>423fab69</td>\n",
       "      <td>5ddc2c4c</td>\n",
       "      <td>0</td>\n",
       "      <td>0</td>\n",
       "    </tr>\n",
       "    <tr>\n",
       "      <th>136469</th>\n",
       "      <td>0</td>\n",
       "      <td>-0.134357</td>\n",
       "      <td>-0.259449</td>\n",
       "      <td>0.320225</td>\n",
       "      <td>-0.414399</td>\n",
       "      <td>-0.270190</td>\n",
       "      <td>-0.081853</td>\n",
       "      <td>-0.236817</td>\n",
       "      <td>0.616032</td>\n",
       "      <td>-0.386654</td>\n",
       "      <td>...</td>\n",
       "      <td>e5ba7672</td>\n",
       "      <td>6fc84bfb</td>\n",
       "      <td>0</td>\n",
       "      <td>0</td>\n",
       "      <td>5155d8a3</td>\n",
       "      <td>0</td>\n",
       "      <td>423fab69</td>\n",
       "      <td>ded4aac9</td>\n",
       "      <td>0</td>\n",
       "      <td>0</td>\n",
       "    </tr>\n",
       "    <tr>\n",
       "      <th>136470</th>\n",
       "      <td>0</td>\n",
       "      <td>-0.134357</td>\n",
       "      <td>-0.270219</td>\n",
       "      <td>-0.053523</td>\n",
       "      <td>-0.665336</td>\n",
       "      <td>-0.252656</td>\n",
       "      <td>-0.298867</td>\n",
       "      <td>-0.236817</td>\n",
       "      <td>-0.489925</td>\n",
       "      <td>-0.477931</td>\n",
       "      <td>...</td>\n",
       "      <td>d4bb7bd8</td>\n",
       "      <td>ab194a92</td>\n",
       "      <td>0</td>\n",
       "      <td>0</td>\n",
       "      <td>21c9516a</td>\n",
       "      <td>0</td>\n",
       "      <td>32c7478e</td>\n",
       "      <td>b34f3128</td>\n",
       "      <td>0</td>\n",
       "      <td>0</td>\n",
       "    </tr>\n",
       "    <tr>\n",
       "      <th>136471</th>\n",
       "      <td>0</td>\n",
       "      <td>-0.134357</td>\n",
       "      <td>-0.235216</td>\n",
       "      <td>-0.034357</td>\n",
       "      <td>0.087476</td>\n",
       "      <td>-0.270220</td>\n",
       "      <td>-0.262141</td>\n",
       "      <td>-0.236817</td>\n",
       "      <td>-0.231869</td>\n",
       "      <td>-0.444302</td>\n",
       "      <td>...</td>\n",
       "      <td>d4bb7bd8</td>\n",
       "      <td>e4ca448c</td>\n",
       "      <td>0</td>\n",
       "      <td>0</td>\n",
       "      <td>f8af07d5</td>\n",
       "      <td>ad3062eb</td>\n",
       "      <td>32c7478e</td>\n",
       "      <td>9117a34a</td>\n",
       "      <td>0</td>\n",
       "      <td>0</td>\n",
       "    </tr>\n",
       "    <tr>\n",
       "      <th>136472</th>\n",
       "      <td>0</td>\n",
       "      <td>-0.289223</td>\n",
       "      <td>-0.259449</td>\n",
       "      <td>-0.031162</td>\n",
       "      <td>0.589350</td>\n",
       "      <td>-0.213427</td>\n",
       "      <td>1.036600</td>\n",
       "      <td>-0.218283</td>\n",
       "      <td>0.136784</td>\n",
       "      <td>0.021690</td>\n",
       "      <td>...</td>\n",
       "      <td>e5ba7672</td>\n",
       "      <td>698d1c68</td>\n",
       "      <td>0</td>\n",
       "      <td>0</td>\n",
       "      <td>08119c8b</td>\n",
       "      <td>0</td>\n",
       "      <td>32c7478e</td>\n",
       "      <td>f96a556f</td>\n",
       "      <td>0</td>\n",
       "      <td>0</td>\n",
       "    </tr>\n",
       "  </tbody>\n",
       "</table>\n",
       "<p>136473 rows × 40 columns</p>\n",
       "</div>"
      ],
      "text/plain": [
       "        label        I1        I2        I3        I4        I5        I6  \\\n",
       "0           0 -0.134357 -0.264834 -0.037551 -0.665336 -0.251022 -0.285512   \n",
       "1           1 -0.289223 -0.057509 -0.047134  1.216693 -0.207498 -0.015080   \n",
       "2           0 -0.289223 -0.267527 -0.043940  0.840287 -0.162964  0.024984   \n",
       "3           0 -0.289223 -0.216369 -0.024773 -0.288930 -0.057373  4.218350   \n",
       "4           0 -0.289223 -0.219061 -0.015190  0.338413 -0.138342 -0.151965   \n",
       "...       ...       ...       ...       ...       ...       ...       ...   \n",
       "136468      0  0.175374 -0.262142 -0.008801  1.216693 -0.269388 -0.232093   \n",
       "136469      0 -0.134357 -0.259449  0.320225 -0.414399 -0.270190 -0.081853   \n",
       "136470      0 -0.134357 -0.270219 -0.053523 -0.665336 -0.252656 -0.298867   \n",
       "136471      0 -0.134357 -0.235216 -0.034357  0.087476 -0.270220 -0.262141   \n",
       "136472      0 -0.289223 -0.259449 -0.031162  0.589350 -0.213427  1.036600   \n",
       "\n",
       "              I7        I8        I9  ...       C17       C18       C19  \\\n",
       "0       0.022657 -0.416195  0.391602  ...  e5ba7672  f54016b9  21ddcdc9   \n",
       "1      -0.181215  0.173649  0.627000  ...  e5ba7672  df00d249         0   \n",
       "2      -0.218283  0.284245 -0.045566  ...  e5ba7672  2a93f7c8         0   \n",
       "3      -0.199749 -0.453060  1.261135  ...  8efede7f  5aed7436  21ddcdc9   \n",
       "4      -0.218283 -0.047543 -0.204100  ...  07c540c4  0f2f9850  5fd56cf9   \n",
       "...          ...       ...       ...  ...       ...       ...       ...   \n",
       "136468 -0.051478  0.063053  1.208290  ...  3486227d  ae09efbe         0   \n",
       "136469 -0.236817  0.616032 -0.386654  ...  e5ba7672  6fc84bfb         0   \n",
       "136470 -0.236817 -0.489925 -0.477931  ...  d4bb7bd8  ab194a92         0   \n",
       "136471 -0.236817 -0.231869 -0.444302  ...  d4bb7bd8  e4ca448c         0   \n",
       "136472 -0.218283  0.136784  0.021690  ...  e5ba7672  698d1c68         0   \n",
       "\n",
       "             C20       C21       C22       C23       C24       C25       C26  \n",
       "0       b1252a9d  07b5194c         0  3a171ecb  c5c50484  e8b83407  9727dd16  \n",
       "1              0  f520f961         0  32c7478e  27b60b01         0         0  \n",
       "2              0  5dc9a057         0  32c7478e  90b6276f         0         0  \n",
       "3       a458ea53  3c1a8dd8         0  3a171ecb  3fdb382b  b9266ff0  49d68486  \n",
       "4       b1252a9d  96725293         0  32c7478e  2702453c  8b8de563  303cea07  \n",
       "...          ...       ...       ...       ...       ...       ...       ...  \n",
       "136468         0  80d4b4fb  c9d4222a  423fab69  5ddc2c4c         0         0  \n",
       "136469         0  5155d8a3         0  423fab69  ded4aac9         0         0  \n",
       "136470         0  21c9516a         0  32c7478e  b34f3128         0         0  \n",
       "136471         0  f8af07d5  ad3062eb  32c7478e  9117a34a         0         0  \n",
       "136472         0  08119c8b         0  32c7478e  f96a556f         0         0  \n",
       "\n",
       "[136473 rows x 40 columns]"
      ]
     },
     "execution_count": 67,
     "metadata": {},
     "output_type": "execute_result"
    }
   ],
   "source": [
    "# Preprocess Dense Features\n",
    "dense_cols = [c for c in columns if 'I' in c]\n",
    "df[dense_cols] = preprocessing.StandardScaler().fit_transform(df[dense_cols])\n",
    "df"
   ]
  },
  {
   "cell_type": "code",
   "execution_count": 68,
   "metadata": {},
   "outputs": [
    {
     "data": {
      "text/html": [
       "<div>\n",
       "<style scoped>\n",
       "    .dataframe tbody tr th:only-of-type {\n",
       "        vertical-align: middle;\n",
       "    }\n",
       "\n",
       "    .dataframe tbody tr th {\n",
       "        vertical-align: top;\n",
       "    }\n",
       "\n",
       "    .dataframe thead th {\n",
       "        text-align: right;\n",
       "    }\n",
       "</style>\n",
       "<table border=\"1\" class=\"dataframe\">\n",
       "  <thead>\n",
       "    <tr style=\"text-align: right;\">\n",
       "      <th></th>\n",
       "      <th>label</th>\n",
       "      <th>I1</th>\n",
       "      <th>I2</th>\n",
       "      <th>I3</th>\n",
       "      <th>I4</th>\n",
       "      <th>I5</th>\n",
       "      <th>I6</th>\n",
       "      <th>I7</th>\n",
       "      <th>I8</th>\n",
       "      <th>I9</th>\n",
       "      <th>...</th>\n",
       "      <th>C17</th>\n",
       "      <th>C18</th>\n",
       "      <th>C19</th>\n",
       "      <th>C20</th>\n",
       "      <th>C21</th>\n",
       "      <th>C22</th>\n",
       "      <th>C23</th>\n",
       "      <th>C24</th>\n",
       "      <th>C25</th>\n",
       "      <th>C26</th>\n",
       "    </tr>\n",
       "  </thead>\n",
       "  <tbody>\n",
       "    <tr>\n",
       "      <th>0</th>\n",
       "      <td>0</td>\n",
       "      <td>-0.134357</td>\n",
       "      <td>-0.264834</td>\n",
       "      <td>-0.037551</td>\n",
       "      <td>-0.665336</td>\n",
       "      <td>-0.251022</td>\n",
       "      <td>-0.285512</td>\n",
       "      <td>0.022657</td>\n",
       "      <td>-0.416195</td>\n",
       "      <td>0.391602</td>\n",
       "      <td>...</td>\n",
       "      <td>0</td>\n",
       "      <td>0</td>\n",
       "      <td>0</td>\n",
       "      <td>0</td>\n",
       "      <td>0</td>\n",
       "      <td>0</td>\n",
       "      <td>0</td>\n",
       "      <td>0</td>\n",
       "      <td>0</td>\n",
       "      <td>0</td>\n",
       "    </tr>\n",
       "    <tr>\n",
       "      <th>1</th>\n",
       "      <td>1</td>\n",
       "      <td>-0.289223</td>\n",
       "      <td>-0.057509</td>\n",
       "      <td>-0.047134</td>\n",
       "      <td>1.216693</td>\n",
       "      <td>-0.207498</td>\n",
       "      <td>-0.015080</td>\n",
       "      <td>-0.181215</td>\n",
       "      <td>0.173649</td>\n",
       "      <td>0.627000</td>\n",
       "      <td>...</td>\n",
       "      <td>0</td>\n",
       "      <td>1</td>\n",
       "      <td>1</td>\n",
       "      <td>1</td>\n",
       "      <td>1</td>\n",
       "      <td>0</td>\n",
       "      <td>1</td>\n",
       "      <td>1</td>\n",
       "      <td>1</td>\n",
       "      <td>1</td>\n",
       "    </tr>\n",
       "    <tr>\n",
       "      <th>2</th>\n",
       "      <td>0</td>\n",
       "      <td>-0.289223</td>\n",
       "      <td>-0.267527</td>\n",
       "      <td>-0.043940</td>\n",
       "      <td>0.840287</td>\n",
       "      <td>-0.162964</td>\n",
       "      <td>0.024984</td>\n",
       "      <td>-0.218283</td>\n",
       "      <td>0.284245</td>\n",
       "      <td>-0.045566</td>\n",
       "      <td>...</td>\n",
       "      <td>0</td>\n",
       "      <td>2</td>\n",
       "      <td>1</td>\n",
       "      <td>1</td>\n",
       "      <td>2</td>\n",
       "      <td>0</td>\n",
       "      <td>1</td>\n",
       "      <td>2</td>\n",
       "      <td>1</td>\n",
       "      <td>1</td>\n",
       "    </tr>\n",
       "    <tr>\n",
       "      <th>3</th>\n",
       "      <td>0</td>\n",
       "      <td>-0.289223</td>\n",
       "      <td>-0.216369</td>\n",
       "      <td>-0.024773</td>\n",
       "      <td>-0.288930</td>\n",
       "      <td>-0.057373</td>\n",
       "      <td>4.218350</td>\n",
       "      <td>-0.199749</td>\n",
       "      <td>-0.453060</td>\n",
       "      <td>1.261135</td>\n",
       "      <td>...</td>\n",
       "      <td>1</td>\n",
       "      <td>3</td>\n",
       "      <td>0</td>\n",
       "      <td>2</td>\n",
       "      <td>3</td>\n",
       "      <td>0</td>\n",
       "      <td>0</td>\n",
       "      <td>3</td>\n",
       "      <td>2</td>\n",
       "      <td>2</td>\n",
       "    </tr>\n",
       "    <tr>\n",
       "      <th>4</th>\n",
       "      <td>0</td>\n",
       "      <td>-0.289223</td>\n",
       "      <td>-0.219061</td>\n",
       "      <td>-0.015190</td>\n",
       "      <td>0.338413</td>\n",
       "      <td>-0.138342</td>\n",
       "      <td>-0.151965</td>\n",
       "      <td>-0.218283</td>\n",
       "      <td>-0.047543</td>\n",
       "      <td>-0.204100</td>\n",
       "      <td>...</td>\n",
       "      <td>2</td>\n",
       "      <td>4</td>\n",
       "      <td>2</td>\n",
       "      <td>0</td>\n",
       "      <td>4</td>\n",
       "      <td>0</td>\n",
       "      <td>1</td>\n",
       "      <td>4</td>\n",
       "      <td>3</td>\n",
       "      <td>3</td>\n",
       "    </tr>\n",
       "    <tr>\n",
       "      <th>...</th>\n",
       "      <td>...</td>\n",
       "      <td>...</td>\n",
       "      <td>...</td>\n",
       "      <td>...</td>\n",
       "      <td>...</td>\n",
       "      <td>...</td>\n",
       "      <td>...</td>\n",
       "      <td>...</td>\n",
       "      <td>...</td>\n",
       "      <td>...</td>\n",
       "      <td>...</td>\n",
       "      <td>...</td>\n",
       "      <td>...</td>\n",
       "      <td>...</td>\n",
       "      <td>...</td>\n",
       "      <td>...</td>\n",
       "      <td>...</td>\n",
       "      <td>...</td>\n",
       "      <td>...</td>\n",
       "      <td>...</td>\n",
       "      <td>...</td>\n",
       "    </tr>\n",
       "    <tr>\n",
       "      <th>136468</th>\n",
       "      <td>0</td>\n",
       "      <td>0.175374</td>\n",
       "      <td>-0.262142</td>\n",
       "      <td>-0.008801</td>\n",
       "      <td>1.216693</td>\n",
       "      <td>-0.269388</td>\n",
       "      <td>-0.232093</td>\n",
       "      <td>-0.051478</td>\n",
       "      <td>0.063053</td>\n",
       "      <td>1.208290</td>\n",
       "      <td>...</td>\n",
       "      <td>8</td>\n",
       "      <td>91</td>\n",
       "      <td>1</td>\n",
       "      <td>1</td>\n",
       "      <td>7735</td>\n",
       "      <td>2</td>\n",
       "      <td>3</td>\n",
       "      <td>81</td>\n",
       "      <td>1</td>\n",
       "      <td>1</td>\n",
       "    </tr>\n",
       "    <tr>\n",
       "      <th>136469</th>\n",
       "      <td>0</td>\n",
       "      <td>-0.134357</td>\n",
       "      <td>-0.259449</td>\n",
       "      <td>0.320225</td>\n",
       "      <td>-0.414399</td>\n",
       "      <td>-0.270190</td>\n",
       "      <td>-0.081853</td>\n",
       "      <td>-0.236817</td>\n",
       "      <td>0.616032</td>\n",
       "      <td>-0.386654</td>\n",
       "      <td>...</td>\n",
       "      <td>0</td>\n",
       "      <td>148</td>\n",
       "      <td>1</td>\n",
       "      <td>1</td>\n",
       "      <td>1521</td>\n",
       "      <td>0</td>\n",
       "      <td>3</td>\n",
       "      <td>119</td>\n",
       "      <td>1</td>\n",
       "      <td>1</td>\n",
       "    </tr>\n",
       "    <tr>\n",
       "      <th>136470</th>\n",
       "      <td>0</td>\n",
       "      <td>-0.134357</td>\n",
       "      <td>-0.270219</td>\n",
       "      <td>-0.053523</td>\n",
       "      <td>-0.665336</td>\n",
       "      <td>-0.252656</td>\n",
       "      <td>-0.298867</td>\n",
       "      <td>-0.236817</td>\n",
       "      <td>-0.489925</td>\n",
       "      <td>-0.477931</td>\n",
       "      <td>...</td>\n",
       "      <td>6</td>\n",
       "      <td>475</td>\n",
       "      <td>1</td>\n",
       "      <td>1</td>\n",
       "      <td>70</td>\n",
       "      <td>0</td>\n",
       "      <td>1</td>\n",
       "      <td>16</td>\n",
       "      <td>1</td>\n",
       "      <td>1</td>\n",
       "    </tr>\n",
       "    <tr>\n",
       "      <th>136471</th>\n",
       "      <td>0</td>\n",
       "      <td>-0.134357</td>\n",
       "      <td>-0.235216</td>\n",
       "      <td>-0.034357</td>\n",
       "      <td>0.087476</td>\n",
       "      <td>-0.270220</td>\n",
       "      <td>-0.262141</td>\n",
       "      <td>-0.236817</td>\n",
       "      <td>-0.231869</td>\n",
       "      <td>-0.444302</td>\n",
       "      <td>...</td>\n",
       "      <td>6</td>\n",
       "      <td>280</td>\n",
       "      <td>1</td>\n",
       "      <td>1</td>\n",
       "      <td>46292</td>\n",
       "      <td>1</td>\n",
       "      <td>1</td>\n",
       "      <td>68</td>\n",
       "      <td>1</td>\n",
       "      <td>1</td>\n",
       "    </tr>\n",
       "    <tr>\n",
       "      <th>136472</th>\n",
       "      <td>0</td>\n",
       "      <td>-0.289223</td>\n",
       "      <td>-0.259449</td>\n",
       "      <td>-0.031162</td>\n",
       "      <td>0.589350</td>\n",
       "      <td>-0.213427</td>\n",
       "      <td>1.036600</td>\n",
       "      <td>-0.218283</td>\n",
       "      <td>0.136784</td>\n",
       "      <td>0.021690</td>\n",
       "      <td>...</td>\n",
       "      <td>0</td>\n",
       "      <td>78</td>\n",
       "      <td>1</td>\n",
       "      <td>1</td>\n",
       "      <td>352</td>\n",
       "      <td>0</td>\n",
       "      <td>1</td>\n",
       "      <td>98</td>\n",
       "      <td>1</td>\n",
       "      <td>1</td>\n",
       "    </tr>\n",
       "  </tbody>\n",
       "</table>\n",
       "<p>136473 rows × 40 columns</p>\n",
       "</div>"
      ],
      "text/plain": [
       "        label        I1        I2        I3        I4        I5        I6  \\\n",
       "0           0 -0.134357 -0.264834 -0.037551 -0.665336 -0.251022 -0.285512   \n",
       "1           1 -0.289223 -0.057509 -0.047134  1.216693 -0.207498 -0.015080   \n",
       "2           0 -0.289223 -0.267527 -0.043940  0.840287 -0.162964  0.024984   \n",
       "3           0 -0.289223 -0.216369 -0.024773 -0.288930 -0.057373  4.218350   \n",
       "4           0 -0.289223 -0.219061 -0.015190  0.338413 -0.138342 -0.151965   \n",
       "...       ...       ...       ...       ...       ...       ...       ...   \n",
       "136468      0  0.175374 -0.262142 -0.008801  1.216693 -0.269388 -0.232093   \n",
       "136469      0 -0.134357 -0.259449  0.320225 -0.414399 -0.270190 -0.081853   \n",
       "136470      0 -0.134357 -0.270219 -0.053523 -0.665336 -0.252656 -0.298867   \n",
       "136471      0 -0.134357 -0.235216 -0.034357  0.087476 -0.270220 -0.262141   \n",
       "136472      0 -0.289223 -0.259449 -0.031162  0.589350 -0.213427  1.036600   \n",
       "\n",
       "              I7        I8        I9  ...  C17  C18  C19  C20    C21  C22  \\\n",
       "0       0.022657 -0.416195  0.391602  ...    0    0    0    0      0    0   \n",
       "1      -0.181215  0.173649  0.627000  ...    0    1    1    1      1    0   \n",
       "2      -0.218283  0.284245 -0.045566  ...    0    2    1    1      2    0   \n",
       "3      -0.199749 -0.453060  1.261135  ...    1    3    0    2      3    0   \n",
       "4      -0.218283 -0.047543 -0.204100  ...    2    4    2    0      4    0   \n",
       "...          ...       ...       ...  ...  ...  ...  ...  ...    ...  ...   \n",
       "136468 -0.051478  0.063053  1.208290  ...    8   91    1    1   7735    2   \n",
       "136469 -0.236817  0.616032 -0.386654  ...    0  148    1    1   1521    0   \n",
       "136470 -0.236817 -0.489925 -0.477931  ...    6  475    1    1     70    0   \n",
       "136471 -0.236817 -0.231869 -0.444302  ...    6  280    1    1  46292    1   \n",
       "136472 -0.218283  0.136784  0.021690  ...    0   78    1    1    352    0   \n",
       "\n",
       "        C23  C24  C25  C26  \n",
       "0         0    0    0    0  \n",
       "1         1    1    1    1  \n",
       "2         1    2    1    1  \n",
       "3         0    3    2    2  \n",
       "4         1    4    3    3  \n",
       "...     ...  ...  ...  ...  \n",
       "136468    3   81    1    1  \n",
       "136469    3  119    1    1  \n",
       "136470    1   16    1    1  \n",
       "136471    1   68    1    1  \n",
       "136472    1   98    1    1  \n",
       "\n",
       "[136473 rows x 40 columns]"
      ]
     },
     "execution_count": 68,
     "metadata": {},
     "output_type": "execute_result"
    }
   ],
   "source": [
    "# Preprocess Categorical Features\n",
    "cat_cols = [c for c in columns if 'C' in c]\n",
    "mappings = {\n",
    "    col: dict(zip(values, range(len(values))))\n",
    "    for col, values in map(lambda col: (col, df[col].unique()), cat_cols)\n",
    "}\n",
    "for col, mapping in mappings.items():\n",
    "    df[col] = df[col].map(mapping.get)\n",
    "df"
   ]
  },
  {
   "cell_type": "code",
   "execution_count": 69,
   "metadata": {},
   "outputs": [
    {
     "name": "stdout",
     "output_type": "stream",
     "text": [
      "Baseline: 74.8177295142629%\n"
     ]
    }
   ],
   "source": [
    "label_counts = df.groupby('label')['I1'].count()\n",
    "print(f'Baseline: {max(label_counts.values) / sum(label_counts.values) * 100}%')"
   ]
  },
  {
   "cell_type": "code",
   "execution_count": 70,
   "metadata": {},
   "outputs": [
    {
     "name": "stdout",
     "output_type": "stream",
     "text": [
      "Total records: 136473\n",
      "df1 records: 68236 - with added noise\n",
      "df2 records: 68237 - without added noise\n"
     ]
    }
   ],
   "source": [
    "# Select halfway point for the split\n",
    "split_point = len(df) // 2\n",
    "\n",
    "# Define the noise level\n",
    "noise_level = 0.5  # Adjust this based on your dataset's scale\n",
    "\n",
    "# Add random noise only to the first half for integer features I1 to I13\n",
    "# Generating noise with the same shape as the target DataFrame slice\n",
    "noise = np.random.normal(0, noise_level, df.loc[:split_point, 'I1':'I13'].shape)\n",
    "df.loc[:split_point, 'I1':'I13'] += noise\n",
    "\n",
    "# Now split the DataFrame into two parts: one with added noise and one without any modifications\n",
    "df1 = df.iloc[:split_point].reset_index(drop=True)\n",
    "df2 = df.iloc[split_point:].reset_index(drop=True)\n",
    "\n",
    "# Verifying the manipulation\n",
    "print(f\"Total records: {len(df)}\")\n",
    "print(f\"df1 records: {len(df1)} - with added noise\")\n",
    "print(f\"df2 records: {len(df2)} - without added noise\")"
   ]
  },
  {
   "cell_type": "code",
   "execution_count": 71,
   "metadata": {
    "editable": true,
    "slideshow": {
     "slide_type": ""
    },
    "tags": []
   },
   "outputs": [],
   "source": [
    "dense_cols = [c for c in df.columns if 'I' in c]\n",
    "cat_cols = [c for c in df.columns if 'C' in c]\n",
    "fixed_embedding_size = 455000\n",
    "emb_counts = [len(df[c].unique()) for c in cat_cols]"
   ]
  },
  {
   "cell_type": "markdown",
   "metadata": {
    "editable": true,
    "slideshow": {
     "slide_type": ""
    },
    "tags": []
   },
   "source": [
    "## Data Owner 1"
   ]
  },
  {
   "cell_type": "code",
   "execution_count": 72,
   "metadata": {},
   "outputs": [],
   "source": [
    "tf.keras.backend.clear_session() #clears keras session to have the same mapping for DO1 and DO2 dictionaries\n",
    "\n",
    "TRAIN_SPLIT = 0.8\n",
    "VALIDATION_SPLIT = 0.2\n",
    "\n",
    "# Dataset size\n",
    "dataset_size = len(df1)\n",
    "train_size = int(dataset_size * TRAIN_SPLIT)\n",
    "test_size = dataset_size - train_size\n",
    "validation_size = int(test_size * VALIDATION_SPLIT)\n",
    "\n",
    "# Creating the dataset\n",
    "ds = tf.data.Dataset.zip((\n",
    "    tf.data.Dataset.from_tensor_slices((\n",
    "        tf.cast(df1[dense_cols].values, tf.float32),\n",
    "        tf.cast(df1[cat_cols].values, tf.int32),\n",
    "    )),\n",
    "    tf.data.Dataset.from_tensor_slices(tf.cast(to_categorical(df1['label'].values, num_classes=2), tf.float32))\n",
    ")).shuffle(buffer_size=2048)\n",
    "\n",
    "# Splitting the dataset\n",
    "ds_train = ds.take(train_size)\n",
    "ds_test = ds.skip(train_size)\n",
    "ds_valid = ds_test.take(validation_size)\n",
    "ds_test = ds_test.skip(validation_size)"
   ]
  },
  {
   "cell_type": "code",
   "execution_count": 73,
   "metadata": {
    "editable": true,
    "slideshow": {
     "slide_type": ""
    },
    "tags": []
   },
   "outputs": [],
   "source": [
    "def MLP(arch, activation='relu', out_activation=None):\n",
    "    mlp = tf.keras.Sequential()\n",
    "\n",
    "    for units in arch[:-1]:\n",
    "        mlp.add(tf.keras.layers.Dense(units, activation=activation))\n",
    "\n",
    "    mlp.add(tf.keras.layers.Dense(arch[-1], activation=out_activation))\n",
    "\n",
    "    return mlp\n",
    "\n",
    "\n",
    "class SecondOrderFeatureInteraction(tf.keras.layers.Layer):\n",
    "    def __init__(self, self_interaction=False):\n",
    "        super(SecondOrderFeatureInteraction, self).__init__()\n",
    "        self.self_interaction = self_interaction\n",
    "\n",
    "    def call(self, inputs):\n",
    "        batch_size = tf.shape(inputs[0])[0]\n",
    "        concat_features = tf.stack(inputs, axis=1)\n",
    "\n",
    "        dot_products = tf.matmul(concat_features, concat_features, transpose_b=True)\n",
    "\n",
    "        ones = tf.ones_like(dot_products)\n",
    "        mask = tf.linalg.band_part(ones, 0, -1)\n",
    "        out_dim = int(len(inputs) * (len(inputs) + 1) / 2)\n",
    "\n",
    "        if not self.self_interaction:\n",
    "            mask = mask - tf.linalg.band_part(ones, 0, 0)\n",
    "            out_dim = int(len(inputs) * (len(inputs) - 1) / 2)\n",
    "\n",
    "        flat_interactions = tf.reshape(tf.boolean_mask(dot_products, mask), (batch_size, out_dim))\n",
    "        return flat_interactions\n",
    "\n",
    "\n",
    "class DLRM(tf.keras.Model):\n",
    "    def __init__(\n",
    "            self,\n",
    "            embedding_sizes,\n",
    "            embedding_dim,\n",
    "            arch_bot,\n",
    "            arch_top,\n",
    "            self_interaction,\n",
    "    ):\n",
    "        super(DLRM, self).__init__()\n",
    "        self.emb = [tf.keras.layers.Embedding(size, embedding_dim) for size in embedding_sizes]\n",
    "        self.bot_nn = MLP(arch_bot, out_activation='relu')\n",
    "        self.top_nn = MLP(arch_top, out_activation='sigmoid')\n",
    "        self.interaction_op = SecondOrderFeatureInteraction(self_interaction)\n",
    "\n",
    "    def call(self, input):\n",
    "        input_dense, input_cat = input\n",
    "        emb_x = [E(x) for E, x in zip(self.emb, tf.unstack(input_cat, axis=1))]\n",
    "        dense_x = self.bot_nn(input_dense)\n",
    "\n",
    "        Z = self.interaction_op(emb_x + [dense_x])\n",
    "        z = tf.concat([dense_x, Z], axis=1)\n",
    "        p = self.top_nn(z)\n",
    "\n",
    "        return p"
   ]
  },
  {
   "cell_type": "code",
   "execution_count": 74,
   "metadata": {
    "editable": true,
    "slideshow": {
     "slide_type": ""
    },
    "tags": []
   },
   "outputs": [],
   "source": [
    "model = DLRM(\n",
    "    embedding_sizes=emb_counts,\n",
    "    embedding_dim=2,\n",
    "    arch_bot=[8, 2],\n",
    "    arch_top=[128, 64, 2],\n",
    "    self_interaction=False\n",
    ")\n",
    "\n",
    "model.compile(\n",
    "    optimizer=tf.keras.optimizers.legacy.Adam(learning_rate=0.0001),\n",
    "    loss=tf.keras.losses.BinaryCrossentropy(from_logits=False),\n",
    "    metrics=['accuracy', AUC(name='auc')]  \n",
    ")"
   ]
  },
  {
   "cell_type": "code",
   "execution_count": 75,
   "metadata": {},
   "outputs": [
    {
     "name": "stdout",
     "output_type": "stream",
     "text": [
      "Epoch 1/5\n",
      "427/427 [==============================] - 3s 5ms/step - loss: 0.6243 - accuracy: 0.7320 - auc: 0.7328 - val_loss: 0.5581 - val_accuracy: 0.7527 - val_auc: 0.7798\n",
      "Epoch 2/5\n",
      "427/427 [==============================] - 2s 5ms/step - loss: 0.5468 - accuracy: 0.7468 - auc: 0.7986 - val_loss: 0.5387 - val_accuracy: 0.7461 - val_auc: 0.8077\n",
      "Epoch 3/5\n",
      "427/427 [==============================] - 2s 5ms/step - loss: 0.5116 - accuracy: 0.7571 - auc: 0.8295 - val_loss: 0.5153 - val_accuracy: 0.7582 - val_auc: 0.8236\n",
      "Epoch 4/5\n",
      "427/427 [==============================] - 2s 5ms/step - loss: 0.4717 - accuracy: 0.7797 - auc: 0.8576 - val_loss: 0.4864 - val_accuracy: 0.7717 - val_auc: 0.8466\n",
      "Epoch 5/5\n",
      "427/427 [==============================] - 2s 5ms/step - loss: 0.4286 - accuracy: 0.8051 - auc: 0.8849 - val_loss: 0.4905 - val_accuracy: 0.7607 - val_auc: 0.8465\n"
     ]
    }
   ],
   "source": [
    "BATCH_SIZE = 128\n",
    "\n",
    "history =model.fit(\n",
    "    ds_train.batch(BATCH_SIZE),\n",
    "    validation_data=ds_valid.batch(BATCH_SIZE),\n",
    "    callbacks=[\n",
    "        tf.keras.callbacks.EarlyStopping(patience=6, restore_best_weights=True)\n",
    "    ],\n",
    "    epochs=5,\n",
    "    verbose=1,\n",
    ")\n"
   ]
  },
  {
   "cell_type": "code",
   "execution_count": 76,
   "metadata": {},
   "outputs": [
    {
     "name": "stdout",
     "output_type": "stream",
     "text": [
      "Model: \"dlrm\"\n",
      "_________________________________________________________________\n",
      " Layer (type)                Output Shape              Param #   \n",
      "=================================================================\n",
      " embedding (Embedding)       multiple                  1204      \n",
      "                                                                 \n",
      " embedding_1 (Embedding)     multiple                  1022      \n",
      "                                                                 \n",
      " embedding_2 (Embedding)     multiple                  114322    \n",
      "                                                                 \n",
      " embedding_3 (Embedding)     multiple                  59116     \n",
      "                                                                 \n",
      " embedding_4 (Embedding)     multiple                  330       \n",
      "                                                                 \n",
      " embedding_5 (Embedding)     multiple                  26        \n",
      "                                                                 \n",
      " embedding_6 (Embedding)     multiple                  16824     \n",
      "                                                                 \n",
      " embedding_7 (Embedding)     multiple                  580       \n",
      "                                                                 \n",
      " embedding_8 (Embedding)     multiple                  6         \n",
      "                                                                 \n",
      " embedding_9 (Embedding)     multiple                  27292     \n",
      "                                                                 \n",
      " embedding_10 (Embedding)    multiple                  8016      \n",
      "                                                                 \n",
      " embedding_11 (Embedding)    multiple                  100286    \n",
      "                                                                 \n",
      " embedding_12 (Embedding)    multiple                  5754      \n",
      "                                                                 \n",
      " embedding_13 (Embedding)    multiple                  52        \n",
      "                                                                 \n",
      " embedding_14 (Embedding)    multiple                  11356     \n",
      "                                                                 \n",
      " embedding_15 (Embedding)    multiple                  82898     \n",
      "                                                                 \n",
      " embedding_16 (Embedding)    multiple                  20        \n",
      "                                                                 \n",
      " embedding_17 (Embedding)    multiple                  5490      \n",
      "                                                                 \n",
      " embedding_18 (Embedding)    multiple                  2718      \n",
      "                                                                 \n",
      " embedding_19 (Embedding)    multiple                  8         \n",
      "                                                                 \n",
      " embedding_20 (Embedding)    multiple                  92586     \n",
      "                                                                 \n",
      " embedding_21 (Embedding)    multiple                  28        \n",
      "                                                                 \n",
      " embedding_22 (Embedding)    multiple                  28        \n",
      "                                                                 \n",
      " embedding_23 (Embedding)    multiple                  27592     \n",
      "                                                                 \n",
      " embedding_24 (Embedding)    multiple                  102       \n",
      "                                                                 \n",
      " embedding_25 (Embedding)    multiple                  21242     \n",
      "                                                                 \n",
      " sequential (Sequential)     (None, 2)                 130       \n",
      "                                                                 \n",
      " sequential_1 (Sequential)   (None, 2)                 53698     \n",
      "                                                                 \n",
      " second_order_feature_inter  multiple                  0         \n",
      " action (SecondOrderFeature                                      \n",
      " Interaction)                                                    \n",
      "                                                                 \n",
      "=================================================================\n",
      "Total params: 632726 (2.41 MB)\n",
      "Trainable params: 632726 (2.41 MB)\n",
      "Non-trainable params: 0 (0.00 Byte)\n",
      "_________________________________________________________________\n"
     ]
    }
   ],
   "source": [
    "model.summary()"
   ]
  },
  {
   "cell_type": "code",
   "execution_count": 77,
   "metadata": {},
   "outputs": [
    {
     "name": "stdout",
     "output_type": "stream",
     "text": [
      "86/86 [==============================] - 0s 2ms/step - loss: 0.5412 - accuracy: 0.7451 - auc: 0.8152\n",
      "Loss: 0.5412065386772156, Accuracy: 0.7451232075691223, AUC: 0.8151667714118958\n"
     ]
    }
   ],
   "source": [
    "results = model.evaluate(ds_test.batch(BATCH_SIZE))\n",
    "print(f'Loss: {results[0]}, Accuracy: {results[1]}, AUC: {results[2]}')"
   ]
  },
  {
   "cell_type": "code",
   "execution_count": 78,
   "metadata": {
    "scrolled": true
   },
   "outputs": [
    {
     "data": {
      "text/html": [
       "<div>\n",
       "<style scoped>\n",
       "    .dataframe tbody tr th:only-of-type {\n",
       "        vertical-align: middle;\n",
       "    }\n",
       "\n",
       "    .dataframe tbody tr th {\n",
       "        vertical-align: top;\n",
       "    }\n",
       "\n",
       "    .dataframe thead th {\n",
       "        text-align: right;\n",
       "    }\n",
       "</style>\n",
       "<table border=\"1\" class=\"dataframe\">\n",
       "  <thead>\n",
       "    <tr style=\"text-align: right;\">\n",
       "      <th></th>\n",
       "      <th>loss</th>\n",
       "      <th>accuracy</th>\n",
       "      <th>auc</th>\n",
       "      <th>val_loss</th>\n",
       "      <th>val_accuracy</th>\n",
       "      <th>val_auc</th>\n",
       "    </tr>\n",
       "  </thead>\n",
       "  <tbody>\n",
       "    <tr>\n",
       "      <th>0</th>\n",
       "      <td>0.624279</td>\n",
       "      <td>0.732011</td>\n",
       "      <td>0.732793</td>\n",
       "      <td>0.558133</td>\n",
       "      <td>0.752657</td>\n",
       "      <td>0.779796</td>\n",
       "    </tr>\n",
       "    <tr>\n",
       "      <th>1</th>\n",
       "      <td>0.546812</td>\n",
       "      <td>0.746776</td>\n",
       "      <td>0.798563</td>\n",
       "      <td>0.538686</td>\n",
       "      <td>0.746061</td>\n",
       "      <td>0.807657</td>\n",
       "    </tr>\n",
       "    <tr>\n",
       "      <th>2</th>\n",
       "      <td>0.511557</td>\n",
       "      <td>0.757108</td>\n",
       "      <td>0.829535</td>\n",
       "      <td>0.515287</td>\n",
       "      <td>0.758153</td>\n",
       "      <td>0.823585</td>\n",
       "    </tr>\n",
       "    <tr>\n",
       "      <th>3</th>\n",
       "      <td>0.471690</td>\n",
       "      <td>0.779659</td>\n",
       "      <td>0.857570</td>\n",
       "      <td>0.486364</td>\n",
       "      <td>0.771711</td>\n",
       "      <td>0.846554</td>\n",
       "    </tr>\n",
       "    <tr>\n",
       "      <th>4</th>\n",
       "      <td>0.428557</td>\n",
       "      <td>0.805085</td>\n",
       "      <td>0.884939</td>\n",
       "      <td>0.490450</td>\n",
       "      <td>0.760718</td>\n",
       "      <td>0.846482</td>\n",
       "    </tr>\n",
       "  </tbody>\n",
       "</table>\n",
       "</div>"
      ],
      "text/plain": [
       "       loss  accuracy       auc  val_loss  val_accuracy   val_auc\n",
       "0  0.624279  0.732011  0.732793  0.558133      0.752657  0.779796\n",
       "1  0.546812  0.746776  0.798563  0.538686      0.746061  0.807657\n",
       "2  0.511557  0.757108  0.829535  0.515287      0.758153  0.823585\n",
       "3  0.471690  0.779659  0.857570  0.486364      0.771711  0.846554\n",
       "4  0.428557  0.805085  0.884939  0.490450      0.760718  0.846482"
      ]
     },
     "metadata": {},
     "output_type": "display_data"
    },
    {
     "data": {
      "image/png": "[encoded data removed]",
      "text/plain": [
       "<Figure size 1000x800 with 1 Axes>"
      ]
     },
     "metadata": {},
     "output_type": "display_data"
    },
    {
     "name": "stdout",
     "output_type": "stream",
     "text": [
      "Validation AUC: 0.8504\n"
     ]
    }
   ],
   "source": [
    "loss = pd.DataFrame.from_dict(history.history)\n",
    "display(loss.head())\n",
    "\n",
    "plt.figure(figsize=(10,8))\n",
    "plt.plot(loss['loss'], label='Train Loss')\n",
    "plt.plot(loss['val_loss'], label='Validation Loss')\n",
    "\n",
    "# Plot AUC \n",
    "plt.plot(loss['auc'], label='Train AUC')\n",
    "plt.plot(loss['val_auc'], label='Validation AUC')\n",
    "\n",
    "plt.legend()\n",
    "plt.show()\n",
    "\n",
    "# Evaluate the model on the validation dataset\n",
    "val_metrics = model.evaluate(ds_valid.batch(BATCH_SIZE), verbose=0)\n",
    "\n",
    "val_auc_index = model.metrics_names.index('auc')\n",
    "auc_score_baseline1 = val_metrics[val_auc_index]\n",
    "\n",
    "print(f\"Validation AUC: {auc_score_baseline1:.4f}\")"
   ]
  },
  {
   "cell_type": "code",
   "execution_count": 79,
   "metadata": {},
   "outputs": [],
   "source": [
    "import numpy as np\n",
    "\n",
    "def add_noise_to_weights(weights, noise_std=0.01):\n",
    "    \"\"\"Adds Gaussian noise to a dictionary of weights.\"\"\"\n",
    "    noisy_weights = {}\n",
    "    for key, weight in weights.items():\n",
    "        # Generating Gaussian noise with the same shape as the weight\n",
    "        noise = np.random.normal(loc=0.0, scale=noise_std, size=weight.shape)\n",
    "        # Adding the noise to the weight\n",
    "        noisy_weight = weight + noise\n",
    "        noisy_weights[key] = noisy_weight\n",
    "    return noisy_weights\n",
    "\n",
    "# Extract the model's weights into a dictionary\n",
    "model_weights_dict_1 = {v.name: v.numpy() for v in model.trainable_variables}\n",
    "\n",
    "# Add noise to the model's weights\n",
    "noisy_model_weights_dict_1 = add_noise_to_weights(model_weights_dict_1, noise_std=0.01)\n",
    "\n",
    "# Now, noisy_model_weights_dict contains the weights with added Gaussian noise"
   ]
  },
  {
   "cell_type": "code",
   "execution_count": 80,
   "metadata": {
    "scrolled": true,
    "tags": []
   },
   "outputs": [
    {
     "name": "stdout",
     "output_type": "stream",
     "text": [
      "Staging Protocol Changes...\n",
      "Starting test-domain-1 server on 0.0.0.0:36602\n"
     ]
    },
    {
     "name": "stderr",
     "output_type": "stream",
     "text": [
      "kj/filesystem-disk-unix.c++:1703: warning: PWD environment variable doesn't match current directory; pwd = /Users/alex\n"
     ]
    },
    {
     "name": "stdout",
     "output_type": "stream",
     "text": [
      "Waiting for server to start.."
     ]
    },
    {
     "name": "stderr",
     "output_type": "stream",
     "text": [
      "INFO:     Started server process [2487]\n",
      "INFO:     Waiting for application startup.\n",
      "INFO:     Application startup complete.\n",
      "INFO:     Uvicorn running on http://0.0.0.0:36602 (Press CTRL+C to quit)\n"
     ]
    },
    {
     "name": "stdout",
     "output_type": "stream",
     "text": [
      ".\n",
      "WARNING: private key is based on node name: test-domain-1 in dev_mode. Don't run this in production.\n",
      "SQLite Store Path:\n",
      "!open file:///var/folders/78/1q4j7nsx4sg2djyc6d_1xq680000gn/T/7bca415d13ed4ec881f0d0aede098dbb.sqlite\n",
      "\n",
      "Creating default worker image with tag='local-dev'\n",
      "Building default worker image with tag=local-dev\n",
      "Setting up worker poolname=default-pool workers=0 image_uid=22f3ca8b32a54a25b574b0e44b9f3057 in_memory=True\n",
      "Created default worker pool.\n",
      "Data Migrated to latest version !!!\n",
      "INFO:     127.0.0.1:53036 - \"GET /api/v2/metadata HTTP/1.1\" 200 OK\n",
      " Done.\n"
     ]
    }
   ],
   "source": [
    "node = sy.orchestra.launch(name=\"test-domain-1\", port=\"auto\", dev_mode=True, reset=True)"
   ]
  },
  {
   "cell_type": "markdown",
   "metadata": {},
   "source": [
    "Login to the Domain"
   ]
  },
  {
   "cell_type": "code",
   "execution_count": 81,
   "metadata": {
    "scrolled": true,
    "tags": []
   },
   "outputs": [
    {
     "name": "stdout",
     "output_type": "stream",
     "text": [
      "INFO:     127.0.0.1:53038 - \"GET /api/v2/metadata HTTP/1.1\" 200 OK\n",
      "INFO:     127.0.0.1:53038 - \"GET /api/v2/metadata HTTP/1.1\" 200 OK\n",
      "Logged into <test-domain-1: High-side Domain> as GUEST\n",
      "INFO:     127.0.0.1:53038 - \"POST /api/v2/login HTTP/1.1\" 200 OK\n",
      "INFO:     127.0.0.1:53038 - \"GET /api/v2/api?verify_key=aec6ea4dfc049ceacaeeebc493167a88a200ddc367b1fa32da652444b635d21f&communication_protocol=3 HTTP/1.1\" 200 OK\n",
      "INFO:     127.0.0.1:53040 - \"POST /api/v2/api_call HTTP/1.1\" 200 OK\n",
      "Logged into <test-domain-1: High side Domain> as <info@openmined.org>\n"
     ]
    },
    {
     "data": {
      "text/html": [
       "<div class=\"alert-warning\" style=\"padding:5px;\"><strong>SyftWarning</strong>: You are using a default password. Please change the password using `[your_client].me.set_password([new_password])`.</div><br />"
      ],
      "text/plain": [
       "SyftWarning: You are using a default password. Please change the password using `[your_client].me.set_password([new_password])`."
      ]
     },
     "metadata": {},
     "output_type": "display_data"
    }
   ],
   "source": [
    "domain_client = node.login(email=\"info@openmined.org\", password=\"changethis\")"
   ]
  },
  {
   "cell_type": "markdown",
   "metadata": {},
   "source": [
    "Initialize Model Weights"
   ]
  },
  {
   "cell_type": "code",
   "execution_count": 82,
   "metadata": {},
   "outputs": [
    {
     "name": "stdout",
     "output_type": "stream",
     "text": [
      "<class 'dict'> 585cb05205d149a69582dc20304b8682\n"
     ]
    }
   ],
   "source": [
    "# Convert the trained model parameters to a Syft ActionObject\n",
    "model_weights_obj = sy.ActionObject.from_obj(noisy_model_weights_dict_1)\n",
    "\n",
    "# Check the object type and attributes\n",
    "print(type(model_weights_obj.syft_action_data), model_weights_obj.id)\n"
   ]
  },
  {
   "cell_type": "code",
   "execution_count": 83,
   "metadata": {},
   "outputs": [
    {
     "name": "stdout",
     "output_type": "stream",
     "text": [
      "INFO:     127.0.0.1:53042 - \"POST /api/v2/api_call HTTP/1.1\" 200 OK\n",
      "585cb05205d149a69582dc20304b8682\n"
     ]
    }
   ],
   "source": [
    "# Set the model weights ActionObject in the domain\n",
    "weight_domain_obj = domain_client.api.services.action.set(model_weights_obj)\n",
    "\n",
    "# Check the domain object attributes\n",
    "print(weight_domain_obj.id)\n"
   ]
  },
  {
   "cell_type": "markdown",
   "metadata": {},
   "source": [
    "Convert Model Weights to Syft ActionObject:"
   ]
  },
  {
   "cell_type": "markdown",
   "metadata": {},
   "source": [
    "Define a Weights Access function"
   ]
  },
  {
   "cell_type": "code",
   "execution_count": 84,
   "metadata": {
    "scrolled": true,
    "tags": []
   },
   "outputs": [
    {
     "name": "stdout",
     "output_type": "stream",
     "text": [
      "INFO:     127.0.0.1:53045 - \"POST /api/v2/api_call HTTP/1.1\" 200 OK\n",
      "INFO:     127.0.0.1:53038 - \"GET /api/v2/metadata HTTP/1.1\" 200 OK\n"
     ]
    },
    {
     "data": {
      "text/html": [
       "<div class=\"alert-success\" style=\"padding:5px;\"><strong>SyftSuccess</strong>: Syft function 'fetch_weights' successfully created. To add a code request, please create a project using `project = syft.Project(...)`, then use command `project.create_code_request`.</div><br />"
      ],
      "text/plain": [
       "SyftSuccess: Syft function 'fetch_weights' successfully created. To add a code request, please create a project using `project = syft.Project(...)`, then use command `project.create_code_request`."
      ]
     },
     "metadata": {},
     "output_type": "display_data"
    }
   ],
   "source": [
    "@sy.syft_function(\n",
    "    input_policy=sy.ExactMatch(weights=weight_domain_obj.id),\n",
    "    output_policy=sy.SingleExecutionExactOutput(),\n",
    ")\n",
    "def fetch_weights(weights):\n",
    "    # Simply return the weights; no computation needed\n",
    "    return weights\n"
   ]
  },
  {
   "cell_type": "markdown",
   "metadata": {},
   "source": [
    "Access Weights"
   ]
  },
  {
   "cell_type": "code",
   "execution_count": 85,
   "metadata": {
    "scrolled": true,
    "tags": []
   },
   "outputs": [
    {
     "name": "stdout",
     "output_type": "stream",
     "text": [
      "SyftInfo: Creating a node with n_consumers=2 (the default value)\n",
      "Staging Protocol Changes...\n",
      "SQLite Store Path:\n",
      "!open file:///var/folders/78/1q4j7nsx4sg2djyc6d_1xq680000gn/T/71a77dca046845fd98d614e81d44488c.sqlite\n",
      "\n",
      "Creating default worker image with tag='local-dev'\n",
      "Building default worker image with tag=local-dev\n",
      "Setting up worker poolname=default-pool workers=2 image_uid=ed878abcaf504ffa94a8aceb8431daf0 in_memory=True\n",
      "Created default worker pool.\n",
      "Data Migrated to latest version !!!\n",
      "Logged into <ephemeral_node_fetch_weights_1335: High side Domain> as <info@openmined.org>\n"
     ]
    },
    {
     "data": {
      "text/html": [
       "<div class=\"alert-warning\" style=\"padding:5px;\"><strong>SyftWarning</strong>: You are using a default password. Please change the password using `[your_client].me.set_password([new_password])`.</div><br />"
      ],
      "text/plain": [
       "SyftWarning: You are using a default password. Please change the password using `[your_client].me.set_password([new_password])`."
      ]
     },
     "metadata": {},
     "output_type": "display_data"
    },
    {
     "name": "stdout",
     "output_type": "stream",
     "text": [
      "INFO:     127.0.0.1:53051 - \"POST /api/v2/api_call HTTP/1.1\" 200 OK\n",
      "INFO:     127.0.0.1:53053 - \"POST /api/v2/api_call HTTP/1.1\" 200 OK\n",
      "Approving request for domain ephemeral_node_fetch_weights_1335\n",
      "SyftInfo: Landing the ephmeral node...\n",
      "SyftInfo: Node Landed!\n"
     ]
    }
   ],
   "source": [
    "weights_pointer = fetch_weights(weights=weight_domain_obj)\n",
    "weights_local = weights_pointer.get()"
   ]
  },
  {
   "cell_type": "markdown",
   "metadata": {},
   "source": [
    "Retrieve and Verify the Output"
   ]
  },
  {
   "cell_type": "markdown",
   "metadata": {},
   "source": [
    "Request and Approve Code Execution"
   ]
  },
  {
   "cell_type": "code",
   "execution_count": 86,
   "metadata": {
    "tags": []
   },
   "outputs": [
    {
     "name": "stdout",
     "output_type": "stream",
     "text": [
      "INFO:     127.0.0.1:53056 - \"POST /api/v2/api_call HTTP/1.1\" 200 OK\n",
      "INFO:     127.0.0.1:53038 - \"GET /api/v2/api?verify_key=aec6ea4dfc049ceacaeeebc493167a88a200ddc367b1fa32da652444b635d21f&communication_protocol=3 HTTP/1.1\" 200 OK\n",
      "INFO:     127.0.0.1:53059 - \"POST /api/v2/api_call HTTP/1.1\" 200 OK\n",
      "INFO:     127.0.0.1:53061 - \"POST /api/v2/api_call HTTP/1.1\" 200 OK\n",
      "INFO:     127.0.0.1:53063 - \"POST /api/v2/api_call HTTP/1.1\" 200 OK\n",
      "INFO:     127.0.0.1:53065 - \"POST /api/v2/api_call HTTP/1.1\" 200 OK\n",
      "INFO:     127.0.0.1:53067 - \"POST /api/v2/api_call HTTP/1.1\" 200 OK\n",
      "INFO:     127.0.0.1:53069 - \"POST /api/v2/api_call HTTP/1.1\" 200 OK\n",
      "INFO:     127.0.0.1:53071 - \"POST /api/v2/api_call HTTP/1.1\" 200 OK\n"
     ]
    },
    {
     "data": {
      "text/html": [
       "\n",
       "            <style>\n",
       "            .syft-request {color: #464158;}\n",
       "            </style>\n",
       "            <div class='syft-request'>\n",
       "                <h3>Request</h3>\n",
       "                <p><strong>Id: </strong>14ae2bf2362844818d3c36406c224087</p>\n",
       "                <p><strong>Request time: </strong>2024-03-21 17:26:10</p>\n",
       "                \n",
       "                \n",
       "                <p><strong>Status: </strong>RequestStatus.PENDING</p>\n",
       "                <p><strong>Requested on: </strong> Test-domain-1 of type <strong>                     Domain</strong></p>\n",
       "                <p><strong>Requested by:</strong> Jane Doe (info@openmined.org) </p>\n",
       "                <p><strong>Changes: </strong> Request to change <b>fetch_weights</b> (Pool Id: <b>default-pool</b>) to permission <b>RequestStatus.APPROVED</b>. Nested Requests not resolved. </p>\n",
       "            </div>\n",
       "\n",
       "            "
      ],
      "text/markdown": [
       "```python\n",
       "class Request:\n",
       "  id: str = 14ae2bf2362844818d3c36406c224087\n",
       "  request_time: str = 2024-03-21 17:26:10\n",
       "  updated_at: str = None\n",
       "  status: str = RequestStatus.PENDING\n",
       "  changes: str = ['Request to change <b>fetch_weights</b> (Pool Id: <b>default-pool</b>) to permission <b>RequestStatus.APPROVED</b>. Nested Requests not resolved']\n",
       "  requesting_user_verify_key: str = aec6ea4dfc049ceacaeeebc493167a88a200ddc367b1fa32da652444b635d21f\n",
       "\n",
       "```"
      ],
      "text/plain": [
       "syft.service.request.request.Request"
      ]
     },
     "execution_count": 86,
     "metadata": {},
     "output_type": "execute_result"
    }
   ],
   "source": [
    "request = domain_client.code.request_code_execution(fetch_weights)\n",
    "request"
   ]
  },
  {
   "cell_type": "code",
   "execution_count": 87,
   "metadata": {
    "tags": []
   },
   "outputs": [
    {
     "name": "stdout",
     "output_type": "stream",
     "text": [
      "INFO:     127.0.0.1:53038 - \"GET /api/v2/metadata HTTP/1.1\" 200 OK\n",
      "INFO:     127.0.0.1:53073 - \"POST /api/v2/api_call HTTP/1.1\" 200 OK\n",
      "INFO:     127.0.0.1:53075 - \"POST /api/v2/api_call HTTP/1.1\" 200 OK\n",
      "INFO:     127.0.0.1:53077 - \"POST /api/v2/api_call HTTP/1.1\" 200 OK\n",
      "INFO:     127.0.0.1:53079 - \"POST /api/v2/api_call HTTP/1.1\" 200 OK\n",
      "INFO:     127.0.0.1:53081 - \"POST /api/v2/api_call HTTP/1.1\" 200 OK\n",
      "INFO:     127.0.0.1:53083 - \"POST /api/v2/api_call HTTP/1.1\" 200 OK\n",
      "INFO:     127.0.0.1:53085 - \"POST /api/v2/api_call HTTP/1.1\" 200 OK\n",
      "Approving request for domain test-domain-1\n",
      "INFO:     127.0.0.1:53087 - \"POST /api/v2/api_call HTTP/1.1\" 200 OK\n"
     ]
    },
    {
     "data": {
      "text/html": [
       "<div class=\"alert-success\" style=\"padding:5px;\"><strong>SyftSuccess</strong>: Request 14ae2bf2362844818d3c36406c224087 changes applied</div><br />"
      ],
      "text/plain": [
       "SyftSuccess: Request 14ae2bf2362844818d3c36406c224087 changes applied"
      ]
     },
     "execution_count": 87,
     "metadata": {},
     "output_type": "execute_result"
    }
   ],
   "source": [
    "request.approve()"
   ]
  },
  {
   "cell_type": "code",
   "execution_count": 88,
   "metadata": {
    "scrolled": true,
    "tags": []
   },
   "outputs": [
    {
     "name": "stdout",
     "output_type": "stream",
     "text": [
      "INFO:     127.0.0.1:53038 - \"GET /api/v2/api?verify_key=aec6ea4dfc049ceacaeeebc493167a88a200ddc367b1fa32da652444b635d21f&communication_protocol=3 HTTP/1.1\" 200 OK\n"
     ]
    }
   ],
   "source": [
    "domain_client._api = None\n",
    "_ = domain_client.api"
   ]
  },
  {
   "cell_type": "markdown",
   "metadata": {},
   "source": [
    "Fetching the pointer and the actual weights"
   ]
  },
  {
   "cell_type": "code",
   "execution_count": 89,
   "metadata": {
    "tags": []
   },
   "outputs": [
    {
     "name": "stdout",
     "output_type": "stream",
     "text": [
      "SyftInfo: Creating a node with n_consumers=2 (the default value)\n",
      "Staging Protocol Changes...\n",
      "SQLite Store Path:\n",
      "!open file:///var/folders/78/1q4j7nsx4sg2djyc6d_1xq680000gn/T/6e1d61f349ab460db61b3264260ca9df.sqlite\n",
      "\n",
      "Creating default worker image with tag='local-dev'\n",
      "Building default worker image with tag=local-dev\n",
      "Setting up worker poolname=default-pool workers=2 image_uid=ea4bc4df736d41a199704a96bb404f65 in_memory=True\n",
      "Created default worker pool.\n",
      "Data Migrated to latest version !!!\n",
      "Logged into <ephemeral_node_fetch_weights_3273: High side Domain> as <info@openmined.org>\n"
     ]
    },
    {
     "data": {
      "text/html": [
       "<div class=\"alert-warning\" style=\"padding:5px;\"><strong>SyftWarning</strong>: You are using a default password. Please change the password using `[your_client].me.set_password([new_password])`.</div><br />"
      ],
      "text/plain": [
       "SyftWarning: You are using a default password. Please change the password using `[your_client].me.set_password([new_password])`."
      ]
     },
     "metadata": {},
     "output_type": "display_data"
    },
    {
     "name": "stdout",
     "output_type": "stream",
     "text": [
      "INFO:     127.0.0.1:53093 - \"POST /api/v2/api_call HTTP/1.1\" 200 OK\n",
      "INFO:     127.0.0.1:53095 - \"POST /api/v2/api_call HTTP/1.1\" 200 OK\n",
      "Approving request for domain ephemeral_node_fetch_weights_3273\n",
      "SyftInfo: Landing the ephmeral node...\n",
      "SyftInfo: Node Landed!\n"
     ]
    }
   ],
   "source": [
    "# Fetch the weights pointer from the domain\n",
    "weights_ptr = fetch_weights(weights=weight_domain_obj)\n",
    "\n",
    "# Retrieve the actual weights from the pointer\n",
    "weights_local = weights_ptr.get()\n"
   ]
  },
  {
   "cell_type": "markdown",
   "metadata": {},
   "source": [
    "Retrieving the Computation Result"
   ]
  },
  {
   "cell_type": "markdown",
   "metadata": {},
   "source": [
    "Cleanup and Land the Node"
   ]
  },
  {
   "cell_type": "code",
   "execution_count": 90,
   "metadata": {
    "tags": []
   },
   "outputs": [],
   "source": [
    "if node.node_type.value == \"python\":\n",
    "    node.land()"
   ]
  },
  {
   "cell_type": "markdown",
   "metadata": {
    "editable": true,
    "slideshow": {
     "slide_type": ""
    },
    "tags": []
   },
   "source": [
    "## Data Owner 2"
   ]
  },
  {
   "cell_type": "code",
   "execution_count": 91,
   "metadata": {},
   "outputs": [],
   "source": [
    "tf.keras.backend.clear_session() #clears keras session to have the same mapping for DO1 and DO2 dictionaries\n",
    "\n",
    "TRAIN_SPLIT = 0.8\n",
    "VALIDATION_SPLIT = 0.2\n",
    "\n",
    "# Dataset size\n",
    "dataset_size = len(df2)\n",
    "train_size = int(dataset_size * TRAIN_SPLIT)\n",
    "test_size = dataset_size - train_size\n",
    "validation_size = int(test_size * VALIDATION_SPLIT)\n",
    "\n",
    "# Creating the dataset\n",
    "ds = tf.data.Dataset.zip((\n",
    "    tf.data.Dataset.from_tensor_slices((\n",
    "        tf.cast(df2[dense_cols].values, tf.float32),\n",
    "        tf.cast(df2[cat_cols].values, tf.int32),\n",
    "    )),\n",
    "    tf.data.Dataset.from_tensor_slices(tf.cast(to_categorical(df2['label'].values, num_classes=2), tf.float32))\n",
    ")).shuffle(buffer_size=2048)\n",
    "\n",
    "# Splitting the dataset\n",
    "ds_train = ds.take(train_size)\n",
    "ds_test = ds.skip(train_size)\n",
    "ds_valid = ds_test.take(validation_size)\n",
    "ds_test = ds_test.skip(validation_size)"
   ]
  },
  {
   "cell_type": "code",
   "execution_count": 92,
   "metadata": {},
   "outputs": [],
   "source": [
    "def MLP(arch, activation='relu', out_activation=None):\n",
    "    mlp = tf.keras.Sequential()\n",
    "\n",
    "    for units in arch[:-1]:\n",
    "        mlp.add(tf.keras.layers.Dense(units, activation=activation))\n",
    "\n",
    "    mlp.add(tf.keras.layers.Dense(arch[-1], activation=out_activation))\n",
    "\n",
    "    return mlp\n",
    "\n",
    "\n",
    "class SecondOrderFeatureInteraction(tf.keras.layers.Layer):\n",
    "    def __init__(self, self_interaction=False):\n",
    "        super(SecondOrderFeatureInteraction, self).__init__()\n",
    "        self.self_interaction = self_interaction\n",
    "\n",
    "    def call(self, inputs):\n",
    "        batch_size = tf.shape(inputs[0])[0]\n",
    "        concat_features = tf.stack(inputs, axis=1)\n",
    "\n",
    "        dot_products = tf.matmul(concat_features, concat_features, transpose_b=True)\n",
    "\n",
    "        ones = tf.ones_like(dot_products)\n",
    "        mask = tf.linalg.band_part(ones, 0, -1)\n",
    "        out_dim = int(len(inputs) * (len(inputs) + 1) / 2)\n",
    "\n",
    "        if not self.self_interaction:\n",
    "            mask = mask - tf.linalg.band_part(ones, 0, 0)\n",
    "            out_dim = int(len(inputs) * (len(inputs) - 1) / 2)\n",
    "\n",
    "        flat_interactions = tf.reshape(tf.boolean_mask(dot_products, mask), (batch_size, out_dim))\n",
    "        return flat_interactions\n",
    "\n",
    "\n",
    "class DLRM(tf.keras.Model):\n",
    "    def __init__(\n",
    "            self,\n",
    "            embedding_sizes,\n",
    "            embedding_dim,\n",
    "            arch_bot,\n",
    "            arch_top,\n",
    "            self_interaction,\n",
    "    ):\n",
    "        super(DLRM, self).__init__()\n",
    "        self.emb = [tf.keras.layers.Embedding(size, embedding_dim) for size in embedding_sizes]\n",
    "        self.bot_nn = MLP(arch_bot, out_activation='relu')\n",
    "        self.top_nn = MLP(arch_top, out_activation='sigmoid')\n",
    "        self.interaction_op = SecondOrderFeatureInteraction(self_interaction)\n",
    "\n",
    "    def call(self, input):\n",
    "        input_dense, input_cat = input\n",
    "        emb_x = [E(x) for E, x in zip(self.emb, tf.unstack(input_cat, axis=1))]\n",
    "        dense_x = self.bot_nn(input_dense)\n",
    "\n",
    "        Z = self.interaction_op(emb_x + [dense_x])\n",
    "        z = tf.concat([dense_x, Z], axis=1)\n",
    "        p = self.top_nn(z)\n",
    "\n",
    "        return p"
   ]
  },
  {
   "cell_type": "code",
   "execution_count": 93,
   "metadata": {},
   "outputs": [],
   "source": [
    "model = DLRM(\n",
    "    embedding_sizes=emb_counts,\n",
    "    embedding_dim=2,\n",
    "    arch_bot=[8, 2],\n",
    "    arch_top=[128, 64, 2],\n",
    "    self_interaction=False\n",
    ")\n",
    "\n",
    "model.compile(\n",
    "    optimizer=tf.keras.optimizers.legacy.Adam(learning_rate=0.0001),\n",
    "    loss=tf.keras.losses.BinaryCrossentropy(from_logits=False),\n",
    "    metrics=['accuracy', AUC(name='auc')]  \n",
    ")"
   ]
  },
  {
   "cell_type": "code",
   "execution_count": 94,
   "metadata": {},
   "outputs": [
    {
     "name": "stdout",
     "output_type": "stream",
     "text": [
      "Epoch 1/5\n",
      "427/427 [==============================] - 4s 6ms/step - loss: 0.6136 - accuracy: 0.7391 - auc: 0.7538 - val_loss: 0.5447 - val_accuracy: 0.7468 - val_auc: 0.8019\n",
      "Epoch 2/5\n",
      "427/427 [==============================] - 2s 5ms/step - loss: 0.5302 - accuracy: 0.7495 - auc: 0.8161 - val_loss: 0.5047 - val_accuracy: 0.7618 - val_auc: 0.8363\n",
      "Epoch 3/5\n",
      "427/427 [==============================] - 3s 8ms/step - loss: 0.4905 - accuracy: 0.7648 - auc: 0.8448 - val_loss: 0.4790 - val_accuracy: 0.7794 - val_auc: 0.8524\n",
      "Epoch 4/5\n",
      "427/427 [==============================] - 2s 5ms/step - loss: 0.4496 - accuracy: 0.7923 - auc: 0.8719 - val_loss: 0.4756 - val_accuracy: 0.7768 - val_auc: 0.8557\n",
      "Epoch 5/5\n",
      "427/427 [==============================] - 2s 5ms/step - loss: 0.4100 - accuracy: 0.8159 - auc: 0.8955 - val_loss: 0.4712 - val_accuracy: 0.7827 - val_auc: 0.8611\n"
     ]
    }
   ],
   "source": [
    "BATCH_SIZE = 128\n",
    "\n",
    "history =model.fit(\n",
    "    ds_train.batch(BATCH_SIZE),\n",
    "    validation_data=ds_valid.batch(BATCH_SIZE),\n",
    "    callbacks=[\n",
    "        tf.keras.callbacks.EarlyStopping(patience=6, restore_best_weights=True)\n",
    "    ],\n",
    "    epochs=5,\n",
    "    verbose=1,\n",
    ")\n"
   ]
  },
  {
   "cell_type": "code",
   "execution_count": 95,
   "metadata": {},
   "outputs": [
    {
     "name": "stdout",
     "output_type": "stream",
     "text": [
      "Model: \"dlrm\"\n",
      "_________________________________________________________________\n",
      " Layer (type)                Output Shape              Param #   \n",
      "=================================================================\n",
      " embedding (Embedding)       multiple                  1204      \n",
      "                                                                 \n",
      " embedding_1 (Embedding)     multiple                  1022      \n",
      "                                                                 \n",
      " embedding_2 (Embedding)     multiple                  114322    \n",
      "                                                                 \n",
      " embedding_3 (Embedding)     multiple                  59116     \n",
      "                                                                 \n",
      " embedding_4 (Embedding)     multiple                  330       \n",
      "                                                                 \n",
      " embedding_5 (Embedding)     multiple                  26        \n",
      "                                                                 \n",
      " embedding_6 (Embedding)     multiple                  16824     \n",
      "                                                                 \n",
      " embedding_7 (Embedding)     multiple                  580       \n",
      "                                                                 \n",
      " embedding_8 (Embedding)     multiple                  6         \n",
      "                                                                 \n",
      " embedding_9 (Embedding)     multiple                  27292     \n",
      "                                                                 \n",
      " embedding_10 (Embedding)    multiple                  8016      \n",
      "                                                                 \n",
      " embedding_11 (Embedding)    multiple                  100286    \n",
      "                                                                 \n",
      " embedding_12 (Embedding)    multiple                  5754      \n",
      "                                                                 \n",
      " embedding_13 (Embedding)    multiple                  52        \n",
      "                                                                 \n",
      " embedding_14 (Embedding)    multiple                  11356     \n",
      "                                                                 \n",
      " embedding_15 (Embedding)    multiple                  82898     \n",
      "                                                                 \n",
      " embedding_16 (Embedding)    multiple                  20        \n",
      "                                                                 \n",
      " embedding_17 (Embedding)    multiple                  5490      \n",
      "                                                                 \n",
      " embedding_18 (Embedding)    multiple                  2718      \n",
      "                                                                 \n",
      " embedding_19 (Embedding)    multiple                  8         \n",
      "                                                                 \n",
      " embedding_20 (Embedding)    multiple                  92586     \n",
      "                                                                 \n",
      " embedding_21 (Embedding)    multiple                  28        \n",
      "                                                                 \n",
      " embedding_22 (Embedding)    multiple                  28        \n",
      "                                                                 \n",
      " embedding_23 (Embedding)    multiple                  27592     \n",
      "                                                                 \n",
      " embedding_24 (Embedding)    multiple                  102       \n",
      "                                                                 \n",
      " embedding_25 (Embedding)    multiple                  21242     \n",
      "                                                                 \n",
      " sequential (Sequential)     (None, 2)                 130       \n",
      "                                                                 \n",
      " sequential_1 (Sequential)   (None, 2)                 53698     \n",
      "                                                                 \n",
      " second_order_feature_inter  multiple                  0         \n",
      " action (SecondOrderFeature                                      \n",
      " Interaction)                                                    \n",
      "                                                                 \n",
      "=================================================================\n",
      "Total params: 632726 (2.41 MB)\n",
      "Trainable params: 632726 (2.41 MB)\n",
      "Non-trainable params: 0 (0.00 Byte)\n",
      "_________________________________________________________________\n"
     ]
    }
   ],
   "source": [
    "model.summary()"
   ]
  },
  {
   "cell_type": "code",
   "execution_count": 96,
   "metadata": {},
   "outputs": [
    {
     "name": "stdout",
     "output_type": "stream",
     "text": [
      "86/86 [==============================] - 0s 1ms/step - loss: 0.5192 - accuracy: 0.7591 - auc: 0.8335\n",
      "Loss: 0.5192103385925293, Accuracy: 0.7591354250907898, AUC: 0.8335290551185608\n"
     ]
    }
   ],
   "source": [
    "results = model.evaluate(ds_test.batch(BATCH_SIZE))\n",
    "print(f'Loss: {results[0]}, Accuracy: {results[1]}, AUC: {results[2]}')"
   ]
  },
  {
   "cell_type": "code",
   "execution_count": 97,
   "metadata": {
    "scrolled": true
   },
   "outputs": [
    {
     "data": {
      "text/html": [
       "<div>\n",
       "<style scoped>\n",
       "    .dataframe tbody tr th:only-of-type {\n",
       "        vertical-align: middle;\n",
       "    }\n",
       "\n",
       "    .dataframe tbody tr th {\n",
       "        vertical-align: top;\n",
       "    }\n",
       "\n",
       "    .dataframe thead th {\n",
       "        text-align: right;\n",
       "    }\n",
       "</style>\n",
       "<table border=\"1\" class=\"dataframe\">\n",
       "  <thead>\n",
       "    <tr style=\"text-align: right;\">\n",
       "      <th></th>\n",
       "      <th>loss</th>\n",
       "      <th>accuracy</th>\n",
       "      <th>auc</th>\n",
       "      <th>val_loss</th>\n",
       "      <th>val_accuracy</th>\n",
       "      <th>val_auc</th>\n",
       "    </tr>\n",
       "  </thead>\n",
       "  <tbody>\n",
       "    <tr>\n",
       "      <th>0</th>\n",
       "      <td>0.613623</td>\n",
       "      <td>0.739142</td>\n",
       "      <td>0.753786</td>\n",
       "      <td>0.544660</td>\n",
       "      <td>0.746794</td>\n",
       "      <td>0.801946</td>\n",
       "    </tr>\n",
       "    <tr>\n",
       "      <th>1</th>\n",
       "      <td>0.530188</td>\n",
       "      <td>0.749455</td>\n",
       "      <td>0.816102</td>\n",
       "      <td>0.504704</td>\n",
       "      <td>0.761818</td>\n",
       "      <td>0.836297</td>\n",
       "    </tr>\n",
       "    <tr>\n",
       "      <th>2</th>\n",
       "      <td>0.490502</td>\n",
       "      <td>0.764769</td>\n",
       "      <td>0.844832</td>\n",
       "      <td>0.479002</td>\n",
       "      <td>0.779406</td>\n",
       "      <td>0.852395</td>\n",
       "    </tr>\n",
       "    <tr>\n",
       "      <th>3</th>\n",
       "      <td>0.449589</td>\n",
       "      <td>0.792321</td>\n",
       "      <td>0.871896</td>\n",
       "      <td>0.475605</td>\n",
       "      <td>0.776841</td>\n",
       "      <td>0.855705</td>\n",
       "    </tr>\n",
       "    <tr>\n",
       "      <th>4</th>\n",
       "      <td>0.409971</td>\n",
       "      <td>0.815860</td>\n",
       "      <td>0.895451</td>\n",
       "      <td>0.471239</td>\n",
       "      <td>0.782704</td>\n",
       "      <td>0.861064</td>\n",
       "    </tr>\n",
       "  </tbody>\n",
       "</table>\n",
       "</div>"
      ],
      "text/plain": [
       "       loss  accuracy       auc  val_loss  val_accuracy   val_auc\n",
       "0  0.613623  0.739142  0.753786  0.544660      0.746794  0.801946\n",
       "1  0.530188  0.749455  0.816102  0.504704      0.761818  0.836297\n",
       "2  0.490502  0.764769  0.844832  0.479002      0.779406  0.852395\n",
       "3  0.449589  0.792321  0.871896  0.475605      0.776841  0.855705\n",
       "4  0.409971  0.815860  0.895451  0.471239      0.782704  0.861064"
      ]
     },
     "metadata": {},
     "output_type": "display_data"
    },
    {
     "data": {
      "image/png": "[encoded data removed]",
      "text/plain": [
       "<Figure size 1000x800 with 1 Axes>"
      ]
     },
     "metadata": {},
     "output_type": "display_data"
    },
    {
     "name": "stdout",
     "output_type": "stream",
     "text": [
      "Validation AUC: 0.8536\n"
     ]
    }
   ],
   "source": [
    "loss = pd.DataFrame.from_dict(history.history)\n",
    "display(loss.head())\n",
    "\n",
    "plt.figure(figsize=(10,8))\n",
    "plt.plot(loss['loss'], label='Train Loss')\n",
    "plt.plot(loss['val_loss'], label='Validation Loss')\n",
    "\n",
    "# Plot AUC \n",
    "plt.plot(loss['auc'], label='Train AUC')\n",
    "plt.plot(loss['val_auc'], label='Validation AUC')\n",
    "\n",
    "plt.legend()\n",
    "plt.show()\n",
    "\n",
    "# Evaluate the model on the validation dataset\n",
    "val_metrics = model.evaluate(ds_valid.batch(BATCH_SIZE), verbose=0)\n",
    "\n",
    "val_auc_index = model.metrics_names.index('auc')\n",
    "auc_score_baseline2 = val_metrics[val_auc_index]\n",
    "\n",
    "print(f\"Validation AUC: {auc_score_baseline2:.4f}\")"
   ]
  },
  {
   "cell_type": "code",
   "execution_count": 98,
   "metadata": {},
   "outputs": [],
   "source": [
    "import numpy as np\n",
    "\n",
    "def add_noise_to_weights(weights, noise_std=0.01):\n",
    "    \"\"\"Adds Gaussian noise to a dictionary of weights.\"\"\"\n",
    "    noisy_weights = {}\n",
    "    for key, weight in weights.items():\n",
    "        # Generating Gaussian noise with the same shape as the weight\n",
    "        noise = np.random.normal(loc=0.0, scale=noise_std, size=weight.shape)\n",
    "        # Adding the noise to the weight\n",
    "        noisy_weight = weight + noise\n",
    "        noisy_weights[key] = noisy_weight\n",
    "    return noisy_weights\n",
    "\n",
    "# Extract the model's weights into a dictionary\n",
    "model_weights_dict_2 = {v.name: v.numpy() for v in model.trainable_variables}\n",
    "\n",
    "# Add noise to the model's weights\n",
    "noisy_model_weights_dict_2 = add_noise_to_weights(model_weights_dict_2, noise_std=0.01)\n",
    "\n",
    "# Now, noisy_model_weights_dict contains the weights with added Gaussian noise"
   ]
  },
  {
   "cell_type": "code",
   "execution_count": 99,
   "metadata": {
    "editable": true,
    "scrolled": true,
    "slideshow": {
     "slide_type": ""
    },
    "tags": []
   },
   "outputs": [
    {
     "name": "stdout",
     "output_type": "stream",
     "text": [
      "Staging Protocol Changes...\n",
      "Starting test-domain-2 server on 0.0.0.0:37176\n"
     ]
    },
    {
     "name": "stderr",
     "output_type": "stream",
     "text": [
      "kj/filesystem-disk-unix.c++:1703: warning: PWD environment variable doesn't match current directory; pwd = /Users/alex\n"
     ]
    },
    {
     "name": "stdout",
     "output_type": "stream",
     "text": [
      "Waiting for server to start.."
     ]
    },
    {
     "name": "stderr",
     "output_type": "stream",
     "text": [
      "INFO:     Started server process [2495]\n",
      "INFO:     Waiting for application startup.\n",
      "INFO:     Application startup complete.\n",
      "INFO:     Uvicorn running on http://0.0.0.0:37176 (Press CTRL+C to quit)\n"
     ]
    },
    {
     "name": "stdout",
     "output_type": "stream",
     "text": [
      ".\n",
      "WARNING: private key is based on node name: test-domain-2 in dev_mode. Don't run this in production.\n",
      "SQLite Store Path:\n",
      "!open file:///var/folders/78/1q4j7nsx4sg2djyc6d_1xq680000gn/T/b626124c319343c882a448dac2d6953d.sqlite\n",
      "\n",
      "Creating default worker image with tag='local-dev'\n",
      "Building default worker image with tag=local-dev\n",
      "Setting up worker poolname=default-pool workers=0 image_uid=36965e8b1f1a416188241c056cca1385 in_memory=True\n",
      "Created default worker pool.\n",
      "Data Migrated to latest version !!!\n",
      "INFO:     127.0.0.1:53129 - \"GET /api/v2/metadata HTTP/1.1\" 200 OK\n",
      " Done.\n"
     ]
    }
   ],
   "source": [
    "node_2 = sy.orchestra.launch(name=\"test-domain-2\", port=\"auto\", dev_mode=True, reset=True)"
   ]
  },
  {
   "cell_type": "markdown",
   "metadata": {},
   "source": [
    "Login to the Domain"
   ]
  },
  {
   "cell_type": "code",
   "execution_count": 100,
   "metadata": {
    "editable": true,
    "scrolled": true,
    "slideshow": {
     "slide_type": ""
    },
    "tags": []
   },
   "outputs": [
    {
     "name": "stdout",
     "output_type": "stream",
     "text": [
      "INFO:     127.0.0.1:53131 - \"GET /api/v2/metadata HTTP/1.1\" 200 OK\n",
      "INFO:     127.0.0.1:53131 - \"GET /api/v2/metadata HTTP/1.1\" 200 OK\n",
      "Logged into <test-domain-2: High-side Domain> as GUEST\n",
      "INFO:     127.0.0.1:53131 - \"POST /api/v2/login HTTP/1.1\" 200 OK\n",
      "INFO:     127.0.0.1:53131 - \"GET /api/v2/api?verify_key=0dfade1de62080fb5e584e38a1b82ca623859caaefd6f13ae821a4e5172df446&communication_protocol=3 HTTP/1.1\" 200 OK\n",
      "INFO:     127.0.0.1:53133 - \"POST /api/v2/api_call HTTP/1.1\" 200 OK\n",
      "Logged into <test-domain-2: High side Domain> as <info@openmined.org>\n"
     ]
    },
    {
     "data": {
      "text/html": [
       "<div class=\"alert-warning\" style=\"padding:5px;\"><strong>SyftWarning</strong>: You are using a default password. Please change the password using `[your_client].me.set_password([new_password])`.</div><br />"
      ],
      "text/plain": [
       "SyftWarning: You are using a default password. Please change the password using `[your_client].me.set_password([new_password])`."
      ]
     },
     "metadata": {},
     "output_type": "display_data"
    }
   ],
   "source": [
    "domain_client_2 = node_2.login(email=\"info@openmined.org\", password=\"changethis\")"
   ]
  },
  {
   "cell_type": "markdown",
   "metadata": {},
   "source": [
    "Initialize Model Weights"
   ]
  },
  {
   "cell_type": "code",
   "execution_count": 101,
   "metadata": {
    "editable": true,
    "slideshow": {
     "slide_type": ""
    },
    "tags": []
   },
   "outputs": [
    {
     "name": "stdout",
     "output_type": "stream",
     "text": [
      "<class 'dict'> 8084d0121bf14b08ba7fd5ac04f5b854\n"
     ]
    }
   ],
   "source": [
    "# Convert the trained model parameters to a Syft ActionObject\n",
    "model_weights_obj = sy.ActionObject.from_obj(noisy_model_weights_dict_2)\n",
    "\n",
    "# Check the object type and attributes\n",
    "print(type(model_weights_obj.syft_action_data), model_weights_obj.id)\n"
   ]
  },
  {
   "cell_type": "code",
   "execution_count": 102,
   "metadata": {
    "editable": true,
    "slideshow": {
     "slide_type": ""
    },
    "tags": []
   },
   "outputs": [
    {
     "name": "stdout",
     "output_type": "stream",
     "text": [
      "INFO:     127.0.0.1:53135 - \"POST /api/v2/api_call HTTP/1.1\" 200 OK\n",
      "8084d0121bf14b08ba7fd5ac04f5b854\n"
     ]
    }
   ],
   "source": [
    "# Set the model weights ActionObject in the domain\n",
    "weight_domain_obj = domain_client_2.api.services.action.set(model_weights_obj)\n",
    "\n",
    "# Check the domain object attributes\n",
    "print(weight_domain_obj.id)\n"
   ]
  },
  {
   "cell_type": "markdown",
   "metadata": {},
   "source": [
    "Convert Model Weights to Syft ActionObject:"
   ]
  },
  {
   "cell_type": "markdown",
   "metadata": {},
   "source": [
    "Define a Weights Access function"
   ]
  },
  {
   "cell_type": "code",
   "execution_count": 103,
   "metadata": {
    "editable": true,
    "scrolled": true,
    "slideshow": {
     "slide_type": ""
    },
    "tags": []
   },
   "outputs": [
    {
     "name": "stdout",
     "output_type": "stream",
     "text": [
      "INFO:     127.0.0.1:53137 - \"POST /api/v2/api_call HTTP/1.1\" 200 OK\n",
      "INFO:     127.0.0.1:53139 - \"POST /api/v2/api_call HTTP/1.1\" 200 OK\n",
      "INFO:     127.0.0.1:53131 - \"GET /api/v2/metadata HTTP/1.1\" 200 OK\n"
     ]
    },
    {
     "data": {
      "text/html": [
       "<div class=\"alert-success\" style=\"padding:5px;\"><strong>SyftSuccess</strong>: Syft function 'fetch_weights' successfully created. To add a code request, please create a project using `project = syft.Project(...)`, then use command `project.create_code_request`.</div><br />"
      ],
      "text/plain": [
       "SyftSuccess: Syft function 'fetch_weights' successfully created. To add a code request, please create a project using `project = syft.Project(...)`, then use command `project.create_code_request`."
      ]
     },
     "metadata": {},
     "output_type": "display_data"
    }
   ],
   "source": [
    "@sy.syft_function(\n",
    "    input_policy=sy.ExactMatch(weights=weight_domain_obj.id),\n",
    "    output_policy=sy.SingleExecutionExactOutput(),\n",
    ")\n",
    "def fetch_weights(weights):\n",
    "    # Simply return the weights; no computation needed\n",
    "    return weights\n"
   ]
  },
  {
   "cell_type": "markdown",
   "metadata": {},
   "source": [
    "Access Weights"
   ]
  },
  {
   "cell_type": "code",
   "execution_count": 104,
   "metadata": {
    "editable": true,
    "scrolled": true,
    "slideshow": {
     "slide_type": ""
    },
    "tags": []
   },
   "outputs": [
    {
     "name": "stdout",
     "output_type": "stream",
     "text": [
      "SyftInfo: Creating a node with n_consumers=2 (the default value)\n",
      "Staging Protocol Changes...\n",
      "SQLite Store Path:\n",
      "!open file:///var/folders/78/1q4j7nsx4sg2djyc6d_1xq680000gn/T/0525e172961f427ab2146321eb1f7df1.sqlite\n",
      "\n",
      "Creating default worker image with tag='local-dev'\n",
      "Building default worker image with tag=local-dev\n",
      "Setting up worker poolname=default-pool workers=2 image_uid=7baf07db7eee4316a849b43d31c0bd9d in_memory=True\n",
      "Created default worker pool.\n",
      "Data Migrated to latest version !!!\n",
      "Logged into <ephemeral_node_fetch_weights_1039: High side Domain> as <info@openmined.org>\n"
     ]
    },
    {
     "data": {
      "text/html": [
       "<div class=\"alert-warning\" style=\"padding:5px;\"><strong>SyftWarning</strong>: You are using a default password. Please change the password using `[your_client].me.set_password([new_password])`.</div><br />"
      ],
      "text/plain": [
       "SyftWarning: You are using a default password. Please change the password using `[your_client].me.set_password([new_password])`."
      ]
     },
     "metadata": {},
     "output_type": "display_data"
    },
    {
     "name": "stdout",
     "output_type": "stream",
     "text": [
      "INFO:     127.0.0.1:53144 - \"POST /api/v2/api_call HTTP/1.1\" 200 OK\n",
      "INFO:     127.0.0.1:53146 - \"POST /api/v2/api_call HTTP/1.1\" 200 OK\n",
      "Approving request for domain ephemeral_node_fetch_weights_1039\n",
      "SyftInfo: Landing the ephmeral node...\n",
      "SyftInfo: Node Landed!\n"
     ]
    }
   ],
   "source": [
    "weights_pointer = fetch_weights(weights=weight_domain_obj)\n",
    "weights_local_2 = weights_pointer.get()"
   ]
  },
  {
   "cell_type": "markdown",
   "metadata": {},
   "source": [
    "Retrieve and Verify the Output"
   ]
  },
  {
   "cell_type": "markdown",
   "metadata": {},
   "source": [
    "Request and Approve Code Execution"
   ]
  },
  {
   "cell_type": "code",
   "execution_count": 105,
   "metadata": {
    "editable": true,
    "slideshow": {
     "slide_type": ""
    },
    "tags": []
   },
   "outputs": [
    {
     "name": "stdout",
     "output_type": "stream",
     "text": [
      "INFO:     127.0.0.1:53149 - \"POST /api/v2/api_call HTTP/1.1\" 200 OK\n",
      "INFO:     127.0.0.1:53131 - \"GET /api/v2/api?verify_key=0dfade1de62080fb5e584e38a1b82ca623859caaefd6f13ae821a4e5172df446&communication_protocol=3 HTTP/1.1\" 200 OK\n",
      "INFO:     127.0.0.1:53151 - \"POST /api/v2/api_call HTTP/1.1\" 200 OK\n",
      "INFO:     127.0.0.1:53153 - \"POST /api/v2/api_call HTTP/1.1\" 200 OK\n",
      "INFO:     127.0.0.1:53155 - \"POST /api/v2/api_call HTTP/1.1\" 200 OK\n",
      "INFO:     127.0.0.1:53157 - \"POST /api/v2/api_call HTTP/1.1\" 200 OK\n",
      "INFO:     127.0.0.1:53159 - \"POST /api/v2/api_call HTTP/1.1\" 200 OK\n",
      "INFO:     127.0.0.1:53161 - \"POST /api/v2/api_call HTTP/1.1\" 200 OK\n",
      "INFO:     127.0.0.1:53163 - \"POST /api/v2/api_call HTTP/1.1\" 200 OK\n"
     ]
    },
    {
     "data": {
      "text/html": [
       "\n",
       "            <style>\n",
       "            .syft-request {color: #464158;}\n",
       "            </style>\n",
       "            <div class='syft-request'>\n",
       "                <h3>Request</h3>\n",
       "                <p><strong>Id: </strong>7854e30a039945cca04317076d1c8847</p>\n",
       "                <p><strong>Request time: </strong>2024-03-21 17:26:39</p>\n",
       "                \n",
       "                \n",
       "                <p><strong>Status: </strong>RequestStatus.PENDING</p>\n",
       "                <p><strong>Requested on: </strong> Test-domain-2 of type <strong>                     Domain</strong></p>\n",
       "                <p><strong>Requested by:</strong> Jane Doe (info@openmined.org) </p>\n",
       "                <p><strong>Changes: </strong> Request to change <b>fetch_weights</b> (Pool Id: <b>default-pool</b>) to permission <b>RequestStatus.APPROVED</b>. Nested Requests not resolved. </p>\n",
       "            </div>\n",
       "\n",
       "            "
      ],
      "text/markdown": [
       "```python\n",
       "class Request:\n",
       "  id: str = 7854e30a039945cca04317076d1c8847\n",
       "  request_time: str = 2024-03-21 17:26:39\n",
       "  updated_at: str = None\n",
       "  status: str = RequestStatus.PENDING\n",
       "  changes: str = ['Request to change <b>fetch_weights</b> (Pool Id: <b>default-pool</b>) to permission <b>RequestStatus.APPROVED</b>. Nested Requests not resolved']\n",
       "  requesting_user_verify_key: str = 0dfade1de62080fb5e584e38a1b82ca623859caaefd6f13ae821a4e5172df446\n",
       "\n",
       "```"
      ],
      "text/plain": [
       "syft.service.request.request.Request"
      ]
     },
     "execution_count": 105,
     "metadata": {},
     "output_type": "execute_result"
    }
   ],
   "source": [
    "request = domain_client_2.code.request_code_execution(fetch_weights)\n",
    "request"
   ]
  },
  {
   "cell_type": "code",
   "execution_count": 106,
   "metadata": {
    "tags": []
   },
   "outputs": [
    {
     "name": "stdout",
     "output_type": "stream",
     "text": [
      "INFO:     127.0.0.1:53131 - \"GET /api/v2/metadata HTTP/1.1\" 200 OK\n",
      "INFO:     127.0.0.1:53165 - \"POST /api/v2/api_call HTTP/1.1\" 200 OK\n",
      "INFO:     127.0.0.1:53167 - \"POST /api/v2/api_call HTTP/1.1\" 200 OK\n",
      "INFO:     127.0.0.1:53169 - \"POST /api/v2/api_call HTTP/1.1\" 200 OK\n",
      "INFO:     127.0.0.1:53171 - \"POST /api/v2/api_call HTTP/1.1\" 200 OK\n",
      "INFO:     127.0.0.1:53173 - \"POST /api/v2/api_call HTTP/1.1\" 200 OK\n",
      "INFO:     127.0.0.1:53175 - \"POST /api/v2/api_call HTTP/1.1\" 200 OK\n",
      "INFO:     127.0.0.1:53177 - \"POST /api/v2/api_call HTTP/1.1\" 200 OK\n",
      "Approving request for domain test-domain-2\n",
      "INFO:     127.0.0.1:53179 - \"POST /api/v2/api_call HTTP/1.1\" 200 OK\n"
     ]
    },
    {
     "data": {
      "text/html": [
       "<div class=\"alert-success\" style=\"padding:5px;\"><strong>SyftSuccess</strong>: Request 7854e30a039945cca04317076d1c8847 changes applied</div><br />"
      ],
      "text/plain": [
       "SyftSuccess: Request 7854e30a039945cca04317076d1c8847 changes applied"
      ]
     },
     "execution_count": 106,
     "metadata": {},
     "output_type": "execute_result"
    }
   ],
   "source": [
    "request.approve()"
   ]
  },
  {
   "cell_type": "code",
   "execution_count": 107,
   "metadata": {
    "editable": true,
    "scrolled": true,
    "slideshow": {
     "slide_type": ""
    },
    "tags": []
   },
   "outputs": [
    {
     "name": "stdout",
     "output_type": "stream",
     "text": [
      "INFO:     127.0.0.1:53131 - \"GET /api/v2/api?verify_key=0dfade1de62080fb5e584e38a1b82ca623859caaefd6f13ae821a4e5172df446&communication_protocol=3 HTTP/1.1\" 200 OK\n"
     ]
    }
   ],
   "source": [
    "domain_client_2._api = None\n",
    "_ = domain_client_2.api"
   ]
  },
  {
   "cell_type": "markdown",
   "metadata": {},
   "source": [
    "Fetching the pointer and the actual weights"
   ]
  },
  {
   "cell_type": "code",
   "execution_count": 108,
   "metadata": {
    "editable": true,
    "slideshow": {
     "slide_type": ""
    },
    "tags": []
   },
   "outputs": [
    {
     "name": "stdout",
     "output_type": "stream",
     "text": [
      "SyftInfo: Creating a node with n_consumers=2 (the default value)\n",
      "Staging Protocol Changes...\n",
      "SQLite Store Path:\n",
      "!open file:///var/folders/78/1q4j7nsx4sg2djyc6d_1xq680000gn/T/cb4c53f612ec416ab92d1632a2632c7d.sqlite\n",
      "\n",
      "Creating default worker image with tag='local-dev'\n",
      "Building default worker image with tag=local-dev\n",
      "Setting up worker poolname=default-pool workers=2 image_uid=8e6bb2de5fd7476ea0f17a69613405f7 in_memory=True\n",
      "Created default worker pool.\n",
      "Data Migrated to latest version !!!\n",
      "Logged into <ephemeral_node_fetch_weights_3076: High side Domain> as <info@openmined.org>\n"
     ]
    },
    {
     "data": {
      "text/html": [
       "<div class=\"alert-warning\" style=\"padding:5px;\"><strong>SyftWarning</strong>: You are using a default password. Please change the password using `[your_client].me.set_password([new_password])`.</div><br />"
      ],
      "text/plain": [
       "SyftWarning: You are using a default password. Please change the password using `[your_client].me.set_password([new_password])`."
      ]
     },
     "metadata": {},
     "output_type": "display_data"
    },
    {
     "name": "stdout",
     "output_type": "stream",
     "text": [
      "INFO:     127.0.0.1:53185 - \"POST /api/v2/api_call HTTP/1.1\" 200 OK\n",
      "INFO:     127.0.0.1:53187 - \"POST /api/v2/api_call HTTP/1.1\" 200 OK\n",
      "Approving request for domain ephemeral_node_fetch_weights_3076\n",
      "SyftInfo: Landing the ephmeral node...\n",
      "SyftInfo: Node Landed!\n"
     ]
    }
   ],
   "source": [
    "# Fetch the weights pointer from the domain\n",
    "weights_ptr = fetch_weights(weights=weight_domain_obj)\n",
    "\n",
    "# Retrieve the actual weights from the pointer\n",
    "weights_local_2 = weights_ptr.get()\n"
   ]
  },
  {
   "cell_type": "markdown",
   "metadata": {},
   "source": [
    "Retrieving the Computation Result"
   ]
  },
  {
   "cell_type": "markdown",
   "metadata": {},
   "source": [
    "Cleanup and Land the Node"
   ]
  },
  {
   "cell_type": "code",
   "execution_count": 109,
   "metadata": {
    "tags": []
   },
   "outputs": [],
   "source": [
    "if node_2.node_type.value == \"python\":\n",
    "    node_2.land()"
   ]
  },
  {
   "cell_type": "markdown",
   "metadata": {
    "editable": true,
    "slideshow": {
     "slide_type": ""
    },
    "tags": []
   },
   "source": [
    "## Data Scientist"
   ]
  },
  {
   "cell_type": "code",
   "execution_count": 110,
   "metadata": {},
   "outputs": [],
   "source": [
    "weights1 = weights_local\n",
    "weights2 = weights_local_2"
   ]
  },
  {
   "cell_type": "code",
   "execution_count": 111,
   "metadata": {},
   "outputs": [],
   "source": [
    "import jax.numpy as jnp\n",
    "\n",
    "def combine_weights(weights1, weights2):\n",
    "    \"\"\"Combines two sets of weights by averaging.\"\"\"\n",
    "    global_weights = {}\n",
    "    \n",
    "    # Ensure the keys in both weight sets are identical\n",
    "    assert set(weights1.keys()) == set(weights2.keys()), \"Weight sets have different structures\"\n",
    "    \n",
    "    # Iterate through each layer's weights\n",
    "    for key in weights1:\n",
    "        layer_weights1 = weights1[key]\n",
    "        layer_weights2 = weights2[key]\n",
    "        \n",
    "        # Ensure each layer's weights have identical shapes\n",
    "        assert layer_weights1.shape == layer_weights2.shape, f\"Layer {key} has different shapes\"\n",
    "        \n",
    "        # Average the weights\n",
    "        global_weights[key] = (layer_weights1 + layer_weights2) / 2\n",
    "    \n",
    "    return global_weights\n"
   ]
  },
  {
   "cell_type": "code",
   "execution_count": 112,
   "metadata": {},
   "outputs": [],
   "source": [
    "global_weights = combine_weights(weights1, weights_local_2)"
   ]
  },
  {
   "cell_type": "markdown",
   "metadata": {},
   "source": [
    "# Data Owner 1 with Global Model Weights "
   ]
  },
  {
   "cell_type": "code",
   "execution_count": 113,
   "metadata": {},
   "outputs": [],
   "source": [
    "tf.keras.backend.clear_session() #clears keras session to have the same mapping for DO1 and DO2 dictionaries\n",
    "\n",
    "TRAIN_SPLIT = 0.8\n",
    "VALIDATION_SPLIT = 0.2\n",
    "\n",
    "# Dataset size\n",
    "dataset_size = len(df1)\n",
    "train_size = int(dataset_size * TRAIN_SPLIT)\n",
    "test_size = dataset_size - train_size\n",
    "validation_size = int(test_size * VALIDATION_SPLIT)\n",
    "\n",
    "# Creating the dataset\n",
    "ds = tf.data.Dataset.zip((\n",
    "    tf.data.Dataset.from_tensor_slices((\n",
    "        tf.cast(df1[dense_cols].values, tf.float32),\n",
    "        tf.cast(df1[cat_cols].values, tf.int32),\n",
    "    )),\n",
    "    tf.data.Dataset.from_tensor_slices(tf.cast(to_categorical(df1['label'].values, num_classes=2), tf.float32))\n",
    ")).shuffle(buffer_size=2048)\n",
    "\n",
    "# Splitting the dataset\n",
    "ds_train = ds.take(train_size)\n",
    "ds_test = ds.skip(train_size)\n",
    "ds_valid = ds_test.take(validation_size)\n",
    "ds_test = ds_test.skip(validation_size)"
   ]
  },
  {
   "cell_type": "code",
   "execution_count": 114,
   "metadata": {},
   "outputs": [],
   "source": [
    "embedding_sizes = [emb_count for emb_count in emb_counts]\n",
    "\n",
    "# Model architecture parameters\n",
    "embedding_dim = 2\n",
    "arch_bot = [8, 2]  # Architecture for the bottom MLP (processing dense features)\n",
    "arch_top = [128, 64, 2]  # Architecture for the top MLP (combining embeddings and processed dense features)\n",
    "\n",
    "class DLRM(tf.keras.Model):\n",
    "    def __init__(self, embedding_sizes, embedding_dim, arch_bot, arch_top, self_interaction):\n",
    "        super(DLRM, self).__init__()\n",
    "        self.emb = [tf.keras.layers.Embedding(size, embedding_dim) for size in embedding_sizes]\n",
    "        self.bot_nn = MLP(arch_bot, out_activation='relu')\n",
    "        self.top_nn = MLP(arch_top, out_activation='sigmoid')\n",
    "        self.interaction_op = SecondOrderFeatureInteraction(self_interaction)\n",
    "\n",
    "    def call(self, inputs):\n",
    "        input_dense, input_cat = inputs\n",
    "        emb_x = [E(x) for E, x in zip(self.emb, tf.unstack(input_cat, axis=1))]\n",
    "        dense_x = self.bot_nn(input_dense)\n",
    "\n",
    "        Z = self.interaction_op(emb_x + [dense_x])\n",
    "        z = tf.concat([dense_x, Z], axis=1)\n",
    "        p = self.top_nn(z)\n",
    "\n",
    "        return p\n",
    "\n",
    "# Initialize the model\n",
    "model = DLRM(\n",
    "    embedding_sizes=embedding_sizes,\n",
    "    embedding_dim=embedding_dim,\n",
    "    arch_bot=arch_bot,\n",
    "    arch_top=arch_top,\n",
    "    self_interaction=False\n",
    ")\n",
    "\n",
    "# Compile the model\n",
    "model.compile(\n",
    "    optimizer=tf.keras.optimizers.legacy.Adam(learning_rate=0.0001),\n",
    "    loss=tf.keras.losses.BinaryCrossentropy(from_logits=False),\n",
    "    metrics=['accuracy', AUC(name='auc')]\n",
    ")\n",
    "\n",
    "# Generate dummy input to build the model\n",
    "dummy_input_dense = tf.random.uniform((1, len(dense_cols)), dtype=tf.float32)\n",
    "dummy_input_cat = tf.random.uniform((1, len(cat_cols)), maxval=2, dtype=tf.int32)\n",
    "model([dummy_input_dense, dummy_input_cat])  # This builds the model's layers\n",
    "\n",
    "# Set the pre-trained weights\n",
    "for layer in model.layers:\n",
    "    if hasattr(layer, 'layers'):  # For nested layers\n",
    "        for sub_layer in layer.layers:\n",
    "            if sub_layer.name in global_weights:\n",
    "                sub_layer.set_weights(global_weights[sub_layer.name])\n",
    "    else:\n",
    "        if layer.name in global_weights:\n",
    "            layer.set_weights(global_weights[layer.name])\n"
   ]
  },
  {
   "cell_type": "code",
   "execution_count": 115,
   "metadata": {},
   "outputs": [
    {
     "name": "stdout",
     "output_type": "stream",
     "text": [
      "Epoch 1/5\n",
      "427/427 [==============================] - 3s 5ms/step - loss: 0.6030 - accuracy: 0.7458 - auc: 0.7534 - val_loss: 0.5492 - val_accuracy: 0.7486 - val_auc: 0.7946\n",
      "Epoch 2/5\n",
      "427/427 [==============================] - 2s 4ms/step - loss: 0.5393 - accuracy: 0.7452 - auc: 0.8087 - val_loss: 0.5307 - val_accuracy: 0.7424 - val_auc: 0.8159\n",
      "Epoch 3/5\n",
      "427/427 [==============================] - 2s 5ms/step - loss: 0.5035 - accuracy: 0.7537 - auc: 0.8358 - val_loss: 0.4988 - val_accuracy: 0.7666 - val_auc: 0.8383\n",
      "Epoch 4/5\n",
      "427/427 [==============================] - 2s 5ms/step - loss: 0.4621 - accuracy: 0.7828 - auc: 0.8637 - val_loss: 0.4934 - val_accuracy: 0.7636 - val_auc: 0.8417\n",
      "Epoch 5/5\n",
      "427/427 [==============================] - 2s 5ms/step - loss: 0.4173 - accuracy: 0.8109 - auc: 0.8915 - val_loss: 0.4778 - val_accuracy: 0.7779 - val_auc: 0.8542\n"
     ]
    }
   ],
   "source": [
    "BATCH_SIZE = 128\n",
    "\n",
    "history =model.fit(\n",
    "    ds_train.batch(BATCH_SIZE),\n",
    "    validation_data=ds_valid.batch(BATCH_SIZE),\n",
    "    callbacks=[\n",
    "        tf.keras.callbacks.EarlyStopping(patience=6, restore_best_weights=True)\n",
    "    ],\n",
    "    epochs=5,\n",
    "    verbose=1,\n",
    ")\n"
   ]
  },
  {
   "cell_type": "code",
   "execution_count": 116,
   "metadata": {},
   "outputs": [
    {
     "name": "stdout",
     "output_type": "stream",
     "text": [
      "Model: \"dlrm\"\n",
      "_________________________________________________________________\n",
      " Layer (type)                Output Shape              Param #   \n",
      "=================================================================\n",
      " embedding (Embedding)       multiple                  1204      \n",
      "                                                                 \n",
      " embedding_1 (Embedding)     multiple                  1022      \n",
      "                                                                 \n",
      " embedding_2 (Embedding)     multiple                  114322    \n",
      "                                                                 \n",
      " embedding_3 (Embedding)     multiple                  59116     \n",
      "                                                                 \n",
      " embedding_4 (Embedding)     multiple                  330       \n",
      "                                                                 \n",
      " embedding_5 (Embedding)     multiple                  26        \n",
      "                                                                 \n",
      " embedding_6 (Embedding)     multiple                  16824     \n",
      "                                                                 \n",
      " embedding_7 (Embedding)     multiple                  580       \n",
      "                                                                 \n",
      " embedding_8 (Embedding)     multiple                  6         \n",
      "                                                                 \n",
      " embedding_9 (Embedding)     multiple                  27292     \n",
      "                                                                 \n",
      " embedding_10 (Embedding)    multiple                  8016      \n",
      "                                                                 \n",
      " embedding_11 (Embedding)    multiple                  100286    \n",
      "                                                                 \n",
      " embedding_12 (Embedding)    multiple                  5754      \n",
      "                                                                 \n",
      " embedding_13 (Embedding)    multiple                  52        \n",
      "                                                                 \n",
      " embedding_14 (Embedding)    multiple                  11356     \n",
      "                                                                 \n",
      " embedding_15 (Embedding)    multiple                  82898     \n",
      "                                                                 \n",
      " embedding_16 (Embedding)    multiple                  20        \n",
      "                                                                 \n",
      " embedding_17 (Embedding)    multiple                  5490      \n",
      "                                                                 \n",
      " embedding_18 (Embedding)    multiple                  2718      \n",
      "                                                                 \n",
      " embedding_19 (Embedding)    multiple                  8         \n",
      "                                                                 \n",
      " embedding_20 (Embedding)    multiple                  92586     \n",
      "                                                                 \n",
      " embedding_21 (Embedding)    multiple                  28        \n",
      "                                                                 \n",
      " embedding_22 (Embedding)    multiple                  28        \n",
      "                                                                 \n",
      " embedding_23 (Embedding)    multiple                  27592     \n",
      "                                                                 \n",
      " embedding_24 (Embedding)    multiple                  102       \n",
      "                                                                 \n",
      " embedding_25 (Embedding)    multiple                  21242     \n",
      "                                                                 \n",
      " sequential (Sequential)     (None, 2)                 130       \n",
      "                                                                 \n",
      " sequential_1 (Sequential)   (None, 2)                 53698     \n",
      "                                                                 \n",
      " second_order_feature_inter  multiple                  0         \n",
      " action (SecondOrderFeature                                      \n",
      " Interaction)                                                    \n",
      "                                                                 \n",
      "=================================================================\n",
      "Total params: 632726 (2.41 MB)\n",
      "Trainable params: 632726 (2.41 MB)\n",
      "Non-trainable params: 0 (0.00 Byte)\n",
      "_________________________________________________________________\n"
     ]
    }
   ],
   "source": [
    "model.summary()"
   ]
  },
  {
   "cell_type": "code",
   "execution_count": 117,
   "metadata": {},
   "outputs": [
    {
     "name": "stdout",
     "output_type": "stream",
     "text": [
      "86/86 [==============================] - 0s 2ms/step - loss: 0.5433 - accuracy: 0.7422 - auc: 0.8154\n",
      "Loss: 0.543338418006897, Accuracy: 0.7421925067901611, AUC: 0.8154444098472595\n"
     ]
    }
   ],
   "source": [
    "results = model.evaluate(ds_test.batch(BATCH_SIZE))\n",
    "print(f'Loss: {results[0]}, Accuracy: {results[1]}, AUC: {results[2]}')"
   ]
  },
  {
   "cell_type": "code",
   "execution_count": 118,
   "metadata": {},
   "outputs": [
    {
     "data": {
      "text/html": [
       "<div>\n",
       "<style scoped>\n",
       "    .dataframe tbody tr th:only-of-type {\n",
       "        vertical-align: middle;\n",
       "    }\n",
       "\n",
       "    .dataframe tbody tr th {\n",
       "        vertical-align: top;\n",
       "    }\n",
       "\n",
       "    .dataframe thead th {\n",
       "        text-align: right;\n",
       "    }\n",
       "</style>\n",
       "<table border=\"1\" class=\"dataframe\">\n",
       "  <thead>\n",
       "    <tr style=\"text-align: right;\">\n",
       "      <th></th>\n",
       "      <th>loss</th>\n",
       "      <th>accuracy</th>\n",
       "      <th>auc</th>\n",
       "      <th>val_loss</th>\n",
       "      <th>val_accuracy</th>\n",
       "      <th>val_auc</th>\n",
       "    </tr>\n",
       "  </thead>\n",
       "  <tbody>\n",
       "    <tr>\n",
       "      <th>0</th>\n",
       "      <td>0.603008</td>\n",
       "      <td>0.745787</td>\n",
       "      <td>0.753425</td>\n",
       "      <td>0.549177</td>\n",
       "      <td>0.748626</td>\n",
       "      <td>0.794565</td>\n",
       "    </tr>\n",
       "    <tr>\n",
       "      <th>1</th>\n",
       "      <td>0.539289</td>\n",
       "      <td>0.745219</td>\n",
       "      <td>0.808747</td>\n",
       "      <td>0.530720</td>\n",
       "      <td>0.742396</td>\n",
       "      <td>0.815870</td>\n",
       "    </tr>\n",
       "    <tr>\n",
       "      <th>2</th>\n",
       "      <td>0.503464</td>\n",
       "      <td>0.753682</td>\n",
       "      <td>0.835810</td>\n",
       "      <td>0.498752</td>\n",
       "      <td>0.766581</td>\n",
       "      <td>0.838266</td>\n",
       "    </tr>\n",
       "    <tr>\n",
       "      <th>3</th>\n",
       "      <td>0.462117</td>\n",
       "      <td>0.782809</td>\n",
       "      <td>0.863682</td>\n",
       "      <td>0.493418</td>\n",
       "      <td>0.763650</td>\n",
       "      <td>0.841664</td>\n",
       "    </tr>\n",
       "    <tr>\n",
       "      <th>4</th>\n",
       "      <td>0.417261</td>\n",
       "      <td>0.810856</td>\n",
       "      <td>0.891519</td>\n",
       "      <td>0.477788</td>\n",
       "      <td>0.777941</td>\n",
       "      <td>0.854165</td>\n",
       "    </tr>\n",
       "  </tbody>\n",
       "</table>\n",
       "</div>"
      ],
      "text/plain": [
       "       loss  accuracy       auc  val_loss  val_accuracy   val_auc\n",
       "0  0.603008  0.745787  0.753425  0.549177      0.748626  0.794565\n",
       "1  0.539289  0.745219  0.808747  0.530720      0.742396  0.815870\n",
       "2  0.503464  0.753682  0.835810  0.498752      0.766581  0.838266\n",
       "3  0.462117  0.782809  0.863682  0.493418      0.763650  0.841664\n",
       "4  0.417261  0.810856  0.891519  0.477788      0.777941  0.854165"
      ]
     },
     "metadata": {},
     "output_type": "display_data"
    },
    {
     "data": {
      "image/png": "[encoded data removed]",
      "text/plain": [
       "<Figure size 1000x800 with 1 Axes>"
      ]
     },
     "metadata": {},
     "output_type": "display_data"
    }
   ],
   "source": [
    "loss = pd.DataFrame.from_dict(history.history)\n",
    "display(loss.head())\n",
    "\n",
    "plt.figure(figsize=(10,8))\n",
    "plt.plot(loss['loss'], label='Train Loss')\n",
    "plt.plot(loss['val_loss'], label='Validation Loss')\n",
    "\n",
    "# Plot AUC \n",
    "plt.plot(loss['auc'], label='Train AUC')\n",
    "plt.plot(loss['val_auc'], label='Validation AUC')\n",
    "\n",
    "plt.legend()\n",
    "plt.show()\n"
   ]
  },
  {
   "cell_type": "code",
   "execution_count": 119,
   "metadata": {},
   "outputs": [
    {
     "name": "stdout",
     "output_type": "stream",
     "text": [
      "Validation AUC: 0.8509\n"
     ]
    }
   ],
   "source": [
    "# Evaluate the model on the validation dataset\n",
    "val_metrics = model.evaluate(ds_valid.batch(BATCH_SIZE), verbose=0)\n",
    "val_auc_index = model.metrics_names.index('auc')\n",
    "val_auc = val_metrics[val_auc_index]\n",
    "\n",
    "print(f\"Validation AUC: {val_auc:.4f}\")"
   ]
  },
  {
   "cell_type": "code",
   "execution_count": 120,
   "metadata": {},
   "outputs": [
    {
     "name": "stdout",
     "output_type": "stream",
     "text": [
      "Relative Improvement (RelaImpr): 100.16%\n"
     ]
    }
   ],
   "source": [
    "rela_impr = ((val_auc - 0.5) / (auc_score_baseline1 - 0.5)) * 100\n",
    "print(f\"Relative Improvement (RelaImpr): {rela_impr:.2f}%\")"
   ]
  },
  {
   "cell_type": "markdown",
   "metadata": {
    "editable": true,
    "slideshow": {
     "slide_type": ""
    },
    "tags": []
   },
   "source": [
    "# Data Owner 2 with Global Model Weights "
   ]
  },
  {
   "cell_type": "code",
   "execution_count": 121,
   "metadata": {
    "editable": true,
    "slideshow": {
     "slide_type": ""
    },
    "tags": []
   },
   "outputs": [],
   "source": [
    "tf.keras.backend.clear_session() #clears keras session to have the same mapping for DO1 and DO2 dictionaries\n",
    "\n",
    "TRAIN_SPLIT = 0.8\n",
    "VALIDATION_SPLIT = 0.2\n",
    "\n",
    "# Dataset size\n",
    "dataset_size = len(df2)\n",
    "train_size = int(dataset_size * TRAIN_SPLIT)\n",
    "test_size = dataset_size - train_size\n",
    "validation_size = int(test_size * VALIDATION_SPLIT)\n",
    "\n",
    "# Creating the dataset\n",
    "ds = tf.data.Dataset.zip((\n",
    "    tf.data.Dataset.from_tensor_slices((\n",
    "        tf.cast(df2[dense_cols].values, tf.float32),\n",
    "        tf.cast(df2[cat_cols].values, tf.int32),\n",
    "    )),\n",
    "    tf.data.Dataset.from_tensor_slices(tf.cast(to_categorical(df2['label'].values, num_classes=2), tf.float32))\n",
    ")).shuffle(buffer_size=2048)\n",
    "\n",
    "# Splitting the dataset\n",
    "ds_train = ds.take(train_size)\n",
    "ds_test = ds.skip(train_size)\n",
    "ds_valid = ds_test.take(validation_size)\n",
    "ds_test = ds_test.skip(validation_size)"
   ]
  },
  {
   "cell_type": "code",
   "execution_count": 122,
   "metadata": {},
   "outputs": [],
   "source": [
    "embedding_sizes = [emb_count for emb_count in emb_counts]\n",
    "\n",
    "# Model architecture parameters\n",
    "embedding_dim = 2\n",
    "arch_bot = [8, 2]  # Architecture for the bottom MLP (processing dense features)\n",
    "arch_top = [128, 64, 2]  # Architecture for the top MLP (combining embeddings and processed dense features)\n",
    "\n",
    "class DLRM(tf.keras.Model):\n",
    "    def __init__(self, embedding_sizes, embedding_dim, arch_bot, arch_top, self_interaction):\n",
    "        super(DLRM, self).__init__()\n",
    "        self.emb = [tf.keras.layers.Embedding(size, embedding_dim) for size in embedding_sizes]\n",
    "        self.bot_nn = MLP(arch_bot, out_activation='relu')\n",
    "        self.top_nn = MLP(arch_top, out_activation='sigmoid')\n",
    "        self.interaction_op = SecondOrderFeatureInteraction(self_interaction)\n",
    "\n",
    "    def call(self, inputs):\n",
    "        input_dense, input_cat = inputs\n",
    "        emb_x = [E(x) for E, x in zip(self.emb, tf.unstack(input_cat, axis=1))]\n",
    "        dense_x = self.bot_nn(input_dense)\n",
    "\n",
    "        Z = self.interaction_op(emb_x + [dense_x])\n",
    "        z = tf.concat([dense_x, Z], axis=1)\n",
    "        p = self.top_nn(z)\n",
    "\n",
    "        return p\n",
    "\n",
    "# Initialize the model\n",
    "model = DLRM(\n",
    "    embedding_sizes=embedding_sizes,\n",
    "    embedding_dim=embedding_dim,\n",
    "    arch_bot=arch_bot,\n",
    "    arch_top=arch_top,\n",
    "    self_interaction=False\n",
    ")\n",
    "\n",
    "# Compile the model\n",
    "model.compile(\n",
    "    optimizer=tf.keras.optimizers.legacy.Adam(learning_rate=0.0001),\n",
    "    loss=tf.keras.losses.BinaryCrossentropy(from_logits=False),\n",
    "    metrics=['accuracy', AUC(name='auc')]\n",
    ")\n",
    "\n",
    "# Generate dummy input to build the model\n",
    "dummy_input_dense = tf.random.uniform((1, len(dense_cols)), dtype=tf.float32)\n",
    "dummy_input_cat = tf.random.uniform((1, len(cat_cols)), maxval=2, dtype=tf.int32)\n",
    "model([dummy_input_dense, dummy_input_cat])  # This builds the model's layers\n",
    "\n",
    "# Set the pre-trained weights\n",
    "for layer in model.layers:\n",
    "    if hasattr(layer, 'layers'):  # For nested layers\n",
    "        for sub_layer in layer.layers:\n",
    "            if sub_layer.name in global_weights:\n",
    "                sub_layer.set_weights(gglobal_weights[sub_layer.name])\n",
    "    else:\n",
    "        if layer.name in global_weights:\n",
    "            layer.set_weights(global_weights[layer.name])\n"
   ]
  },
  {
   "cell_type": "code",
   "execution_count": 123,
   "metadata": {},
   "outputs": [
    {
     "name": "stdout",
     "output_type": "stream",
     "text": [
      "Epoch 1/5\n",
      "427/427 [==============================] - 3s 5ms/step - loss: 0.6017 - accuracy: 0.7488 - auc: 0.7657 - val_loss: 0.5265 - val_accuracy: 0.7596 - val_auc: 0.8158\n",
      "Epoch 2/5\n",
      "427/427 [==============================] - 2s 5ms/step - loss: 0.5316 - accuracy: 0.7492 - auc: 0.8181 - val_loss: 0.4946 - val_accuracy: 0.7688 - val_auc: 0.8428\n",
      "Epoch 3/5\n",
      "427/427 [==============================] - 2s 5ms/step - loss: 0.4919 - accuracy: 0.7621 - auc: 0.8441 - val_loss: 0.4899 - val_accuracy: 0.7728 - val_auc: 0.8442\n",
      "Epoch 4/5\n",
      "427/427 [==============================] - 2s 5ms/step - loss: 0.4496 - accuracy: 0.7903 - auc: 0.8721 - val_loss: 0.4677 - val_accuracy: 0.7919 - val_auc: 0.8609\n",
      "Epoch 5/5\n",
      "427/427 [==============================] - 2s 5ms/step - loss: 0.4078 - accuracy: 0.8153 - auc: 0.8966 - val_loss: 0.4741 - val_accuracy: 0.7867 - val_auc: 0.8601\n"
     ]
    }
   ],
   "source": [
    "BATCH_SIZE = 128\n",
    "\n",
    "history =model.fit(\n",
    "    ds_train.batch(BATCH_SIZE),\n",
    "    validation_data=ds_valid.batch(BATCH_SIZE),\n",
    "    callbacks=[\n",
    "        tf.keras.callbacks.EarlyStopping(patience=6, restore_best_weights=True)\n",
    "    ],\n",
    "    epochs=5,\n",
    "    verbose=1,\n",
    ")\n"
   ]
  },
  {
   "cell_type": "code",
   "execution_count": 124,
   "metadata": {},
   "outputs": [
    {
     "name": "stdout",
     "output_type": "stream",
     "text": [
      "Model: \"dlrm\"\n",
      "_________________________________________________________________\n",
      " Layer (type)                Output Shape              Param #   \n",
      "=================================================================\n",
      " embedding (Embedding)       multiple                  1204      \n",
      "                                                                 \n",
      " embedding_1 (Embedding)     multiple                  1022      \n",
      "                                                                 \n",
      " embedding_2 (Embedding)     multiple                  114322    \n",
      "                                                                 \n",
      " embedding_3 (Embedding)     multiple                  59116     \n",
      "                                                                 \n",
      " embedding_4 (Embedding)     multiple                  330       \n",
      "                                                                 \n",
      " embedding_5 (Embedding)     multiple                  26        \n",
      "                                                                 \n",
      " embedding_6 (Embedding)     multiple                  16824     \n",
      "                                                                 \n",
      " embedding_7 (Embedding)     multiple                  580       \n",
      "                                                                 \n",
      " embedding_8 (Embedding)     multiple                  6         \n",
      "                                                                 \n",
      " embedding_9 (Embedding)     multiple                  27292     \n",
      "                                                                 \n",
      " embedding_10 (Embedding)    multiple                  8016      \n",
      "                                                                 \n",
      " embedding_11 (Embedding)    multiple                  100286    \n",
      "                                                                 \n",
      " embedding_12 (Embedding)    multiple                  5754      \n",
      "                                                                 \n",
      " embedding_13 (Embedding)    multiple                  52        \n",
      "                                                                 \n",
      " embedding_14 (Embedding)    multiple                  11356     \n",
      "                                                                 \n",
      " embedding_15 (Embedding)    multiple                  82898     \n",
      "                                                                 \n",
      " embedding_16 (Embedding)    multiple                  20        \n",
      "                                                                 \n",
      " embedding_17 (Embedding)    multiple                  5490      \n",
      "                                                                 \n",
      " embedding_18 (Embedding)    multiple                  2718      \n",
      "                                                                 \n",
      " embedding_19 (Embedding)    multiple                  8         \n",
      "                                                                 \n",
      " embedding_20 (Embedding)    multiple                  92586     \n",
      "                                                                 \n",
      " embedding_21 (Embedding)    multiple                  28        \n",
      "                                                                 \n",
      " embedding_22 (Embedding)    multiple                  28        \n",
      "                                                                 \n",
      " embedding_23 (Embedding)    multiple                  27592     \n",
      "                                                                 \n",
      " embedding_24 (Embedding)    multiple                  102       \n",
      "                                                                 \n",
      " embedding_25 (Embedding)    multiple                  21242     \n",
      "                                                                 \n",
      " sequential (Sequential)     (None, 2)                 130       \n",
      "                                                                 \n",
      " sequential_1 (Sequential)   (None, 2)                 53698     \n",
      "                                                                 \n",
      " second_order_feature_inter  multiple                  0         \n",
      " action (SecondOrderFeature                                      \n",
      " Interaction)                                                    \n",
      "                                                                 \n",
      "=================================================================\n",
      "Total params: 632726 (2.41 MB)\n",
      "Trainable params: 632726 (2.41 MB)\n",
      "Non-trainable params: 0 (0.00 Byte)\n",
      "_________________________________________________________________\n"
     ]
    }
   ],
   "source": [
    "model.summary()"
   ]
  },
  {
   "cell_type": "code",
   "execution_count": 125,
   "metadata": {},
   "outputs": [
    {
     "name": "stdout",
     "output_type": "stream",
     "text": [
      "86/86 [==============================] - 0s 1ms/step - loss: 0.5243 - accuracy: 0.7590 - auc: 0.8316\n",
      "Loss: 0.5243009924888611, Accuracy: 0.7590438723564148, AUC: 0.8315509557723999\n"
     ]
    }
   ],
   "source": [
    "results = model.evaluate(ds_test.batch(BATCH_SIZE))\n",
    "print(f'Loss: {results[0]}, Accuracy: {results[1]}, AUC: {results[2]}')"
   ]
  },
  {
   "cell_type": "code",
   "execution_count": 126,
   "metadata": {},
   "outputs": [
    {
     "data": {
      "text/html": [
       "<div>\n",
       "<style scoped>\n",
       "    .dataframe tbody tr th:only-of-type {\n",
       "        vertical-align: middle;\n",
       "    }\n",
       "\n",
       "    .dataframe tbody tr th {\n",
       "        vertical-align: top;\n",
       "    }\n",
       "\n",
       "    .dataframe thead th {\n",
       "        text-align: right;\n",
       "    }\n",
       "</style>\n",
       "<table border=\"1\" class=\"dataframe\">\n",
       "  <thead>\n",
       "    <tr style=\"text-align: right;\">\n",
       "      <th></th>\n",
       "      <th>loss</th>\n",
       "      <th>accuracy</th>\n",
       "      <th>auc</th>\n",
       "      <th>val_loss</th>\n",
       "      <th>val_accuracy</th>\n",
       "      <th>val_auc</th>\n",
       "    </tr>\n",
       "  </thead>\n",
       "  <tbody>\n",
       "    <tr>\n",
       "      <th>0</th>\n",
       "      <td>0.601719</td>\n",
       "      <td>0.748777</td>\n",
       "      <td>0.765736</td>\n",
       "      <td>0.526494</td>\n",
       "      <td>0.759619</td>\n",
       "      <td>0.815831</td>\n",
       "    </tr>\n",
       "    <tr>\n",
       "      <th>1</th>\n",
       "      <td>0.531635</td>\n",
       "      <td>0.749162</td>\n",
       "      <td>0.818109</td>\n",
       "      <td>0.494645</td>\n",
       "      <td>0.768780</td>\n",
       "      <td>0.842823</td>\n",
       "    </tr>\n",
       "    <tr>\n",
       "      <th>2</th>\n",
       "      <td>0.491875</td>\n",
       "      <td>0.762150</td>\n",
       "      <td>0.844120</td>\n",
       "      <td>0.489914</td>\n",
       "      <td>0.772811</td>\n",
       "      <td>0.844160</td>\n",
       "    </tr>\n",
       "    <tr>\n",
       "      <th>3</th>\n",
       "      <td>0.449617</td>\n",
       "      <td>0.790269</td>\n",
       "      <td>0.872097</td>\n",
       "      <td>0.467656</td>\n",
       "      <td>0.791865</td>\n",
       "      <td>0.860861</td>\n",
       "    </tr>\n",
       "    <tr>\n",
       "      <th>4</th>\n",
       "      <td>0.407827</td>\n",
       "      <td>0.815347</td>\n",
       "      <td>0.896642</td>\n",
       "      <td>0.474122</td>\n",
       "      <td>0.786735</td>\n",
       "      <td>0.860133</td>\n",
       "    </tr>\n",
       "  </tbody>\n",
       "</table>\n",
       "</div>"
      ],
      "text/plain": [
       "       loss  accuracy       auc  val_loss  val_accuracy   val_auc\n",
       "0  0.601719  0.748777  0.765736  0.526494      0.759619  0.815831\n",
       "1  0.531635  0.749162  0.818109  0.494645      0.768780  0.842823\n",
       "2  0.491875  0.762150  0.844120  0.489914      0.772811  0.844160\n",
       "3  0.449617  0.790269  0.872097  0.467656      0.791865  0.860861\n",
       "4  0.407827  0.815347  0.896642  0.474122      0.786735  0.860133"
      ]
     },
     "metadata": {},
     "output_type": "display_data"
    },
    {
     "data": {
      "image/png": "[encoded data removed]",
      "text/plain": [
       "<Figure size 1000x800 with 1 Axes>"
      ]
     },
     "metadata": {},
     "output_type": "display_data"
    }
   ],
   "source": [
    "loss = pd.DataFrame.from_dict(history.history)\n",
    "display(loss.head())\n",
    "\n",
    "plt.figure(figsize=(10,8))\n",
    "plt.plot(loss['loss'], label='Train Loss')\n",
    "plt.plot(loss['val_loss'], label='Validation Loss')\n",
    "\n",
    "# Plot AUC\n",
    "plt.plot(loss['auc'], label='Train AUC')\n",
    "plt.plot(loss['val_auc'], label='Validation AUC')\n",
    "\n",
    "plt.legend()\n",
    "plt.show()\n"
   ]
  },
  {
   "cell_type": "code",
   "execution_count": 127,
   "metadata": {},
   "outputs": [
    {
     "name": "stdout",
     "output_type": "stream",
     "text": [
      "Validation AUC: 0.8535\n"
     ]
    }
   ],
   "source": [
    "# Evaluate the model on the validation dataset\n",
    "val_metrics = model.evaluate(ds_valid.batch(BATCH_SIZE), verbose=0)\n",
    "val_auc_index = model.metrics_names.index('auc')\n",
    "val_auc = val_metrics[val_auc_index]\n",
    "\n",
    "print(f\"Validation AUC: {val_auc:.4f}\")\n"
   ]
  },
  {
   "cell_type": "code",
   "execution_count": 128,
   "metadata": {
    "editable": true,
    "slideshow": {
     "slide_type": ""
    },
    "tags": []
   },
   "outputs": [
    {
     "name": "stdout",
     "output_type": "stream",
     "text": [
      "Relative Improvement (RelaImpr): 99.97%\n"
     ]
    }
   ],
   "source": [
    "rela_impr = ((val_auc - 0.5) / (auc_score_baseline2 - 0.5)) * 100\n",
    "print(f\"Relative Improvement (RelaImpr): {rela_impr:.2f}%\")"
   ]
  }
 ],
 "metadata": {
  "kernelspec": {
   "display_name": "Python 3 (ipykernel)",
   "language": "python",
   "name": "python3"
  },
  "language_info": {
   "codemirror_mode": {
    "name": "ipython",
    "version": 3
   },
   "file_extension": ".py",
   "mimetype": "text/x-python",
   "name": "python",
   "nbconvert_exporter": "python",
   "pygments_lexer": "ipython3",
   "version": "3.9.18"
  }
 },
 "nbformat": 4,
 "nbformat_minor": 4
}
